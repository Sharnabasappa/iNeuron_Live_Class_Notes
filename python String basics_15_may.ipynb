{
 "cells": [
  {
   "cell_type": "code",
   "execution_count": 6,
   "id": "a025ea3d",
   "metadata": {},
   "outputs": [
    {
     "data": {
      "text/plain": [
       "'n'"
      ]
     },
     "execution_count": 6,
     "metadata": {},
     "output_type": "execute_result"
    }
   ],
   "source": [
    "s = \"ineuron\"\n",
    "s[-1]"
   ]
  },
  {
   "cell_type": "code",
   "execution_count": 7,
   "id": "eafedf41",
   "metadata": {},
   "outputs": [
    {
     "data": {
      "text/plain": [
       "'i'"
      ]
     },
     "execution_count": 7,
     "metadata": {},
     "output_type": "execute_result"
    }
   ],
   "source": [
    "s[0]"
   ]
  },
  {
   "cell_type": "code",
   "execution_count": 34,
   "id": "1e7ca649",
   "metadata": {},
   "outputs": [
    {
     "data": {
      "text/plain": [
       "''"
      ]
     },
     "execution_count": 34,
     "metadata": {},
     "output_type": "execute_result"
    }
   ],
   "source": [
    "s[3:9:-1]"
   ]
  },
  {
   "cell_type": "code",
   "execution_count": 36,
   "id": "2d2f5ab4",
   "metadata": {},
   "outputs": [],
   "source": [
    "s = \"this is my first progrsm's\""
   ]
  },
  {
   "cell_type": "code",
   "execution_count": 46,
   "id": "2493ff01",
   "metadata": {},
   "outputs": [
    {
     "data": {
      "text/plain": [
       "'Sharan'"
      ]
     },
     "execution_count": 46,
     "metadata": {},
     "output_type": "execute_result"
    }
   ],
   "source": [
    "s1 ='Sharan'\n",
    "s1"
   ]
  },
  {
   "cell_type": "code",
   "execution_count": 51,
   "id": "ab1fb0a0",
   "metadata": {},
   "outputs": [
    {
     "data": {
      "text/plain": [
       "'na'"
      ]
     },
     "execution_count": 51,
     "metadata": {},
     "output_type": "execute_result"
    }
   ],
   "source": [
    "s1[30:0:-3]"
   ]
  },
  {
   "cell_type": "code",
   "execution_count": 58,
   "id": "8b97e039",
   "metadata": {},
   "outputs": [
    {
     "data": {
      "text/plain": [
       "'nh'"
      ]
     },
     "execution_count": 58,
     "metadata": {},
     "output_type": "execute_result"
    }
   ],
   "source": [
    " s1[30:0:-4]"
   ]
  },
  {
   "cell_type": "code",
   "execution_count": 59,
   "id": "0f012b78",
   "metadata": {},
   "outputs": [
    {
     "data": {
      "text/plain": [
       "'an'"
      ]
     },
     "execution_count": 59,
     "metadata": {},
     "output_type": "execute_result"
    }
   ],
   "source": [
    "s1[-2:]"
   ]
  },
  {
   "cell_type": "code",
   "execution_count": 60,
   "id": "31a1a912",
   "metadata": {},
   "outputs": [
    {
     "data": {
      "text/plain": [
       "'Sharan'"
      ]
     },
     "execution_count": 60,
     "metadata": {},
     "output_type": "execute_result"
    }
   ],
   "source": [
    "s1[::1]"
   ]
  },
  {
   "cell_type": "code",
   "execution_count": 61,
   "id": "3436e59e",
   "metadata": {},
   "outputs": [
    {
     "data": {
      "text/plain": [
       "'narahS'"
      ]
     },
     "execution_count": 61,
     "metadata": {},
     "output_type": "execute_result"
    }
   ],
   "source": [
    "s1[::-1]"
   ]
  },
  {
   "cell_type": "code",
   "execution_count": 62,
   "id": "6270a9d7",
   "metadata": {},
   "outputs": [
    {
     "data": {
      "text/plain": [
       "'narah'"
      ]
     },
     "execution_count": 62,
     "metadata": {},
     "output_type": "execute_result"
    }
   ],
   "source": [
    "s1[5:0:-1]"
   ]
  },
  {
   "cell_type": "code",
   "execution_count": 64,
   "id": "2ae5adc7",
   "metadata": {},
   "outputs": [],
   "source": [
    "a = 'ineuron'"
   ]
  },
  {
   "cell_type": "code",
   "execution_count": 65,
   "id": "02490fda",
   "metadata": {},
   "outputs": [
    {
     "data": {
      "text/plain": [
       "''"
      ]
     },
     "execution_count": 65,
     "metadata": {},
     "output_type": "execute_result"
    }
   ],
   "source": [
    "a[-2:-7:1]"
   ]
  },
  {
   "cell_type": "code",
   "execution_count": 66,
   "id": "2f39a688",
   "metadata": {},
   "outputs": [
    {
     "data": {
      "text/plain": [
       "'ineur'"
      ]
     },
     "execution_count": 66,
     "metadata": {},
     "output_type": "execute_result"
    }
   ],
   "source": [
    "a[-7:-2:1]"
   ]
  },
  {
   "cell_type": "code",
   "execution_count": 72,
   "id": "ed569afa",
   "metadata": {},
   "outputs": [
    {
     "data": {
      "text/plain": [
       "'ur'"
      ]
     },
     "execution_count": 72,
     "metadata": {},
     "output_type": "execute_result"
    }
   ],
   "source": [
    "a[3:5]"
   ]
  },
  {
   "cell_type": "code",
   "execution_count": 79,
   "id": "1c996efe",
   "metadata": {},
   "outputs": [
    {
     "data": {
      "text/plain": [
       "\"this is my first progrsm's1\""
      ]
     },
     "execution_count": 79,
     "metadata": {},
     "output_type": "execute_result"
    }
   ],
   "source": [
    "s + str(1)"
   ]
  },
  {
   "cell_type": "code",
   "execution_count": 80,
   "id": "6b04f2a5",
   "metadata": {},
   "outputs": [
    {
     "data": {
      "text/plain": [
       "\"this is my first progrsm's1\""
      ]
     },
     "execution_count": 80,
     "metadata": {},
     "output_type": "execute_result"
    }
   ],
   "source": [
    "s + '1'"
   ]
  },
  {
   "cell_type": "code",
   "execution_count": 81,
   "id": "5878d14b",
   "metadata": {},
   "outputs": [
    {
     "data": {
      "text/plain": [
       "6"
      ]
     },
     "execution_count": 81,
     "metadata": {},
     "output_type": "execute_result"
    }
   ],
   "source": [
    "len(s1)"
   ]
  },
  {
   "cell_type": "code",
   "execution_count": 83,
   "id": "117a3f74",
   "metadata": {},
   "outputs": [
    {
     "data": {
      "text/plain": [
       "7"
      ]
     },
     "execution_count": 83,
     "metadata": {},
     "output_type": "execute_result"
    }
   ],
   "source": [
    "len(a)"
   ]
  },
  {
   "cell_type": "code",
   "execution_count": 84,
   "id": "f338fd98",
   "metadata": {},
   "outputs": [
    {
     "data": {
      "text/plain": [
       "'ineuronineuron'"
      ]
     },
     "execution_count": 84,
     "metadata": {},
     "output_type": "execute_result"
    }
   ],
   "source": [
    "a*2"
   ]
  },
  {
   "cell_type": "code",
   "execution_count": 85,
   "id": "6f2ca05d",
   "metadata": {},
   "outputs": [
    {
     "data": {
      "text/plain": [
       "2"
      ]
     },
     "execution_count": 85,
     "metadata": {},
     "output_type": "execute_result"
    }
   ],
   "source": [
    "a.count('n')"
   ]
  },
  {
   "cell_type": "code",
   "execution_count": 86,
   "id": "5393a9af",
   "metadata": {},
   "outputs": [
    {
     "data": {
      "text/plain": [
       "['ine', 'ron']"
      ]
     },
     "execution_count": 86,
     "metadata": {},
     "output_type": "execute_result"
    }
   ],
   "source": [
    "a.split('u')"
   ]
  },
  {
   "cell_type": "code",
   "execution_count": 91,
   "id": "f69950cf",
   "metadata": {},
   "outputs": [],
   "source": [
    "st= \"\"\"'American multinational technology company that focuses on artificial intelligence,[10] search engine technology, online advertising, cloud computing, computer software, quantum computing, e-commerce, and consumer electronics. It has been referred to as the \"most powerful company in the world\" and one of the world's most valuable brands due to its market dominance, data collection, and technological advantages in the area of artificial intelligence.[11][12][13][14] It is considered one of the Big Five American information technology companies, alongside Amazon, Apple, Meta, and Microsoft.\n",
    "\n",
    "Google was founded on September 4, 1998, by Larry Page and Sergey Brin while they were PhD students at Stanford University in California. Together they own about 14% of its publicly listed shares and control 56% of the stockholder voting power through super-voting stock. The company went public via an initial public offering (IPO) in 2004. In 2015, Google was reorganized as a wholly owned subsidiary of Alphabet Inc. Google is Alphabet's largest subsidiary and is a holding company for Alphabet's Internet properties and interests. Sundar Pichai was appointed CEO of Google on October 24, 2015, replacing Larry Page, who became the CEO of Alphabet. On December 3, 2019, Pichai also became the CEO of Alphabet.[15]\n",
    "\n",
    "The company has since rapidly grown to offer a multitude of products and services beyond Google Search, many of which hold dominant market positions. These products address a wide range of use cases, including email (Gmail), navigation (Maps), cloud computing (Cloud), web browsing (Chrome), video sharing (YouTube), productivity (Workspace), operating systems (Android), cloud storage (Drive), language translation (Translate), photo storage (Photo), video calling (Meet), smart home (Nest), smartphones (Pixel),'\"\"\""
   ]
  },
  {
   "cell_type": "code",
   "execution_count": 93,
   "id": "c3640eba",
   "metadata": {},
   "outputs": [
    {
     "data": {
      "text/plain": [
       "[\"'American\",\n",
       " 'multinational',\n",
       " 'technology',\n",
       " 'company',\n",
       " 'that',\n",
       " 'focuses',\n",
       " 'on',\n",
       " 'artificial',\n",
       " 'intelligence,[10]',\n",
       " 'search',\n",
       " 'engine',\n",
       " 'technology,',\n",
       " 'online',\n",
       " 'advertising,',\n",
       " 'cloud',\n",
       " 'computing,',\n",
       " 'computer',\n",
       " 'software,',\n",
       " 'quantum',\n",
       " 'computing,',\n",
       " 'e-commerce,',\n",
       " 'and',\n",
       " 'consumer',\n",
       " 'electronics.',\n",
       " 'It',\n",
       " 'has',\n",
       " 'been',\n",
       " 'referred',\n",
       " 'to',\n",
       " 'as',\n",
       " 'the',\n",
       " '\"most',\n",
       " 'powerful',\n",
       " 'company',\n",
       " 'in',\n",
       " 'the',\n",
       " 'world\"',\n",
       " 'and',\n",
       " 'one',\n",
       " 'of',\n",
       " 'the',\n",
       " \"world's\",\n",
       " 'most',\n",
       " 'valuable',\n",
       " 'brands',\n",
       " 'due',\n",
       " 'to',\n",
       " 'its',\n",
       " 'market',\n",
       " 'dominance,',\n",
       " 'data',\n",
       " 'collection,',\n",
       " 'and',\n",
       " 'technological',\n",
       " 'advantages',\n",
       " 'in',\n",
       " 'the',\n",
       " 'area',\n",
       " 'of',\n",
       " 'artificial',\n",
       " 'intelligence.[11][12][13][14]',\n",
       " 'It',\n",
       " 'is',\n",
       " 'considered',\n",
       " 'one',\n",
       " 'of',\n",
       " 'the',\n",
       " 'Big',\n",
       " 'Five',\n",
       " 'American',\n",
       " 'information',\n",
       " 'technology',\n",
       " 'companies,',\n",
       " 'alongside',\n",
       " 'Amazon,',\n",
       " 'Apple,',\n",
       " 'Meta,',\n",
       " 'and',\n",
       " 'Microsoft.\\n\\nGoogle',\n",
       " 'was',\n",
       " 'founded',\n",
       " 'on',\n",
       " 'September',\n",
       " '4,',\n",
       " '1998,',\n",
       " 'by',\n",
       " 'Larry',\n",
       " 'Page',\n",
       " 'and',\n",
       " 'Sergey',\n",
       " 'Brin',\n",
       " 'while',\n",
       " 'they',\n",
       " 'were',\n",
       " 'PhD',\n",
       " 'students',\n",
       " 'at',\n",
       " 'Stanford',\n",
       " 'University',\n",
       " 'in',\n",
       " 'California.',\n",
       " 'Together',\n",
       " 'they',\n",
       " 'own',\n",
       " 'about',\n",
       " '14%',\n",
       " 'of',\n",
       " 'its',\n",
       " 'publicly',\n",
       " 'listed',\n",
       " 'shares',\n",
       " 'and',\n",
       " 'control',\n",
       " '56%',\n",
       " 'of',\n",
       " 'the',\n",
       " 'stockholder',\n",
       " 'voting',\n",
       " 'power',\n",
       " 'through',\n",
       " 'super-voting',\n",
       " 'stock.',\n",
       " 'The',\n",
       " 'company',\n",
       " 'went',\n",
       " 'public',\n",
       " 'via',\n",
       " 'an',\n",
       " 'initial',\n",
       " 'public',\n",
       " 'offering',\n",
       " '(IPO)',\n",
       " 'in',\n",
       " '2004.',\n",
       " 'In',\n",
       " '2015,',\n",
       " 'Google',\n",
       " 'was',\n",
       " 'reorganized',\n",
       " 'as',\n",
       " 'a',\n",
       " 'wholly',\n",
       " 'owned',\n",
       " 'subsidiary',\n",
       " 'of',\n",
       " 'Alphabet',\n",
       " 'Inc.',\n",
       " 'Google',\n",
       " 'is',\n",
       " \"Alphabet's\",\n",
       " 'largest',\n",
       " 'subsidiary',\n",
       " 'and',\n",
       " 'is',\n",
       " 'a',\n",
       " 'holding',\n",
       " 'company',\n",
       " 'for',\n",
       " \"Alphabet's\",\n",
       " 'Internet',\n",
       " 'properties',\n",
       " 'and',\n",
       " 'interests.',\n",
       " 'Sundar',\n",
       " 'Pichai',\n",
       " 'was',\n",
       " 'appointed',\n",
       " 'CEO',\n",
       " 'of',\n",
       " 'Google',\n",
       " 'on',\n",
       " 'October',\n",
       " '24,',\n",
       " '2015,',\n",
       " 'replacing',\n",
       " 'Larry',\n",
       " 'Page,',\n",
       " 'who',\n",
       " 'became',\n",
       " 'the',\n",
       " 'CEO',\n",
       " 'of',\n",
       " 'Alphabet.',\n",
       " 'On',\n",
       " 'December',\n",
       " '3,',\n",
       " '2019,',\n",
       " 'Pichai',\n",
       " 'also',\n",
       " 'became',\n",
       " 'the',\n",
       " 'CEO',\n",
       " 'of',\n",
       " 'Alphabet.[15]\\n\\nThe',\n",
       " 'company',\n",
       " 'has',\n",
       " 'since',\n",
       " 'rapidly',\n",
       " 'grown',\n",
       " 'to',\n",
       " 'offer',\n",
       " 'a',\n",
       " 'multitude',\n",
       " 'of',\n",
       " 'products',\n",
       " 'and',\n",
       " 'services',\n",
       " 'beyond',\n",
       " 'Google',\n",
       " 'Search,',\n",
       " 'many',\n",
       " 'of',\n",
       " 'which',\n",
       " 'hold',\n",
       " 'dominant',\n",
       " 'market',\n",
       " 'positions.',\n",
       " 'These',\n",
       " 'products',\n",
       " 'address',\n",
       " 'a',\n",
       " 'wide',\n",
       " 'range',\n",
       " 'of',\n",
       " 'use',\n",
       " 'cases,',\n",
       " 'including',\n",
       " 'email',\n",
       " '(Gmail),',\n",
       " 'navigation',\n",
       " '(Maps),',\n",
       " 'cloud',\n",
       " 'computing',\n",
       " '(Cloud),',\n",
       " 'web',\n",
       " 'browsing',\n",
       " '(Chrome),',\n",
       " 'video',\n",
       " 'sharing',\n",
       " '(YouTube),',\n",
       " 'productivity',\n",
       " '(Workspace),',\n",
       " 'operating',\n",
       " 'systems',\n",
       " '(Android),',\n",
       " 'cloud',\n",
       " 'storage',\n",
       " '(Drive),',\n",
       " 'language',\n",
       " 'translation',\n",
       " '(Translate),',\n",
       " 'photo',\n",
       " 'storage',\n",
       " '(Photo),',\n",
       " 'video',\n",
       " 'calling',\n",
       " '(Meet),',\n",
       " 'smart',\n",
       " 'home',\n",
       " '(Nest),',\n",
       " 'smartphones',\n",
       " \"(Pixel),'\"]"
      ]
     },
     "execution_count": 93,
     "metadata": {},
     "output_type": "execute_result"
    }
   ],
   "source": [
    "st.split(' ')"
   ]
  },
  {
   "cell_type": "code",
   "execution_count": 94,
   "id": "707a1faa",
   "metadata": {},
   "outputs": [
    {
     "data": {
      "text/plain": [
       "'\\'American multinational technology company that focuses on artificial intelligence,[10] search engine technology, online advertising, cloud computing, computer software, quantum computing, e-commerce, and consumer electronics. It has been referred to as the \"most powerful company in the world\" and one of the world\\'s most valuable brands due to its market dominance, data collection, and technological advantages in the area of artificial intelligence.[11][12][13][14] It is considered one of the Big Five American information technology companies, alongside Amazon, Apple, Meta, and Microsoft.\\n\\nGoogle was founded on September 4, 1998, by Larry Page and Sergey Brin while they were PhD students at Stanford University in California. Together they own about 14% of its publicly listed shares and control 56% of the stockholder voting power through super-voting stock. The company went public via an initial public offering (IPO) in 2004. In 2015, Google was reorganized as a wholly owned subsidiary of Alphabet Inc. Google is Alphabet\\'s largest subsidiary and is a holding company for Alphabet\\'s Internet properties and interests. Sundar Pichai was appointed CEO of Google on October 24, 2015, replacing Larry Page, who became the CEO of Alphabet. On December 3, 2019, Pichai also became the CEO of Alphabet.[15]\\n\\nThe company has since rapidly grown to offer a multitude of products and services beyond Google Search, many of which hold dominant market positions. These products address a wide range of use cases, including email (Gmail), navigation (Maps), cloud computing (Cloud), web browsing (Chrome), video sharing (YouTube), productivity (Workspace), operating systems (Android), cloud storage (Drive), language translation (Translate), photo storage (Photo), video calling (Meet), smart home (Nest), smartphones (Pixel),\\''"
      ]
     },
     "execution_count": 94,
     "metadata": {},
     "output_type": "execute_result"
    }
   ],
   "source": [
    "st"
   ]
  },
  {
   "cell_type": "code",
   "execution_count": 103,
   "id": "389fbd99",
   "metadata": {},
   "outputs": [
    {
     "data": {
      "text/plain": [
       "[\"'American multinational technology company that focuses on artificial intelligence\",\n",
       " '[10] search engine technology',\n",
       " ' online advertising',\n",
       " ' cloud computing',\n",
       " ' computer software',\n",
       " ' quantum computing',\n",
       " ' e-commerce',\n",
       " ' and consumer electronics. It has been referred to as the \"most powerful company in the world\" and one of the world\\'s most valuable brands due to its market dominance',\n",
       " ' data collection',\n",
       " ' and technological advantages in the area of artificial intelligence.[11][12][13][14] It is considered one of the Big Five American information technology companies',\n",
       " ' alongside Amazon',\n",
       " ' Apple',\n",
       " ' Meta',\n",
       " ' and Microsoft.\\n\\nGoogle was founded on September 4',\n",
       " ' 1998',\n",
       " ' by Larry Page and Sergey Brin while they were PhD students at Stanford University in California. Together they own about 14% of its publicly listed shares and control 56% of the stockholder voting power through super-voting stock. The company went public via an initial public offering (IPO) in 2004. In 2015',\n",
       " \" Google was reorganized as a wholly owned subsidiary of Alphabet Inc. Google is Alphabet's largest subsidiary and is a holding company for Alphabet's Internet properties and interests. Sundar Pichai was appointed CEO of Google on October 24\",\n",
       " ' 2015',\n",
       " ' replacing Larry Page',\n",
       " ' who became the CEO of Alphabet. On December 3',\n",
       " ' 2019',\n",
       " ' Pichai also became the CEO of Alphabet.[15]\\n\\nThe company has since rapidly grown to offer a multitude of products and services beyond Google Search',\n",
       " ' many of which hold dominant market positions. These products address a wide range of use cases',\n",
       " ' including email (Gmail)',\n",
       " ' navigation (Maps)',\n",
       " ' cloud computing (Cloud)',\n",
       " ' web browsing (Chrome)',\n",
       " ' video sharing (YouTube)',\n",
       " ' productivity (Workspace)',\n",
       " ' operating systems (Android)',\n",
       " ' cloud storage (Drive)',\n",
       " ' language translation (Translate)',\n",
       " ' photo storage (Photo)',\n",
       " ' video calling (Meet)',\n",
       " ' smart home (Nest)',\n",
       " ' smartphones (Pixel)',\n",
       " \"'\"]"
      ]
     },
     "execution_count": 103,
     "metadata": {},
     "output_type": "execute_result"
    }
   ],
   "source": [
    "st.split(',')"
   ]
  },
  {
   "cell_type": "code",
   "execution_count": 2,
   "id": "6e751bb3",
   "metadata": {},
   "outputs": [],
   "source": [
    "s = 'sharan kumar'"
   ]
  },
  {
   "cell_type": "code",
   "execution_count": 3,
   "id": "9907ac41",
   "metadata": {},
   "outputs": [
    {
     "data": {
      "text/plain": [
       "'Sharan Kumar'"
      ]
     },
     "execution_count": 3,
     "metadata": {},
     "output_type": "execute_result"
    }
   ],
   "source": [
    "s = s.title()\n",
    "s"
   ]
  },
  {
   "cell_type": "code",
   "execution_count": 4,
   "id": "d74b435a",
   "metadata": {},
   "outputs": [
    {
     "data": {
      "text/plain": [
       "'Sharan kumar'"
      ]
     },
     "execution_count": 4,
     "metadata": {},
     "output_type": "execute_result"
    }
   ],
   "source": [
    "s= s.capitalize()\n",
    "s"
   ]
  },
  {
   "cell_type": "code",
   "execution_count": 156,
   "id": "a1902f2c",
   "metadata": {},
   "outputs": [
    {
     "data": {
      "text/plain": [
       "'sHARAN KUMAR'"
      ]
     },
     "execution_count": 156,
     "metadata": {},
     "output_type": "execute_result"
    }
   ],
   "source": [
    "s.swapcase()"
   ]
  },
  {
   "cell_type": "code",
   "execution_count": 181,
   "id": "152c3a77",
   "metadata": {},
   "outputs": [
    {
     "data": {
      "text/plain": [
       "'ramuk narahS'"
      ]
     },
     "execution_count": 181,
     "metadata": {},
     "output_type": "execute_result"
    }
   ],
   "source": [
    "''.join(reversed(s))"
   ]
  },
  {
   "cell_type": "code",
   "execution_count": 160,
   "id": "9a053d75",
   "metadata": {},
   "outputs": [
    {
     "data": {
      "text/plain": [
       "'ramuk narahS'"
      ]
     },
     "execution_count": 160,
     "metadata": {},
     "output_type": "execute_result"
    }
   ],
   "source": [
    "s[::-1]"
   ]
  },
  {
   "cell_type": "code",
   "execution_count": 163,
   "id": "2b09bd02",
   "metadata": {},
   "outputs": [
    {
     "data": {
      "text/plain": [
       "'Sharan kumar'"
      ]
     },
     "execution_count": 163,
     "metadata": {},
     "output_type": "execute_result"
    }
   ],
   "source": [
    "s = s.strip()\n",
    "s"
   ]
  },
  {
   "cell_type": "code",
   "execution_count": 164,
   "id": "1f6c7a35",
   "metadata": {},
   "outputs": [],
   "source": [
    "strip = '    sh rn   '"
   ]
  },
  {
   "cell_type": "code",
   "execution_count": 165,
   "id": "7835910d",
   "metadata": {},
   "outputs": [
    {
     "data": {
      "text/plain": [
       "'sh rn'"
      ]
     },
     "execution_count": 165,
     "metadata": {},
     "output_type": "execute_result"
    }
   ],
   "source": [
    "strip.strip()"
   ]
  },
  {
   "cell_type": "code",
   "execution_count": 166,
   "id": "5bb53cce",
   "metadata": {},
   "outputs": [
    {
     "data": {
      "text/plain": [
       "'sh rn   '"
      ]
     },
     "execution_count": 166,
     "metadata": {},
     "output_type": "execute_result"
    }
   ],
   "source": [
    "strip.lstrip()"
   ]
  },
  {
   "cell_type": "code",
   "execution_count": 167,
   "id": "294f27c0",
   "metadata": {},
   "outputs": [
    {
     "data": {
      "text/plain": [
       "'    sh rn'"
      ]
     },
     "execution_count": 167,
     "metadata": {},
     "output_type": "execute_result"
    }
   ],
   "source": [
    "strip.rstrip()"
   ]
  },
  {
   "cell_type": "code",
   "execution_count": 188,
   "id": "249dc3d8",
   "metadata": {},
   "outputs": [
    {
     "data": {
      "text/plain": [
       "'2222Sharan kumar2222'"
      ]
     },
     "execution_count": 188,
     "metadata": {},
     "output_type": "execute_result"
    }
   ],
   "source": [
    "s.center(20, '2')"
   ]
  },
  {
   "cell_type": "code",
   "execution_count": 197,
   "id": "a56ef5dc",
   "metadata": {},
   "outputs": [
    {
     "data": {
      "text/plain": [
       "False"
      ]
     },
     "execution_count": 197,
     "metadata": {},
     "output_type": "execute_result"
    }
   ],
   "source": [
    "s1 = ''"
   ]
  },
  {
   "cell_type": "code",
   "execution_count": 200,
   "id": "6cc74c53",
   "metadata": {},
   "outputs": [],
   "source": [
    "s1 = '  '"
   ]
  },
  {
   "cell_type": "code",
   "execution_count": 201,
   "id": "6dcd3b5e",
   "metadata": {},
   "outputs": [
    {
     "data": {
      "text/plain": [
       "True"
      ]
     },
     "execution_count": 201,
     "metadata": {},
     "output_type": "execute_result"
    }
   ],
   "source": [
    "s1.isspace()"
   ]
  },
  {
   "cell_type": "code",
   "execution_count": 202,
   "id": "8c771723",
   "metadata": {},
   "outputs": [
    {
     "data": {
      "text/plain": [
       "False"
      ]
     },
     "execution_count": 202,
     "metadata": {},
     "output_type": "execute_result"
    }
   ],
   "source": [
    "s.isdigit()"
   ]
  },
  {
   "cell_type": "code",
   "execution_count": 205,
   "id": "bcaf4363",
   "metadata": {},
   "outputs": [],
   "source": [
    "s2 = '12345'"
   ]
  },
  {
   "cell_type": "code",
   "execution_count": 206,
   "id": "5b5142a4",
   "metadata": {},
   "outputs": [
    {
     "data": {
      "text/plain": [
       "True"
      ]
     },
     "execution_count": 206,
     "metadata": {},
     "output_type": "execute_result"
    }
   ],
   "source": [
    "s2.isdigit()"
   ]
  },
  {
   "cell_type": "code",
   "execution_count": 211,
   "id": "81ea31f4",
   "metadata": {},
   "outputs": [
    {
     "data": {
      "text/plain": [
       "True"
      ]
     },
     "execution_count": 211,
     "metadata": {},
     "output_type": "execute_result"
    }
   ],
   "source": [
    "s2.isalnum()"
   ]
  },
  {
   "cell_type": "code",
   "execution_count": 212,
   "id": "f54a3f2b",
   "metadata": {},
   "outputs": [
    {
     "data": {
      "text/plain": [
       "False"
      ]
     },
     "execution_count": 212,
     "metadata": {},
     "output_type": "execute_result"
    }
   ],
   "source": [
    "s2.isalpha()"
   ]
  },
  {
   "cell_type": "code",
   "execution_count": 214,
   "id": "b865a55e",
   "metadata": {},
   "outputs": [
    {
     "data": {
      "text/plain": [
       "True"
      ]
     },
     "execution_count": 214,
     "metadata": {},
     "output_type": "execute_result"
    }
   ],
   "source": [
    "a.isalpha()"
   ]
  },
  {
   "cell_type": "code",
   "execution_count": 215,
   "id": "6b968306",
   "metadata": {},
   "outputs": [
    {
     "data": {
      "text/plain": [
       "'ineuron'"
      ]
     },
     "execution_count": 215,
     "metadata": {},
     "output_type": "execute_result"
    }
   ],
   "source": [
    "a"
   ]
  },
  {
   "cell_type": "code",
   "execution_count": 217,
   "id": "3809255f",
   "metadata": {},
   "outputs": [
    {
     "data": {
      "text/plain": [
       "True"
      ]
     },
     "execution_count": 217,
     "metadata": {},
     "output_type": "execute_result"
    }
   ],
   "source": [
    "a.startswith('i')"
   ]
  },
  {
   "cell_type": "code",
   "execution_count": 218,
   "id": "a1cf1dbc",
   "metadata": {},
   "outputs": [
    {
     "data": {
      "text/plain": [
       "True"
      ]
     },
     "execution_count": 218,
     "metadata": {},
     "output_type": "execute_result"
    }
   ],
   "source": [
    "a.endswith('n')"
   ]
  },
  {
   "cell_type": "code",
   "execution_count": 225,
   "id": "c4bd6465",
   "metadata": {},
   "outputs": [],
   "source": [
    "b = '125ddfvf'\n",
    "c = '123'\n",
    "d =  'nvbthbg'"
   ]
  },
  {
   "cell_type": "code",
   "execution_count": 226,
   "id": "95550c68",
   "metadata": {},
   "outputs": [
    {
     "data": {
      "text/plain": [
       "True"
      ]
     },
     "execution_count": 226,
     "metadata": {},
     "output_type": "execute_result"
    }
   ],
   "source": [
    "b.isalnum()"
   ]
  },
  {
   "cell_type": "code",
   "execution_count": 227,
   "id": "e8dc8358",
   "metadata": {},
   "outputs": [
    {
     "data": {
      "text/plain": [
       "False"
      ]
     },
     "execution_count": 227,
     "metadata": {},
     "output_type": "execute_result"
    }
   ],
   "source": [
    "b.isalpha()"
   ]
  },
  {
   "cell_type": "code",
   "execution_count": 228,
   "id": "2605f8e7",
   "metadata": {},
   "outputs": [
    {
     "data": {
      "text/plain": [
       "False"
      ]
     },
     "execution_count": 228,
     "metadata": {},
     "output_type": "execute_result"
    }
   ],
   "source": [
    "b.isnumeric()"
   ]
  },
  {
   "cell_type": "code",
   "execution_count": 229,
   "id": "e1e80ab9",
   "metadata": {},
   "outputs": [
    {
     "data": {
      "text/plain": [
       "False"
      ]
     },
     "execution_count": 229,
     "metadata": {},
     "output_type": "execute_result"
    }
   ],
   "source": [
    "b.isdigit()"
   ]
  },
  {
   "cell_type": "code",
   "execution_count": 231,
   "id": "a60269be",
   "metadata": {},
   "outputs": [
    {
     "data": {
      "text/plain": [
       "True"
      ]
     },
     "execution_count": 231,
     "metadata": {},
     "output_type": "execute_result"
    }
   ],
   "source": [
    "c.isnumeric()"
   ]
  },
  {
   "cell_type": "code",
   "execution_count": 232,
   "id": "5f63ccfc",
   "metadata": {},
   "outputs": [
    {
     "data": {
      "text/plain": [
       "True"
      ]
     },
     "execution_count": 232,
     "metadata": {},
     "output_type": "execute_result"
    }
   ],
   "source": [
    "d.isalpha()"
   ]
  },
  {
   "cell_type": "code",
   "execution_count": 233,
   "id": "0bfb40b5",
   "metadata": {},
   "outputs": [
    {
     "data": {
      "text/plain": [
       "True"
      ]
     },
     "execution_count": 233,
     "metadata": {},
     "output_type": "execute_result"
    }
   ],
   "source": [
    "c.isdigit()"
   ]
  },
  {
   "cell_type": "code",
   "execution_count": 236,
   "id": "bfab8da7",
   "metadata": {},
   "outputs": [
    {
     "data": {
      "text/plain": [
       "'ssssssss123sssssssss'"
      ]
     },
     "execution_count": 236,
     "metadata": {},
     "output_type": "execute_result"
    }
   ],
   "source": [
    "c.center(20,'s')"
   ]
  },
  {
   "cell_type": "code",
   "execution_count": 10,
   "id": "9a4ddee9",
   "metadata": {},
   "outputs": [],
   "source": [
    "k = ''"
   ]
  },
  {
   "cell_type": "code",
   "execution_count": 11,
   "id": "62afb8a0",
   "metadata": {},
   "outputs": [
    {
     "data": {
      "text/plain": [
       "False"
      ]
     },
     "execution_count": 11,
     "metadata": {},
     "output_type": "execute_result"
    }
   ],
   "source": [
    "k.isspace()"
   ]
  },
  {
   "cell_type": "code",
   "execution_count": 13,
   "id": "e67374a9",
   "metadata": {},
   "outputs": [
    {
     "data": {
      "text/plain": [
       "'s h a r a n'"
      ]
     },
     "execution_count": 13,
     "metadata": {},
     "output_type": "execute_result"
    }
   ],
   "source": [
    "''.join('sharan')"
   ]
  },
  {
   "cell_type": "code",
   "execution_count": 14,
   "id": "548711cd",
   "metadata": {},
   "outputs": [
    {
     "data": {
      "text/plain": [
       "'s h a r a n'"
      ]
     },
     "execution_count": 14,
     "metadata": {},
     "output_type": "execute_result"
    }
   ],
   "source": [
    "\" \".join('sharan')"
   ]
  },
  {
   "cell_type": "code",
   "execution_count": 15,
   "id": "44837981",
   "metadata": {},
   "outputs": [
    {
     "data": {
      "text/plain": [
       "'sShSaSrSaSn'"
      ]
     },
     "execution_count": 15,
     "metadata": {},
     "output_type": "execute_result"
    }
   ],
   "source": [
    "'S'.join('sharan')"
   ]
  },
  {
   "cell_type": "code",
   "execution_count": 18,
   "id": "fc78d363",
   "metadata": {},
   "outputs": [
    {
     "data": {
      "text/plain": [
       "'n a r a h s'"
      ]
     },
     "execution_count": 18,
     "metadata": {},
     "output_type": "execute_result"
    }
   ],
   "source": [
    "' '.join(reversed('sharan'))"
   ]
  },
  {
   "cell_type": "code",
   "execution_count": 19,
   "id": "5b851f36",
   "metadata": {},
   "outputs": [],
   "source": [
    "d= '2514.255'"
   ]
  },
  {
   "cell_type": "code",
   "execution_count": 20,
   "id": "58baa530",
   "metadata": {},
   "outputs": [
    {
     "data": {
      "text/plain": [
       "False"
      ]
     },
     "execution_count": 20,
     "metadata": {},
     "output_type": "execute_result"
    }
   ],
   "source": [
    "d.isdigit()"
   ]
  },
  {
   "cell_type": "code",
   "execution_count": 21,
   "id": "2966bb95",
   "metadata": {},
   "outputs": [
    {
     "data": {
      "text/plain": [
       "False"
      ]
     },
     "execution_count": 21,
     "metadata": {},
     "output_type": "execute_result"
    }
   ],
   "source": [
    "d.isnumeric()"
   ]
  },
  {
   "cell_type": "code",
   "execution_count": 22,
   "id": "8af4bb9c",
   "metadata": {},
   "outputs": [
    {
     "data": {
      "text/plain": [
       "False"
      ]
     },
     "execution_count": 22,
     "metadata": {},
     "output_type": "execute_result"
    }
   ],
   "source": [
    "d.isdecimal()"
   ]
  },
  {
   "cell_type": "code",
   "execution_count": 1,
   "id": "7a4d90ca",
   "metadata": {},
   "outputs": [],
   "source": [
    "s = 'sharan\\thuleppa\\tkori'"
   ]
  },
  {
   "cell_type": "code",
   "execution_count": 2,
   "id": "519a72f1",
   "metadata": {},
   "outputs": [
    {
     "data": {
      "text/plain": [
       "'sharan  huleppa kori'"
      ]
     },
     "execution_count": 2,
     "metadata": {},
     "output_type": "execute_result"
    }
   ],
   "source": [
    "s.expandtabs()"
   ]
  },
  {
   "cell_type": "code",
   "execution_count": null,
   "id": "dc9abdd8",
   "metadata": {},
   "outputs": [],
   "source": [
    "Challenge:\n",
    "s =  'this is my first python rogramming class and i am learning python string and its function'\n",
    "1, Try to extract data from index one to 300 with jump of 3\n",
    "2, Try to reverse a string without using reverse funnction\n",
    "3, Try to split a string after conversion of entire string in uppercse\n",
    "4, try to convet whole string into lowercase\n",
    "5, try to capitalize the whole string\n",
    "6, write a difference between isalnum() and isalpha()\n",
    "7, try to give an example of expand tab\n",
    "8, give an example of strip, lstrip and rstrip\n",
    "9, replace a string character  by any other character by taking own example\n",
    "10,try to give a definition of string center function with example\n",
    "11,write your own definition of compiler and interpretter without copy past in own language\n",
    "12, python is a interpreted of compiled language give a clear ans with your understanding\n",
    "13, try to write a usecases of python with  ypur understanding\n",
    "\n",
    "send this ans from Jupyter notebook to shivan@ineuron.ai"
   ]
  },
  {
   "cell_type": "code",
   "execution_count": null,
   "id": "be34c1a1",
   "metadata": {},
   "outputs": [],
   "source": []
  }
 ],
 "metadata": {
  "kernelspec": {
   "display_name": "Python 3 (ipykernel)",
   "language": "python",
   "name": "python3"
  },
  "language_info": {
   "codemirror_mode": {
    "name": "ipython",
    "version": 3
   },
   "file_extension": ".py",
   "mimetype": "text/x-python",
   "name": "python",
   "nbconvert_exporter": "python",
   "pygments_lexer": "ipython3",
   "version": "3.9.7"
  }
 },
 "nbformat": 4,
 "nbformat_minor": 5
}
