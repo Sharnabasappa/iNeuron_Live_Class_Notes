{
 "cells": [
  {
   "cell_type": "code",
   "execution_count": null,
   "id": "02fc27f3",
   "metadata": {},
   "outputs": [],
   "source": [
    "\"\"\"1. What is the name of the feature responsible for generating Regex objects?\"\"\"\n",
    "\n",
    "\n",
    "The re.compile() function returns Regex objects"
   ]
  },
  {
   "cell_type": "code",
   "execution_count": null,
   "id": "dc9b5d3c",
   "metadata": {},
   "outputs": [],
   "source": [
    "Regex:\n",
    "    used for pattern matching or string matching like username, password, mailid validation like rules for it etc"
   ]
  },
  {
   "cell_type": "code",
   "execution_count": null,
   "id": "921f4acb",
   "metadata": {},
   "outputs": [],
   "source": [
    "[abc]          # a,b or c #any character in abc\n",
    "\n",
    "[^abc]         # anycharacter except a,b,c\n",
    "\n",
    "[a -z]         # a to z character\n",
    "\n",
    "[A -Z]         # A to Z  character\n",
    "\n",
    "[a - z A - Z]  # a to z, A to Z\n",
    "\n",
    "[0 - 9]        # 0 to 9 any int number"
   ]
  },
  {
   "cell_type": "code",
   "execution_count": null,
   "id": "5b47ad29",
   "metadata": {},
   "outputs": [],
   "source": [
    "# Quantifiers  , usiing this we can tell the computer about reputation\n",
    "\n",
    "[ ]?      # occures 0 or one times, (what are all inside sqr bracket) \n",
    "        \n",
    "[ ]+      # occurs 1 or more times\n",
    "\n",
    "[ ]*      # occures 0 or more times\n",
    "\n",
    "[ ]{n}    # occurs n times\n",
    "\n",
    "[ ]{n,}   # occurs n or more times\n",
    "\n",
    "[ ]{y,z}  # occures atleast y times, but less than  z time, (y to z)\n"
   ]
  },
  {
   "cell_type": "code",
   "execution_count": null,
   "id": "9333b932",
   "metadata": {},
   "outputs": [],
   "source": [
    "# Regex metacharacters,   this are short form \n",
    "\n",
    "\\d    =  [0-9]\n",
    "\\D    =  [^0-9] any no except 0 to 9\n",
    "\\w    =  [a-zA-Z_0-9]\n",
    "\\W    =  [^w]\n",
    "\n",
    "there are many metacharacters few of them which you can see above\n",
    "\n",
    "\"\\ (backward slash)\":\n",
    "    tells computer to treat following character as search character,\n",
    "    for '+', '.', '-', '_' etc\n",
    "    \n",
    "    "
   ]
  },
  {
   "cell_type": "code",
   "execution_count": null,
   "id": "c897fc60",
   "metadata": {},
   "outputs": [],
   "source": [
    "# examples:\n",
    "pattern should check\n",
    "\n",
    "1, mobile number starts with 8 or 9 and total digit = 10\n",
    "\n",
    "[89][0-9]{9}  # it will take one didit fom [89]\n",
    "\n",
    "2, first character upper case, contains lower case alphabets, only one digit allowed\n",
    "   in between\n",
    "    [A-z][a-z]*[0-9][a-z]*\n",
    "3, mail id  sharan123@gamil.com\n",
    "\n",
    "[a-zA-Z0-9_\\-\\.]+[@][a-z]+[\\.][a-z]{2,3}"
   ]
  }
 ],
 "metadata": {
  "kernelspec": {
   "display_name": "Python 3 (ipykernel)",
   "language": "python",
   "name": "python3"
  },
  "language_info": {
   "codemirror_mode": {
    "name": "ipython",
    "version": 3
   },
   "file_extension": ".py",
   "mimetype": "text/x-python",
   "name": "python",
   "nbconvert_exporter": "python",
   "pygments_lexer": "ipython3",
   "version": "3.9.7"
  }
 },
 "nbformat": 4,
 "nbformat_minor": 5
}
