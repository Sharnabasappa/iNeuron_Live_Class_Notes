{
 "cells": [
  {
   "cell_type": "raw",
   "id": "6eb6a45e",
   "metadata": {},
   "source": [
    "#function is crated to increse the reusability of code. it terminate the writing a code for repeted functions/ process\n",
    "usinng def"
   ]
  },
  {
   "cell_type": "code",
   "execution_count": 5,
   "id": "2eafc1cc",
   "metadata": {},
   "outputs": [],
   "source": [
    "def test(a, b):\n",
    "    return a + b\n",
    "     #'''function for concatination'''  # it will creat a Docker String\n"
   ]
  },
  {
   "cell_type": "code",
   "execution_count": 6,
   "id": "cace35c9",
   "metadata": {},
   "outputs": [
    {
     "data": {
      "text/plain": [
       "6"
      ]
     },
     "execution_count": 6,
     "metadata": {},
     "output_type": "execute_result"
    }
   ],
   "source": [
    "test(4,2)"
   ]
  },
  {
   "cell_type": "code",
   "execution_count": 7,
   "id": "f89eba03",
   "metadata": {},
   "outputs": [
    {
     "data": {
      "text/plain": [
       "'sharan kumar'"
      ]
     },
     "execution_count": 7,
     "metadata": {},
     "output_type": "execute_result"
    }
   ],
   "source": [
    "test('sharan ', 'kumar')"
   ]
  },
  {
   "cell_type": "code",
   "execution_count": 8,
   "id": "2fba4956",
   "metadata": {},
   "outputs": [
    {
     "data": {
      "text/plain": [
       "'sharankumar'"
      ]
     },
     "execution_count": 8,
     "metadata": {},
     "output_type": "execute_result"
    }
   ],
   "source": [
    "test('sharan', 'kumar')"
   ]
  },
  {
   "cell_type": "code",
   "execution_count": 6,
   "id": "9451fc62",
   "metadata": {},
   "outputs": [
    {
     "data": {
      "text/plain": [
       "12"
      ]
     },
     "execution_count": 6,
     "metadata": {},
     "output_type": "execute_result"
    }
   ],
   "source": [
    "test(a= 9, b =3)"
   ]
  },
  {
   "cell_type": "code",
   "execution_count": 8,
   "id": "047caf31",
   "metadata": {},
   "outputs": [
    {
     "data": {
      "text/plain": [
       "10"
      ]
     },
     "execution_count": 8,
     "metadata": {},
     "output_type": "execute_result"
    }
   ],
   "source": [
    "test(b = 4, a= 6)"
   ]
  },
  {
   "cell_type": "code",
   "execution_count": 11,
   "id": "251c9a46",
   "metadata": {},
   "outputs": [
    {
     "name": "stdout",
     "output_type": "stream",
     "text": [
      "\n"
     ]
    }
   ],
   "source": [
    "print()"
   ]
  },
  {
   "cell_type": "code",
   "execution_count": 14,
   "id": "544aa63b",
   "metadata": {},
   "outputs": [],
   "source": [
    "def test1(a,b,c,d,e):\n",
    "    return a,b,c,d,e      "
   ]
  },
  {
   "cell_type": "code",
   "execution_count": 17,
   "id": "a4850466",
   "metadata": {},
   "outputs": [
    {
     "ename": "TypeError",
     "evalue": "test1() missing 1 required positional argument: 'e'",
     "output_type": "error",
     "traceback": [
      "\u001b[1;31m---------------------------------------------------------------------------\u001b[0m",
      "\u001b[1;31mTypeError\u001b[0m                                 Traceback (most recent call last)",
      "\u001b[1;32m~\\AppData\\Local\\Temp/ipykernel_14736/2630490214.py\u001b[0m in \u001b[0;36m<module>\u001b[1;34m\u001b[0m\n\u001b[1;32m----> 1\u001b[1;33m \u001b[0mtest1\u001b[0m\u001b[1;33m(\u001b[0m\u001b[1;36m3\u001b[0m\u001b[1;33m,\u001b[0m\u001b[1;36m4\u001b[0m\u001b[1;33m,\u001b[0m\u001b[1;36m5\u001b[0m\u001b[1;33m,\u001b[0m\u001b[1;36m6\u001b[0m\u001b[1;33m)\u001b[0m\u001b[1;33m\u001b[0m\u001b[1;33m\u001b[0m\u001b[0m\n\u001b[0m",
      "\u001b[1;31mTypeError\u001b[0m: test1() missing 1 required positional argument: 'e'"
     ]
    }
   ],
   "source": [
    "test1(3,4,5,6)    # arguments you pass is equal to variable defines while creating function"
   ]
  },
  {
   "cell_type": "code",
   "execution_count": 9,
   "id": "c87c8772",
   "metadata": {},
   "outputs": [],
   "source": [
    "def test2(*a):     #staric function, can pass aany no of parameter/ arguments, writes it in tuple\n",
    "    return a"
   ]
  },
  {
   "cell_type": "code",
   "execution_count": 11,
   "id": "8e491e00",
   "metadata": {},
   "outputs": [
    {
     "data": {
      "text/plain": [
       "(2, 3, 4, 5, 6, 'sharn')"
      ]
     },
     "execution_count": 11,
     "metadata": {},
     "output_type": "execute_result"
    }
   ],
   "source": [
    "test2(2,3,4,5,6,'sharn')"
   ]
  },
  {
   "cell_type": "code",
   "execution_count": 20,
   "id": "0627f0b7",
   "metadata": {},
   "outputs": [
    {
     "data": {
      "text/plain": [
       "(4, 5, 6, [1, 2, 3, 4])"
      ]
     },
     "execution_count": 20,
     "metadata": {},
     "output_type": "execute_result"
    }
   ],
   "source": [
    "test2(4,5,6,[1,2,3,4])"
   ]
  },
  {
   "cell_type": "code",
   "execution_count": 26,
   "id": "95e6bf41",
   "metadata": {},
   "outputs": [],
   "source": [
    "def test3(*a):   # this will write all the argument in list\n",
    "    l = []\n",
    "    for i in a :\n",
    "        l.append(i)\n",
    "    return l"
   ]
  },
  {
   "cell_type": "code",
   "execution_count": 27,
   "id": "ee241cc2",
   "metadata": {},
   "outputs": [
    {
     "data": {
      "text/plain": [
       "[2, 3, 4, 5, [1, 3, 45, 4]]"
      ]
     },
     "execution_count": 27,
     "metadata": {},
     "output_type": "execute_result"
    }
   ],
   "source": [
    "test3(2,3,4,5,[1,3,45,4])"
   ]
  },
  {
   "cell_type": "code",
   "execution_count": 10,
   "id": "e857c861",
   "metadata": {},
   "outputs": [],
   "source": [
    "def test4(a,b,c,d, *m):\n",
    "    return a,b,c,d, m"
   ]
  },
  {
   "cell_type": "code",
   "execution_count": 11,
   "id": "772a8f78",
   "metadata": {},
   "outputs": [
    {
     "data": {
      "text/plain": [
       "(1, 2, 3, 4, (5, 6, 7, 8, 9, 0, 4, 5))"
      ]
     },
     "execution_count": 11,
     "metadata": {},
     "output_type": "execute_result"
    }
   ],
   "source": [
    "test4(1,2,3,4,5,6,7,8,9,0,4,5)"
   ]
  },
  {
   "cell_type": "code",
   "execution_count": 15,
   "id": "628430fa",
   "metadata": {},
   "outputs": [],
   "source": [
    "def test7(*m,a,b,c,d,e):\n",
    "    return m , a,b,c,d,e"
   ]
  },
  {
   "cell_type": "code",
   "execution_count": 20,
   "id": "60ea761c",
   "metadata": {},
   "outputs": [
    {
     "data": {
      "text/plain": [
       "((1, 33, 4, 55, 66, 77, 5, 6, 54), 5, 45, 4, 53, 3)"
      ]
     },
     "execution_count": 20,
     "metadata": {},
     "output_type": "execute_result"
    }
   ],
   "source": [
    "test7(1,33,4,55,66,77,5,6,54,a=5,b=45,c=4,d=53,e =3)"
   ]
  },
  {
   "cell_type": "code",
   "execution_count": 3,
   "id": "2aa172e8",
   "metadata": {},
   "outputs": [],
   "source": [
    "def test8(**sudh):  #n no of key value pair or need to pass dictinary kind of object, and it will give result in dictionary \n",
    "    return sudh "
   ]
  },
  {
   "cell_type": "code",
   "execution_count": 4,
   "id": "0f19bdf4",
   "metadata": {},
   "outputs": [
    {
     "data": {
      "text/plain": [
       "{'a': 1, 'b': 2, 'c': 3, 'd': 4}"
      ]
     },
     "execution_count": 4,
     "metadata": {},
     "output_type": "execute_result"
    }
   ],
   "source": [
    "test8(a =1,b= 2, c=3,d=4)"
   ]
  },
  {
   "cell_type": "code",
   "execution_count": 5,
   "id": "fe694d90",
   "metadata": {},
   "outputs": [],
   "source": [
    "def test9(*m, **s):\n",
    "    return m, s\n",
    "    "
   ]
  },
  {
   "cell_type": "code",
   "execution_count": 10,
   "id": "b82ebe77",
   "metadata": {},
   "outputs": [
    {
     "data": {
      "text/plain": [
       "((345, 66, 5, 4, 5, 6, 4, 3, 78, 9),\n",
       " {'name': 'sharan', 'father': 'Huleppa', 'dist': 'belagumppa', 'a': 7})"
      ]
     },
     "execution_count": 10,
     "metadata": {},
     "output_type": "execute_result"
    }
   ],
   "source": [
    "test9(345,66,5,4,5,6,4,3,78,9, name='sharan', father='Huleppa', dist='belagumppa',a= 7)"
   ]
  },
  {
   "cell_type": "code",
   "execution_count": 20,
   "id": "d33bbed5",
   "metadata": {},
   "outputs": [],
   "source": [
    "def test10(*m):\n",
    "    n = 0\n",
    "    for i in m:\n",
    "        if type(i)== int:\n",
    "            n = n+i\n",
    "    return n\n",
    "            "
   ]
  },
  {
   "cell_type": "code",
   "execution_count": 22,
   "id": "f8addbcd",
   "metadata": {},
   "outputs": [
    {
     "data": {
      "text/plain": [
       "15"
      ]
     },
     "execution_count": 22,
     "metadata": {},
     "output_type": "execute_result"
    }
   ],
   "source": [
    "test10(1,2,3,4,5)"
   ]
  },
  {
   "cell_type": "code",
   "execution_count": 23,
   "id": "03fb2bd6",
   "metadata": {},
   "outputs": [],
   "source": [
    "def test10(*m):   # additition\n",
    "    n = 0\n",
    "    for i in m:\n",
    "        if type(i)== int:\n",
    "            n = n+i\n",
    "    print(n)"
   ]
  },
  {
   "cell_type": "code",
   "execution_count": 24,
   "id": "1937fa6f",
   "metadata": {},
   "outputs": [
    {
     "name": "stdout",
     "output_type": "stream",
     "text": [
      "30\n"
     ]
    }
   ],
   "source": [
    "test10(15,15)"
   ]
  },
  {
   "cell_type": "code",
   "execution_count": 25,
   "id": "9692034b",
   "metadata": {},
   "outputs": [],
   "source": [
    "def test1(*m):    #Multiplication\n",
    "    n = 1\n",
    "    for i in m:\n",
    "        if type(i)== int:\n",
    "            n = n*i\n",
    "    print(n)"
   ]
  },
  {
   "cell_type": "code",
   "execution_count": 27,
   "id": "fc46bca9",
   "metadata": {},
   "outputs": [
    {
     "name": "stdout",
     "output_type": "stream",
     "text": [
      "1008000\n"
     ]
    }
   ],
   "source": [
    "test1(2,5,4,5,6,7,8,3,5)"
   ]
  },
  {
   "cell_type": "raw",
   "id": "3ee41487",
   "metadata": {},
   "source": [
    "# ananomus and lambda function"
   ]
  },
  {
   "cell_type": "raw",
   "id": "eb8640f4",
   "metadata": {},
   "source": [
    "# lambda is reserverd key word,  function means give some input and it will give an output\n",
    "\n",
    "why lambda ananomus funtion is :  there is no any  name for that function\n",
    "ex\n",
    "n = lambda a, b : a + b\n",
    "n(4,5)\n",
    "output ; 9"
   ]
  },
  {
   "cell_type": "code",
   "execution_count": 31,
   "id": "5f1c5899",
   "metadata": {},
   "outputs": [],
   "source": [
    "n = lambda a, b : a + b"
   ]
  },
  {
   "cell_type": "code",
   "execution_count": 33,
   "id": "440a1d74",
   "metadata": {},
   "outputs": [
    {
     "data": {
      "text/plain": [
       "9"
      ]
     },
     "execution_count": 33,
     "metadata": {},
     "output_type": "execute_result"
    }
   ],
   "source": [
    "n(4,5)"
   ]
  },
  {
   "cell_type": "code",
   "execution_count": 39,
   "id": "d0b7384f",
   "metadata": {},
   "outputs": [
    {
     "data": {
      "text/plain": [
       "8"
      ]
     },
     "execution_count": 39,
     "metadata": {},
     "output_type": "execute_result"
    }
   ],
   "source": [
    "m(2, 3) "
   ]
  },
  {
   "cell_type": "code",
   "execution_count": 30,
   "id": "e9c34d71",
   "metadata": {},
   "outputs": [],
   "source": [
    "def test(a,b):\n",
    "    return a+b"
   ]
  },
  {
   "cell_type": "code",
   "execution_count": 31,
   "id": "34025e78",
   "metadata": {},
   "outputs": [
    {
     "data": {
      "text/plain": [
       "9"
      ]
     },
     "execution_count": 31,
     "metadata": {},
     "output_type": "execute_result"
    }
   ],
   "source": [
    "test(4,5)"
   ]
  },
  {
   "cell_type": "code",
   "execution_count": 32,
   "id": "c1ec477b",
   "metadata": {},
   "outputs": [],
   "source": [
    "b = lambda *sudh  : sudh"
   ]
  },
  {
   "cell_type": "code",
   "execution_count": 40,
   "id": "054dd042",
   "metadata": {},
   "outputs": [],
   "source": [
    "b1 = lambda *a : a"
   ]
  },
  {
   "cell_type": "code",
   "execution_count": 41,
   "id": "db9ef3c5",
   "metadata": {},
   "outputs": [
    {
     "data": {
      "text/plain": [
       "(1, 2, 3, 4, 3)"
      ]
     },
     "execution_count": 41,
     "metadata": {},
     "output_type": "execute_result"
    }
   ],
   "source": [
    "b1(1,2,3,4,3)"
   ]
  },
  {
   "cell_type": "code",
   "execution_count": 34,
   "id": "9b5d89e3",
   "metadata": {},
   "outputs": [
    {
     "data": {
      "text/plain": [
       "(34, 5, 6, 4, 3, 5, 66, 8, 65, 4, 433, 3, 2)"
      ]
     },
     "execution_count": 34,
     "metadata": {},
     "output_type": "execute_result"
    }
   ],
   "source": [
    "b(34,5,6,4,3,5,66,8,65,4,433,3,2)"
   ]
  },
  {
   "cell_type": "code",
   "execution_count": 43,
   "id": "3e14dfc6",
   "metadata": {},
   "outputs": [],
   "source": [
    "t = (3,4,5,6,7,6,5,6,74,3,4,56,7,4)\n",
    "l = []\n",
    "for i in t:\n",
    "    l.append(i)   # with the help of append operation "
   ]
  },
  {
   "cell_type": "code",
   "execution_count": 44,
   "id": "af8c633e",
   "metadata": {},
   "outputs": [
    {
     "data": {
      "text/plain": [
       "[3, 4, 5, 6, 7, 6, 5, 6, 74, 3, 4, 56, 7, 4]"
      ]
     },
     "execution_count": 44,
     "metadata": {},
     "output_type": "execute_result"
    }
   ],
   "source": [
    "l1 = list(t)    # converting tuple to list\n",
    "l1"
   ]
  },
  {
   "cell_type": "code",
   "execution_count": 38,
   "id": "1edf273e",
   "metadata": {},
   "outputs": [
    {
     "data": {
      "text/plain": [
       "[3, 4, 5, 6, 7, 6, 5, 6, 74, 3, 4, 56, 7, 4]"
      ]
     },
     "execution_count": 38,
     "metadata": {},
     "output_type": "execute_result"
    }
   ],
   "source": [
    "l"
   ]
  },
  {
   "cell_type": "code",
   "execution_count": 41,
   "id": "4258f8b7",
   "metadata": {},
   "outputs": [
    {
     "data": {
      "text/plain": [
       "[3, 4, 5, 6, 7, 6, 5, 6, 74, 3, 4, 56, 7, 4]"
      ]
     },
     "execution_count": 41,
     "metadata": {},
     "output_type": "execute_result"
    }
   ],
   "source": [
    "#coprehension operation\n",
    "# try to do above ex by using coprehension operation this will reduce no of line code,   Both gove same result\n",
    "t = (3,4,5,6,7,6,5,6,74,3,4,56,7,4)\n",
    "\n",
    "[i for i in t]\n",
    "    "
   ]
  },
  {
   "cell_type": "code",
   "execution_count": 42,
   "id": "798c55b7",
   "metadata": {},
   "outputs": [],
   "source": [
    "s = 'sudh'\n",
    "for \n"
   ]
  },
  {
   "cell_type": "code",
   "execution_count": 43,
   "id": "0644c4fb",
   "metadata": {},
   "outputs": [
    {
     "data": {
      "text/plain": [
       "['s', 'u', 'd', 'h']"
      ]
     },
     "execution_count": 43,
     "metadata": {},
     "output_type": "execute_result"
    }
   ],
   "source": [
    "[i for i in s]"
   ]
  },
  {
   "cell_type": "code",
   "execution_count": 45,
   "id": "03316d62",
   "metadata": {},
   "outputs": [],
   "source": [
    "l = lambda *x : [i**2 for i in x]    # finding a square of given int"
   ]
  },
  {
   "cell_type": "code",
   "execution_count": 49,
   "id": "161fbd1a",
   "metadata": {},
   "outputs": [],
   "source": [
    "l1 = lambda *x : [i**3 for i in x]   # finding a cube of given int"
   ]
  },
  {
   "cell_type": "code",
   "execution_count": 50,
   "id": "c93cceb9",
   "metadata": {},
   "outputs": [
    {
     "data": {
      "text/plain": [
       "[8, 27]"
      ]
     },
     "execution_count": 50,
     "metadata": {},
     "output_type": "execute_result"
    }
   ],
   "source": [
    "l1(2,3)"
   ]
  },
  {
   "cell_type": "code",
   "execution_count": 51,
   "id": "87128aab",
   "metadata": {},
   "outputs": [
    {
     "data": {
      "text/plain": [
       "[4, 9]"
      ]
     },
     "execution_count": 51,
     "metadata": {},
     "output_type": "execute_result"
    }
   ],
   "source": [
    "l(2,3)"
   ]
  },
  {
   "cell_type": "code",
   "execution_count": 48,
   "id": "76cd4ca6",
   "metadata": {},
   "outputs": [
    {
     "name": "stdout",
     "output_type": "stream",
     "text": [
      "<function <lambda> at 0x000001F9159F2CA0>\n",
      "<function <lambda> at 0x000001F9159F2D30>\n",
      "<function <lambda> at 0x000001F9159F2E50>\n",
      "<function <lambda> at 0x000001F9159F2F70>\n"
     ]
    }
   ],
   "source": [
    "# DOUBT\n",
    "y = [2,3,4,5]\n",
    "for i in y:\n",
    "    l1 = lambda *y : i**2\n",
    "    print(l1)"
   ]
  },
  {
   "cell_type": "code",
   "execution_count": 78,
   "id": "ae8774a6",
   "metadata": {},
   "outputs": [
    {
     "data": {
      "text/plain": [
       "[4, 9, 16, 2025]"
      ]
     },
     "execution_count": 78,
     "metadata": {},
     "output_type": "execute_result"
    }
   ],
   "source": [
    "l(2,3,4,45)"
   ]
  },
  {
   "cell_type": "code",
   "execution_count": 92,
   "id": "44de4bff",
   "metadata": {},
   "outputs": [],
   "source": [
    "def test01(**sharan):\n",
    "    count = 0\n",
    "    print(sharan)\n",
    "    print(sharan.values())\n",
    "    for v in sharan.values():\n",
    "        if type(v)== str or type(v)== list:\n",
    "            count += 1\n",
    "    return count"
   ]
  },
  {
   "cell_type": "code",
   "execution_count": 93,
   "id": "eb0a39ec",
   "metadata": {},
   "outputs": [
    {
     "name": "stdout",
     "output_type": "stream",
     "text": [
      "{'a': 7, 'b': 'sudh', 'c': 345, 'd': 'sudh', 'l': [2, 3, 4, 45, 'sudh']}\n",
      "dict_values([7, 'sudh', 345, 'sudh', [2, 3, 4, 45, 'sudh']])\n"
     ]
    },
    {
     "data": {
      "text/plain": [
       "3"
      ]
     },
     "execution_count": 93,
     "metadata": {},
     "output_type": "execute_result"
    }
   ],
   "source": [
    "test01(a =7,b = 'sudh', c= 345, d= 'sudh', l = [2,3,4,45, 'sudh'])"
   ]
  },
  {
   "cell_type": "code",
   "execution_count": 96,
   "id": "e7f3f4c1",
   "metadata": {},
   "outputs": [],
   "source": [
    "def test02(**kwargs):\n",
    "    return list(kwargs.values())"
   ]
  },
  {
   "cell_type": "code",
   "execution_count": 97,
   "id": "8eff311c",
   "metadata": {},
   "outputs": [
    {
     "data": {
      "text/plain": [
       "[7, 'sudh', 345, 'sudh', [2, 3, 4, 45, 'sudh']]"
      ]
     },
     "execution_count": 97,
     "metadata": {},
     "output_type": "execute_result"
    }
   ],
   "source": [
    "test02(a =7,b = 'sudh', c= 345, d= 'sudh', l = [2,3,4,45, 'sudh'])"
   ]
  },
  {
   "cell_type": "raw",
   "id": "f53048d0",
   "metadata": {},
   "source": [
    "#Task 05"
   ]
  },
  {
   "cell_type": "raw",
   "id": "8734a536",
   "metadata": {},
   "source": [
    "q1,  Try to print a prime number in between 1 to 1000\n",
    "q2,  Try to write a function which is equivelent to print function in python\n",
    "q3,  Try to write a function which is replica of list append, extend and pop function\n",
    "q4,  try to write a lambda function whic can return a concatination of all the string that we will pass\n",
    "q5,  try to write a lambda function which can return a list of square of all that data between 1-100\n",
    "q6,  try to write a 10 different different ex of lambda function with a choice        of your take\n",
    "q7,  try to write  a function which can perform a read operation from .txt file"
   ]
  },
  {
   "cell_type": "code",
   "execution_count": 52,
   "id": "25a38a7e",
   "metadata": {},
   "outputs": [
    {
     "data": {
      "text/plain": [
       "[1, 2, 3, 4]"
      ]
     },
     "execution_count": 52,
     "metadata": {},
     "output_type": "execute_result"
    }
   ],
   "source": [
    "t = (1,2,3,4)\n",
    "[i for i in t]"
   ]
  },
  {
   "cell_type": "code",
   "execution_count": 56,
   "id": "1982bcad",
   "metadata": {},
   "outputs": [],
   "source": [
    "def lst(t):\n",
    "    for i in t:\n",
    "        return t"
   ]
  },
  {
   "cell_type": "code",
   "execution_count": 58,
   "id": "19dfd594",
   "metadata": {},
   "outputs": [
    {
     "data": {
      "text/plain": [
       "[1, 2, 3, 4, 5]"
      ]
     },
     "execution_count": 58,
     "metadata": {},
     "output_type": "execute_result"
    }
   ],
   "source": [
    "lst([1,2,3,4,5])"
   ]
  },
  {
   "cell_type": "code",
   "execution_count": null,
   "id": "3b72961a",
   "metadata": {},
   "outputs": [],
   "source": [
    "n = 8\n",
    "for i in range(n):\n",
    "    if i<=4:\n",
    "        n= i"
   ]
  },
  {
   "cell_type": "code",
   "execution_count": 76,
   "id": "b541de6f",
   "metadata": {},
   "outputs": [
    {
     "name": "stdout",
     "output_type": "stream",
     "text": [
      "[1, 2, 3, 4, 5, 6]\n",
      "Reversed list is\n",
      "[6, 5, 4, 3, 2, 1]\n"
     ]
    }
   ],
   "source": [
    "def reverseList(A):\n",
    "    print( A[::-1])\n",
    "\t\n",
    "# Driver function to test above function\n",
    "A = [1, 2, 3, 4, 5, 6]\n",
    "print(A)\n",
    "print(\"Reversed list is\")\n",
    "reverseList(A)\n"
   ]
  },
  {
   "cell_type": "code",
   "execution_count": 77,
   "id": "26e59956",
   "metadata": {},
   "outputs": [],
   "source": [
    "a = [1,2,3,4]\n",
    "def reverse(a):\n",
    "    return a[::-1]"
   ]
  },
  {
   "cell_type": "code",
   "execution_count": 79,
   "id": "f3b1b903",
   "metadata": {},
   "outputs": [
    {
     "data": {
      "text/plain": [
       "[4, 3, 2, 1]"
      ]
     },
     "execution_count": 79,
     "metadata": {},
     "output_type": "execute_result"
    }
   ],
   "source": [
    "reverse(a)"
   ]
  },
  {
   "cell_type": "code",
   "execution_count": 90,
   "id": "ac724b12",
   "metadata": {},
   "outputs": [],
   "source": [
    "# Python3 implementation\n",
    "\n",
    "class pair:\n",
    "\t\n",
    "\tdef __init__(self):\n",
    "\t\tself.min  <= 0\n",
    "\t\tself.max > 0\n",
    "\n"
   ]
  },
  {
   "cell_type": "code",
   "execution_count": 89,
   "id": "e009de42",
   "metadata": {},
   "outputs": [],
   "source": [
    "b = pair()"
   ]
  },
  {
   "cell_type": "code",
   "execution_count": null,
   "id": "0e2ad8db",
   "metadata": {},
   "outputs": [],
   "source": []
  }
 ],
 "metadata": {
  "kernelspec": {
   "display_name": "Python 3 (ipykernel)",
   "language": "python",
   "name": "python3"
  },
  "language_info": {
   "codemirror_mode": {
    "name": "ipython",
    "version": 3
   },
   "file_extension": ".py",
   "mimetype": "text/x-python",
   "name": "python",
   "nbconvert_exporter": "python",
   "pygments_lexer": "ipython3",
   "version": "3.9.7"
  }
 },
 "nbformat": 4,
 "nbformat_minor": 5
}
