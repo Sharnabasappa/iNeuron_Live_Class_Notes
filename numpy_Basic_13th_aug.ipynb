{
 "cells": [
  {
   "cell_type": "code",
   "execution_count": null,
   "id": "eab905ce",
   "metadata": {},
   "outputs": [],
   "source": [
    "# numerical computation,   for pyhton it is called as numpy,\n",
    "# this is derived from matlab\n",
    "# Data Manipulation"
   ]
  },
  {
   "cell_type": "code",
   "execution_count": 1,
   "id": "b9aca2ee",
   "metadata": {},
   "outputs": [],
   "source": [
    "import numpy as np"
   ]
  },
  {
   "cell_type": "code",
   "execution_count": 2,
   "id": "986e15e3",
   "metadata": {},
   "outputs": [],
   "source": [
    "l = [1,2,3,4,6]   # hetrogeniou collection of data"
   ]
  },
  {
   "cell_type": "code",
   "execution_count": 3,
   "id": "2948d41c",
   "metadata": {},
   "outputs": [
    {
     "data": {
      "text/plain": [
       "array([1, 2, 3, 4, 6])"
      ]
     },
     "execution_count": 3,
     "metadata": {},
     "output_type": "execute_result"
    }
   ],
   "source": [
    "np.array(l)  "
   ]
  },
  {
   "cell_type": "code",
   "execution_count": 5,
   "id": "2cdf7965",
   "metadata": {},
   "outputs": [],
   "source": [
    "l1 = [4,5,6,'sharan', 34.45, True]"
   ]
  },
  {
   "cell_type": "code",
   "execution_count": 10,
   "id": "32e9e741",
   "metadata": {},
   "outputs": [],
   "source": [
    " a1 = np.array(l1)   # it has converted onto string(Higher order), since l1 has diff data types"
   ]
  },
  {
   "cell_type": "code",
   "execution_count": 11,
   "id": "32d3607a",
   "metadata": {},
   "outputs": [],
   "source": [
    "a2 = np.array([[1,2,3], [4,5,6]])"
   ]
  },
  {
   "cell_type": "code",
   "execution_count": 12,
   "id": "225a3e60",
   "metadata": {},
   "outputs": [],
   "source": [
    "a3 = np.array([[[1,2,3], [4,5,6], [7,8,9]]])"
   ]
  },
  {
   "cell_type": "code",
   "execution_count": 13,
   "id": "8f16b927",
   "metadata": {},
   "outputs": [
    {
     "data": {
      "text/plain": [
       "array(['4', '5', '6', 'sharan', '34.45', 'True'], dtype='<U32')"
      ]
     },
     "execution_count": 13,
     "metadata": {},
     "output_type": "execute_result"
    }
   ],
   "source": [
    "a1"
   ]
  },
  {
   "cell_type": "code",
   "execution_count": 14,
   "id": "f29b1f42",
   "metadata": {},
   "outputs": [
    {
     "data": {
      "text/plain": [
       "array([[1, 2, 3],\n",
       "       [4, 5, 6]])"
      ]
     },
     "execution_count": 14,
     "metadata": {},
     "output_type": "execute_result"
    }
   ],
   "source": [
    "a2"
   ]
  },
  {
   "cell_type": "code",
   "execution_count": 15,
   "id": "74e696bd",
   "metadata": {},
   "outputs": [
    {
     "data": {
      "text/plain": [
       "array([[[1, 2, 3],\n",
       "        [4, 5, 6],\n",
       "        [7, 8, 9]]])"
      ]
     },
     "execution_count": 15,
     "metadata": {},
     "output_type": "execute_result"
    }
   ],
   "source": [
    "a3"
   ]
  },
  {
   "cell_type": "code",
   "execution_count": 5,
   "id": "d8547f99",
   "metadata": {},
   "outputs": [],
   "source": [
    "a5 = np.random.randint(1,90, (6,5))"
   ]
  },
  {
   "cell_type": "code",
   "execution_count": 6,
   "id": "fcc2031a",
   "metadata": {},
   "outputs": [
    {
     "data": {
      "text/plain": [
       "array([[82, 14, 41, 46, 49],\n",
       "       [43, 16, 55, 71, 12],\n",
       "       [ 9, 36, 25, 64, 51],\n",
       "       [ 3, 76, 83, 66, 15],\n",
       "       [ 1, 84,  7, 27, 32],\n",
       "       [47, 10, 23, 38, 27]])"
      ]
     },
     "execution_count": 6,
     "metadata": {},
     "output_type": "execute_result"
    }
   ],
   "source": [
    "a5"
   ]
  },
  {
   "cell_type": "code",
   "execution_count": 7,
   "id": "c5ba667a",
   "metadata": {},
   "outputs": [
    {
     "data": {
      "text/plain": [
       "array([82, 41, 46, 49, 43, 55, 71, 64, 51, 76, 83, 66, 84, 47])"
      ]
     },
     "execution_count": 7,
     "metadata": {},
     "output_type": "execute_result"
    }
   ],
   "source": [
    "a5[a5>40]"
   ]
  },
  {
   "cell_type": "markdown",
   "id": "c7b82e8a",
   "metadata": {},
   "source": []
  },
  {
   "cell_type": "code",
   "execution_count": 16,
   "id": "7d1b85e9",
   "metadata": {},
   "outputs": [
    {
     "data": {
      "text/plain": [
       "1"
      ]
     },
     "execution_count": 16,
     "metadata": {},
     "output_type": "execute_result"
    }
   ],
   "source": [
    "a1.ndim"
   ]
  },
  {
   "cell_type": "code",
   "execution_count": 17,
   "id": "a6a14f59",
   "metadata": {},
   "outputs": [
    {
     "data": {
      "text/plain": [
       "2"
      ]
     },
     "execution_count": 17,
     "metadata": {},
     "output_type": "execute_result"
    }
   ],
   "source": [
    "a2.ndim"
   ]
  },
  {
   "cell_type": "code",
   "execution_count": 19,
   "id": "d9c9ec05",
   "metadata": {},
   "outputs": [
    {
     "data": {
      "text/plain": [
       "3"
      ]
     },
     "execution_count": 19,
     "metadata": {},
     "output_type": "execute_result"
    }
   ],
   "source": [
    "a3.ndim"
   ]
  },
  {
   "cell_type": "code",
   "execution_count": 20,
   "id": "c43462c0",
   "metadata": {},
   "outputs": [
    {
     "data": {
      "text/plain": [
       "6"
      ]
     },
     "execution_count": 20,
     "metadata": {},
     "output_type": "execute_result"
    }
   ],
   "source": [
    "a1.size"
   ]
  },
  {
   "cell_type": "code",
   "execution_count": 21,
   "id": "879dc62b",
   "metadata": {},
   "outputs": [
    {
     "data": {
      "text/plain": [
       "6"
      ]
     },
     "execution_count": 21,
     "metadata": {},
     "output_type": "execute_result"
    }
   ],
   "source": [
    "a2.size"
   ]
  },
  {
   "cell_type": "code",
   "execution_count": 22,
   "id": "98f72c83",
   "metadata": {},
   "outputs": [
    {
     "data": {
      "text/plain": [
       "9"
      ]
     },
     "execution_count": 22,
     "metadata": {},
     "output_type": "execute_result"
    }
   ],
   "source": [
    "a3.size       # it will give no of elements"
   ]
  },
  {
   "cell_type": "code",
   "execution_count": 23,
   "id": "f21ddee1",
   "metadata": {},
   "outputs": [
    {
     "data": {
      "text/plain": [
       "(6,)"
      ]
     },
     "execution_count": 23,
     "metadata": {},
     "output_type": "execute_result"
    }
   ],
   "source": [
    "a1.shape"
   ]
  },
  {
   "cell_type": "code",
   "execution_count": 24,
   "id": "12c85cfc",
   "metadata": {},
   "outputs": [
    {
     "data": {
      "text/plain": [
       "(2, 3)"
      ]
     },
     "execution_count": 24,
     "metadata": {},
     "output_type": "execute_result"
    }
   ],
   "source": [
    "a2.shape           # rows x column it will give"
   ]
  },
  {
   "cell_type": "code",
   "execution_count": 25,
   "id": "54390a56",
   "metadata": {},
   "outputs": [
    {
     "data": {
      "text/plain": [
       "(1, 3, 3)"
      ]
     },
     "execution_count": 25,
     "metadata": {},
     "output_type": "execute_result"
    }
   ],
   "source": [
    "a3.shape      # z, x, y"
   ]
  },
  {
   "cell_type": "code",
   "execution_count": 26,
   "id": "87d59a35",
   "metadata": {},
   "outputs": [
    {
     "data": {
      "text/plain": [
       "array(['4', '5', '6', 'sharan', '34.45', 'True'], dtype='<U32')"
      ]
     },
     "execution_count": 26,
     "metadata": {},
     "output_type": "execute_result"
    }
   ],
   "source": [
    "a1"
   ]
  },
  {
   "cell_type": "code",
   "execution_count": 27,
   "id": "4cdbb5b6",
   "metadata": {},
   "outputs": [
    {
     "data": {
      "text/plain": [
       "array([[1, 2, 3],\n",
       "       [4, 5, 6]])"
      ]
     },
     "execution_count": 27,
     "metadata": {},
     "output_type": "execute_result"
    }
   ],
   "source": [
    "a2"
   ]
  },
  {
   "cell_type": "code",
   "execution_count": 28,
   "id": "6cc71e01",
   "metadata": {},
   "outputs": [
    {
     "data": {
      "text/plain": [
       "array([[[1, 2, 3],\n",
       "        [4, 5, 6],\n",
       "        [7, 8, 9]]])"
      ]
     },
     "execution_count": 28,
     "metadata": {},
     "output_type": "execute_result"
    }
   ],
   "source": [
    "a3"
   ]
  },
  {
   "cell_type": "code",
   "execution_count": 37,
   "id": "c4ec5853",
   "metadata": {},
   "outputs": [
    {
     "data": {
      "text/plain": [
       "array([[46, 22, 22, 41],\n",
       "       [25,  7, 29, 18],\n",
       "       [22, 10, 47, 26]])"
      ]
     },
     "execution_count": 37,
     "metadata": {},
     "output_type": "execute_result"
    }
   ],
   "source": [
    "np.random.randint(2,50 , (3,4))  # generate random data 3 rows and 4 column"
   ]
  },
  {
   "cell_type": "code",
   "execution_count": 38,
   "id": "75f26311",
   "metadata": {},
   "outputs": [
    {
     "data": {
      "text/plain": [
       "array([[[20, 31,  9, 17],\n",
       "        [28, 24, 37, 18],\n",
       "        [ 2, 41, 13, 11]],\n",
       "\n",
       "       [[37, 43, 20, 42],\n",
       "        [ 8, 21, 31, 19],\n",
       "        [48, 30, 34, 18]]])"
      ]
     },
     "execution_count": 38,
     "metadata": {},
     "output_type": "execute_result"
    }
   ],
   "source": [
    "np.random.randint(2,50 , (2,3,4))       3 x 4 and 2 metrix\\layes"
   ]
  },
  {
   "cell_type": "code",
   "execution_count": 39,
   "id": "665be32d",
   "metadata": {},
   "outputs": [
    {
     "data": {
      "text/plain": [
       "array([[0.04769155, 0.04337276, 0.49494016],\n",
       "       [0.64747708, 0.31722617, 0.30940591]])"
      ]
     },
     "execution_count": 39,
     "metadata": {},
     "output_type": "execute_result"
    }
   ],
   "source": [
    "np.random.rand(2,3)   # any mean and std davition"
   ]
  },
  {
   "cell_type": "code",
   "execution_count": 40,
   "id": "33a885fe",
   "metadata": {},
   "outputs": [],
   "source": [
    "# to noramalise data we need random data"
   ]
  },
  {
   "cell_type": "code",
   "execution_count": 41,
   "id": "5a09bfb5",
   "metadata": {},
   "outputs": [
    {
     "data": {
      "text/plain": [
       "array([[ 0.38048844, -0.59889568, -0.16047464, -0.68102806],\n",
       "       [-1.07529343, -0.91508607,  1.86056968,  0.08509605],\n",
       "       [-1.94049467,  0.25106879, -0.36755731,  0.97199107],\n",
       "       [ 0.30711999, -2.71767321, -0.63637881, -0.28281725]])"
      ]
     },
     "execution_count": 41,
     "metadata": {},
     "output_type": "execute_result"
    }
   ],
   "source": [
    "np.random.randn(4,4)       # normal distubution , avg/mean =0,  standard daviation is one"
   ]
  },
  {
   "cell_type": "code",
   "execution_count": 42,
   "id": "5f378e9f",
   "metadata": {},
   "outputs": [],
   "source": [
    "# if i want to change the shape of data\n",
    "\n",
    "a4 = np.random.randn(4,4)       "
   ]
  },
  {
   "cell_type": "code",
   "execution_count": 45,
   "id": "d9ed28bf",
   "metadata": {},
   "outputs": [
    {
     "data": {
      "text/plain": [
       "array([[ 0.14719076,  1.02167438,  1.28209244,  0.41648522, -0.10706166,\n",
       "        -0.9535261 , -0.58597381, -0.70552486],\n",
       "       [ 1.33093441,  0.41913544, -1.20274431, -1.18445164, -0.23256148,\n",
       "         0.82466644, -0.17923489, -0.60659442]])"
      ]
     },
     "execution_count": 45,
     "metadata": {},
     "output_type": "execute_result"
    }
   ],
   "source": [
    "a4.reshape(2,8)"
   ]
  },
  {
   "cell_type": "code",
   "execution_count": 47,
   "id": "31a75f75",
   "metadata": {},
   "outputs": [
    {
     "data": {
      "text/plain": [
       "array([[ 0.14719076],\n",
       "       [ 1.02167438],\n",
       "       [ 1.28209244],\n",
       "       [ 0.41648522],\n",
       "       [-0.10706166],\n",
       "       [-0.9535261 ],\n",
       "       [-0.58597381],\n",
       "       [-0.70552486],\n",
       "       [ 1.33093441],\n",
       "       [ 0.41913544],\n",
       "       [-1.20274431],\n",
       "       [-1.18445164],\n",
       "       [-0.23256148],\n",
       "       [ 0.82466644],\n",
       "       [-0.17923489],\n",
       "       [-0.60659442]])"
      ]
     },
     "execution_count": 47,
     "metadata": {},
     "output_type": "execute_result"
    }
   ],
   "source": [
    "a4.reshape(16,1)"
   ]
  },
  {
   "cell_type": "code",
   "execution_count": 46,
   "id": "9505cd8d",
   "metadata": {},
   "outputs": [
    {
     "data": {
      "text/plain": [
       "array([[ 0.14719076,  1.02167438,  1.28209244,  0.41648522, -0.10706166,\n",
       "        -0.9535261 , -0.58597381, -0.70552486],\n",
       "       [ 1.33093441,  0.41913544, -1.20274431, -1.18445164, -0.23256148,\n",
       "         0.82466644, -0.17923489, -0.60659442]])"
      ]
     },
     "execution_count": 46,
     "metadata": {},
     "output_type": "execute_result"
    }
   ],
   "source": [
    "a4.reshape(2,-1)"
   ]
  },
  {
   "cell_type": "code",
   "execution_count": 48,
   "id": "5e42be65",
   "metadata": {},
   "outputs": [
    {
     "data": {
      "text/plain": [
       "array([[ 0.14719076,  1.02167438,  1.28209244,  0.41648522, -0.10706166,\n",
       "        -0.9535261 , -0.58597381, -0.70552486],\n",
       "       [ 1.33093441,  0.41913544, -1.20274431, -1.18445164, -0.23256148,\n",
       "         0.82466644, -0.17923489, -0.60659442]])"
      ]
     },
     "execution_count": 48,
     "metadata": {},
     "output_type": "execute_result"
    }
   ],
   "source": [
    "a4.reshape(2,-3)"
   ]
  },
  {
   "cell_type": "code",
   "execution_count": 50,
   "id": "002f65da",
   "metadata": {},
   "outputs": [
    {
     "data": {
      "text/plain": [
       "array([[[ 0.14719076,  1.02167438,  1.28209244,  0.41648522],\n",
       "        [-0.10706166, -0.9535261 , -0.58597381, -0.70552486]],\n",
       "\n",
       "       [[ 1.33093441,  0.41913544, -1.20274431, -1.18445164],\n",
       "        [-0.23256148,  0.82466644, -0.17923489, -0.60659442]]])"
      ]
     },
     "execution_count": 50,
     "metadata": {},
     "output_type": "execute_result"
    }
   ],
   "source": [
    "a4.reshape(2,2,4)              "
   ]
  },
  {
   "cell_type": "code",
   "execution_count": 51,
   "id": "447579d3",
   "metadata": {},
   "outputs": [
    {
     "data": {
      "text/plain": [
       "array(['4', '5', '6', 'sharan', '34.45', 'True'], dtype='<U32')"
      ]
     },
     "execution_count": 51,
     "metadata": {},
     "output_type": "execute_result"
    }
   ],
   "source": [
    "a1"
   ]
  },
  {
   "cell_type": "code",
   "execution_count": 52,
   "id": "6ae48f28",
   "metadata": {},
   "outputs": [
    {
     "data": {
      "text/plain": [
       "'4'"
      ]
     },
     "execution_count": 52,
     "metadata": {},
     "output_type": "execute_result"
    }
   ],
   "source": [
    "a1[0]"
   ]
  },
  {
   "cell_type": "code",
   "execution_count": 54,
   "id": "d51176a6",
   "metadata": {},
   "outputs": [
    {
     "data": {
      "text/plain": [
       "array(['6', 'sharan', '34.45', 'True'], dtype='<U32')"
      ]
     },
     "execution_count": 54,
     "metadata": {},
     "output_type": "execute_result"
    }
   ],
   "source": [
    "a1[2:6]   # able to do a  slicing operation"
   ]
  },
  {
   "cell_type": "code",
   "execution_count": 55,
   "id": "976d9a54",
   "metadata": {},
   "outputs": [
    {
     "data": {
      "text/plain": [
       "array(['6', '34.45'], dtype='<U32')"
      ]
     },
     "execution_count": 55,
     "metadata": {},
     "output_type": "execute_result"
    }
   ],
   "source": [
    "a1[2:6:2]"
   ]
  },
  {
   "cell_type": "code",
   "execution_count": 56,
   "id": "2fa0521a",
   "metadata": {},
   "outputs": [
    {
     "data": {
      "text/plain": [
       "array(['True', '34.45', 'sharan', '6', '5', '4'], dtype='<U32')"
      ]
     },
     "execution_count": 56,
     "metadata": {},
     "output_type": "execute_result"
    }
   ],
   "source": [
    "a1[::-1]"
   ]
  },
  {
   "cell_type": "code",
   "execution_count": 57,
   "id": "5884149b",
   "metadata": {},
   "outputs": [
    {
     "data": {
      "text/plain": [
       "array([[[1, 2, 3],\n",
       "        [4, 5, 6],\n",
       "        [7, 8, 9]]])"
      ]
     },
     "execution_count": 57,
     "metadata": {},
     "output_type": "execute_result"
    }
   ],
   "source": [
    "a3"
   ]
  },
  {
   "cell_type": "code",
   "execution_count": 58,
   "id": "b33d92d6",
   "metadata": {},
   "outputs": [
    {
     "data": {
      "text/plain": [
       "array([[1, 2, 3],\n",
       "       [4, 5, 6]])"
      ]
     },
     "execution_count": 58,
     "metadata": {},
     "output_type": "execute_result"
    }
   ],
   "source": [
    "a2"
   ]
  },
  {
   "cell_type": "code",
   "execution_count": 59,
   "id": "cc69d587",
   "metadata": {},
   "outputs": [
    {
     "data": {
      "text/plain": [
       "array([1, 2, 3])"
      ]
     },
     "execution_count": 59,
     "metadata": {},
     "output_type": "execute_result"
    }
   ],
   "source": [
    "a2[0]"
   ]
  },
  {
   "cell_type": "code",
   "execution_count": 63,
   "id": "0b5397c6",
   "metadata": {},
   "outputs": [
    {
     "data": {
      "text/plain": [
       "array([[2, 3],\n",
       "       [5, 6]])"
      ]
     },
     "execution_count": 63,
     "metadata": {},
     "output_type": "execute_result"
    }
   ],
   "source": [
    "a2[:,1:]"
   ]
  },
  {
   "cell_type": "code",
   "execution_count": 65,
   "id": "0a8f582e",
   "metadata": {},
   "outputs": [
    {
     "data": {
      "text/plain": [
       "array([[2, 3],\n",
       "       [5, 6]])"
      ]
     },
     "execution_count": 65,
     "metadata": {},
     "output_type": "execute_result"
    }
   ],
   "source": [
    "a2[:,[1,2]]"
   ]
  },
  {
   "cell_type": "markdown",
   "id": "cbf9429f",
   "metadata": {},
   "source": [
    "## "
   ]
  },
  {
   "cell_type": "code",
   "execution_count": 66,
   "id": "36f94115",
   "metadata": {},
   "outputs": [
    {
     "data": {
      "text/plain": [
       "array([[2, 3],\n",
       "       [5, 6]])"
      ]
     },
     "execution_count": 66,
     "metadata": {},
     "output_type": "execute_result"
    }
   ],
   "source": [
    "a2[[0,1], 1:]"
   ]
  },
  {
   "cell_type": "code",
   "execution_count": 68,
   "id": "3ab76f98",
   "metadata": {},
   "outputs": [],
   "source": [
    "a5 = np.random.randint(2,90 , (6,5))"
   ]
  },
  {
   "cell_type": "code",
   "execution_count": 69,
   "id": "e12cbbb6",
   "metadata": {},
   "outputs": [
    {
     "data": {
      "text/plain": [
       "array([[69, 62, 81, 47, 86],\n",
       "       [62, 46, 54, 86, 16],\n",
       "       [32, 41,  6,  3, 34],\n",
       "       [86, 11, 75, 70, 79],\n",
       "       [80,  8, 59, 25, 56],\n",
       "       [79, 25, 79, 69, 83]])"
      ]
     },
     "execution_count": 69,
     "metadata": {},
     "output_type": "execute_result"
    }
   ],
   "source": [
    "a5"
   ]
  },
  {
   "cell_type": "code",
   "execution_count": 70,
   "id": "266c5997",
   "metadata": {},
   "outputs": [
    {
     "data": {
      "text/plain": [
       "array([69, 62, 81, 47, 86, 62, 46, 54, 86, 41, 86, 75, 70, 79, 80, 59, 56,\n",
       "       79, 79, 69, 83])"
      ]
     },
     "execution_count": 70,
     "metadata": {},
     "output_type": "execute_result"
    }
   ],
   "source": [
    "a5[a5>40]"
   ]
  },
  {
   "cell_type": "code",
   "execution_count": 71,
   "id": "51a453d0",
   "metadata": {},
   "outputs": [
    {
     "data": {
      "text/plain": [
       "array([[69, 62, 81, 47, 86],\n",
       "       [62, 46, 54, 86, 16],\n",
       "       [32, 41,  6,  3, 34],\n",
       "       [86, 11, 75, 70, 79],\n",
       "       [80,  8, 59, 25, 56],\n",
       "       [79, 25, 79, 69, 83]])"
      ]
     },
     "execution_count": 71,
     "metadata": {},
     "output_type": "execute_result"
    }
   ],
   "source": [
    "a5"
   ]
  },
  {
   "cell_type": "code",
   "execution_count": 72,
   "id": "20a6c885",
   "metadata": {},
   "outputs": [],
   "source": [
    "# reassignment opearion "
   ]
  },
  {
   "cell_type": "code",
   "execution_count": 73,
   "id": "188b529b",
   "metadata": {},
   "outputs": [
    {
     "data": {
      "text/plain": [
       "62"
      ]
     },
     "execution_count": 73,
     "metadata": {},
     "output_type": "execute_result"
    }
   ],
   "source": [
    "a5[0,1]"
   ]
  },
  {
   "cell_type": "code",
   "execution_count": 74,
   "id": "ffdd22c8",
   "metadata": {},
   "outputs": [],
   "source": [
    "a5[0,1] = 100"
   ]
  },
  {
   "cell_type": "code",
   "execution_count": 75,
   "id": "9d00520e",
   "metadata": {},
   "outputs": [
    {
     "data": {
      "text/plain": [
       "array([[ 69, 100,  81,  47,  86],\n",
       "       [ 62,  46,  54,  86,  16],\n",
       "       [ 32,  41,   6,   3,  34],\n",
       "       [ 86,  11,  75,  70,  79],\n",
       "       [ 80,   8,  59,  25,  56],\n",
       "       [ 79,  25,  79,  69,  83]])"
      ]
     },
     "execution_count": 75,
     "metadata": {},
     "output_type": "execute_result"
    }
   ],
   "source": [
    "a5"
   ]
  },
  {
   "cell_type": "code",
   "execution_count": 9,
   "id": "49739c94",
   "metadata": {},
   "outputs": [],
   "source": [
    "a6 = np.random.randint(0,3,  (3,3))"
   ]
  },
  {
   "cell_type": "code",
   "execution_count": 10,
   "id": "0af4341a",
   "metadata": {},
   "outputs": [],
   "source": [
    "a7 = np.random.randint(0,3,  (3,3))"
   ]
  },
  {
   "cell_type": "code",
   "execution_count": 11,
   "id": "2a2f1dca",
   "metadata": {},
   "outputs": [
    {
     "data": {
      "text/plain": [
       "array([[1, 0, 2],\n",
       "       [0, 2, 1],\n",
       "       [0, 2, 1]])"
      ]
     },
     "execution_count": 11,
     "metadata": {},
     "output_type": "execute_result"
    }
   ],
   "source": [
    "a6"
   ]
  },
  {
   "cell_type": "code",
   "execution_count": 12,
   "id": "019595ef",
   "metadata": {},
   "outputs": [
    {
     "data": {
      "text/plain": [
       "array([[1, 2, 1],\n",
       "       [2, 1, 0],\n",
       "       [1, 1, 0]])"
      ]
     },
     "execution_count": 12,
     "metadata": {},
     "output_type": "execute_result"
    }
   ],
   "source": [
    "a7"
   ]
  },
  {
   "cell_type": "code",
   "execution_count": 13,
   "id": "18fa88ca",
   "metadata": {},
   "outputs": [
    {
     "data": {
      "text/plain": [
       "array([[1, 0, 2],\n",
       "       [0, 2, 0],\n",
       "       [0, 2, 0]])"
      ]
     },
     "execution_count": 13,
     "metadata": {},
     "output_type": "execute_result"
    }
   ],
   "source": [
    "a6*a7    # this do element wise multiplication not metrix multiplication"
   ]
  },
  {
   "cell_type": "code",
   "execution_count": 14,
   "id": "39742776",
   "metadata": {},
   "outputs": [],
   "source": [
    "# to do metrix multiplication, no of col of 1st metrix same as rows of 2nd metrix"
   ]
  },
  {
   "cell_type": "code",
   "execution_count": 15,
   "id": "e618bb7c",
   "metadata": {},
   "outputs": [
    {
     "data": {
      "text/plain": [
       "array([[3, 4, 1],\n",
       "       [5, 3, 0],\n",
       "       [5, 3, 0]])"
      ]
     },
     "execution_count": 15,
     "metadata": {},
     "output_type": "execute_result"
    }
   ],
   "source": [
    "a6@a7    # this will give metrix multiplication"
   ]
  },
  {
   "cell_type": "code",
   "execution_count": 16,
   "id": "a7f66f5a",
   "metadata": {},
   "outputs": [
    {
     "data": {
      "text/plain": [
       "array([[1, 0, 2],\n",
       "       [0, 2, 1],\n",
       "       [0, 2, 1]])"
      ]
     },
     "execution_count": 16,
     "metadata": {},
     "output_type": "execute_result"
    }
   ],
   "source": [
    "a6"
   ]
  },
  {
   "cell_type": "code",
   "execution_count": 17,
   "id": "4d635c9e",
   "metadata": {},
   "outputs": [
    {
     "data": {
      "text/plain": [
       "array([[101, 100, 102],\n",
       "       [100, 102, 101],\n",
       "       [100, 102, 101]])"
      ]
     },
     "execution_count": 17,
     "metadata": {},
     "output_type": "execute_result"
    }
   ],
   "source": [
    "a6+100   # element wise operation"
   ]
  },
  {
   "cell_type": "code",
   "execution_count": 18,
   "id": "3afdc887",
   "metadata": {},
   "outputs": [
    {
     "data": {
      "text/plain": [
       "array([[2, 0, 4],\n",
       "       [0, 4, 2],\n",
       "       [0, 4, 2]])"
      ]
     },
     "execution_count": 18,
     "metadata": {},
     "output_type": "execute_result"
    }
   ],
   "source": [
    "a6*2"
   ]
  },
  {
   "cell_type": "code",
   "execution_count": 19,
   "id": "13f92826",
   "metadata": {},
   "outputs": [
    {
     "name": "stderr",
     "output_type": "stream",
     "text": [
      "C:\\Users\\User\\AppData\\Local\\Temp/ipykernel_9132/1058679823.py:1: RuntimeWarning: divide by zero encountered in true_divide\n",
      "  a6/0\n",
      "C:\\Users\\User\\AppData\\Local\\Temp/ipykernel_9132/1058679823.py:1: RuntimeWarning: invalid value encountered in true_divide\n",
      "  a6/0\n"
     ]
    },
    {
     "data": {
      "text/plain": [
       "array([[inf, nan, inf],\n",
       "       [nan, inf, inf],\n",
       "       [nan, inf, inf]])"
      ]
     },
     "execution_count": 19,
     "metadata": {},
     "output_type": "execute_result"
    }
   ],
   "source": [
    "a6/0"
   ]
  },
  {
   "cell_type": "code",
   "execution_count": 20,
   "id": "5ac7558d",
   "metadata": {},
   "outputs": [
    {
     "data": {
      "text/plain": [
       "array([[1, 0, 2],\n",
       "       [0, 2, 1],\n",
       "       [0, 2, 1]])"
      ]
     },
     "execution_count": 20,
     "metadata": {},
     "output_type": "execute_result"
    }
   ],
   "source": [
    "a6"
   ]
  },
  {
   "cell_type": "code",
   "execution_count": 21,
   "id": "3bc2e8a6",
   "metadata": {},
   "outputs": [
    {
     "data": {
      "text/plain": [
       "array([[1, 0, 8],\n",
       "       [0, 8, 1],\n",
       "       [0, 8, 1]], dtype=int32)"
      ]
     },
     "execution_count": 21,
     "metadata": {},
     "output_type": "execute_result"
    }
   ],
   "source": [
    "a6**3   # it will perform power operation"
   ]
  },
  {
   "cell_type": "code",
   "execution_count": 31,
   "id": "668b829c",
   "metadata": {},
   "outputs": [
    {
     "data": {
      "text/plain": [
       "array([[0., 0., 0., 0.],\n",
       "       [0., 0., 0., 0.],\n",
       "       [0., 0., 0., 0.],\n",
       "       [0., 0., 0., 0.]])"
      ]
     },
     "execution_count": 31,
     "metadata": {},
     "output_type": "execute_result"
    }
   ],
   "source": [
    "a8 = np.zeros((4,4))  # @ all element value will be one\n",
    "a8\n",
    "#np.zeros((4,4))"
   ]
  },
  {
   "cell_type": "code",
   "execution_count": 32,
   "id": "c7c1d356",
   "metadata": {},
   "outputs": [
    {
     "data": {
      "text/plain": [
       "array([[1., 1., 1., 1., 1.],\n",
       "       [1., 1., 1., 1., 1.],\n",
       "       [1., 1., 1., 1., 1.],\n",
       "       [1., 1., 1., 1., 1.]])"
      ]
     },
     "execution_count": 32,
     "metadata": {},
     "output_type": "execute_result"
    }
   ],
   "source": [
    "a9 = np.ones((4,5))   # all element value will be one\n",
    "a9"
   ]
  },
  {
   "cell_type": "code",
   "execution_count": 26,
   "id": "1a0b8098",
   "metadata": {},
   "outputs": [
    {
     "data": {
      "text/plain": [
       "array([[11., 11., 11., 11., 11.],\n",
       "       [11., 11., 11., 11., 11.],\n",
       "       [11., 11., 11., 11., 11.],\n",
       "       [11., 11., 11., 11., 11.]])"
      ]
     },
     "execution_count": 26,
     "metadata": {},
     "output_type": "execute_result"
    }
   ],
   "source": [
    "a9+10"
   ]
  },
  {
   "cell_type": "code",
   "execution_count": 27,
   "id": "d3753dcd",
   "metadata": {},
   "outputs": [
    {
     "data": {
      "text/plain": [
       "array([[2., 3., 4., 5., 6.],\n",
       "       [2., 3., 4., 5., 6.],\n",
       "       [2., 3., 4., 5., 6.],\n",
       "       [2., 3., 4., 5., 6.]])"
      ]
     },
     "execution_count": 27,
     "metadata": {},
     "output_type": "execute_result"
    }
   ],
   "source": [
    "a9 + np.array([1,2,3,4,5])   # row wise addition/ broadcating operation"
   ]
  },
  {
   "cell_type": "code",
   "execution_count": 108,
   "id": "d67b82ec",
   "metadata": {},
   "outputs": [
    {
     "ename": "ValueError",
     "evalue": "operands could not be broadcast together with shapes (4,5) (4,) ",
     "output_type": "error",
     "traceback": [
      "\u001b[1;31m---------------------------------------------------------------------------\u001b[0m",
      "\u001b[1;31mValueError\u001b[0m                                Traceback (most recent call last)",
      "\u001b[1;32m~\\AppData\\Local\\Temp/ipykernel_7076/1465661438.py\u001b[0m in \u001b[0;36m<module>\u001b[1;34m\u001b[0m\n\u001b[1;32m----> 1\u001b[1;33m \u001b[0ma9\u001b[0m \u001b[1;33m+\u001b[0m \u001b[0mnp\u001b[0m\u001b[1;33m.\u001b[0m\u001b[0marray\u001b[0m\u001b[1;33m(\u001b[0m\u001b[1;33m[\u001b[0m\u001b[1;36m1\u001b[0m\u001b[1;33m,\u001b[0m\u001b[1;36m2\u001b[0m\u001b[1;33m,\u001b[0m\u001b[1;36m3\u001b[0m\u001b[1;33m,\u001b[0m\u001b[1;36m4\u001b[0m\u001b[1;33m]\u001b[0m\u001b[1;33m)\u001b[0m\u001b[1;33m\u001b[0m\u001b[1;33m\u001b[0m\u001b[0m\n\u001b[0m",
      "\u001b[1;31mValueError\u001b[0m: operands could not be broadcast together with shapes (4,5) (4,) "
     ]
    }
   ],
   "source": [
    "a9 + np.array([1,2,3,4])   # shape should be same ie no of element in row must be same in "
   ]
  },
  {
   "cell_type": "code",
   "execution_count": 109,
   "id": "45d9020f",
   "metadata": {},
   "outputs": [
    {
     "data": {
      "text/plain": [
       "array([[1., 1., 1., 1., 1.],\n",
       "       [1., 1., 1., 1., 1.],\n",
       "       [1., 1., 1., 1., 1.],\n",
       "       [1., 1., 1., 1., 1.]])"
      ]
     },
     "execution_count": 109,
     "metadata": {},
     "output_type": "execute_result"
    }
   ],
   "source": [
    "a9"
   ]
  },
  {
   "cell_type": "code",
   "execution_count": 28,
   "id": "35481c13",
   "metadata": {},
   "outputs": [
    {
     "data": {
      "text/plain": [
       "array([1, 2, 3, 4])"
      ]
     },
     "execution_count": 28,
     "metadata": {},
     "output_type": "execute_result"
    }
   ],
   "source": [
    "np.array([1,2,3,4])"
   ]
  },
  {
   "cell_type": "code",
   "execution_count": 29,
   "id": "ee7456f4",
   "metadata": {},
   "outputs": [
    {
     "data": {
      "text/plain": [
       "array([1, 2, 3, 4])"
      ]
     },
     "execution_count": 29,
     "metadata": {},
     "output_type": "execute_result"
    }
   ],
   "source": [
    "np.array([1,2,3,4]).T"
   ]
  },
  {
   "cell_type": "code",
   "execution_count": 30,
   "id": "200536bf",
   "metadata": {},
   "outputs": [
    {
     "data": {
      "text/plain": [
       "array([[2., 2., 2., 2., 2.],\n",
       "       [3., 3., 3., 3., 3.],\n",
       "       [4., 4., 4., 4., 4.],\n",
       "       [5., 5., 5., 5., 5.]])"
      ]
     },
     "execution_count": 30,
     "metadata": {},
     "output_type": "execute_result"
    }
   ],
   "source": [
    "np.array([[1,2,3,4]]).T + a9 # able to rotate/transpose operation in column wise"
   ]
  },
  {
   "cell_type": "code",
   "execution_count": 112,
   "id": "4f55d86a",
   "metadata": {},
   "outputs": [
    {
     "data": {
      "text/plain": [
       "array([[1],\n",
       "       [2],\n",
       "       [3],\n",
       "       [4]])"
      ]
     },
     "execution_count": 112,
     "metadata": {},
     "output_type": "execute_result"
    }
   ],
   "source": [
    "np.array([[1,2,3,4]]).T"
   ]
  },
  {
   "cell_type": "code",
   "execution_count": 113,
   "id": "a6398e1b",
   "metadata": {},
   "outputs": [
    {
     "data": {
      "text/plain": [
       "array([[2, 1, 1],\n",
       "       [0, 2, 0],\n",
       "       [2, 1, 0]])"
      ]
     },
     "execution_count": 113,
     "metadata": {},
     "output_type": "execute_result"
    }
   ],
   "source": [
    "a6"
   ]
  },
  {
   "cell_type": "code",
   "execution_count": 115,
   "id": "b3bf169f",
   "metadata": {},
   "outputs": [
    {
     "data": {
      "text/plain": [
       "array([[2, 0, 2],\n",
       "       [1, 2, 1],\n",
       "       [1, 0, 0]])"
      ]
     },
     "execution_count": 115,
     "metadata": {},
     "output_type": "execute_result"
    }
   ],
   "source": [
    "a6.T     # it rotated matrix or transposed a matrix"
   ]
  },
  {
   "cell_type": "code",
   "execution_count": 116,
   "id": "bb1228a2",
   "metadata": {},
   "outputs": [
    {
     "data": {
      "text/plain": [
       "array([[ 69, 100,  81,  47,  86],\n",
       "       [ 62,  46,  54,  86,  16],\n",
       "       [ 32,  41,   6,   3,  34],\n",
       "       [ 86,  11,  75,  70,  79],\n",
       "       [ 80,   8,  59,  25,  56],\n",
       "       [ 79,  25,  79,  69,  83]])"
      ]
     },
     "execution_count": 116,
     "metadata": {},
     "output_type": "execute_result"
    }
   ],
   "source": [
    "a5"
   ]
  },
  {
   "cell_type": "code",
   "execution_count": 117,
   "id": "7684de42",
   "metadata": {},
   "outputs": [
    {
     "data": {
      "text/plain": [
       "array([[ 8.30662386, 10.        ,  9.        ,  6.8556546 ,  9.2736185 ],\n",
       "       [ 7.87400787,  6.78232998,  7.34846923,  9.2736185 ,  4.        ],\n",
       "       [ 5.65685425,  6.40312424,  2.44948974,  1.73205081,  5.83095189],\n",
       "       [ 9.2736185 ,  3.31662479,  8.66025404,  8.36660027,  8.88819442],\n",
       "       [ 8.94427191,  2.82842712,  7.68114575,  5.        ,  7.48331477],\n",
       "       [ 8.88819442,  5.        ,  8.88819442,  8.30662386,  9.11043358]])"
      ]
     },
     "execution_count": 117,
     "metadata": {},
     "output_type": "execute_result"
    }
   ],
   "source": [
    "np.sqrt(a5)  # this will give sqr root of a5 matrix"
   ]
  },
  {
   "cell_type": "code",
   "execution_count": 118,
   "id": "22fe7475",
   "metadata": {},
   "outputs": [
    {
     "data": {
      "text/plain": [
       "array([[9.25378173e+29, 2.68811714e+43, 1.50609731e+35, 2.58131289e+20,\n",
       "        2.23524660e+37],\n",
       "       [8.43835667e+26, 9.49611942e+19, 2.83075330e+23, 2.23524660e+37,\n",
       "        8.88611052e+06],\n",
       "       [7.89629602e+13, 6.39843494e+17, 4.03428793e+02, 2.00855369e+01,\n",
       "        5.83461743e+14],\n",
       "       [2.23524660e+37, 5.98741417e+04, 3.73324200e+32, 2.51543867e+30,\n",
       "        2.03828107e+34],\n",
       "       [5.54062238e+34, 2.98095799e+03, 4.20121040e+25, 7.20048993e+10,\n",
       "        2.09165950e+24],\n",
       "       [2.03828107e+34, 7.20048993e+10, 2.03828107e+34, 9.25378173e+29,\n",
       "        1.11286375e+36]])"
      ]
     },
     "execution_count": 118,
     "metadata": {},
     "output_type": "execute_result"
    }
   ],
   "source": [
    "np.exp(a5)         #exponantial"
   ]
  },
  {
   "cell_type": "code",
   "execution_count": 119,
   "id": "c5c86d31",
   "metadata": {},
   "outputs": [
    {
     "data": {
      "text/plain": [
       "array([[1.83884909, 2.        , 1.90848502, 1.67209786, 1.93449845],\n",
       "       [1.79239169, 1.66275783, 1.73239376, 1.93449845, 1.20411998],\n",
       "       [1.50514998, 1.61278386, 0.77815125, 0.47712125, 1.53147892],\n",
       "       [1.93449845, 1.04139269, 1.87506126, 1.84509804, 1.89762709],\n",
       "       [1.90308999, 0.90308999, 1.77085201, 1.39794001, 1.74818803],\n",
       "       [1.89762709, 1.39794001, 1.89762709, 1.83884909, 1.91907809]])"
      ]
     },
     "execution_count": 119,
     "metadata": {},
     "output_type": "execute_result"
    }
   ],
   "source": [
    "np.log10(a5)                #logarithemic"
   ]
  },
  {
   "cell_type": "code",
   "execution_count": 120,
   "id": "c34107fb",
   "metadata": {},
   "outputs": [],
   "source": [
    "# all matamatical operation available inside this numpy library"
   ]
  },
  {
   "cell_type": "code",
   "execution_count": 121,
   "id": "79aaa1b1",
   "metadata": {},
   "outputs": [
    {
     "data": {
      "text/plain": [
       "range(0, 10)"
      ]
     },
     "execution_count": 121,
     "metadata": {},
     "output_type": "execute_result"
    }
   ],
   "source": [
    "range(0,10)"
   ]
  },
  {
   "cell_type": "code",
   "execution_count": 125,
   "id": "ae98b6af",
   "metadata": {},
   "outputs": [
    {
     "data": {
      "text/plain": [
       "[0, 2, 4, 6, 8]"
      ]
     },
     "execution_count": 125,
     "metadata": {},
     "output_type": "execute_result"
    }
   ],
   "source": [
    "list(range(0,10, 2))"
   ]
  },
  {
   "cell_type": "code",
   "execution_count": 124,
   "id": "96e9a442",
   "metadata": {},
   "outputs": [
    {
     "ename": "TypeError",
     "evalue": "'float' object cannot be interpreted as an integer",
     "output_type": "error",
     "traceback": [
      "\u001b[1;31m---------------------------------------------------------------------------\u001b[0m",
      "\u001b[1;31mTypeError\u001b[0m                                 Traceback (most recent call last)",
      "\u001b[1;32m~\\AppData\\Local\\Temp/ipykernel_7076/1498495420.py\u001b[0m in \u001b[0;36m<module>\u001b[1;34m\u001b[0m\n\u001b[1;32m----> 1\u001b[1;33m \u001b[0mlist\u001b[0m\u001b[1;33m(\u001b[0m\u001b[0mrange\u001b[0m\u001b[1;33m(\u001b[0m\u001b[1;36m0\u001b[0m\u001b[1;33m,\u001b[0m\u001b[1;36m10\u001b[0m\u001b[1;33m,\u001b[0m \u001b[1;36m2.5\u001b[0m\u001b[1;33m)\u001b[0m\u001b[1;33m)\u001b[0m\u001b[1;33m\u001b[0m\u001b[1;33m\u001b[0m\u001b[0m\n\u001b[0m",
      "\u001b[1;31mTypeError\u001b[0m: 'float' object cannot be interpreted as an integer"
     ]
    }
   ],
   "source": [
    "list(range(0,10, 2.5))"
   ]
  },
  {
   "cell_type": "code",
   "execution_count": 33,
   "id": "e979519d",
   "metadata": {},
   "outputs": [
    {
     "data": {
      "text/plain": [
       "array([0, 1, 2, 3, 4, 5, 6, 7, 8, 9])"
      ]
     },
     "execution_count": 33,
     "metadata": {},
     "output_type": "execute_result"
    }
   ],
   "source": [
    "np.arange(10)"
   ]
  },
  {
   "cell_type": "code",
   "execution_count": 34,
   "id": "aaec340a",
   "metadata": {},
   "outputs": [
    {
     "data": {
      "text/plain": [
       "array([1, 3, 5, 7, 9])"
      ]
     },
     "execution_count": 34,
     "metadata": {},
     "output_type": "execute_result"
    }
   ],
   "source": [
    "np.arange(1,10, 2)"
   ]
  },
  {
   "cell_type": "code",
   "execution_count": 35,
   "id": "4b6fa5f9",
   "metadata": {},
   "outputs": [
    {
     "data": {
      "text/plain": [
       "array([1. , 3.5, 6. , 8.5])"
      ]
     },
     "execution_count": 35,
     "metadata": {},
     "output_type": "execute_result"
    }
   ],
   "source": [
    "np.arange(1,10, 2.5)  # it except floating point in arange function"
   ]
  },
  {
   "cell_type": "code",
   "execution_count": 36,
   "id": "f0327096",
   "metadata": {},
   "outputs": [
    {
     "data": {
      "text/plain": [
       "array([2.        , 2.02040816, 2.04081633, 2.06122449, 2.08163265,\n",
       "       2.10204082, 2.12244898, 2.14285714, 2.16326531, 2.18367347,\n",
       "       2.20408163, 2.2244898 , 2.24489796, 2.26530612, 2.28571429,\n",
       "       2.30612245, 2.32653061, 2.34693878, 2.36734694, 2.3877551 ,\n",
       "       2.40816327, 2.42857143, 2.44897959, 2.46938776, 2.48979592,\n",
       "       2.51020408, 2.53061224, 2.55102041, 2.57142857, 2.59183673,\n",
       "       2.6122449 , 2.63265306, 2.65306122, 2.67346939, 2.69387755,\n",
       "       2.71428571, 2.73469388, 2.75510204, 2.7755102 , 2.79591837,\n",
       "       2.81632653, 2.83673469, 2.85714286, 2.87755102, 2.89795918,\n",
       "       2.91836735, 2.93877551, 2.95918367, 2.97959184, 3.        ])"
      ]
     },
     "execution_count": 36,
     "metadata": {},
     "output_type": "execute_result"
    }
   ],
   "source": [
    "np.linspace(2,3,num=50)             # it generate a 50 numbers within 2-3 range\n",
    "\n",
    "# this consider linear scale"
   ]
  },
  {
   "cell_type": "code",
   "execution_count": null,
   "id": "f288ee24",
   "metadata": {},
   "outputs": [],
   "source": []
  },
  {
   "cell_type": "code",
   "execution_count": 131,
   "id": "0339b2ee",
   "metadata": {},
   "outputs": [
    {
     "data": {
      "text/plain": [
       "array([ 100.        ,  215.443469  ,  464.15888336, 1000.        ])"
      ]
     },
     "execution_count": 131,
     "metadata": {},
     "output_type": "execute_result"
    }
   ],
   "source": [
    "np.logspace(2,3,num=4, base=10)    # it generate a 4 numbers within 2-3 range with base 10,\n",
    "\n",
    "# this consider logarithemic scale"
   ]
  },
  {
   "cell_type": "code",
   "execution_count": 132,
   "id": "0efabe30",
   "metadata": {},
   "outputs": [
    {
     "data": {
      "text/plain": [
       "array([[1., 0., 0., 0., 0.],\n",
       "       [0., 1., 0., 0., 0.],\n",
       "       [0., 0., 1., 0., 0.],\n",
       "       [0., 0., 0., 1., 0.],\n",
       "       [0., 0., 0., 0., 1.]])"
      ]
     },
     "execution_count": 132,
     "metadata": {},
     "output_type": "execute_result"
    }
   ],
   "source": [
    "np.eye(5)       # identity metrix, diagnal is 1 and determanant = 1"
   ]
  },
  {
   "cell_type": "code",
   "execution_count": 137,
   "id": "1b7667e3",
   "metadata": {},
   "outputs": [],
   "source": [
    "# Data Visualisation"
   ]
  },
  {
   "cell_type": "code",
   "execution_count": null,
   "id": "199af88a",
   "metadata": {},
   "outputs": [],
   "source": []
  }
 ],
 "metadata": {
  "kernelspec": {
   "display_name": "Python 3 (ipykernel)",
   "language": "python",
   "name": "python3"
  },
  "language_info": {
   "codemirror_mode": {
    "name": "ipython",
    "version": 3
   },
   "file_extension": ".py",
   "mimetype": "text/x-python",
   "name": "python",
   "nbconvert_exporter": "python",
   "pygments_lexer": "ipython3",
   "version": "3.9.7"
  }
 },
 "nbformat": 4,
 "nbformat_minor": 5
}
