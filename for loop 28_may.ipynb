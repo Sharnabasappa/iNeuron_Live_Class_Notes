{
 "cells": [
  {
   "cell_type": "code",
   "execution_count": 4,
   "id": "2624ac06",
   "metadata": {},
   "outputs": [],
   "source": [
    "# list  \n",
    "l = [1,2,3,4, 'sudh','kumar',45.56]"
   ]
  },
  {
   "cell_type": "code",
   "execution_count": 5,
   "id": "c5b13ca2",
   "metadata": {
    "scrolled": true
   },
   "outputs": [
    {
     "name": "stdout",
     "output_type": "stream",
     "text": [
      "1\n",
      "2\n",
      "3\n",
      "4\n",
      "sudh\n",
      "kumar\n",
      "45.56\n"
     ]
    }
   ],
   "source": [
    "for i in l:\n",
    "    print(i)"
   ]
  },
  {
   "cell_type": "code",
   "execution_count": 7,
   "id": "c929f36c",
   "metadata": {},
   "outputs": [
    {
     "ename": "IndentationError",
     "evalue": "expected an indented block (Temp/ipykernel_6160/1525633252.py, line 2)",
     "output_type": "error",
     "traceback": [
      "\u001b[1;36m  File \u001b[1;32m\"C:\\Users\\User\\AppData\\Local\\Temp/ipykernel_6160/1525633252.py\"\u001b[1;36m, line \u001b[1;32m2\u001b[0m\n\u001b[1;33m    \u001b[0m\n\u001b[1;37m    ^\u001b[0m\n\u001b[1;31mIndentationError\u001b[0m\u001b[1;31m:\u001b[0m expected an indented block\n"
     ]
    }
   ],
   "source": [
    "for i in l:\n",
    "    "
   ]
  },
  {
   "cell_type": "code",
   "execution_count": 10,
   "id": "fde56ca4",
   "metadata": {},
   "outputs": [],
   "source": [
    "for i in l :\n",
    "    pass"
   ]
  },
  {
   "cell_type": "code",
   "execution_count": 15,
   "id": "617382f9",
   "metadata": {},
   "outputs": [
    {
     "name": "stdout",
     "output_type": "stream",
     "text": [
      "s\n",
      "h\n",
      "a\n",
      "r\n",
      "a\n",
      "n\n"
     ]
    }
   ],
   "source": [
    "s = 'sharan'\n",
    "\n",
    "for i in s :\n",
    "    print(i)"
   ]
  },
  {
   "cell_type": "code",
   "execution_count": 17,
   "id": "1df9e85d",
   "metadata": {},
   "outputs": [
    {
     "name": "stdout",
     "output_type": "stream",
     "text": [
      "s\n",
      "h\n",
      "a\n",
      "r\n",
      "n\n",
      "a\n",
      "b\n",
      "a\n",
      "s\n",
      "a\n",
      "p\n",
      "p\n",
      "a\n"
     ]
    }
   ],
   "source": [
    "name = 'sharnabasappa'\n",
    "for n in name :\n",
    "    print(n)"
   ]
  },
  {
   "cell_type": "code",
   "execution_count": 18,
   "id": "d6547f93",
   "metadata": {},
   "outputs": [
    {
     "name": "stdout",
     "output_type": "stream",
     "text": [
      "s\n",
      "h\n",
      "a\n",
      "r\n",
      "n\n",
      "a\n",
      "b\n",
      "a\n",
      "s\n",
      "a\n",
      "p\n",
      "p\n",
      "a\n"
     ]
    }
   ],
   "source": [
    "for s in name:\n",
    "    print(s)"
   ]
  },
  {
   "cell_type": "code",
   "execution_count": 8,
   "id": "9a2a6cdc",
   "metadata": {},
   "outputs": [
    {
     "name": "stdout",
     "output_type": "stream",
     "text": [
      "1\n",
      "2\n",
      "3\n",
      "4\n",
      "sudh\n",
      "kumar\n",
      "45.56\n",
      "if for loop is going to complet itselft  then it will excute else\n"
     ]
    }
   ],
   "source": [
    "for i in l :\n",
    "    print(i)\n",
    "else :\n",
    "    print('if for loop is going to complet itselft  then it will excute else')"
   ]
  },
  {
   "cell_type": "code",
   "execution_count": 23,
   "id": "2c7799f7",
   "metadata": {},
   "outputs": [
    {
     "name": "stdout",
     "output_type": "stream",
     "text": [
      "1\n",
      "2\n",
      "3\n"
     ]
    }
   ],
   "source": [
    "for i in l:\n",
    "    if i ==4:\n",
    "        break\n",
    "    print(i)\n",
    "else:\n",
    "    print('if for loop is going to complet itselft  hen it will excute else')\n",
    "    "
   ]
  },
  {
   "cell_type": "code",
   "execution_count": 10,
   "id": "f4959d00",
   "metadata": {},
   "outputs": [
    {
     "name": "stdout",
     "output_type": "stream",
     "text": [
      "r\n",
      "a\n",
      "m\n",
      "e\n"
     ]
    }
   ],
   "source": [
    "s = 'ramesh'\n",
    "for i in s:\n",
    "    if i == 's':\n",
    "        break\n",
    "    print(i)\n",
    "else:\n",
    "    print('print string', s)"
   ]
  },
  {
   "cell_type": "code",
   "execution_count": 11,
   "id": "d819d392",
   "metadata": {},
   "outputs": [
    {
     "name": "stdout",
     "output_type": "stream",
     "text": [
      "s\n",
      "h\n",
      "a\n",
      "r\n",
      "n\n",
      "a\n",
      "b\n",
      "a\n",
      "s\n",
      "a\n",
      "p\n",
      "p\n",
      "a\n",
      "print string:- sharnabasappa\n"
     ]
    }
   ],
   "source": [
    "name = 'sharnabasappa'\n",
    "for i in name :\n",
    "    if i == 'z' :\n",
    "        break\n",
    "    print(i)\n",
    "else:\n",
    "    print('print string:-', name)"
   ]
  },
  {
   "cell_type": "code",
   "execution_count": 12,
   "id": "4583eb75",
   "metadata": {},
   "outputs": [
    {
     "name": "stdout",
     "output_type": "stream",
     "text": [
      "4\n",
      "5\n",
      "6\n",
      "7\n",
      "8\n",
      "6\n",
      "sudh\n"
     ]
    }
   ],
   "source": [
    "t = (4,5,6,7,8,6,'sudh')\n",
    "for i in t :\n",
    "    print(i)"
   ]
  },
  {
   "cell_type": "code",
   "execution_count": 11,
   "id": "8982f9bd",
   "metadata": {},
   "outputs": [
    {
     "name": "stdout",
     "output_type": "stream",
     "text": [
      "sudh\n",
      "4\n",
      "5\n",
      "6\n",
      "7\n",
      "9\n",
      "78\n"
     ]
    },
    {
     "data": {
      "text/plain": [
       "{4, 5, 6, 7, 78, 9, 'sudh'}"
      ]
     },
     "execution_count": 11,
     "metadata": {},
     "output_type": "execute_result"
    }
   ],
   "source": [
    "b = {4,5,6,7,7,7,7,78,9,9,9,9,9,'sudh'}\n",
    "for i in b :\n",
    "    print(i)"
   ]
  },
  {
   "cell_type": "code",
   "execution_count": 3,
   "id": "046bc19a",
   "metadata": {},
   "outputs": [
    {
     "name": "stdout",
     "output_type": "stream",
     "text": [
      "keys\n",
      "cont\n",
      "job\n"
     ]
    }
   ],
   "source": [
    "d = {'keys':'sharan', 'cont':'9538289725','job':'engineer'}\n",
    "for i in d :\n",
    "    print(i)"
   ]
  },
  {
   "cell_type": "code",
   "execution_count": 8,
   "id": "42d3d254",
   "metadata": {},
   "outputs": [
    {
     "data": {
      "text/plain": [
       "'sharan'"
      ]
     },
     "execution_count": 8,
     "metadata": {},
     "output_type": "execute_result"
    }
   ],
   "source": [
    "d[\"keys\"]"
   ]
  },
  {
   "cell_type": "code",
   "execution_count": 22,
   "id": "118c9cc8",
   "metadata": {},
   "outputs": [
    {
     "name": "stdout",
     "output_type": "stream",
     "text": [
      "keys : sharan\n",
      "cont : 9538289725\n",
      "job : engineer\n"
     ]
    }
   ],
   "source": [
    "d = {'keys':'sharan', 'cont':'9538289725','job':'engineer'}\n",
    "for i in d :\n",
    "    print(i, ':' , d[i] )"
   ]
  },
  {
   "cell_type": "code",
   "execution_count": 23,
   "id": "90145917",
   "metadata": {},
   "outputs": [
    {
     "data": {
      "text/plain": [
       "range(0, 9)"
      ]
     },
     "execution_count": 23,
     "metadata": {},
     "output_type": "execute_result"
    }
   ],
   "source": [
    "# range function, excluding 9 it will generate data\n",
    "range(9)"
   ]
  },
  {
   "cell_type": "code",
   "execution_count": 28,
   "id": "671cc88d",
   "metadata": {},
   "outputs": [
    {
     "data": {
      "text/plain": [
       "[0, 1, 2, 3, 4, 5, 6, 7, 8]"
      ]
     },
     "execution_count": 28,
     "metadata": {},
     "output_type": "execute_result"
    }
   ],
   "source": [
    "list(range(9))"
   ]
  },
  {
   "cell_type": "code",
   "execution_count": 26,
   "id": "4d26e344",
   "metadata": {},
   "outputs": [
    {
     "name": "stdout",
     "output_type": "stream",
     "text": [
      "0\n",
      "1\n",
      "2\n",
      "3\n",
      "4\n",
      "5\n",
      "6\n",
      "7\n",
      "8\n"
     ]
    }
   ],
   "source": [
    "for i in range(9):\n",
    "    print(i)"
   ]
  },
  {
   "cell_type": "code",
   "execution_count": 29,
   "id": "1475ec95",
   "metadata": {},
   "outputs": [
    {
     "data": {
      "text/plain": [
       "[0, 2, 4, 6, 8]"
      ]
     },
     "execution_count": 29,
     "metadata": {},
     "output_type": "execute_result"
    }
   ],
   "source": [
    "list(range(0,9,2))"
   ]
  },
  {
   "cell_type": "code",
   "execution_count": 35,
   "id": "47142247",
   "metadata": {},
   "outputs": [
    {
     "data": {
      "text/plain": [
       "[9, 8, 7, 6, 5, 4, 3, 2, 1]"
      ]
     },
     "execution_count": 35,
     "metadata": {},
     "output_type": "execute_result"
    }
   ],
   "source": [
    "list(range(9,0,-1))"
   ]
  },
  {
   "cell_type": "code",
   "execution_count": 135,
   "id": "0f777eea",
   "metadata": {},
   "outputs": [
    {
     "name": "stdout",
     "output_type": "stream",
     "text": [
      "sudh \n",
      "\n",
      "sudh sudh \n",
      "\n",
      "sudh sudh sudh \n",
      "\n",
      "sudh sudh sudh sudh \n",
      "\n",
      "sudh sudh sudh sudh sudh \n",
      "\n",
      "sudh sudh sudh sudh sudh sudh \n",
      "\n"
     ]
    }
   ],
   "source": [
    "\n",
    "for i in range(6):\n",
    "    for j in range(0 , i+1) :\n",
    "        print('sudh', end = \" \")\n",
    "    print(\"\\n\")#  change line"
   ]
  },
  {
   "cell_type": "code",
   "execution_count": 134,
   "id": "f98df17d",
   "metadata": {},
   "outputs": [
    {
     "name": "stdout",
     "output_type": "stream",
     "text": [
      "    \n",
      "\n",
      "        \n",
      "\n",
      "            \n",
      "\n",
      "                \n",
      "\n",
      "                    \n",
      "\n"
     ]
    }
   ],
   "source": [
    "n= 5\n",
    "for i in range(5):\n",
    "    for j in range(0, i+1):\n",
    "        print('  ', end= '  ')\n",
    "    print('\\n')    \n",
    "    "
   ]
  },
  {
   "cell_type": "code",
   "execution_count": 94,
   "id": "6ec2fa35",
   "metadata": {},
   "outputs": [
    {
     "name": "stdout",
     "output_type": "stream",
     "text": [
      "          sudh \n",
      "     sudh sudh sudh \n",
      "sudh sudh sudh sudh sudh \n"
     ]
    }
   ],
   "source": [
    "n=3  # rows\n",
    "for i in range(n):\n",
    "    for j in range(i,n-1):\n",
    "        print(\" \" * len('sudh'), end=\" \")\n",
    "    for j in range(i+1):\n",
    "        print('sudh', end=\" \")\n",
    "    for j in range(i):\n",
    "        print('sudh',end=\" \")\n",
    "    print() # change the line\n",
    "    \n",
    "    "
   ]
  },
  {
   "cell_type": "code",
   "execution_count": 97,
   "id": "89fb5170",
   "metadata": {},
   "outputs": [
    {
     "name": "stdout",
     "output_type": "stream",
     "text": [
      "       sudh \n",
      "     sudh sudh \n",
      "   sudh sudh sudh \n",
      " sudh sudh sudh sudh \n"
     ]
    }
   ],
   "source": [
    "n=4\n",
    "k=n\n",
    "for i in range(n): #range(0,1,2,3)\n",
    "    k=k-1\n",
    "    print('  '*k, end=\" \")\n",
    "    for j in range(i+1):\n",
    "        print('sudh ', end= '')\n",
    "    print()\n",
    "    "
   ]
  },
  {
   "cell_type": "code",
   "execution_count": 98,
   "id": "5b5ee4ed",
   "metadata": {},
   "outputs": [
    {
     "name": "stdout",
     "output_type": "stream",
     "text": [
      "   \n",
      "  sudh \n",
      " sudh sudh \n",
      "sudh sudh sudh \n"
     ]
    }
   ],
   "source": [
    "n = 3\n",
    "for i in range(n+1):\n",
    "    print(' '*(n-i) + 'sudh '*i)"
   ]
  },
  {
   "cell_type": "code",
   "execution_count": 58,
   "id": "93cb1df2",
   "metadata": {},
   "outputs": [
    {
     "name": "stdout",
     "output_type": "stream",
     "text": [
      "0 3\n",
      "1 23\n",
      "2 45\n",
      "3 67\n",
      "4 2\n",
      "5 4\n",
      "6 5\n",
      "7 6\n"
     ]
    }
   ],
   "source": [
    "t = (3,23,45,67,2,4,5,6)\n",
    "for i in range(8):\n",
    "    print(i,t[i])"
   ]
  },
  {
   "cell_type": "code",
   "execution_count": 67,
   "id": "f0798c34",
   "metadata": {},
   "outputs": [
    {
     "name": "stdout",
     "output_type": "stream",
     "text": [
      "0 i\n",
      "1 N\n",
      "2 e\n",
      "3 u\n",
      "4 r\n",
      "5 o\n",
      "6 n\n"
     ]
    }
   ],
   "source": [
    "s = 'iNeuron'\n",
    "for i in range(len(s)):\n",
    "    print(i , s[i])"
   ]
  },
  {
   "cell_type": "code",
   "execution_count": 84,
   "id": "bcd66d31",
   "metadata": {},
   "outputs": [],
   "source": [
    "a = 'ineuron'"
   ]
  },
  {
   "cell_type": "code",
   "execution_count": 94,
   "id": "7a2d6ce7",
   "metadata": {},
   "outputs": [
    {
     "name": "stdout",
     "output_type": "stream",
     "text": [
      "6 n\n",
      "5 o\n",
      "4 r\n",
      "3 u\n",
      "2 e\n",
      "1 N\n",
      "0 i\n"
     ]
    }
   ],
   "source": [
    "for i in range(len(a)-1, -1, -1):\n",
    "    print(i, s[i])"
   ]
  },
  {
   "cell_type": "code",
   "execution_count": 103,
   "id": "a5850f86",
   "metadata": {},
   "outputs": [
    {
     "data": {
      "text/plain": [
       "{'keys': 'sharan', 'cont': '9538289725', 'job': 'engineer'}"
      ]
     },
     "execution_count": 103,
     "metadata": {},
     "output_type": "execute_result"
    }
   ],
   "source": [
    "d"
   ]
  },
  {
   "cell_type": "code",
   "execution_count": 106,
   "id": "44639b2a",
   "metadata": {},
   "outputs": [
    {
     "name": "stdout",
     "output_type": "stream",
     "text": [
      "('keys', 'sharan') <class 'tuple'> <class 'str'>\n",
      "('cont', '9538289725') <class 'tuple'> <class 'str'>\n",
      "('job', 'engineer') <class 'tuple'> <class 'str'>\n"
     ]
    }
   ],
   "source": [
    "for i in d.items():\n",
    "    print(i, type(i), type(i[1]))"
   ]
  },
  {
   "cell_type": "code",
   "execution_count": 4,
   "id": "9f4326ef",
   "metadata": {},
   "outputs": [
    {
     "data": {
      "text/plain": [
       "dict_items([('keys', 'sharan'), ('cont', '9538289725'), ('job', 'engineer')])"
      ]
     },
     "execution_count": 4,
     "metadata": {},
     "output_type": "execute_result"
    }
   ],
   "source": [
    "d.items()"
   ]
  },
  {
   "cell_type": "code",
   "execution_count": 8,
   "id": "4e856138",
   "metadata": {},
   "outputs": [],
   "source": [
    "l = ['sudh', 'kumar', 12566, 'sharan99888',16566,45855]\n",
    "l1 = []\n",
    "for i in l :\n",
    "    if type(i) == int :\n",
    "        l1.append(i)"
   ]
  },
  {
   "cell_type": "code",
   "execution_count": 9,
   "id": "7b928316",
   "metadata": {},
   "outputs": [
    {
     "data": {
      "text/plain": [
       "[12566, 16566, 45855]"
      ]
     },
     "execution_count": 9,
     "metadata": {},
     "output_type": "execute_result"
    }
   ],
   "source": [
    "l1"
   ]
  },
  {
   "cell_type": "code",
   "execution_count": 10,
   "id": "a058fe15",
   "metadata": {},
   "outputs": [
    {
     "name": "stdout",
     "output_type": "stream",
     "text": [
      "None\n",
      "None\n",
      "None\n"
     ]
    }
   ],
   "source": [
    "l = ['sudh', 'kumar', 12566, 'sharan99888',16566,45855]\n",
    "l2= []\n",
    "for i in l :\n",
    "    if type(i) != int :\n",
    "        print(l2.append(i))"
   ]
  },
  {
   "cell_type": "code",
   "execution_count": 11,
   "id": "1d35d4fe",
   "metadata": {},
   "outputs": [
    {
     "data": {
      "text/plain": [
       "['sudh', 'kumar', 'sharan99888']"
      ]
     },
     "execution_count": 11,
     "metadata": {},
     "output_type": "execute_result"
    }
   ],
   "source": [
    "l2"
   ]
  },
  {
   "cell_type": "code",
   "execution_count": 15,
   "id": "a139b145",
   "metadata": {},
   "outputs": [],
   "source": [
    "d = {1:34456, 'name': 'sudh', 'email_idd': 'sudh@ineuron.ai', 123 :'drfras'}"
   ]
  },
  {
   "cell_type": "code",
   "execution_count": 20,
   "id": "b83c8589",
   "metadata": {},
   "outputs": [
    {
     "name": "stdout",
     "output_type": "stream",
     "text": [
      "1 : 34456\n",
      "123 : drfras\n"
     ]
    }
   ],
   "source": [
    "for i in d :\n",
    "    if type(i)== int:\n",
    "        print(i,  ':', d[i])\n",
    "    #print(i)  it will print key"
   ]
  },
  {
   "cell_type": "code",
   "execution_count": 2,
   "id": "84a561bf",
   "metadata": {},
   "outputs": [
    {
     "data": {
      "text/plain": [
       "'aaaabbccd'"
      ]
     },
     "execution_count": 2,
     "metadata": {},
     "output_type": "execute_result"
    }
   ],
   "source": [
    "s = 'aaaabbccd'\n",
    "s"
   ]
  },
  {
   "cell_type": "code",
   "execution_count": 10,
   "id": "f5f05927",
   "metadata": {},
   "outputs": [
    {
     "name": "stdout",
     "output_type": "stream",
     "text": [
      "a : 4\n",
      "c : 2\n",
      "b : 2\n",
      "d : 1\n"
     ]
    }
   ],
   "source": [
    "for i in set(s):\n",
    "    print(i , ':', s.count(i))\n",
    "    int(j)"
   ]
  },
  {
   "cell_type": "code",
   "execution_count": 38,
   "id": "735ad760",
   "metadata": {},
   "outputs": [
    {
     "name": "stdout",
     "output_type": "stream",
     "text": [
      "2 <class 'int'>\n",
      "4 <class 'int'>\n",
      "5 <class 'int'>\n",
      "5 <class 'int'>\n",
      "5 <class 'int'>\n",
      "4 <class 'int'>\n",
      "5 <class 'int'>\n",
      "4 <class 'int'>\n",
      "5 <class 'int'>\n",
      "4 <class 'int'>\n",
      "5 <class 'int'>\n",
      "4 <class 'int'>\n",
      "5 <class 'int'>\n",
      "4 <class 'int'>\n"
     ]
    }
   ],
   "source": [
    "i = 24555454545454\n",
    "for j in str(i):\n",
    "    print(j, type(int(j)))"
   ]
  },
  {
   "cell_type": "code",
   "execution_count": 40,
   "id": "c8a42761",
   "metadata": {},
   "outputs": [
    {
     "data": {
      "text/plain": [
       "'24555454545454'"
      ]
     },
     "execution_count": 40,
     "metadata": {},
     "output_type": "execute_result"
    }
   ],
   "source": [
    "str(i)"
   ]
  },
  {
   "cell_type": "code",
   "execution_count": 41,
   "id": "186e4fce",
   "metadata": {},
   "outputs": [],
   "source": [
    "t = ('sudh', 'kumar', [1,2,3,4,5], (3,4,5,6), {'key1':'sudh','key2':\"kumara\"})"
   ]
  },
  {
   "cell_type": "code",
   "execution_count": 51,
   "id": "859cdf08",
   "metadata": {},
   "outputs": [
    {
     "name": "stdout",
     "output_type": "stream",
     "text": [
      "3\n",
      "3\n"
     ]
    }
   ],
   "source": [
    "for i in t:\n",
    "    if type(i)== list or type(i)== tuple :\n",
    "        for j in i :\n",
    "            if j==3:\n",
    "                print(j)"
   ]
  },
  {
   "cell_type": "code",
   "execution_count": 71,
   "id": "c25b3155",
   "metadata": {},
   "outputs": [
    {
     "name": "stdout",
     "output_type": "stream",
     "text": [
      "3\n",
      "3\n",
      "3\n",
      "3\n"
     ]
    }
   ],
   "source": [
    "t = ('sudh', 'kumar', [1,2,3,4,5], (3,4,5,6), {3:3,  'key2':\"kumara\"}) # extract all three\n",
    "for i in t :\n",
    "    if type(i)== list or type(i)== tuple :\n",
    "        for j in i:\n",
    "            if  j == 3:\n",
    "                print(j)\n",
    "if type(i)== dict:\n",
    "    for k,v in i.items():\n",
    "        if k ==3 or v==3:\n",
    "            print(k)\n",
    "            print(v)\n",
    "            \n",
    "        "
   ]
  },
  {
   "cell_type": "code",
   "execution_count": 74,
   "id": "8917d77a",
   "metadata": {},
   "outputs": [],
   "source": [
    "d = {4:5, \"key1\":'sudh','key2':'kumar'}"
   ]
  },
  {
   "cell_type": "code",
   "execution_count": 75,
   "id": "3582aa9a",
   "metadata": {},
   "outputs": [
    {
     "data": {
      "text/plain": [
       "dict_items([(4, 5), ('key1', 'sudh'), ('key2', 'kumar')])"
      ]
     },
     "execution_count": 75,
     "metadata": {},
     "output_type": "execute_result"
    }
   ],
   "source": [
    "d.items()"
   ]
  },
  {
   "cell_type": "code",
   "execution_count": 78,
   "id": "c1aa8561",
   "metadata": {},
   "outputs": [
    {
     "name": "stdout",
     "output_type": "stream",
     "text": [
      "4 5\n",
      "key1 sudh\n",
      "key2 kumar\n"
     ]
    }
   ],
   "source": [
    "for i,j in d.items():\n",
    "    print(i,j)"
   ]
  },
  {
   "cell_type": "code",
   "execution_count": 84,
   "id": "28ae47aa",
   "metadata": {},
   "outputs": [
    {
     "data": {
      "text/plain": [
       "1"
      ]
     },
     "execution_count": 84,
     "metadata": {},
     "output_type": "execute_result"
    }
   ],
   "source": [
    "a,b,c = 1,2,3\n",
    "a"
   ]
  },
  {
   "cell_type": "code",
   "execution_count": 86,
   "id": "3df1de68",
   "metadata": {},
   "outputs": [
    {
     "data": {
      "text/plain": [
       "30"
      ]
     },
     "execution_count": 86,
     "metadata": {},
     "output_type": "execute_result"
    }
   ],
   "source": [
    "a,b,c = (30,20,10)\n",
    "a "
   ]
  },
  {
   "cell_type": "raw",
   "id": "50c85176",
   "metadata": {},
   "source": [
    "#Questions\n",
    "1, print ; ineuron\n",
    "  ineuron\n",
    "  ineuron ineuron\n",
    "  ineuron ineuron ineuron\n",
    "  ineuron ineuron ineuron\n",
    "  \n",
    "2,    ineuron\n",
    "   ineuron    ineuron\n",
    "ineuron   ineuron   ineuron\n",
    "     ineuron    ineuron\n",
    "          ineuron\n",
    "l = \"\"\"[[1,2,3,4],(2,3,4,5,6), (3,4,5,6,7), set([23,4,45,44,5,45,4,5]),{'k1':'sudh', 'k2': 'ineuron',\n",
    "                                                                       'k3':'kumar',3:6, 7:8},['ineuron', \"data scine\"]]\"\"\"\n",
    "3, Try to extract all the list entity\n",
    "4, try to extract all the dict entity\n",
    "5, try extract all the tuple antity\n",
    "6, try to extract all the numarical data it may be a part of dict key and values\n",
    "7, try to give summation of all the numaric data\n",
    "8, try to filter out all the odd values out all numeric data which is a part of a list\n",
    "9, try to extract 'ineuron' out of this data\n",
    "10, try to find out no of occurances of all the data\n",
    "11, try to find out  number of keys in dict element\n",
    "12, try to filter out all the string data\n",
    "13, try to find out alphanum in data\n",
    "14, try to find out multiplication of all the numeric value in individual collection inside dataset\n",
    "15, try to unwrap all the collection inside collection and creat a flat list "
   ]
  },
  {
   "cell_type": "code",
   "execution_count": 100,
   "id": "5da2cb92",
   "metadata": {},
   "outputs": [],
   "source": [
    "l = [[1,2,3,4],(2,3,4,5,6), (3,4,5,6,7), set([23,4,45,44,5,45,4,5]),{'k1':'sudh', 'k2': 'ineuron',\n",
    "                                                                       'k3':'kumar',3:6, 7:8},['ineuron', \"data scine\"]]"
   ]
  },
  {
   "cell_type": "code",
   "execution_count": 140,
   "id": "1cde3532",
   "metadata": {},
   "outputs": [
    {
     "name": "stdout",
     "output_type": "stream",
     "text": [
      " ineuron \n",
      "\n",
      " ineuron  ineuron \n",
      "\n",
      " ineuron  ineuron  ineuron \n",
      "\n",
      " ineuron  ineuron  ineuron  ineuron \n",
      "\n"
     ]
    }
   ],
   "source": [
    "#01\n",
    "n= 4\n",
    "for i in range(n):#(0,1,2,3)\n",
    "    for j in range(0, i+1):\n",
    "        print(' ineuron ', end='')\n",
    "    print('\\n')\n",
    "        "
   ]
  },
  {
   "cell_type": "code",
   "execution_count": 144,
   "id": "42155aec",
   "metadata": {},
   "outputs": [
    {
     "name": "stdout",
     "output_type": "stream",
     "text": [
      "                              ineuron \n",
      "                    ineuron ineuron   ineuron   \n",
      "          ineuron ineuron ineuron   ineuron     ineuron   \n",
      "ineuron ineuron ineuron ineuron   ineuron     ineuron     ineuron   \n"
     ]
    }
   ],
   "source": [
    "#02\n",
    "n=4  # rows\n",
    "for i in range(n):\n",
    "    for j in range(i,n-1):\n",
    "        print(\" \" * len(' ineuron '), end=\" \")\n",
    "    for j in range(i+1):\n",
    "        print('ineuron', end=\" \")\n",
    "    for j in range(i):\n",
    "        print('  ineuron  ',end=\" \")\n",
    "    print() # change the line"
   ]
  },
  {
   "cell_type": "code",
   "execution_count": 145,
   "id": "f2060826",
   "metadata": {},
   "outputs": [
    {
     "name": "stdout",
     "output_type": "stream",
     "text": [
      "1\n",
      "2\n",
      "3\n",
      "4\n",
      "ineuron\n",
      "data scine\n"
     ]
    }
   ],
   "source": [
    "l = [[1,2,3,4],(2,3,4,5,6), (3,4,5,6,7), set([23,4,45,44,5,45,4,5]),{'k1':'sudh', 'k2': 'ineuron',\n",
    "                                                                       'k3':'kumar',3:6, 7:8},['ineuron', \"data scine\"]]\n",
    "\n",
    "#3, Try to extract all the list entity\n",
    "\n",
    "for i in l :\n",
    "    if type(i)== list:\n",
    "        for j in i :\n",
    "            print(j)"
   ]
  },
  {
   "cell_type": "code",
   "execution_count": 114,
   "id": "abe3e5c3",
   "metadata": {},
   "outputs": [
    {
     "name": "stdout",
     "output_type": "stream",
     "text": [
      "{'k1': 'sudh', 'k2': 'ineuron', 'k3': 'kumar', 3: 6, 7: 8}\n"
     ]
    }
   ],
   "source": [
    "for i in l:\n",
    "    if type(i)== dict:\n",
    "        print(i)"
   ]
  },
  {
   "cell_type": "code",
   "execution_count": 127,
   "id": "1acb0b9f",
   "metadata": {},
   "outputs": [
    {
     "name": "stdout",
     "output_type": "stream",
     "text": [
      "k1\n",
      "sudh\n",
      "k2\n",
      "ineuron\n",
      "k3\n",
      "kumar\n",
      "3\n",
      "6\n",
      "7\n",
      "8\n"
     ]
    }
   ],
   "source": [
    "# 4 try to extract all the dict entity\n",
    "for i in l :\n",
    "    if type(i)== dict:\n",
    "        for j in i :\n",
    "            print(j) \n",
    "            print(i[j])"
   ]
  },
  {
   "cell_type": "code",
   "execution_count": 131,
   "id": "0bde19f6",
   "metadata": {},
   "outputs": [
    {
     "name": "stdout",
     "output_type": "stream",
     "text": [
      "2\n",
      "3\n",
      "4\n",
      "5\n",
      "6\n",
      "3\n",
      "4\n",
      "5\n",
      "6\n",
      "7\n"
     ]
    }
   ],
   "source": [
    "#5, try extract all the tuple antity\n",
    "for i in l:\n",
    "    if type(i)== tuple:\n",
    "        for j in i :\n",
    "            print(j)"
   ]
  },
  {
   "cell_type": "code",
   "execution_count": 146,
   "id": "7da2f374",
   "metadata": {},
   "outputs": [],
   "source": [
    "#6, try to extract all the numarical data it may be a part of dict key and values\n",
    "\n"
   ]
  },
  {
   "cell_type": "code",
   "execution_count": null,
   "id": "eea10a4d",
   "metadata": {},
   "outputs": [],
   "source": []
  }
 ],
 "metadata": {
  "kernelspec": {
   "display_name": "Python 3 (ipykernel)",
   "language": "python",
   "name": "python3"
  },
  "language_info": {
   "codemirror_mode": {
    "name": "ipython",
    "version": 3
   },
   "file_extension": ".py",
   "mimetype": "text/x-python",
   "name": "python",
   "nbconvert_exporter": "python",
   "pygments_lexer": "ipython3",
   "version": "3.9.7"
  }
 },
 "nbformat": 4,
 "nbformat_minor": 5
}
