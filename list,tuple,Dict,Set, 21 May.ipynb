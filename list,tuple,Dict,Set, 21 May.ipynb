{
 "cells": [
  {
   "cell_type": "code",
   "execution_count": 3,
   "id": "32e6e064",
   "metadata": {},
   "outputs": [],
   "source": [
    "l = [1,2,3,4,5, 'sudh', 45.67, True]"
   ]
  },
  {
   "cell_type": "code",
   "execution_count": 4,
   "id": "a3c5992d",
   "metadata": {},
   "outputs": [
    {
     "data": {
      "text/plain": [
       "[1, 2, 3, 4, 5, 'sudh', 45.67, True]"
      ]
     },
     "execution_count": 4,
     "metadata": {},
     "output_type": "execute_result"
    }
   ],
   "source": [
    "l"
   ]
  },
  {
   "cell_type": "code",
   "execution_count": 5,
   "id": "5bec122e",
   "metadata": {},
   "outputs": [
    {
     "data": {
      "text/plain": [
       "1"
      ]
     },
     "execution_count": 5,
     "metadata": {},
     "output_type": "execute_result"
    }
   ],
   "source": [
    "l[0]"
   ]
  },
  {
   "cell_type": "code",
   "execution_count": 6,
   "id": "ce0249de",
   "metadata": {},
   "outputs": [
    {
     "data": {
      "text/plain": [
       "True"
      ]
     },
     "execution_count": 6,
     "metadata": {},
     "output_type": "execute_result"
    }
   ],
   "source": [
    "l[-1]"
   ]
  },
  {
   "cell_type": "code",
   "execution_count": 7,
   "id": "3e353c15",
   "metadata": {},
   "outputs": [
    {
     "data": {
      "text/plain": [
       "8"
      ]
     },
     "execution_count": 7,
     "metadata": {},
     "output_type": "execute_result"
    }
   ],
   "source": [
    "len(l)"
   ]
  },
  {
   "cell_type": "code",
   "execution_count": 8,
   "id": "2c9e81f4",
   "metadata": {},
   "outputs": [
    {
     "data": {
      "text/plain": [
       "[1, 2, 3, 4, 5]"
      ]
     },
     "execution_count": 8,
     "metadata": {},
     "output_type": "execute_result"
    }
   ],
   "source": [
    "l[0:5]"
   ]
  },
  {
   "cell_type": "code",
   "execution_count": 9,
   "id": "553e5678",
   "metadata": {},
   "outputs": [
    {
     "data": {
      "text/plain": [
       "[True, 45.67, 'sudh', 5, 4, 3, 2, 1]"
      ]
     },
     "execution_count": 9,
     "metadata": {},
     "output_type": "execute_result"
    }
   ],
   "source": [
    "l[::-1]"
   ]
  },
  {
   "cell_type": "code",
   "execution_count": 12,
   "id": "c8ff5a1e",
   "metadata": {},
   "outputs": [
    {
     "data": {
      "text/plain": [
       "[1, 3, 5, 45.67]"
      ]
     },
     "execution_count": 12,
     "metadata": {},
     "output_type": "execute_result"
    }
   ],
   "source": [
    "l[0:100:2]"
   ]
  },
  {
   "cell_type": "code",
   "execution_count": 13,
   "id": "e75fe663",
   "metadata": {},
   "outputs": [
    {
     "data": {
      "text/plain": [
       "[]"
      ]
     },
     "execution_count": 13,
     "metadata": {},
     "output_type": "execute_result"
    }
   ],
   "source": [
    "l[0:8:-1]"
   ]
  },
  {
   "cell_type": "code",
   "execution_count": 14,
   "id": "cefeea5f",
   "metadata": {},
   "outputs": [
    {
     "data": {
      "text/plain": [
       "[1, 2, 3]"
      ]
     },
     "execution_count": 14,
     "metadata": {},
     "output_type": "execute_result"
    }
   ],
   "source": [
    "l[:3]"
   ]
  },
  {
   "cell_type": "code",
   "execution_count": 16,
   "id": "d7bfd5d2",
   "metadata": {},
   "outputs": [
    {
     "data": {
      "text/plain": [
       "[1, 2, 3, 4, 5, 'sudh', 45.67, True, 'sudh']"
      ]
     },
     "execution_count": 16,
     "metadata": {},
     "output_type": "execute_result"
    }
   ],
   "source": [
    "l + ['sudh']"
   ]
  },
  {
   "cell_type": "code",
   "execution_count": 17,
   "id": "320ad7fa",
   "metadata": {},
   "outputs": [
    {
     "data": {
      "text/plain": [
       "[1, 2, 3, 4, 5, 'sudh', 45.67, True, 1, 2, 3, 4, 5, 'sudh', 45.67, True]"
      ]
     },
     "execution_count": 17,
     "metadata": {},
     "output_type": "execute_result"
    }
   ],
   "source": [
    "l *2"
   ]
  },
  {
   "cell_type": "code",
   "execution_count": 21,
   "id": "f7d3bacb",
   "metadata": {},
   "outputs": [
    {
     "data": {
      "text/plain": [
       "[1, 2, 3, 4, 5, 'sudh', 45.67, True]"
      ]
     },
     "execution_count": 21,
     "metadata": {},
     "output_type": "execute_result"
    }
   ],
   "source": [
    "# serch 60 in l\n",
    "l"
   ]
  },
  {
   "cell_type": "code",
   "execution_count": 19,
   "id": "aed600f2",
   "metadata": {},
   "outputs": [
    {
     "data": {
      "text/plain": [
       "False"
      ]
     },
     "execution_count": 19,
     "metadata": {},
     "output_type": "execute_result"
    }
   ],
   "source": [
    "60 in l"
   ]
  },
  {
   "cell_type": "code",
   "execution_count": 20,
   "id": "a70b1de0",
   "metadata": {},
   "outputs": [
    {
     "data": {
      "text/plain": [
       "True"
      ]
     },
     "execution_count": 20,
     "metadata": {},
     "output_type": "execute_result"
    }
   ],
   "source": [
    "2 in l"
   ]
  },
  {
   "cell_type": "code",
   "execution_count": 22,
   "id": "898b344c",
   "metadata": {},
   "outputs": [],
   "source": [
    "l1 = [1,2,3,4]"
   ]
  },
  {
   "cell_type": "code",
   "execution_count": 23,
   "id": "145a8c3a",
   "metadata": {},
   "outputs": [
    {
     "data": {
      "text/plain": [
       "4"
      ]
     },
     "execution_count": 23,
     "metadata": {},
     "output_type": "execute_result"
    }
   ],
   "source": [
    "max(l1)\n",
    "# data type must br same in l1"
   ]
  },
  {
   "cell_type": "code",
   "execution_count": 24,
   "id": "c1f18988",
   "metadata": {},
   "outputs": [],
   "source": [
    "l2 = ['sush', 'ineuron', 'kumar']"
   ]
  },
  {
   "cell_type": "code",
   "execution_count": 28,
   "id": "2280d31c",
   "metadata": {},
   "outputs": [
    {
     "data": {
      "text/plain": [
       "'sush'"
      ]
     },
     "execution_count": 28,
     "metadata": {},
     "output_type": "execute_result"
    }
   ],
   "source": [
    "#based on alphabetic order\n",
    "max(l2)"
   ]
  },
  {
   "cell_type": "code",
   "execution_count": 29,
   "id": "9d56266a",
   "metadata": {},
   "outputs": [
    {
     "data": {
      "text/plain": [
       "1"
      ]
     },
     "execution_count": 29,
     "metadata": {},
     "output_type": "execute_result"
    }
   ],
   "source": [
    "min(l1)"
   ]
  },
  {
   "cell_type": "code",
   "execution_count": 30,
   "id": "83d62db8",
   "metadata": {},
   "outputs": [
    {
     "data": {
      "text/plain": [
       "'ineuron'"
      ]
     },
     "execution_count": 30,
     "metadata": {},
     "output_type": "execute_result"
    }
   ],
   "source": [
    "min(l2)"
   ]
  },
  {
   "cell_type": "code",
   "execution_count": 31,
   "id": "84c7411c",
   "metadata": {},
   "outputs": [
    {
     "data": {
      "text/plain": [
       "[1, 2, 3, 4, 5, 'sudh', 45.67, True]"
      ]
     },
     "execution_count": 31,
     "metadata": {},
     "output_type": "execute_result"
    }
   ],
   "source": [
    "l"
   ]
  },
  {
   "cell_type": "code",
   "execution_count": 32,
   "id": "c4b900bb",
   "metadata": {},
   "outputs": [],
   "source": [
    "l.append('kumar')"
   ]
  },
  {
   "cell_type": "code",
   "execution_count": 33,
   "id": "162f8373",
   "metadata": {},
   "outputs": [
    {
     "data": {
      "text/plain": [
       "[1, 2, 3, 4, 5, 'sudh', 45.67, True, 'kumar']"
      ]
     },
     "execution_count": 33,
     "metadata": {},
     "output_type": "execute_result"
    }
   ],
   "source": [
    "l"
   ]
  },
  {
   "cell_type": "code",
   "execution_count": 34,
   "id": "6370f02f",
   "metadata": {},
   "outputs": [],
   "source": [
    "l.append([1,2,3,4])"
   ]
  },
  {
   "cell_type": "code",
   "execution_count": 35,
   "id": "bf9368c8",
   "metadata": {},
   "outputs": [
    {
     "data": {
      "text/plain": [
       "[1, 2, 3, 4, 5, 'sudh', 45.67, True, 'kumar', [1, 2, 3, 4]]"
      ]
     },
     "execution_count": 35,
     "metadata": {},
     "output_type": "execute_result"
    }
   ],
   "source": [
    "l"
   ]
  },
  {
   "cell_type": "code",
   "execution_count": 36,
   "id": "d557d02f",
   "metadata": {},
   "outputs": [
    {
     "data": {
      "text/plain": [
       "1"
      ]
     },
     "execution_count": 36,
     "metadata": {},
     "output_type": "execute_result"
    }
   ],
   "source": [
    "l.pop(0)"
   ]
  },
  {
   "cell_type": "code",
   "execution_count": 37,
   "id": "d57e1033",
   "metadata": {},
   "outputs": [
    {
     "data": {
      "text/plain": [
       "[2, 3, 4, 5, 'sudh', 45.67, True, 'kumar', [1, 2, 3, 4]]"
      ]
     },
     "execution_count": 37,
     "metadata": {},
     "output_type": "execute_result"
    }
   ],
   "source": [
    "l"
   ]
  },
  {
   "cell_type": "code",
   "execution_count": 38,
   "id": "6b47246b",
   "metadata": {},
   "outputs": [
    {
     "data": {
      "text/plain": [
       "[1, 2, 3, 4]"
      ]
     },
     "execution_count": 38,
     "metadata": {},
     "output_type": "execute_result"
    }
   ],
   "source": [
    "l.pop()"
   ]
  },
  {
   "cell_type": "code",
   "execution_count": 39,
   "id": "f029261b",
   "metadata": {},
   "outputs": [
    {
     "data": {
      "text/plain": [
       "[2, 3, 4, 5, 'sudh', 45.67, True, 'kumar']"
      ]
     },
     "execution_count": 39,
     "metadata": {},
     "output_type": "execute_result"
    }
   ],
   "source": [
    "l"
   ]
  },
  {
   "cell_type": "code",
   "execution_count": 40,
   "id": "4d306279",
   "metadata": {},
   "outputs": [],
   "source": [
    "l.reverse()"
   ]
  },
  {
   "cell_type": "code",
   "execution_count": 41,
   "id": "99585331",
   "metadata": {},
   "outputs": [
    {
     "data": {
      "text/plain": [
       "['kumar', True, 45.67, 'sudh', 5, 4, 3, 2]"
      ]
     },
     "execution_count": 41,
     "metadata": {},
     "output_type": "execute_result"
    }
   ],
   "source": [
    "l"
   ]
  },
  {
   "cell_type": "code",
   "execution_count": 45,
   "id": "e88b56dd",
   "metadata": {},
   "outputs": [],
   "source": [
    "l = l[::-1]"
   ]
  },
  {
   "cell_type": "code",
   "execution_count": 50,
   "id": "75c3bc17",
   "metadata": {},
   "outputs": [
    {
     "data": {
      "text/plain": [
       "[1, 2, 3, 4]"
      ]
     },
     "execution_count": 50,
     "metadata": {},
     "output_type": "execute_result"
    }
   ],
   "source": [
    "l1.sort()\n",
    "l1\n"
   ]
  },
  {
   "cell_type": "code",
   "execution_count": 54,
   "id": "025dc886",
   "metadata": {},
   "outputs": [
    {
     "data": {
      "text/plain": [
       "[8, 34, 56]"
      ]
     },
     "execution_count": 54,
     "metadata": {},
     "output_type": "execute_result"
    }
   ],
   "source": [
    "l3 = [8,34,56]\n",
    "l3.sort()\n",
    "l3"
   ]
  },
  {
   "cell_type": "code",
   "execution_count": 57,
   "id": "4d4ba5e6",
   "metadata": {},
   "outputs": [],
   "source": [
    "#sort decending order\n",
    "l3.sort(reverse= True)"
   ]
  },
  {
   "cell_type": "code",
   "execution_count": 58,
   "id": "fa824b02",
   "metadata": {},
   "outputs": [
    {
     "data": {
      "text/plain": [
       "[56, 34, 8]"
      ]
     },
     "execution_count": 58,
     "metadata": {},
     "output_type": "execute_result"
    }
   ],
   "source": [
    "l3"
   ]
  },
  {
   "cell_type": "code",
   "execution_count": 2,
   "id": "0a544981",
   "metadata": {},
   "outputs": [],
   "source": [
    "l1 = [2,3,4]\n",
    "l2 = [6,7,8]\n",
    "l3 = [3,2,1]"
   ]
  },
  {
   "cell_type": "code",
   "execution_count": 3,
   "id": "762d7cb2",
   "metadata": {},
   "outputs": [],
   "source": [
    "l4 = [l1,l2,l3]"
   ]
  },
  {
   "cell_type": "code",
   "execution_count": 4,
   "id": "a9b1e257",
   "metadata": {},
   "outputs": [
    {
     "data": {
      "text/plain": [
       "[[2, 3, 4], [6, 7, 8], [3, 2, 1]]"
      ]
     },
     "execution_count": 4,
     "metadata": {},
     "output_type": "execute_result"
    }
   ],
   "source": [
    "l4"
   ]
  },
  {
   "cell_type": "code",
   "execution_count": 67,
   "id": "f5321609",
   "metadata": {},
   "outputs": [
    {
     "data": {
      "text/plain": [
       "2"
      ]
     },
     "execution_count": 67,
     "metadata": {},
     "output_type": "execute_result"
    }
   ],
   "source": [
    "# index of index\n",
    "l4[2][1]"
   ]
  },
  {
   "cell_type": "code",
   "execution_count": 68,
   "id": "98357863",
   "metadata": {},
   "outputs": [
    {
     "data": {
      "text/plain": [
       "[2, 3, 4, 5, 'sudh', 45.67, True, 'kumar']"
      ]
     },
     "execution_count": 68,
     "metadata": {},
     "output_type": "execute_result"
    }
   ],
   "source": [
    "l"
   ]
  },
  {
   "cell_type": "code",
   "execution_count": 69,
   "id": "71ec7ff0",
   "metadata": {},
   "outputs": [
    {
     "data": {
      "text/plain": [
       "1"
      ]
     },
     "execution_count": 69,
     "metadata": {},
     "output_type": "execute_result"
    }
   ],
   "source": [
    "l.count(2)"
   ]
  },
  {
   "cell_type": "code",
   "execution_count": 70,
   "id": "56162e02",
   "metadata": {},
   "outputs": [],
   "source": [
    "l5 = [2,4,3,3,3]"
   ]
  },
  {
   "cell_type": "code",
   "execution_count": 71,
   "id": "95b0dbee",
   "metadata": {},
   "outputs": [
    {
     "data": {
      "text/plain": [
       "3"
      ]
     },
     "execution_count": 71,
     "metadata": {},
     "output_type": "execute_result"
    }
   ],
   "source": [
    "l5.count(3)"
   ]
  },
  {
   "cell_type": "code",
   "execution_count": 74,
   "id": "2101e06d",
   "metadata": {},
   "outputs": [
    {
     "data": {
      "text/plain": [
       "[2, 3, 4, 5, 'sudh', 45.67, True, 'kumar', [12.4, 'sharan'], [12.4, 'sharan']]"
      ]
     },
     "execution_count": 74,
     "metadata": {},
     "output_type": "execute_result"
    }
   ],
   "source": [
    "l.append([12.4, 'sharan'])\n",
    "l"
   ]
  },
  {
   "cell_type": "code",
   "execution_count": 75,
   "id": "9f11ca0f",
   "metadata": {},
   "outputs": [
    {
     "data": {
      "text/plain": [
       "[2, 3, 4, 5, 'sudh', 45.67, True, 'kumar', [12.4, 'sharan'], [12.4, 'sharan']]"
      ]
     },
     "execution_count": 75,
     "metadata": {},
     "output_type": "execute_result"
    }
   ],
   "source": [
    "l"
   ]
  },
  {
   "cell_type": "code",
   "execution_count": 76,
   "id": "87f5ef8c",
   "metadata": {},
   "outputs": [],
   "source": [
    "l6 = [1,2,3]"
   ]
  },
  {
   "cell_type": "code",
   "execution_count": 77,
   "id": "138fd5ef",
   "metadata": {},
   "outputs": [],
   "source": [
    "l6.append([4,5,6])"
   ]
  },
  {
   "cell_type": "code",
   "execution_count": 78,
   "id": "752f6970",
   "metadata": {},
   "outputs": [],
   "source": [
    "l6.append('sharan')"
   ]
  },
  {
   "cell_type": "code",
   "execution_count": 90,
   "id": "5ec4cf7c",
   "metadata": {},
   "outputs": [],
   "source": [
    "l6.append(45)"
   ]
  },
  {
   "cell_type": "code",
   "execution_count": 91,
   "id": "01b7f81b",
   "metadata": {},
   "outputs": [
    {
     "data": {
      "text/plain": [
       "[1,\n",
       " 2,\n",
       " 3,\n",
       " [4, 5, 6],\n",
       " 'sharan',\n",
       " 45,\n",
       " 45,\n",
       " 56,\n",
       " 78,\n",
       " 98,\n",
       " 56,\n",
       " 78,\n",
       " 98,\n",
       " 56,\n",
       " 78,\n",
       " 98,\n",
       " '4',\n",
       " '5',\n",
       " '4',\n",
       " '5',\n",
       " '4',\n",
       " '5',\n",
       " 45,\n",
       " 56,\n",
       " 78,\n",
       " 98]"
      ]
     },
     "execution_count": 91,
     "metadata": {},
     "output_type": "execute_result"
    }
   ],
   "source": [
    "l6.extend([56,78,98])\n",
    "l6\n",
    "#it unrap and add each data into existing list"
   ]
  },
  {
   "cell_type": "code",
   "execution_count": 97,
   "id": "f389f654",
   "metadata": {},
   "outputs": [],
   "source": [
    "l6.extend('sudh')"
   ]
  },
  {
   "cell_type": "code",
   "execution_count": 98,
   "id": "3c1185c9",
   "metadata": {},
   "outputs": [
    {
     "data": {
      "text/plain": [
       "0"
      ]
     },
     "execution_count": 98,
     "metadata": {},
     "output_type": "execute_result"
    }
   ],
   "source": [
    "l6.index(1)"
   ]
  },
  {
   "cell_type": "code",
   "execution_count": 101,
   "id": "3e97f615",
   "metadata": {},
   "outputs": [
    {
     "data": {
      "text/plain": [
       "[1, 2, 3, 4, 5]"
      ]
     },
     "execution_count": 101,
     "metadata": {},
     "output_type": "execute_result"
    }
   ],
   "source": [
    "l = [1,2,3,4,5]\n",
    "l\n"
   ]
  },
  {
   "cell_type": "code",
   "execution_count": 102,
   "id": "3eff17a1",
   "metadata": {},
   "outputs": [],
   "source": [
    "l.insert(1 , (1,2,3))"
   ]
  },
  {
   "cell_type": "code",
   "execution_count": 103,
   "id": "6a1935e5",
   "metadata": {},
   "outputs": [
    {
     "data": {
      "text/plain": [
       "[1, (1, 2, 3), 2, 3, 4, 5]"
      ]
     },
     "execution_count": 103,
     "metadata": {},
     "output_type": "execute_result"
    }
   ],
   "source": [
    "l"
   ]
  },
  {
   "cell_type": "code",
   "execution_count": 104,
   "id": "57bead4d",
   "metadata": {},
   "outputs": [],
   "source": [
    "l.insert(5, 'sharan')"
   ]
  },
  {
   "cell_type": "code",
   "execution_count": 105,
   "id": "f637ca21",
   "metadata": {},
   "outputs": [
    {
     "data": {
      "text/plain": [
       "[1, (1, 2, 3), 2, 3, 4, 'sharan', 5]"
      ]
     },
     "execution_count": 105,
     "metadata": {},
     "output_type": "execute_result"
    }
   ],
   "source": [
    "l"
   ]
  },
  {
   "cell_type": "code",
   "execution_count": 107,
   "id": "f7953fa8",
   "metadata": {},
   "outputs": [
    {
     "data": {
      "text/plain": [
       "'sharan'"
      ]
     },
     "execution_count": 107,
     "metadata": {},
     "output_type": "execute_result"
    }
   ],
   "source": [
    "l.pop()\n",
    "\n",
    "# remove last element"
   ]
  },
  {
   "cell_type": "code",
   "execution_count": 108,
   "id": "6587526e",
   "metadata": {},
   "outputs": [
    {
     "data": {
      "text/plain": [
       "(1, 2, 3)"
      ]
     },
     "execution_count": 108,
     "metadata": {},
     "output_type": "execute_result"
    }
   ],
   "source": [
    "\n",
    "l.pop(1)\n",
    "# particula index,(1) element removed/ index operation"
   ]
  },
  {
   "cell_type": "code",
   "execution_count": 109,
   "id": "5708a7b9",
   "metadata": {},
   "outputs": [
    {
     "data": {
      "text/plain": [
       "[1, 2, 3, 4]"
      ]
     },
     "execution_count": 109,
     "metadata": {},
     "output_type": "execute_result"
    }
   ],
   "source": [
    "l"
   ]
  },
  {
   "cell_type": "code",
   "execution_count": 114,
   "id": "823c4887",
   "metadata": {},
   "outputs": [
    {
     "data": {
      "text/plain": [
       "[1, 2, 3, 4, 5]"
      ]
     },
     "execution_count": 114,
     "metadata": {},
     "output_type": "execute_result"
    }
   ],
   "source": [
    "l = [1,2,3,4,5]\n",
    "l\n"
   ]
  },
  {
   "cell_type": "code",
   "execution_count": 115,
   "id": "3043e047",
   "metadata": {},
   "outputs": [],
   "source": [
    "# it removes value/ Element operation\n",
    "l.remove(5)"
   ]
  },
  {
   "cell_type": "code",
   "execution_count": 116,
   "id": "37358340",
   "metadata": {},
   "outputs": [
    {
     "data": {
      "text/plain": [
       "[1, 2, 3, 4]"
      ]
     },
     "execution_count": 116,
     "metadata": {},
     "output_type": "execute_result"
    }
   ],
   "source": [
    "l"
   ]
  },
  {
   "cell_type": "code",
   "execution_count": 117,
   "id": "0c81510e",
   "metadata": {},
   "outputs": [],
   "source": [
    "#reassignment \n",
    "l[2]= 'sharan'"
   ]
  },
  {
   "cell_type": "code",
   "execution_count": 118,
   "id": "9e1c7ec8",
   "metadata": {},
   "outputs": [
    {
     "data": {
      "text/plain": [
       "[1, 2, 'sharan', 4]"
      ]
     },
     "execution_count": 118,
     "metadata": {},
     "output_type": "execute_result"
    }
   ],
   "source": [
    "l"
   ]
  },
  {
   "cell_type": "code",
   "execution_count": 119,
   "id": "d2de2935",
   "metadata": {},
   "outputs": [],
   "source": [
    "s = 'sharan'"
   ]
  },
  {
   "cell_type": "code",
   "execution_count": 121,
   "id": "40fe4788",
   "metadata": {},
   "outputs": [
    {
     "data": {
      "text/plain": [
       "'shbrbn'"
      ]
     },
     "execution_count": 121,
     "metadata": {},
     "output_type": "execute_result"
    }
   ],
   "source": [
    "s.replace('a', 'b')"
   ]
  },
  {
   "cell_type": "code",
   "execution_count": 123,
   "id": "276d4a03",
   "metadata": {},
   "outputs": [],
   "source": [
    "#tuple\n",
    "t = (4,5,6,'sharan', True)"
   ]
  },
  {
   "cell_type": "code",
   "execution_count": 125,
   "id": "1aaf0579",
   "metadata": {},
   "outputs": [
    {
     "data": {
      "text/plain": [
       "tuple"
      ]
     },
     "execution_count": 125,
     "metadata": {},
     "output_type": "execute_result"
    }
   ],
   "source": [
    "type(t)"
   ]
  },
  {
   "cell_type": "code",
   "execution_count": 126,
   "id": "282dc05c",
   "metadata": {},
   "outputs": [
    {
     "data": {
      "text/plain": [
       "4"
      ]
     },
     "execution_count": 126,
     "metadata": {},
     "output_type": "execute_result"
    }
   ],
   "source": [
    "t[0]"
   ]
  },
  {
   "cell_type": "code",
   "execution_count": 127,
   "id": "79eff86d",
   "metadata": {},
   "outputs": [
    {
     "data": {
      "text/plain": [
       "(4, 5, 6, 'sharan')"
      ]
     },
     "execution_count": 127,
     "metadata": {},
     "output_type": "execute_result"
    }
   ],
   "source": [
    " t[0:4]"
   ]
  },
  {
   "cell_type": "code",
   "execution_count": 128,
   "id": "288eaad1",
   "metadata": {},
   "outputs": [
    {
     "data": {
      "text/plain": [
       "True"
      ]
     },
     "execution_count": 128,
     "metadata": {},
     "output_type": "execute_result"
    }
   ],
   "source": [
    "t[-1]"
   ]
  },
  {
   "cell_type": "code",
   "execution_count": 129,
   "id": "a6d4e646",
   "metadata": {},
   "outputs": [
    {
     "data": {
      "text/plain": [
       "(4, 6, True)"
      ]
     },
     "execution_count": 129,
     "metadata": {},
     "output_type": "execute_result"
    }
   ],
   "source": [
    "t[0:6:2]"
   ]
  },
  {
   "cell_type": "code",
   "execution_count": 130,
   "id": "cb8fa0ad",
   "metadata": {},
   "outputs": [
    {
     "data": {
      "text/plain": [
       "()"
      ]
     },
     "execution_count": 130,
     "metadata": {},
     "output_type": "execute_result"
    }
   ],
   "source": [
    "t[0:4:-1]"
   ]
  },
  {
   "cell_type": "code",
   "execution_count": 131,
   "id": "d90b826c",
   "metadata": {},
   "outputs": [],
   "source": [
    "l = [1,2,3,4,555]"
   ]
  },
  {
   "cell_type": "code",
   "execution_count": 132,
   "id": "a2c7f870",
   "metadata": {},
   "outputs": [],
   "source": [
    "l[2] = 'sharan'"
   ]
  },
  {
   "cell_type": "code",
   "execution_count": 133,
   "id": "07b4af29",
   "metadata": {},
   "outputs": [
    {
     "data": {
      "text/plain": [
       "[1, 2, 'sharan', 4, 555]"
      ]
     },
     "execution_count": 133,
     "metadata": {},
     "output_type": "execute_result"
    }
   ],
   "source": [
    "l"
   ]
  },
  {
   "cell_type": "code",
   "execution_count": 134,
   "id": "74a00c8d",
   "metadata": {},
   "outputs": [
    {
     "data": {
      "text/plain": [
       "(4, 5, 6, 'sharan', True)"
      ]
     },
     "execution_count": 134,
     "metadata": {},
     "output_type": "execute_result"
    }
   ],
   "source": [
    "t"
   ]
  },
  {
   "cell_type": "code",
   "execution_count": 135,
   "id": "0e0f8865",
   "metadata": {},
   "outputs": [
    {
     "ename": "TypeError",
     "evalue": "'tuple' object does not support item assignment",
     "output_type": "error",
     "traceback": [
      "\u001b[1;31m---------------------------------------------------------------------------\u001b[0m",
      "\u001b[1;31mTypeError\u001b[0m                                 Traceback (most recent call last)",
      "\u001b[1;32m~\\AppData\\Local\\Temp/ipykernel_6772/1130934685.py\u001b[0m in \u001b[0;36m<module>\u001b[1;34m\u001b[0m\n\u001b[1;32m----> 1\u001b[1;33m \u001b[0mt\u001b[0m\u001b[1;33m[\u001b[0m\u001b[1;36m3\u001b[0m\u001b[1;33m]\u001b[0m \u001b[1;33m=\u001b[0m \u001b[1;34m'appi'\u001b[0m\u001b[1;33m\u001b[0m\u001b[1;33m\u001b[0m\u001b[0m\n\u001b[0m",
      "\u001b[1;31mTypeError\u001b[0m: 'tuple' object does not support item assignment"
     ]
    }
   ],
   "source": [
    "t[3] = 'appi'"
   ]
  },
  {
   "cell_type": "code",
   "execution_count": 136,
   "id": "ec29b2cd",
   "metadata": {},
   "outputs": [],
   "source": [
    "t1 = (33,44,54)"
   ]
  },
  {
   "cell_type": "code",
   "execution_count": 137,
   "id": "126e8089",
   "metadata": {},
   "outputs": [
    {
     "data": {
      "text/plain": [
       "(4, 5, 6, 'sharan', True, 33, 44, 54)"
      ]
     },
     "execution_count": 137,
     "metadata": {},
     "output_type": "execute_result"
    }
   ],
   "source": [
    "t + t1\n"
   ]
  },
  {
   "cell_type": "code",
   "execution_count": 140,
   "id": "65e1e666",
   "metadata": {},
   "outputs": [
    {
     "data": {
      "text/plain": [
       "1"
      ]
     },
     "execution_count": 140,
     "metadata": {},
     "output_type": "execute_result"
    }
   ],
   "source": [
    "t.count(5)"
   ]
  },
  {
   "cell_type": "code",
   "execution_count": 147,
   "id": "42a8640a",
   "metadata": {},
   "outputs": [
    {
     "data": {
      "text/plain": [
       "2"
      ]
     },
     "execution_count": 147,
     "metadata": {},
     "output_type": "execute_result"
    }
   ],
   "source": [
    "t.index(6)"
   ]
  },
  {
   "cell_type": "code",
   "execution_count": 148,
   "id": "d69191ab",
   "metadata": {},
   "outputs": [
    {
     "data": {
      "text/plain": [
       "(4, 5, 6, 'sharan', True)"
      ]
     },
     "execution_count": 148,
     "metadata": {},
     "output_type": "execute_result"
    }
   ],
   "source": [
    "t"
   ]
  },
  {
   "cell_type": "code",
   "execution_count": 149,
   "id": "2c18b510",
   "metadata": {},
   "outputs": [
    {
     "data": {
      "text/plain": [
       "[4, 5, 6, 'sharan', True]"
      ]
     },
     "execution_count": 149,
     "metadata": {},
     "output_type": "execute_result"
    }
   ],
   "source": [
    "#converting tuple to list\n",
    "list(t)"
   ]
  },
  {
   "cell_type": "code",
   "execution_count": 150,
   "id": "adae4856",
   "metadata": {},
   "outputs": [
    {
     "data": {
      "text/plain": [
       "tuple"
      ]
     },
     "execution_count": 150,
     "metadata": {},
     "output_type": "execute_result"
    }
   ],
   "source": [
    "type(t1)"
   ]
  },
  {
   "cell_type": "code",
   "execution_count": 151,
   "id": "925e89cf",
   "metadata": {},
   "outputs": [
    {
     "data": {
      "text/plain": [
       "[33, 44, 54]"
      ]
     },
     "execution_count": 151,
     "metadata": {},
     "output_type": "execute_result"
    }
   ],
   "source": [
    "list(t1)"
   ]
  },
  {
   "cell_type": "code",
   "execution_count": 152,
   "id": "d16584f5",
   "metadata": {},
   "outputs": [],
   "source": [
    "t2 = [122,33,44]"
   ]
  },
  {
   "cell_type": "code",
   "execution_count": 153,
   "id": "de55796b",
   "metadata": {},
   "outputs": [
    {
     "data": {
      "text/plain": [
       "list"
      ]
     },
     "execution_count": 153,
     "metadata": {},
     "output_type": "execute_result"
    }
   ],
   "source": [
    "type(t2)"
   ]
  },
  {
   "cell_type": "code",
   "execution_count": 154,
   "id": "77793993",
   "metadata": {},
   "outputs": [
    {
     "data": {
      "text/plain": [
       "(122, 33, 44)"
      ]
     },
     "execution_count": 154,
     "metadata": {},
     "output_type": "execute_result"
    }
   ],
   "source": [
    "#converting list to tuple\n",
    "tuple(t2)"
   ]
  },
  {
   "cell_type": "code",
   "execution_count": 156,
   "id": "9270e941",
   "metadata": {},
   "outputs": [],
   "source": [
    "#Dictionary {} Key value Pair"
   ]
  },
  {
   "cell_type": "code",
   "execution_count": 157,
   "id": "e4137abe",
   "metadata": {},
   "outputs": [],
   "source": [
    "d = {}"
   ]
  },
  {
   "cell_type": "code",
   "execution_count": 158,
   "id": "80fe3aa9",
   "metadata": {},
   "outputs": [
    {
     "data": {
      "text/plain": [
       "dict"
      ]
     },
     "execution_count": 158,
     "metadata": {},
     "output_type": "execute_result"
    }
   ],
   "source": [
    "type(d)"
   ]
  },
  {
   "cell_type": "code",
   "execution_count": 159,
   "id": "4219b24f",
   "metadata": {},
   "outputs": [],
   "source": [
    "d1 = {1}"
   ]
  },
  {
   "cell_type": "code",
   "execution_count": 160,
   "id": "9bff1e29",
   "metadata": {},
   "outputs": [
    {
     "data": {
      "text/plain": [
       "set"
      ]
     },
     "execution_count": 160,
     "metadata": {},
     "output_type": "execute_result"
    }
   ],
   "source": [
    "type(d1)"
   ]
  },
  {
   "cell_type": "code",
   "execution_count": 161,
   "id": "f21d94e3",
   "metadata": {},
   "outputs": [],
   "source": [
    "d2 ={'key1': 'value', 234:\"xyz\", 'name':'sharan', 'no': 9538289725}"
   ]
  },
  {
   "cell_type": "code",
   "execution_count": 162,
   "id": "95981833",
   "metadata": {},
   "outputs": [
    {
     "data": {
      "text/plain": [
       "dict"
      ]
     },
     "execution_count": 162,
     "metadata": {},
     "output_type": "execute_result"
    }
   ],
   "source": [
    "type(d2)"
   ]
  },
  {
   "cell_type": "code",
   "execution_count": 163,
   "id": "d8b84257",
   "metadata": {},
   "outputs": [
    {
     "data": {
      "text/plain": [
       "'sharan'"
      ]
     },
     "execution_count": 163,
     "metadata": {},
     "output_type": "execute_result"
    }
   ],
   "source": [
    "d2['name']"
   ]
  },
  {
   "cell_type": "code",
   "execution_count": 165,
   "id": "56569592",
   "metadata": {},
   "outputs": [
    {
     "data": {
      "text/plain": [
       "9538289725"
      ]
     },
     "execution_count": 165,
     "metadata": {},
     "output_type": "execute_result"
    }
   ],
   "source": [
    "d2['no']"
   ]
  },
  {
   "cell_type": "code",
   "execution_count": 179,
   "id": "232c7dd0",
   "metadata": {},
   "outputs": [],
   "source": [
    "d3 = {'name': 'sharan', 'tech':['ml', 'dl', 'python']}"
   ]
  },
  {
   "cell_type": "code",
   "execution_count": 169,
   "id": "18a83d57",
   "metadata": {},
   "outputs": [
    {
     "data": {
      "text/plain": [
       "{'name': 'sharan', 'tech': ['ml', 'dl', 'python']}"
      ]
     },
     "execution_count": 169,
     "metadata": {},
     "output_type": "execute_result"
    }
   ],
   "source": [
    "d3"
   ]
  },
  {
   "cell_type": "code",
   "execution_count": 170,
   "id": "516dab99",
   "metadata": {},
   "outputs": [
    {
     "data": {
      "text/plain": [
       "True"
      ]
     },
     "execution_count": 170,
     "metadata": {},
     "output_type": "execute_result"
    }
   ],
   "source": [
    "'python' in d3['tech']"
   ]
  },
  {
   "cell_type": "code",
   "execution_count": 173,
   "id": "8f23df64",
   "metadata": {},
   "outputs": [],
   "source": [
    "d4 = {'name':'sharan', 'info':938289725, 'name':'appi'}"
   ]
  },
  {
   "cell_type": "code",
   "execution_count": 174,
   "id": "05d920ae",
   "metadata": {},
   "outputs": [
    {
     "data": {
      "text/plain": [
       "{'name': 'appi', 'info': 938289725}"
      ]
     },
     "execution_count": 174,
     "metadata": {},
     "output_type": "execute_result"
    }
   ],
   "source": [
    "d4"
   ]
  },
  {
   "cell_type": "code",
   "execution_count": 178,
   "id": "287d9424",
   "metadata": {},
   "outputs": [
    {
     "data": {
      "text/plain": [
       "{'name': 'appi', 'info': 938289725, 'k2': 'knk'}"
      ]
     },
     "execution_count": 178,
     "metadata": {},
     "output_type": "execute_result"
    }
   ],
   "source": [
    "d4['k2']= 'knk'\n",
    "d4"
   ]
  },
  {
   "cell_type": "code",
   "execution_count": 180,
   "id": "d9bf7e0c",
   "metadata": {},
   "outputs": [],
   "source": [
    "d4['k2'] = d3"
   ]
  },
  {
   "cell_type": "code",
   "execution_count": 181,
   "id": "3962d3af",
   "metadata": {},
   "outputs": [
    {
     "data": {
      "text/plain": [
       "{'name': 'appi',\n",
       " 'info': 938289725,\n",
       " 'k2': {'name': 'sharan', 'tech': ['ml', 'dl', 'python']}}"
      ]
     },
     "execution_count": 181,
     "metadata": {},
     "output_type": "execute_result"
    }
   ],
   "source": [
    "d4\n"
   ]
  },
  {
   "cell_type": "code",
   "execution_count": 186,
   "id": "2978bc16",
   "metadata": {},
   "outputs": [
    {
     "data": {
      "text/plain": [
       "'sharan'"
      ]
     },
     "execution_count": 186,
     "metadata": {},
     "output_type": "execute_result"
    }
   ],
   "source": [
    "d4['k2']['name']"
   ]
  },
  {
   "cell_type": "code",
   "execution_count": 193,
   "id": "7f359a9d",
   "metadata": {},
   "outputs": [
    {
     "data": {
      "text/plain": [
       "{'sharan': 'fivinv'}"
      ]
     },
     "execution_count": 193,
     "metadata": {},
     "output_type": "execute_result"
    }
   ],
   "source": [
    "\n",
    "d5"
   ]
  },
  {
   "cell_type": "code",
   "execution_count": 200,
   "id": "44763bb7",
   "metadata": {},
   "outputs": [
    {
     "ename": "TypeError",
     "evalue": "unhashable type: 'dict'",
     "output_type": "error",
     "traceback": [
      "\u001b[1;31m---------------------------------------------------------------------------\u001b[0m",
      "\u001b[1;31mTypeError\u001b[0m                                 Traceback (most recent call last)",
      "\u001b[1;32m~\\AppData\\Local\\Temp/ipykernel_6772/2179207211.py\u001b[0m in \u001b[0;36m<module>\u001b[1;34m\u001b[0m\n\u001b[1;32m----> 1\u001b[1;33m \u001b[0md6\u001b[0m \u001b[1;33m=\u001b[0m \u001b[1;33m{\u001b[0m\u001b[0m_\u001b[0m\u001b[1;33m:\u001b[0m \u001b[1;34m\"dddvcc\"\u001b[0m\u001b[1;33m}\u001b[0m\u001b[1;33m\u001b[0m\u001b[1;33m\u001b[0m\u001b[0m\n\u001b[0m",
      "\u001b[1;31mTypeError\u001b[0m: unhashable type: 'dict'"
     ]
    }
   ],
   "source": [
    "d6 = {_: \"dddvcc\"}"
   ]
  },
  {
   "cell_type": "code",
   "execution_count": 201,
   "id": "136d524f",
   "metadata": {},
   "outputs": [],
   "source": [
    "d7 = {(1,2,3):'sharan'}"
   ]
  },
  {
   "cell_type": "code",
   "execution_count": 202,
   "id": "adbd9f60",
   "metadata": {},
   "outputs": [
    {
     "data": {
      "text/plain": [
       "'sharan'"
      ]
     },
     "execution_count": 202,
     "metadata": {},
     "output_type": "execute_result"
    }
   ],
   "source": [
    "d7[(1,2,3)]"
   ]
  },
  {
   "cell_type": "code",
   "execution_count": 203,
   "id": "ae72df9f",
   "metadata": {},
   "outputs": [
    {
     "ename": "TypeError",
     "evalue": "unhashable type: 'list'",
     "output_type": "error",
     "traceback": [
      "\u001b[1;31m---------------------------------------------------------------------------\u001b[0m",
      "\u001b[1;31mTypeError\u001b[0m                                 Traceback (most recent call last)",
      "\u001b[1;32m~\\AppData\\Local\\Temp/ipykernel_6772/628813727.py\u001b[0m in \u001b[0;36m<module>\u001b[1;34m\u001b[0m\n\u001b[1;32m----> 1\u001b[1;33m \u001b[0md8\u001b[0m \u001b[1;33m=\u001b[0m \u001b[1;33m{\u001b[0m\u001b[1;33m[\u001b[0m\u001b[1;36m5\u001b[0m\u001b[1;33m,\u001b[0m\u001b[1;36m7\u001b[0m\u001b[1;33m,\u001b[0m\u001b[1;36m6\u001b[0m\u001b[1;33m]\u001b[0m\u001b[1;33m:\u001b[0m\u001b[1;34m\"appi\"\u001b[0m\u001b[1;33m}\u001b[0m\u001b[1;33m\u001b[0m\u001b[1;33m\u001b[0m\u001b[0m\n\u001b[0m",
      "\u001b[1;31mTypeError\u001b[0m: unhashable type: 'list'"
     ]
    }
   ],
   "source": [
    "d8 = {[5,7,6]:\"appi\"}"
   ]
  },
  {
   "cell_type": "code",
   "execution_count": 205,
   "id": "a77f3be4",
   "metadata": {},
   "outputs": [
    {
     "ename": "TypeError",
     "evalue": "unhashable type: 'set'",
     "output_type": "error",
     "traceback": [
      "\u001b[1;31m---------------------------------------------------------------------------\u001b[0m",
      "\u001b[1;31mTypeError\u001b[0m                                 Traceback (most recent call last)",
      "\u001b[1;32m~\\AppData\\Local\\Temp/ipykernel_6772/3411232405.py\u001b[0m in \u001b[0;36m<module>\u001b[1;34m\u001b[0m\n\u001b[1;32m----> 1\u001b[1;33m \u001b[0md9\u001b[0m \u001b[1;33m:\u001b[0m\u001b[1;33m{\u001b[0m\u001b[1;33m{\u001b[0m\u001b[1;34m'test'\u001b[0m\u001b[1;33m}\u001b[0m\u001b[1;33m:\u001b[0m\u001b[1;34m'bfhfbbfs'\u001b[0m\u001b[1;33m}\u001b[0m\u001b[1;33m\u001b[0m\u001b[1;33m\u001b[0m\u001b[0m\n\u001b[0m",
      "\u001b[1;31mTypeError\u001b[0m: unhashable type: 'set'"
     ]
    }
   ],
   "source": [
    "d9 :{{'test'}:'bfhfbbfs'}"
   ]
  },
  {
   "cell_type": "code",
   "execution_count": 206,
   "id": "b06a2d72",
   "metadata": {},
   "outputs": [
    {
     "data": {
      "text/plain": [
       "{}"
      ]
     },
     "execution_count": 206,
     "metadata": {},
     "output_type": "execute_result"
    }
   ],
   "source": [
    "d"
   ]
  },
  {
   "cell_type": "code",
   "execution_count": 207,
   "id": "e0d46b64",
   "metadata": {},
   "outputs": [
    {
     "data": {
      "text/plain": [
       "{1}"
      ]
     },
     "execution_count": 207,
     "metadata": {},
     "output_type": "execute_result"
    }
   ],
   "source": [
    "d1"
   ]
  },
  {
   "cell_type": "code",
   "execution_count": 208,
   "id": "5ea77c1e",
   "metadata": {},
   "outputs": [
    {
     "data": {
      "text/plain": [
       "{'name': 'sharan', 'tech': ['ml', 'dl', 'python']}"
      ]
     },
     "execution_count": 208,
     "metadata": {},
     "output_type": "execute_result"
    }
   ],
   "source": [
    "d3"
   ]
  },
  {
   "cell_type": "code",
   "execution_count": 210,
   "id": "a2776999",
   "metadata": {},
   "outputs": [
    {
     "ename": "TypeError",
     "evalue": "unsupported operand type(s) for +: 'dict' and 'dict'",
     "output_type": "error",
     "traceback": [
      "\u001b[1;31m---------------------------------------------------------------------------\u001b[0m",
      "\u001b[1;31mTypeError\u001b[0m                                 Traceback (most recent call last)",
      "\u001b[1;32m~\\AppData\\Local\\Temp/ipykernel_6772/3239400441.py\u001b[0m in \u001b[0;36m<module>\u001b[1;34m\u001b[0m\n\u001b[1;32m----> 1\u001b[1;33m \u001b[0md3\u001b[0m \u001b[1;33m+\u001b[0m \u001b[0md2\u001b[0m\u001b[1;33m\u001b[0m\u001b[1;33m\u001b[0m\u001b[0m\n\u001b[0m",
      "\u001b[1;31mTypeError\u001b[0m: unsupported operand type(s) for +: 'dict' and 'dict'"
     ]
    }
   ],
   "source": [
    "d3 + d2 "
   ]
  },
  {
   "cell_type": "code",
   "execution_count": 212,
   "id": "ad2e87c5",
   "metadata": {},
   "outputs": [
    {
     "data": {
      "text/plain": [
       "dict_keys(['name', 'tech'])"
      ]
     },
     "execution_count": 212,
     "metadata": {},
     "output_type": "execute_result"
    }
   ],
   "source": [
    "d3.keys()"
   ]
  },
  {
   "cell_type": "code",
   "execution_count": 213,
   "id": "adda2afe",
   "metadata": {},
   "outputs": [
    {
     "data": {
      "text/plain": [
       "dict_values(['sharan', ['ml', 'dl', 'python']])"
      ]
     },
     "execution_count": 213,
     "metadata": {},
     "output_type": "execute_result"
    }
   ],
   "source": [
    "d3.values()"
   ]
  },
  {
   "cell_type": "code",
   "execution_count": 214,
   "id": "bdb9d3a2",
   "metadata": {},
   "outputs": [
    {
     "data": {
      "text/plain": [
       "dict_items([('name', 'sharan'), ('tech', ['ml', 'dl', 'python'])])"
      ]
     },
     "execution_count": 214,
     "metadata": {},
     "output_type": "execute_result"
    }
   ],
   "source": [
    "d3.items()"
   ]
  },
  {
   "cell_type": "code",
   "execution_count": 215,
   "id": "6f8506c9",
   "metadata": {},
   "outputs": [],
   "source": [
    "#set"
   ]
  },
  {
   "cell_type": "code",
   "execution_count": 216,
   "id": "c238f5b5",
   "metadata": {},
   "outputs": [],
   "source": [
    "s = {3,4,5,6}"
   ]
  },
  {
   "cell_type": "code",
   "execution_count": 217,
   "id": "631aa133",
   "metadata": {},
   "outputs": [
    {
     "data": {
      "text/plain": [
       "set"
      ]
     },
     "execution_count": 217,
     "metadata": {},
     "output_type": "execute_result"
    }
   ],
   "source": [
    "type(s)"
   ]
  },
  {
   "cell_type": "code",
   "execution_count": 2,
   "id": "8d7a9ed2",
   "metadata": {},
   "outputs": [],
   "source": [
    "s1 = {3,4,5,6,7,8,8,8,9,0,0,0,0,0}"
   ]
  },
  {
   "cell_type": "code",
   "execution_count": 3,
   "id": "58a30cdc",
   "metadata": {},
   "outputs": [
    {
     "data": {
      "text/plain": [
       "{0, 3, 4, 5, 6, 7, 8, 9}"
      ]
     },
     "execution_count": 3,
     "metadata": {},
     "output_type": "execute_result"
    }
   ],
   "source": [
    "s1"
   ]
  },
  {
   "cell_type": "code",
   "execution_count": 4,
   "id": "8a9c5017",
   "metadata": {},
   "outputs": [],
   "source": [
    "s2 = {1,25,65,154,161,1,651,151,1,16,1,61,}"
   ]
  },
  {
   "cell_type": "code",
   "execution_count": 5,
   "id": "818f8df8",
   "metadata": {},
   "outputs": [
    {
     "data": {
      "text/plain": [
       "{1, 16, 25, 61, 65, 151, 154, 161, 651}"
      ]
     },
     "execution_count": 5,
     "metadata": {},
     "output_type": "execute_result"
    }
   ],
   "source": [
    "s2"
   ]
  },
  {
   "cell_type": "code",
   "execution_count": 11,
   "id": "505e5a03",
   "metadata": {},
   "outputs": [
    {
     "ename": "TypeError",
     "evalue": "'set' object is not subscriptable",
     "output_type": "error",
     "traceback": [
      "\u001b[1;31m---------------------------------------------------------------------------\u001b[0m",
      "\u001b[1;31mTypeError\u001b[0m                                 Traceback (most recent call last)",
      "\u001b[1;32m~\\AppData\\Local\\Temp/ipykernel_19832/2344841457.py\u001b[0m in \u001b[0;36m<module>\u001b[1;34m\u001b[0m\n\u001b[1;32m----> 1\u001b[1;33m \u001b[0ms2\u001b[0m\u001b[1;33m[\u001b[0m\u001b[1;36m0\u001b[0m\u001b[1;33m]\u001b[0m\u001b[1;33m\u001b[0m\u001b[1;33m\u001b[0m\u001b[0m\n\u001b[0m",
      "\u001b[1;31mTypeError\u001b[0m: 'set' object is not subscriptable"
     ]
    }
   ],
   "source": [
    "s2[0]"
   ]
  },
  {
   "cell_type": "code",
   "execution_count": 13,
   "id": "d1b3bd16",
   "metadata": {},
   "outputs": [
    {
     "data": {
      "text/plain": [
       "{1, 16, 25, 61, 65, 151, 154, 161, 651}"
      ]
     },
     "execution_count": 13,
     "metadata": {},
     "output_type": "execute_result"
    }
   ],
   "source": [
    "s2"
   ]
  },
  {
   "cell_type": "code",
   "execution_count": 16,
   "id": "487e1537",
   "metadata": {},
   "outputs": [],
   "source": [
    "l1 =list(s1)"
   ]
  },
  {
   "cell_type": "code",
   "execution_count": 17,
   "id": "12120a6b",
   "metadata": {},
   "outputs": [
    {
     "data": {
      "text/plain": [
       "0"
      ]
     },
     "execution_count": 17,
     "metadata": {},
     "output_type": "execute_result"
    }
   ],
   "source": [
    "l1[0]"
   ]
  },
  {
   "cell_type": "code",
   "execution_count": 18,
   "id": "211dc546",
   "metadata": {},
   "outputs": [
    {
     "data": {
      "text/plain": [
       "(0, 3, 4, 5, 6, 7, 8, 9)"
      ]
     },
     "execution_count": 18,
     "metadata": {},
     "output_type": "execute_result"
    }
   ],
   "source": [
    "tuple(s1)"
   ]
  },
  {
   "cell_type": "code",
   "execution_count": 20,
   "id": "12368a78",
   "metadata": {},
   "outputs": [],
   "source": [
    "s3 = {1,3,5,2,36,6,7,7,7,7,78,8,8,8,8,8,8}"
   ]
  },
  {
   "cell_type": "code",
   "execution_count": 24,
   "id": "3d432a4d",
   "metadata": {},
   "outputs": [
    {
     "data": {
      "text/plain": [
       "[1, 2, 3, 36, 5, 6, 7, 8, 78]"
      ]
     },
     "execution_count": 24,
     "metadata": {},
     "output_type": "execute_result"
    }
   ],
   "source": [
    "l2 =  list(s3)\n",
    "l2"
   ]
  },
  {
   "cell_type": "code",
   "execution_count": 25,
   "id": "4a5e84df",
   "metadata": {},
   "outputs": [],
   "source": [
    "s3.add(99)"
   ]
  },
  {
   "cell_type": "code",
   "execution_count": 27,
   "id": "21348d26",
   "metadata": {},
   "outputs": [
    {
     "ename": "TypeError",
     "evalue": "unhashable type: 'list'",
     "output_type": "error",
     "traceback": [
      "\u001b[1;31m---------------------------------------------------------------------------\u001b[0m",
      "\u001b[1;31mTypeError\u001b[0m                                 Traceback (most recent call last)",
      "\u001b[1;32m~\\AppData\\Local\\Temp/ipykernel_19832/764129697.py\u001b[0m in \u001b[0;36m<module>\u001b[1;34m\u001b[0m\n\u001b[1;32m----> 1\u001b[1;33m \u001b[0mlist\u001b[0m\u001b[1;33m(\u001b[0m\u001b[0ms3\u001b[0m\u001b[1;33m.\u001b[0m\u001b[0madd\u001b[0m\u001b[1;33m(\u001b[0m\u001b[1;33m[\u001b[0m\u001b[1;36m1\u001b[0m\u001b[1;33m,\u001b[0m\u001b[1;36m2\u001b[0m\u001b[1;33m,\u001b[0m\u001b[1;36m3\u001b[0m\u001b[1;33m,\u001b[0m\u001b[1;36m4\u001b[0m\u001b[1;33m]\u001b[0m\u001b[1;33m)\u001b[0m\u001b[1;33m)\u001b[0m\u001b[1;33m\u001b[0m\u001b[1;33m\u001b[0m\u001b[0m\n\u001b[0m",
      "\u001b[1;31mTypeError\u001b[0m: unhashable type: 'list'"
     ]
    }
   ],
   "source": [
    "list(s3.add([1,2,3,4]))"
   ]
  },
  {
   "cell_type": "code",
   "execution_count": 28,
   "id": "6df5191c",
   "metadata": {},
   "outputs": [],
   "source": [
    "se = {(1,2,3,4,), 3,4,5,4,33,4}"
   ]
  },
  {
   "cell_type": "code",
   "execution_count": 35,
   "id": "df154b26",
   "metadata": {},
   "outputs": [
    {
     "data": {
      "text/plain": [
       "{(1, 2, 3, 4), 3, 4, 5}"
      ]
     },
     "execution_count": 35,
     "metadata": {},
     "output_type": "execute_result"
    }
   ],
   "source": [
    "se"
   ]
  },
  {
   "cell_type": "code",
   "execution_count": 36,
   "id": "89e1f5cb",
   "metadata": {},
   "outputs": [],
   "source": [
    "se.remove(3)"
   ]
  },
  {
   "cell_type": "code",
   "execution_count": 42,
   "id": "0ca0b849",
   "metadata": {},
   "outputs": [],
   "source": [
    "se.discard(4)"
   ]
  },
  {
   "cell_type": "code",
   "execution_count": 44,
   "id": "9e007710",
   "metadata": {},
   "outputs": [
    {
     "data": {
      "text/plain": [
       "{(1, 2, 3, 4), 5}"
      ]
     },
     "execution_count": 44,
     "metadata": {},
     "output_type": "execute_result"
    }
   ],
   "source": [
    "se"
   ]
  },
  {
   "cell_type": "code",
   "execution_count": 50,
   "id": "dd043dd3",
   "metadata": {},
   "outputs": [],
   "source": [
    "#Questions\n",
    "\n",
    "l = [3,4,5,6,7 ,[23,456,67,8,78], [345,56,87,8,98,9], (234,6657,6), {'key1':'sharan', 234:[23,45,656]}]\n",
    "\n",
    "#1, Try to reverse a list\n",
    "#2, try to acces 234 out of this list\n",
    "#3, try to acces 456\n",
    "#4, try to extract only a list collection from list l\n",
    "#5, try to extract sudh \n",
    "#6, try to lst all the keys in dict element available in list \n",
    "#7, try to extract all the value element from dict available in list"
   ]
  },
  {
   "cell_type": "code",
   "execution_count": 2,
   "id": "271c4e24",
   "metadata": {},
   "outputs": [],
   "source": [
    "dic = {_:'shaa'}\n"
   ]
  },
  {
   "cell_type": "code",
   "execution_count": 3,
   "id": "47a0097c",
   "metadata": {},
   "outputs": [
    {
     "data": {
      "text/plain": [
       "'shaa'"
      ]
     },
     "execution_count": 3,
     "metadata": {},
     "output_type": "execute_result"
    }
   ],
   "source": [
    "dic[_]"
   ]
  },
  {
   "cell_type": "code",
   "execution_count": 4,
   "id": "62b32d44",
   "metadata": {},
   "outputs": [],
   "source": [
    "l = [1,2,3,4]"
   ]
  },
  {
   "cell_type": "code",
   "execution_count": 8,
   "id": "33693882",
   "metadata": {},
   "outputs": [
    {
     "data": {
      "text/plain": [
       "['sharan', 1, 2, 3, 'sharan', 'sharan', 4]"
      ]
     },
     "execution_count": 8,
     "metadata": {},
     "output_type": "execute_result"
    }
   ],
   "source": [
    "l.insert( 0,  'sharan')\n",
    "l"
   ]
  },
  {
   "cell_type": "code",
   "execution_count": 16,
   "id": "671364bc",
   "metadata": {},
   "outputs": [],
   "source": [
    "s = 52.2546"
   ]
  },
  {
   "cell_type": "code",
   "execution_count": 18,
   "id": "282806fd",
   "metadata": {},
   "outputs": [
    {
     "data": {
      "text/plain": [
       "52.2546"
      ]
     },
     "execution_count": 18,
     "metadata": {},
     "output_type": "execute_result"
    }
   ],
   "source": [
    "round(s , 4)"
   ]
  },
  {
   "cell_type": "code",
   "execution_count": 19,
   "id": "40aa214e",
   "metadata": {},
   "outputs": [
    {
     "name": "stdout",
     "output_type": "stream",
     "text": [
      "52.2546\n"
     ]
    }
   ],
   "source": [
    "print(s)"
   ]
  },
  {
   "cell_type": "code",
   "execution_count": 22,
   "id": "76c16465",
   "metadata": {},
   "outputs": [],
   "source": [
    " s1='SHARAN'"
   ]
  },
  {
   "cell_type": "code",
   "execution_count": 24,
   "id": "c5e62067",
   "metadata": {},
   "outputs": [
    {
     "data": {
      "text/plain": [
       "'BHARAN'"
      ]
     },
     "execution_count": 24,
     "metadata": {},
     "output_type": "execute_result"
    }
   ],
   "source": [
    "s1.replace('SH', 'BH')"
   ]
  },
  {
   "cell_type": "code",
   "execution_count": null,
   "id": "bd9c3f20",
   "metadata": {},
   "outputs": [],
   "source": []
  }
 ],
 "metadata": {
  "kernelspec": {
   "display_name": "Python 3 (ipykernel)",
   "language": "python",
   "name": "python3"
  },
  "language_info": {
   "codemirror_mode": {
    "name": "ipython",
    "version": 3
   },
   "file_extension": ".py",
   "mimetype": "text/x-python",
   "name": "python",
   "nbconvert_exporter": "python",
   "pygments_lexer": "ipython3",
   "version": "3.9.7"
  }
 },
 "nbformat": 4,
 "nbformat_minor": 5
}
