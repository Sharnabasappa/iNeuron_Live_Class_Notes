{
 "cells": [
  {
   "cell_type": "code",
   "execution_count": null,
   "id": "8da0cd5f",
   "metadata": {},
   "outputs": [],
   "source": [
    "detabase:\n",
    "    store\n",
    "    isert \n",
    "    update\n",
    "    deletion"
   ]
  },
  {
   "cell_type": "code",
   "execution_count": null,
   "id": "42c22bdc",
   "metadata": {},
   "outputs": [],
   "source": [
    "sql= \n",
    "nosql; store document based data, scalable horizantally\n",
    "\n",
    "mongo db, its a popular db\n",
    "no sql  has more advantages\n",
    "\n",
    "Jango = itnis a frame work\n",
    "\n",
    "\n",
    "\n"
   ]
  },
  {
   "cell_type": "code",
   "execution_count": null,
   "id": "1a7b9df2",
   "metadata": {},
   "outputs": [],
   "source": []
  }
 ],
 "metadata": {
  "kernelspec": {
   "display_name": "Python 3 (ipykernel)",
   "language": "python",
   "name": "python3"
  },
  "language_info": {
   "codemirror_mode": {
    "name": "ipython",
    "version": 3
   },
   "file_extension": ".py",
   "mimetype": "text/x-python",
   "name": "python",
   "nbconvert_exporter": "python",
   "pygments_lexer": "ipython3",
   "version": "3.9.7"
  }
 },
 "nbformat": 4,
 "nbformat_minor": 5
}
