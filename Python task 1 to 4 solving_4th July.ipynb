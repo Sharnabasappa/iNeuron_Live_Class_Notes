{
 "cells": [
  {
   "cell_type": "markdown",
   "id": "cd61c4a6",
   "metadata": {},
   "source": [
    "# Python Task Solutions"
   ]
  },
  {
   "cell_type": "raw",
   "id": "bcf91b4c",
   "metadata": {},
   "source": [
    "# Task 01\n",
    "Challenge:\n",
    "s = 'this is my first python rogramming class and i am learning python string and its function' \n",
    "1, Try to extract data from index one to 300 with jump of 3 \n",
    "2, Try to reverse a string without using reverse funnction \n",
    "3, Try to split a string after conversion of entire string in uppercse \n",
    "4, try to convet whole string into lowercase \n",
    "5, try to capitalize the whole string \n",
    "6, write a difference between isalnum() and isalpha() \n",
    "7, try to give an example of expand tab \n",
    "8, give an example of strip, lstrip and rstrip \n",
    "9, replace a string character by any other character by taking own example \n",
    "10,try to give a definition of string center function with example\n",
    "11,write your own definition of compiler and interpretter without copy past in own language \n",
    "12, python is a interpreted of compiled language give a clear ans with your understanding \n",
    "13, try to write a usecases of python with ypur understanding"
   ]
  },
  {
   "cell_type": "raw",
   "id": "4f24de65",
   "metadata": {},
   "source": [
    "# Task 02\n",
    "#Questions\n",
    "\n",
    "l = [3,4,5,6,7 ,[23,456,67,8,78], [345,56,87,8,98,9], (234,6657,6), {'key1':'sharan', 234:[23,45,656]}]\n",
    "\n",
    "#1, Try to reverse a list\n",
    "#2, try to acces 234 out of this list\n",
    "#3, try to acces 234 from dict\n",
    "#4, try to extract only a list collection from list l\n",
    "#5, try to extract Sharan \n",
    "#6, try to list all the keys in dict element available in list \n",
    "#7, try to extract all the value element from dict available in list"
   ]
  },
  {
   "cell_type": "raw",
   "id": "459b1f16",
   "metadata": {},
   "source": [
    "Task 03,\n",
    "\n",
    "#Questions\n",
    "1, print ; ineuron\n",
    "  ineuron\n",
    "  ineuron ineuron\n",
    "  ineuron ineuron ineuron\n",
    "  ineuron ineuron ineuron\n",
    "  \n",
    "2,    ineuron\n",
    "   ineuron    ineuron\n",
    "ineuron   ineuron   ineuron\n",
    "     ineuron    ineuron\n",
    "          ineuron\n",
    "l = \"\"\"[[1,2,3,4], (2,3,4,5,6), (3,4,5,6,7), set([23,4,45,44,5,45,4,5]),{'k1':'sudh', 'k2': 'ineuron',\n",
    "                                                                   'k3':'kumar',3:6, 7:8},['ineuron', \"data scine\"]]\"\"\"\n",
    "3, Try to extract all the list entity\n",
    "4, try to extract all the dict entity\n",
    "5, try extract all the tuple antity\n",
    "6, try to extract all the numarical data it may be a part of dict key and values\n",
    "7, try to give summation of all the numaric data\n",
    "8, try to filter out all the odd values out all numeric data which is a part of a list\n",
    "9, try to extract 'ineuron' out of this data\n",
    "10, try to find out no of occurances of all the data\n",
    "11, try to find out  number of keys in dict element\n",
    "12, try to filter out all the string data\n",
    "13, try to find out alphanum in data\n",
    "14, try to find out multiplication of all the numeric value in individual collection inside dataset\n",
    "15, try to unwrap all the collection inside collection and creat a flat list "
   ]
  },
  {
   "cell_type": "raw",
   "id": "9719a2bf",
   "metadata": {},
   "source": [
    "Task=04,\n",
    "\n",
    "QuestionS\n",
    " \n",
    "q1 : Try to print this by using while loop \n",
    "* \n",
    "* * \n",
    "* * * \n",
    "* * * * \n",
    "* * * * * \n",
    "* * * * * * \n",
    "* * * * * * * \n",
    "* * * * * * * * \n",
    "* * * * * * * * * \n",
    "\n",
    "q2 : try to print below by using while loop : \n",
    "        \n",
    "A\n",
    "B H \n",
    "C I N\n",
    "D J o S\n",
    "E K p T W\n",
    "F L Q U X z\n",
    "G M R V Y \n",
    "\n",
    "q3 : Try to print all the number divisible by 3 in between a range of 40 - 400\n",
    "    \n",
    "q4 : Try to filter out all the vowels form below text by using while loop : \n",
    " \"\"\"Python is a high-level, interpreted, general-purpose programming language. Its design philosophy emphasizes code readability with the use of significant indentation.[32]\n",
    "\n",
    "Python is dynamically-typed and garbage-collected. It supports multiple programming paradigms, including structured (particularly procedural), object-oriented and functional programming. It is often described as a \"batteries included\" language due to its comprehensive standard library.[33][34]\n",
    "\n",
    "Guido van Rossum began working on Python in the late 1980s as a successor to the ABC programming language and first released it in 1991 as Python 0.9.0.[35] Python 2.0 was released in 2000 and introduced new features such as list comprehensions, cycle-detecting garbage collection, reference counting, and Unicode support. Python 3.0, released in 2008, was a major revision that is not completely backward-compatible with earlier versions. Python 2 was discontinued with version 2.7.18 in 2020.[36]\n",
    "\n",
    "Python consistently ranks as one of the most popular programming languagesc\"\"\" \n",
    "\n",
    "\n",
    "q5 : Try to generate all the even number between 1- 1000\n",
    "\n",
    "q6 : Define a function for all the above problem statememnt  . \n",
    "    \n",
    "q7 : write a code to get a time of your system \n",
    "\n",
    "q8 : Write a code to fetch date form your system \n",
    "\n",
    "q9 : Write a code to send a mail to your friend \n",
    "\n",
    "q10 : write a code to trigger alarm for you at scheduled time \n",
    "\n",
    "q11 : write a code to check ip address of your system \n",
    "\n",
    "q12 : Write a code to check a perticular installation in your system\n",
    "\n",
    "q13 : Write a code to convert any text in to voice \n",
    "\n",
    "q14 : you have to write a fun which will take string and return a len of \n",
    "it without using a inbuilt fun len\n",
    "\n",
    "q15 :write a fun which will be able to print an index of all premitive element which you will pass \n",
    "\n",
    "q16 : Write a fun which will take input as a dict and give me out as a list of all the values \n",
    "even in case of 2 level nesting it should work . \n",
    "\n",
    "q17 : write a function whihc will take multiple list as a input and give me concatnation of all the element as \n",
    "and output\n",
    "\n",
    "q18 : Write a function which will whould return list of all the file name from a directory . \n",
    "\n",
    "q19 : write a function whihc will be able to read a image file and show it to you .\n",
    "    \n",
    "q20 : write a function by which you will be able to append two PDF files . \n",
    "    \n",
    "q21 : write a function which can help you to filter only word file from a directory . \n",
    "    \n",
    "q22 : write a function which can read video file and play for you . \n",
    "    \n",
    "q23 : write a function which will be able to shutdonw your system . \n",
    "\n",
    "q24 : Write a function which will whould return list of all the file name from a directory . \n",
    "\n",
    "q25 : write a function whihc will be able to access your mail . \n",
    "        "
   ]
  },
  {
   "cell_type": "markdown",
   "id": "7dfa5d0e",
   "metadata": {},
   "source": [
    "Task5, on funtion topic\n",
    "Dont/ not discussed solution still\n",
    "\n",
    "Questionns:\n",
    "q1,  Try to print a prime number in between 1 to 1000\n",
    "q2,  Try to write a function which is equivelent to print function in python\n",
    "q3,  Try to write a function which is replica of list append, extend and pop function\n",
    "q4,  try to write a lambda function whic can return a concatination of all the string that we will pass\n",
    "q5,  try to write a ;ambda function which can retirn a list of square of all that data between 1-100\n",
    "q6,  try to write a 10 different different ex of lambda function with a choice of your take\n",
    "q7,  try to write  a function which can perform a read operation from .txt file\n",
    "\n"
   ]
  },
  {
   "cell_type": "markdown",
   "id": "32869f0e",
   "metadata": {},
   "source": [
    "# Task 01, Solutions"
   ]
  },
  {
   "cell_type": "code",
   "execution_count": 1,
   "id": "4d89b025",
   "metadata": {},
   "outputs": [],
   "source": [
    "\n",
    "s = 'this is my first python Programming class and i am learning python string and its function'"
   ]
  },
  {
   "cell_type": "code",
   "execution_count": 4,
   "id": "99890ab1",
   "metadata": {},
   "outputs": [
    {
     "data": {
      "text/plain": [
       "'h   r tnrrmglsnimengyosi dtfco'"
      ]
     },
     "execution_count": 4,
     "metadata": {},
     "output_type": "execute_result"
    }
   ],
   "source": [
    "#1, Try to extract data from index one to 300 with jump of 3 \n",
    "s[1:300:3]"
   ]
  },
  {
   "cell_type": "code",
   "execution_count": 10,
   "id": "53363808",
   "metadata": {},
   "outputs": [
    {
     "data": {
      "text/plain": [
       "'noitcnuf sti dna gnirts nohtyp gninrael ma i dna ssalc gnimmargorP nohtyp tsrif ym si siht'"
      ]
     },
     "execution_count": 10,
     "metadata": {},
     "output_type": "execute_result"
    }
   ],
   "source": [
    "#2,Try to reverse a string without using reverse funnction\n",
    "s[::-1]"
   ]
  },
  {
   "cell_type": "code",
   "execution_count": 12,
   "id": "86a95622",
   "metadata": {},
   "outputs": [
    {
     "data": {
      "text/plain": [
       "['THIS',\n",
       " 'IS',\n",
       " 'MY',\n",
       " 'FIRST',\n",
       " 'PYTHON',\n",
       " 'PROGRAMMING',\n",
       " 'CLASS',\n",
       " 'AND',\n",
       " 'I',\n",
       " 'AM',\n",
       " 'LEARNING',\n",
       " 'PYTHON',\n",
       " 'STRING',\n",
       " 'AND',\n",
       " 'ITS',\n",
       " 'FUNCTION']"
      ]
     },
     "execution_count": 12,
     "metadata": {},
     "output_type": "execute_result"
    }
   ],
   "source": [
    "#3,Try to split a string after conversion of entire string in uppercse\n",
    "s1 = s.upper()\n",
    "s1.split()"
   ]
  },
  {
   "cell_type": "code",
   "execution_count": 14,
   "id": "39cf4b1c",
   "metadata": {},
   "outputs": [
    {
     "data": {
      "text/plain": [
       "'this is my first python programming class and i am learning python string and its function'"
      ]
     },
     "execution_count": 14,
     "metadata": {},
     "output_type": "execute_result"
    }
   ],
   "source": [
    "#4,try to convet whole string into lowercase\n",
    "s2= s.lower()\n",
    "s2"
   ]
  },
  {
   "cell_type": "code",
   "execution_count": 17,
   "id": "88522c6d",
   "metadata": {},
   "outputs": [
    {
     "data": {
      "text/plain": [
       "'This is my first python programming class and i am learning python string and its function'"
      ]
     },
     "execution_count": 17,
     "metadata": {},
     "output_type": "execute_result"
    }
   ],
   "source": [
    "#5try to capitalize the whole string \n",
    "s.capitalize()"
   ]
  },
  {
   "cell_type": "raw",
   "id": "f08a4ad8",
   "metadata": {},
   "source": [
    "#6, write a difference between isalnum() and isalpha() \n",
    "  #, isalhpa :work with all alphabetical charecter abd it will give true, EG- s= 'a,b,c,d'\n",
    "  #, isalnum: work with both alphabets and numbers, eg, d = 'sharan123', true,"
   ]
  },
  {
   "cell_type": "code",
   "execution_count": 29,
   "id": "05b3499a",
   "metadata": {},
   "outputs": [
    {
     "data": {
      "text/plain": [
       "str"
      ]
     },
     "execution_count": 29,
     "metadata": {},
     "output_type": "execute_result"
    }
   ],
   "source": [
    "num= \"abc\"\n",
    "type(num)"
   ]
  },
  {
   "cell_type": "code",
   "execution_count": 30,
   "id": "d0f9967a",
   "metadata": {},
   "outputs": [
    {
     "data": {
      "text/plain": [
       "True"
      ]
     },
     "execution_count": 30,
     "metadata": {},
     "output_type": "execute_result"
    }
   ],
   "source": [
    "num.isalpha()"
   ]
  },
  {
   "cell_type": "code",
   "execution_count": 36,
   "id": "8890bce4",
   "metadata": {},
   "outputs": [
    {
     "data": {
      "text/plain": [
       "True"
      ]
     },
     "execution_count": 36,
     "metadata": {},
     "output_type": "execute_result"
    }
   ],
   "source": [
    "d = 'sharan123'\n",
    "d.isalnum()"
   ]
  },
  {
   "cell_type": "code",
   "execution_count": 37,
   "id": "2bcd656e",
   "metadata": {},
   "outputs": [
    {
     "data": {
      "text/plain": [
       "False"
      ]
     },
     "execution_count": 37,
     "metadata": {},
     "output_type": "execute_result"
    }
   ],
   "source": [
    "d.isnumeric()"
   ]
  },
  {
   "cell_type": "code",
   "execution_count": 38,
   "id": "6c1913ce",
   "metadata": {},
   "outputs": [
    {
     "data": {
      "text/plain": [
       "False"
      ]
     },
     "execution_count": 38,
     "metadata": {},
     "output_type": "execute_result"
    }
   ],
   "source": [
    "d.isalpha()"
   ]
  },
  {
   "cell_type": "code",
   "execution_count": 40,
   "id": "ca9b3e3e",
   "metadata": {},
   "outputs": [],
   "source": [
    "#7, try to give an example of expand tab\n",
    "s = 'fjkfgfr\\tshran\\tkori'\n",
    "\n",
    "# it seperate/expand with space the given strinf character where it has '\\t'(space)"
   ]
  },
  {
   "cell_type": "code",
   "execution_count": 41,
   "id": "ca3d8c73",
   "metadata": {},
   "outputs": [
    {
     "data": {
      "text/plain": [
       "'fjkfgfr shran   kori'"
      ]
     },
     "execution_count": 41,
     "metadata": {},
     "output_type": "execute_result"
    }
   ],
   "source": [
    "s.expandtabs()"
   ]
  },
  {
   "cell_type": "code",
   "execution_count": 46,
   "id": "e075e775",
   "metadata": {},
   "outputs": [
    {
     "data": {
      "text/plain": [
       "'sharan'"
      ]
     },
     "execution_count": 46,
     "metadata": {},
     "output_type": "execute_result"
    }
   ],
   "source": [
    "#8, give an example of strip, lstrip and rstrip \n",
    "f = '     sharan'\n",
    "g = 'sharan    '\n",
    "f.lstrip()   # this will cover if there is space on left side bw string and character"
   ]
  },
  {
   "cell_type": "code",
   "execution_count": 47,
   "id": "52e32d1e",
   "metadata": {},
   "outputs": [
    {
     "data": {
      "text/plain": [
       "'sharan'"
      ]
     },
     "execution_count": 47,
     "metadata": {},
     "output_type": "execute_result"
    }
   ],
   "source": [
    "g.rstrip()    # this will cover if there is space on ridht side bw string and character"
   ]
  },
  {
   "cell_type": "code",
   "execution_count": 51,
   "id": "4d9e4d12",
   "metadata": {},
   "outputs": [
    {
     "data": {
      "text/plain": [
       "'cold container'"
      ]
     },
     "execution_count": 51,
     "metadata": {},
     "output_type": "execute_result"
    }
   ],
   "source": [
    "#9, replace a string character by any other character by taking own example \n",
    "name = 'cold storage'\n",
    "name.replace('storage',  'container')"
   ]
  },
  {
   "cell_type": "code",
   "execution_count": 7,
   "id": "c8548d30",
   "metadata": {},
   "outputs": [
    {
     "data": {
      "text/plain": [
       "'Pppa'"
      ]
     },
     "execution_count": 7,
     "metadata": {},
     "output_type": "execute_result"
    }
   ],
   "source": [
    "n= 'Appa'\n",
    "n1 = n.replace('A', 'P')\n",
    "n1"
   ]
  },
  {
   "cell_type": "code",
   "execution_count": 52,
   "id": "2a733275",
   "metadata": {},
   "outputs": [
    {
     "data": {
      "text/plain": [
       "',,coder,,,'"
      ]
     },
     "execution_count": 52,
     "metadata": {},
     "output_type": "execute_result"
    }
   ],
   "source": [
    "# 10,try to give a definition of string center function with example\n",
    "n = 'coder'\n",
    "n.center(10, ',')\n",
    "\n",
    "#def; it will keep the variable center and fills the given width with mentioned character"
   ]
  },
  {
   "cell_type": "raw",
   "id": "a2963e4b",
   "metadata": {},
   "source": [
    "11,write your own definition of compiler and interpretter without copy past in own language\n",
    "\n",
    "Compiler: it is a program that translates the code written by person into a language recoginised by computer.\n",
    "    it translate the whole code at once. The code execution is fast as compared to interpreter.\n",
    "Interpreter: it is also a program that translates the code written by person in a language recoginised by computer,\n",
    "    but the difference is that it translates the each code line one by one, hence the code execution is slow, but \n",
    "    advantage is that it stops at that line where code is incorrect.\n",
    "\n",
    "\n",
    "# interpreter; Quickly analyze and excute or run code line by line, takes more excution time\n",
    "#compiler, analyze and excute whole set of code or program in one go, withe less excution time\n",
    "# it works in two layers first the .py files is compiled to an intermediate code of .pyc then the .pyc file directly interpreted "
   ]
  },
  {
   "cell_type": "raw",
   "id": "047f86d1",
   "metadata": {},
   "source": [
    "12, python is a interpreted or compiled language give a clear ans with your understanding\n",
    "\n",
    "# python is interpreted as well as compiled language,\n",
    "\n",
    "#In general it is belived that Python is a interpreter language but in reality neigther it is a compiler language nor a interpreted language.\n",
    "#It works in two layer first the .py file is compliled to an intermediate code of .pyc then the .pyc file is directly interpreted as for final output.\n",
    "\n",
    "-python is compiled as well as interpreted language. in python to converts the high level language in to \n",
    "low level laguage the terms compiler cames in to the picture.\n",
    "-In python when we execute the program 1st the compiler converts the source code in to byte code and then interpreter converts \n",
    "the byte code in to machine level language.\n",
    "\n",
    "source code--->compiler--->byte code--->interpreter--->machine code\n",
    "                                        (Virtual \n",
    "                                        machine(PVM))\n",
    "-in python the process of execution is bit different because to make the program platform independence(we can write code once\n",
    "and can run in differenr platform).As the machine changes the cpu architecture also changes so if we are writting some code \n",
    "in one machine it may not be executed in other so to resolve this problem virtual machines converts the byte code in to machine\n",
    "code and make it platform indepndent\n",
    "\n"
   ]
  },
  {
   "cell_type": "markdown",
   "id": "ade82ba9",
   "metadata": {},
   "source": [
    "#flow\n",
    " source code--->compiler---->byte code--->interpreter---machine code\n"
   ]
  },
  {
   "cell_type": "raw",
   "id": "fed8c698",
   "metadata": {},
   "source": [
    "13, try to write a usecases of python with ypur understanding\n",
    "\n",
    "#use cases of pyhton\n",
    "1, dev website and sodftware,, Game\n",
    "2, task automation\n",
    "3, DA, BA\n",
    "4, Data visualisation\n",
    "5, AI, IOT\n",
    "6, GUi interface\n",
    "7, DB\n",
    "8, robotic and cad application\n",
    "\n"
   ]
  },
  {
   "cell_type": "markdown",
   "id": "16e8e7cd",
   "metadata": {},
   "source": [
    "# task 02, Solutions"
   ]
  },
  {
   "cell_type": "code",
   "execution_count": 8,
   "id": "c79a71d8",
   "metadata": {},
   "outputs": [],
   "source": [
    "L = [3,4,5,6,7 ,[23,456,67,8,78], [345,56,87,8,98,9], (234,6657,6), {'key1':'sharan', 234:[23,45,656]}]\n"
   ]
  },
  {
   "cell_type": "code",
   "execution_count": 10,
   "id": "5cef11ca",
   "metadata": {},
   "outputs": [
    {
     "data": {
      "text/plain": [
       "[{'key1': 'sharan', 234: [23, 45, 656]},\n",
       " (234, 6657, 6),\n",
       " [345, 56, 87, 8, 98, 9],\n",
       " [23, 456, 67, 8, 78],\n",
       " 7,\n",
       " 6,\n",
       " 5,\n",
       " 4,\n",
       " 3]"
      ]
     },
     "execution_count": 10,
     "metadata": {},
     "output_type": "execute_result"
    }
   ],
   "source": [
    "#1, Try to reverse a list\n",
    "L[::-1]"
   ]
  },
  {
   "cell_type": "code",
   "execution_count": 14,
   "id": "cbb39b29",
   "metadata": {},
   "outputs": [
    {
     "data": {
      "text/plain": [
       "234"
      ]
     },
     "execution_count": 14,
     "metadata": {},
     "output_type": "execute_result"
    }
   ],
   "source": [
    "#2, try to acces 234 out of this list\n",
    "L[7][0]"
   ]
  },
  {
   "cell_type": "code",
   "execution_count": 17,
   "id": "825efb3b",
   "metadata": {},
   "outputs": [
    {
     "data": {
      "text/plain": [
       "234"
      ]
     },
     "execution_count": 17,
     "metadata": {},
     "output_type": "execute_result"
    }
   ],
   "source": [
    "#3, try to acces 234 from dict\n",
    "list(L[8].keys())[1]"
   ]
  },
  {
   "cell_type": "code",
   "execution_count": 20,
   "id": "45592cd4",
   "metadata": {},
   "outputs": [
    {
     "data": {
      "text/plain": [
       "'sharan'"
      ]
     },
     "execution_count": 20,
     "metadata": {},
     "output_type": "execute_result"
    }
   ],
   "source": [
    "# extracting sharan from dict\n",
    "list(L[8].values())[0]"
   ]
  },
  {
   "cell_type": "code",
   "execution_count": 20,
   "id": "f06a3989",
   "metadata": {},
   "outputs": [
    {
     "data": {
      "text/plain": [
       "456"
      ]
     },
     "execution_count": 20,
     "metadata": {},
     "output_type": "execute_result"
    }
   ],
   "source": [
    "#4, try to acces 456\n",
    "L[5][1]"
   ]
  },
  {
   "cell_type": "code",
   "execution_count": 22,
   "id": "276e8031",
   "metadata": {},
   "outputs": [
    {
     "data": {
      "text/plain": [
       "[[23, 456, 67, 8, 78], [345, 56, 87, 8, 98, 9]]"
      ]
     },
     "execution_count": 22,
     "metadata": {},
     "output_type": "execute_result"
    }
   ],
   "source": [
    "#4, try to extract only a list collection from l is\n",
    "L[5:7]\n"
   ]
  },
  {
   "cell_type": "code",
   "execution_count": 24,
   "id": "b44210c9",
   "metadata": {},
   "outputs": [
    {
     "name": "stdout",
     "output_type": "stream",
     "text": [
      "[23, 456, 67, 8, 78]\n",
      "[345, 56, 87, 8, 98, 9]\n"
     ]
    }
   ],
   "source": [
    "for i in L:\n",
    "    if type(i)== list:\n",
    "        print(i)"
   ]
  },
  {
   "cell_type": "code",
   "execution_count": 28,
   "id": "ef24ff01",
   "metadata": {},
   "outputs": [
    {
     "data": {
      "text/plain": [
       "'sharan'"
      ]
     },
     "execution_count": 28,
     "metadata": {},
     "output_type": "execute_result"
    }
   ],
   "source": [
    "#5, try to extract Sharan\n",
    "L[8]['key1']\n"
   ]
  },
  {
   "cell_type": "code",
   "execution_count": 31,
   "id": "6bd1e307",
   "metadata": {},
   "outputs": [
    {
     "data": {
      "text/plain": [
       "dict_keys(['key1', 234])"
      ]
     },
     "execution_count": 31,
     "metadata": {},
     "output_type": "execute_result"
    }
   ],
   "source": [
    "#6, try to list all the keys in dict element available in list\n",
    "L[8].keys()   # this will give you result in tuple list format"
   ]
  },
  {
   "cell_type": "code",
   "execution_count": 21,
   "id": "143f4fd8",
   "metadata": {},
   "outputs": [
    {
     "data": {
      "text/plain": [
       "['key1', 234]"
      ]
     },
     "execution_count": 21,
     "metadata": {},
     "output_type": "execute_result"
    }
   ],
   "source": [
    "list(L[8].keys())    # this wil give result in list ,so can exctract value based on its index"
   ]
  },
  {
   "cell_type": "code",
   "execution_count": 22,
   "id": "554a4079",
   "metadata": {},
   "outputs": [
    {
     "data": {
      "text/plain": [
       "['sharan', [23, 45, 656]]"
      ]
     },
     "execution_count": 22,
     "metadata": {},
     "output_type": "execute_result"
    }
   ],
   "source": [
    "#7, try to extract all the value element from dict available in list\n",
    "lst = list(L[8].values())\n",
    "lst"
   ]
  },
  {
   "cell_type": "markdown",
   "id": "667a7116",
   "metadata": {},
   "source": [
    "# Task 03, Solutions"
   ]
  },
  {
   "cell_type": "raw",
   "id": "47c9d48b",
   "metadata": {},
   "source": [
    "#Questions\n",
    "1, print ; ineuron\n",
    "  ineuron\n",
    "  ineuron ineuron\n",
    "  ineuron ineuron ineuron\n",
    "  ineuron ineuron ineuron\n",
    "  \n",
    "2,    ineuron\n",
    "   ineuron    ineuron\n",
    "ineuron   ineuron   ineuron\n",
    "     ineuron    ineuron\n",
    "          ineuron\n",
    "l = \"\"\"[[1,2,3,4], (2,3,4,5,6), (3,4,5,6,7), set([23,4,45,44,5,45,4,5]),{'k1':'sudh', 'k2': 'ineuron',\n",
    "                                                                   'k3':'kumar',3:6, 7:8},['ineuron', \"data scine\"]]\"\"\"\n",
    "3, Try to extract all the list entity\n",
    "4, try to extract all the dict entity\n",
    "5, try extract all the tuple antity\n",
    "6, try to extract all the numarical data it may be a part of dict key and values\n",
    "7, try to give summation of all the numaric data\n",
    "8, try to filter out all the odd values out all numeric data which is a part of a list\n",
    "9, try to extract 'ineuron' out of this data\n",
    "10, try to find out no of occurances of all the data\n",
    "11, try to find out  number of keys in dict element\n",
    "12, try to filter out all the string data\n",
    "13, try to find out alphanum in data\n",
    "14, try to find out multiplication of all the numeric value in individual collection inside dataset\n",
    "15, try to unwrap all the collection inside collection and creat a flat list "
   ]
  },
  {
   "cell_type": "raw",
   "id": "77f6b425",
   "metadata": {},
   "source": [
    "#1  print ; ineuron\n",
    "  ineuron\n",
    "  ineuron ineuron\n",
    "  ineuron ineuron ineuron\n",
    "  ineuron ineuron ineuron"
   ]
  },
  {
   "cell_type": "code",
   "execution_count": 23,
   "id": "42f3b3e0",
   "metadata": {},
   "outputs": [
    {
     "name": "stdout",
     "output_type": "stream",
     "text": [
      "enter the no of row you need:-4\n",
      " ineuron \n",
      " ineuron  ineuron \n",
      " ineuron  ineuron  ineuron \n",
      " ineuron  ineuron  ineuron  ineuron \n"
     ]
    }
   ],
   "source": [
    "row = int(input('enter the no of row you need:-'))\n",
    "for i in range(row):\n",
    "    print(' ineuron '  * (i+1))"
   ]
  },
  {
   "cell_type": "code",
   "execution_count": 26,
   "id": "e391396e",
   "metadata": {},
   "outputs": [
    {
     "name": "stdout",
     "output_type": "stream",
     "text": [
      "enter the no of row you need:-4\n",
      "ineuron \n",
      "ineuron ineuron \n",
      "ineuron ineuron ineuron \n",
      "ineuron ineuron ineuron ineuron \n"
     ]
    }
   ],
   "source": [
    "#1, Answer\n",
    "row = int(input('enter the no of row you need:-'))\n",
    "for i in range(row):\n",
    "    print('ineuron '  * (i+1))"
   ]
  },
  {
   "cell_type": "raw",
   "id": "b5bf1566",
   "metadata": {},
   "source": [
    "2,print this\n",
    "        ineuron\n",
    "   ineuron    ineuron\n",
    "ineuron   ineuron   ineuron\n",
    "     ineuron    ineuron\n",
    "          ineuron"
   ]
  },
  {
   "cell_type": "code",
   "execution_count": 54,
   "id": "d2bf3d4a",
   "metadata": {},
   "outputs": [
    {
     "name": "stdout",
     "output_type": "stream",
     "text": [
      "                                                  \n",
      "                     ineuron                      \n",
      "                 ineuron ineuron                  \n",
      "             ineuron ineuron ineuron              \n",
      "                 ineuron ineuron                  \n",
      "                     ineuron                      \n"
     ]
    }
   ],
   "source": [
    "#2, ANSwer\n",
    "\n",
    "for i in range(6):\n",
    "    if i <= 3:\n",
    "        n = i      # when i is Zero it wont prit you will be able to see empty line\n",
    "    else:\n",
    "        n = 6-i\n",
    "    print(('ineuron '*n).center(50, ' '))\n",
    "        "
   ]
  },
  {
   "cell_type": "code",
   "execution_count": 46,
   "id": "5ee82719",
   "metadata": {},
   "outputs": [
    {
     "name": "stdout",
     "output_type": "stream",
     "text": [
      "         ineuron         \n",
      "     ineuron ineuron     \n",
      " ineuron ineuron ineuron \n",
      "     ineuron ineuron     \n",
      "         ineuron         \n"
     ]
    }
   ],
   "source": [
    "for i in range(1,6):  # it gives 5 rows, and i value starts wuth  1, so no empty line  \n",
    "    if i <= 3:\n",
    "        n = i\n",
    "    else:\n",
    "        n = 6-i\n",
    "    print(('ineuron '*n).center(25, ' '))"
   ]
  },
  {
   "cell_type": "code",
   "execution_count": 47,
   "id": "d2df70f8",
   "metadata": {},
   "outputs": [],
   "source": [
    "l = [[1,2,3,4], (2,3,4,5,6), (3,4,5,6,7), set([23,4,45,44,5,45,4,5]),{'k1':'sudh', 'k2': 'ineuron',\n",
    "                                                                   'k3':'kumar',3:6, 7:8},['ineuron', \"data scine\"]]"
   ]
  },
  {
   "cell_type": "code",
   "execution_count": 8,
   "id": "199775f0",
   "metadata": {},
   "outputs": [
    {
     "data": {
      "text/plain": [
       "[[1, 2, 3, 4],\n",
       " (2, 3, 4, 5, 6),\n",
       " (3, 4, 5, 6, 7),\n",
       " {4, 5, 23, 44, 45},\n",
       " {'k1': 'sudh', 'k2': 'ineuron', 'k3': 'kumar', 3: 6, 7: 8},\n",
       " ['ineuron', 'data scine']]"
      ]
     },
     "execution_count": 8,
     "metadata": {},
     "output_type": "execute_result"
    }
   ],
   "source": [
    "l"
   ]
  },
  {
   "cell_type": "code",
   "execution_count": 9,
   "id": "ae8a7661",
   "metadata": {},
   "outputs": [
    {
     "name": "stdout",
     "output_type": "stream",
     "text": [
      "[1, 2, 3, 4]\n",
      "['ineuron', 'data scine']\n"
     ]
    }
   ],
   "source": [
    "#3, Try to extract all the list entity\n",
    "for i in l :\n",
    "    if type(i)== list:\n",
    "        print(i)"
   ]
  },
  {
   "cell_type": "code",
   "execution_count": 10,
   "id": "43896eb9",
   "metadata": {},
   "outputs": [
    {
     "name": "stdout",
     "output_type": "stream",
     "text": [
      "{'k1': 'sudh', 'k2': 'ineuron', 'k3': 'kumar', 3: 6, 7: 8}\n"
     ]
    }
   ],
   "source": [
    "#4, try to extract all the dict entity\n",
    "for i in l:\n",
    "    if type(i)== dict:\n",
    "        print(i)"
   ]
  },
  {
   "cell_type": "code",
   "execution_count": 11,
   "id": "9ecfda51",
   "metadata": {},
   "outputs": [
    {
     "name": "stdout",
     "output_type": "stream",
     "text": [
      "(2, 3, 4, 5, 6)\n",
      "(3, 4, 5, 6, 7)\n"
     ]
    }
   ],
   "source": [
    "#5, try extract all the tuple antity\n",
    "for i in l:\n",
    "    if type(i)== tuple:\n",
    "        print(i)"
   ]
  },
  {
   "cell_type": "code",
   "execution_count": 12,
   "id": "f052d091",
   "metadata": {},
   "outputs": [
    {
     "data": {
      "text/plain": [
       "[[1, 2, 3, 4],\n",
       " (2, 3, 4, 5, 6),\n",
       " (3, 4, 5, 6, 7),\n",
       " {4, 5, 23, 44, 45},\n",
       " {'k1': 'sudh', 'k2': 'ineuron', 'k3': 'kumar', 3: 6, 7: 8},\n",
       " ['ineuron', 'data scine']]"
      ]
     },
     "execution_count": 12,
     "metadata": {},
     "output_type": "execute_result"
    }
   ],
   "source": [
    "#6, try to extract all the numarical data it may be a part of dictionay\n",
    "l"
   ]
  },
  {
   "cell_type": "code",
   "execution_count": 62,
   "id": "ce746250",
   "metadata": {},
   "outputs": [],
   "source": [
    "a = [] #numaric value\n",
    "for i in l:\n",
    "    if type(i)== list or type(i)== tuple or type(i)== set:\n",
    "        for j in i:\n",
    "            if type(j)== int:\n",
    "                a.append(j)\n",
    "    if type(i)== dict:\n",
    "        for k in i.items():\n",
    "            for g in k :\n",
    "                if type(g)== int:\n",
    "                    a.append(g)\n",
    "        "
   ]
  },
  {
   "cell_type": "code",
   "execution_count": 63,
   "id": "51213c58",
   "metadata": {},
   "outputs": [
    {
     "data": {
      "text/plain": [
       "[1, 2, 3, 4, 2, 3, 4, 5, 6, 3, 4, 5, 6, 7, 4, 5, 44, 45, 23, 3, 6, 7, 8]"
      ]
     },
     "execution_count": 63,
     "metadata": {},
     "output_type": "execute_result"
    }
   ],
   "source": [
    "a"
   ]
  },
  {
   "cell_type": "code",
   "execution_count": 61,
   "id": "6d396124",
   "metadata": {},
   "outputs": [
    {
     "name": "stdout",
     "output_type": "stream",
     "text": [
      "3\n",
      "6\n",
      "7\n",
      "8\n"
     ]
    }
   ],
   "source": [
    "# understanding dictionary part \n",
    "for i in l:\n",
    "    if type(i)== dict:\n",
    "        for j in i.items():\n",
    "            for g in j:\n",
    "                if type(g)== int:\n",
    "                    print(g)"
   ]
  },
  {
   "cell_type": "code",
   "execution_count": 65,
   "id": "b747c308",
   "metadata": {},
   "outputs": [],
   "source": [
    "d = {'k1': 'sudh', 'k2': 'ineuron', 'k3': 'kumar', 3: 6, 7: 8}"
   ]
  },
  {
   "cell_type": "code",
   "execution_count": 73,
   "id": "66a0645d",
   "metadata": {},
   "outputs": [
    {
     "data": {
      "text/plain": [
       "'sudh'"
      ]
     },
     "execution_count": 73,
     "metadata": {},
     "output_type": "execute_result"
    }
   ],
   "source": [
    "list(d.items())[0][1]"
   ]
  },
  {
   "cell_type": "code",
   "execution_count": 30,
   "id": "456b39c4",
   "metadata": {},
   "outputs": [
    {
     "data": {
      "text/plain": [
       "200"
      ]
     },
     "execution_count": 30,
     "metadata": {},
     "output_type": "execute_result"
    }
   ],
   "source": [
    "#7, try to give summation of all the numaric data, whe gave exctracted a numaric data in Question 6\n",
    "sum(a)"
   ]
  },
  {
   "cell_type": "code",
   "execution_count": 32,
   "id": "c6c98d86",
   "metadata": {},
   "outputs": [
    {
     "data": {
      "text/plain": [
       "[1, 2, 3, 4, 2, 3, 4, 5, 6, 3, 4, 5, 6, 7, 4, 5, 44, 45, 23, 3, 6, 7, 8]"
      ]
     },
     "execution_count": 32,
     "metadata": {},
     "output_type": "execute_result"
    }
   ],
   "source": [
    "a"
   ]
  },
  {
   "cell_type": "code",
   "execution_count": 36,
   "id": "3f6628a2",
   "metadata": {},
   "outputs": [
    {
     "name": "stdout",
     "output_type": "stream",
     "text": [
      "1\n",
      "3\n",
      "3\n",
      "5\n",
      "3\n",
      "5\n",
      "7\n",
      "5\n",
      "45\n",
      "23\n",
      "3\n",
      "7\n"
     ]
    }
   ],
   "source": [
    "#8, try to filter out all the odd values out all numeric data which is a part of a list\n",
    "for i in a:\n",
    "    if i % 2 == 0:            # % this means, it will compare with reminder or it remember reminder only, \n",
    "        pass\n",
    "    else:\n",
    "        print(i)"
   ]
  },
  {
   "cell_type": "code",
   "execution_count": 85,
   "id": "76432424",
   "metadata": {},
   "outputs": [
    {
     "name": "stdout",
     "output_type": "stream",
     "text": [
      "1\n",
      "3\n",
      "3\n",
      "5\n",
      "3\n",
      "5\n",
      "7\n",
      "5\n",
      "45\n",
      "23\n",
      "3\n",
      "7\n"
     ]
    }
   ],
   "source": [
    "for i in a:\n",
    "    if i % 2 != 0:            # % this means, it will compare with reminder or it remember reminder only, \n",
    "        print(i)\n",
    "    else:\n",
    "        pass"
   ]
  },
  {
   "cell_type": "code",
   "execution_count": 87,
   "id": "10744e5d",
   "metadata": {},
   "outputs": [
    {
     "name": "stdout",
     "output_type": "stream",
     "text": [
      "2\n",
      "4\n",
      "2\n",
      "4\n",
      "6\n",
      "4\n",
      "6\n",
      "4\n",
      "44\n",
      "6\n",
      "8\n"
     ]
    }
   ],
   "source": [
    "# try to filter out all the even values out all numeric data which is a part of a list\n",
    "\n",
    "for i in a:\n",
    "    if i%2 == 0:\n",
    "        print(i)\n",
    "    else:\n",
    "        pass\n",
    "        "
   ]
  },
  {
   "cell_type": "code",
   "execution_count": 88,
   "id": "7e3a3297",
   "metadata": {},
   "outputs": [
    {
     "data": {
      "text/plain": [
       "[[1, 2, 3, 4],\n",
       " (2, 3, 4, 5, 6),\n",
       " (3, 4, 5, 6, 7),\n",
       " {4, 5, 23, 44, 45},\n",
       " {'k1': 'sudh', 'k2': 'ineuron', 'k3': 'kumar', 3: 6, 7: 8},\n",
       " ['ineuron', 'data scine']]"
      ]
     },
     "execution_count": 88,
     "metadata": {},
     "output_type": "execute_result"
    }
   ],
   "source": [
    "#9, try to extract 'ineuron' out of this data\n",
    "l"
   ]
  },
  {
   "cell_type": "code",
   "execution_count": 39,
   "id": "60d7881f",
   "metadata": {},
   "outputs": [],
   "source": [
    "a = [] #numaric value\n",
    "for i in l:\n",
    "    if type(i)== list or type(i)== tuple or type(i)== set:\n",
    "        for j in i:\n",
    "            if j == 'ineuron':\n",
    "                a.append(j)\n",
    "    if type(i)== dict:\n",
    "        for k in i.items():\n",
    "            for g in k :\n",
    "                if g == 'ineuron':\n",
    "                    a.append(g)"
   ]
  },
  {
   "cell_type": "code",
   "execution_count": 40,
   "id": "222871ad",
   "metadata": {},
   "outputs": [
    {
     "data": {
      "text/plain": [
       "['ineuron', 'ineuron']"
      ]
     },
     "execution_count": 40,
     "metadata": {},
     "output_type": "execute_result"
    }
   ],
   "source": [
    "a"
   ]
  },
  {
   "cell_type": "code",
   "execution_count": 58,
   "id": "5748b39e",
   "metadata": {},
   "outputs": [],
   "source": [
    "b = []\n",
    "for i in l:\n",
    "    if type(i)== list or type(i)== tuple or type(i)== set or type(i)== dict:\n",
    "        for j in i:\n",
    "            if j == 'ineuron':\n",
    "                b.append(j)\n",
    "\n",
    "    if type(i)== dict:\n",
    "        for k in i.items():\n",
    "            for g in k :\n",
    "                if g == 'ineuron':\n",
    "                    b.append(g)"
   ]
  },
  {
   "cell_type": "code",
   "execution_count": 59,
   "id": "3c410030",
   "metadata": {},
   "outputs": [
    {
     "data": {
      "text/plain": [
       "['ineuron', 'ineuron']"
      ]
     },
     "execution_count": 59,
     "metadata": {},
     "output_type": "execute_result"
    }
   ],
   "source": [
    "b"
   ]
  },
  {
   "cell_type": "code",
   "execution_count": 64,
   "id": "b0bd9558",
   "metadata": {},
   "outputs": [],
   "source": [
    "#10, try to find out no of occurances of all the datab = []\n",
    "b = []\n",
    "for i in l:\n",
    "    if type(i)== list or type(i)== tuple or type(i)== set:\n",
    "        for j in i:\n",
    "            if type(j) == int or type(j)== str:\n",
    "                b.append(j)\n",
    "\n",
    "    if type(i)== dict:\n",
    "        for k in i.items():\n",
    "            for g in k :\n",
    "                if type(g) == int or type(g)== str:\n",
    "                    b.append(g)"
   ]
  },
  {
   "cell_type": "code",
   "execution_count": 80,
   "id": "26780d2f",
   "metadata": {},
   "outputs": [
    {
     "data": {
      "text/plain": [
       "[1,\n",
       " 2,\n",
       " 3,\n",
       " 4,\n",
       " 2,\n",
       " 3,\n",
       " 4,\n",
       " 5,\n",
       " 6,\n",
       " 3,\n",
       " 4,\n",
       " 5,\n",
       " 6,\n",
       " 7,\n",
       " 4,\n",
       " 5,\n",
       " 44,\n",
       " 45,\n",
       " 23,\n",
       " 'k1',\n",
       " 'sudh',\n",
       " 'k2',\n",
       " 'ineuron',\n",
       " 'k3',\n",
       " 'kumar',\n",
       " 3,\n",
       " 6,\n",
       " 7,\n",
       " 8,\n",
       " 'ineuron',\n",
       " 'data scine']"
      ]
     },
     "execution_count": 80,
     "metadata": {},
     "output_type": "execute_result"
    }
   ],
   "source": [
    "b# all extracted data"
   ]
  },
  {
   "cell_type": "code",
   "execution_count": 83,
   "id": "8c1c4e35",
   "metadata": {},
   "outputs": [
    {
     "data": {
      "text/plain": [
       "{1,\n",
       " 2,\n",
       " 23,\n",
       " 3,\n",
       " 4,\n",
       " 44,\n",
       " 45,\n",
       " 5,\n",
       " 6,\n",
       " 7,\n",
       " 8,\n",
       " 'data scine',\n",
       " 'ineuron',\n",
       " 'k1',\n",
       " 'k2',\n",
       " 'k3',\n",
       " 'kumar',\n",
       " 'sudh'}"
      ]
     },
     "execution_count": 83,
     "metadata": {},
     "output_type": "execute_result"
    }
   ],
   "source": [
    "set(b)"
   ]
  },
  {
   "cell_type": "code",
   "execution_count": 85,
   "id": "a090627d",
   "metadata": {},
   "outputs": [
    {
     "name": "stdout",
     "output_type": "stream",
     "text": [
      "1 1\n",
      "2 2\n",
      "3 4\n",
      "4 4\n",
      "5 3\n",
      "6 3\n",
      "7 2\n",
      "k1 1\n",
      "k2 1\n",
      "ineuron 2\n",
      "kumar 1\n",
      "44 1\n",
      "45 1\n",
      "8 1\n",
      "sudh 1\n",
      "k3 1\n",
      "23 1\n",
      "data scine 1\n"
     ]
    }
   ],
   "source": [
    "for i in set(b):\n",
    "    print(i, b.count(i))"
   ]
  },
  {
   "cell_type": "code",
   "execution_count": 86,
   "id": "d66f2d1a",
   "metadata": {},
   "outputs": [],
   "source": [
    "#11, try to find out  number of keys in dict element"
   ]
  },
  {
   "cell_type": "code",
   "execution_count": 89,
   "id": "d86a675f",
   "metadata": {},
   "outputs": [
    {
     "name": "stdout",
     "output_type": "stream",
     "text": [
      "5\n"
     ]
    }
   ],
   "source": [
    "for i in l:\n",
    "    if type(i)== dict:\n",
    "        print(len(list(i.keys())))"
   ]
  },
  {
   "cell_type": "code",
   "execution_count": 95,
   "id": "c126232f",
   "metadata": {},
   "outputs": [],
   "source": [
    "#12, try to filter out all the string data"
   ]
  },
  {
   "cell_type": "code",
   "execution_count": 97,
   "id": "a0829d97",
   "metadata": {},
   "outputs": [
    {
     "data": {
      "text/plain": [
       "[1,\n",
       " 2,\n",
       " 3,\n",
       " 4,\n",
       " 2,\n",
       " 3,\n",
       " 4,\n",
       " 5,\n",
       " 6,\n",
       " 3,\n",
       " 4,\n",
       " 5,\n",
       " 6,\n",
       " 7,\n",
       " 4,\n",
       " 5,\n",
       " 44,\n",
       " 45,\n",
       " 23,\n",
       " 'k1',\n",
       " 'sudh',\n",
       " 'k2',\n",
       " 'ineuron',\n",
       " 'k3',\n",
       " 'kumar',\n",
       " 3,\n",
       " 6,\n",
       " 7,\n",
       " 8,\n",
       " 'ineuron',\n",
       " 'data scine']"
      ]
     },
     "execution_count": 97,
     "metadata": {},
     "output_type": "execute_result"
    }
   ],
   "source": [
    "b"
   ]
  },
  {
   "cell_type": "code",
   "execution_count": 99,
   "id": "71c6dbc8",
   "metadata": {},
   "outputs": [
    {
     "name": "stdout",
     "output_type": "stream",
     "text": [
      "k1\n",
      "sudh\n",
      "k2\n",
      "ineuron\n",
      "k3\n",
      "kumar\n",
      "ineuron\n",
      "data scine\n"
     ]
    }
   ],
   "source": [
    "for i in b:\n",
    "    if type(i)== str:\n",
    "        print(i)"
   ]
  },
  {
   "cell_type": "code",
   "execution_count": 100,
   "id": "684458d8",
   "metadata": {},
   "outputs": [
    {
     "name": "stdout",
     "output_type": "stream",
     "text": [
      "k1\n",
      "sudh\n",
      "k2\n",
      "ineuron\n",
      "k3\n",
      "kumar\n",
      "ineuron\n"
     ]
    }
   ],
   "source": [
    "# find alphanum\n",
    "for i in b:\n",
    "    if type(i)== str:\n",
    "        if i.isalnum():\n",
    "            print(i)"
   ]
  },
  {
   "cell_type": "code",
   "execution_count": 101,
   "id": "9be7bed2",
   "metadata": {},
   "outputs": [],
   "source": [
    "#14, try to find out multiplication of all the numeric value in individual collection inside dataset"
   ]
  },
  {
   "cell_type": "code",
   "execution_count": 108,
   "id": "2ee5748d",
   "metadata": {},
   "outputs": [
    {
     "name": "stdout",
     "output_type": "stream",
     "text": [
      "39978623139840000\n"
     ]
    }
   ],
   "source": [
    "j = 1\n",
    "for i in b:\n",
    "    if type(i)== int:\n",
    "        j = j*i\n",
    "print(j)"
   ]
  },
  {
   "cell_type": "code",
   "execution_count": 109,
   "id": "7485f58c",
   "metadata": {},
   "outputs": [
    {
     "data": {
      "text/plain": [
       "[[1, 2, 3, 4],\n",
       " (2, 3, 4, 5, 6),\n",
       " (3, 4, 5, 6, 7),\n",
       " {4, 5, 23, 44, 45},\n",
       " {'k1': 'sudh', 'k2': 'ineuron', 'k3': 'kumar', 3: 6, 7: 8},\n",
       " ['ineuron', 'data scine']]"
      ]
     },
     "execution_count": 109,
     "metadata": {},
     "output_type": "execute_result"
    }
   ],
   "source": [
    "l"
   ]
  },
  {
   "cell_type": "code",
   "execution_count": 114,
   "id": "11026592",
   "metadata": {},
   "outputs": [
    {
     "name": "stdout",
     "output_type": "stream",
     "text": [
      "<class 'list'> : 24\n",
      "<class 'tuple'> : 720\n",
      "<class 'tuple'> : 2520\n",
      "<class 'set'> : 910800\n",
      "<class 'dict'> : 1008\n",
      "<class 'list'> : 1\n"
     ]
    }
   ],
   "source": [
    "\n",
    "for i in l:\n",
    "    m= 1\n",
    "    if type(i)== list or type(i)==tuple or type(i)== set:\n",
    "        for j in i :\n",
    "            if type(j)== int:\n",
    "                m = m*j\n",
    "        print(type(i), ':', m)\n",
    "    if type(i)== dict:\n",
    "        for k in i.items():\n",
    "            for n in k :\n",
    "                if type(n)== int:\n",
    "                    m = m*n\n",
    "        print(type(i), ':', m)"
   ]
  },
  {
   "cell_type": "code",
   "execution_count": 115,
   "id": "80dd60b2",
   "metadata": {},
   "outputs": [],
   "source": [
    "#15, try to unwrap all the collection inside collection and creat a flat list "
   ]
  },
  {
   "cell_type": "code",
   "execution_count": 137,
   "id": "52478fa0",
   "metadata": {},
   "outputs": [],
   "source": [
    "a = []\n",
    "for i in l:\n",
    "    if type(i)== list or type(i)== tuple or type(i)== set:\n",
    "        for j in i :\n",
    "            if type(j)== int or type(j)== str :\n",
    "                a.append(j)\n",
    "\n",
    "    if type(i)== dict:\n",
    "        for k in i.items() :\n",
    "            for g in k :\n",
    "                if type(g)== str or type(g)== int:\n",
    "                    a.append(g)"
   ]
  },
  {
   "cell_type": "markdown",
   "id": "a2b67de3",
   "metadata": {},
   "source": [
    "# Task04, Questions"
   ]
  },
  {
   "cell_type": "raw",
   "id": "7b329e3c",
   "metadata": {},
   "source": [
    " QuestionS\n",
    " \n",
    "q1 : Try to print this by using while loop \n",
    "* \n",
    "* * \n",
    "* * * \n",
    "* * * * \n",
    "* * * * * \n",
    "* * * * * * \n",
    "* * * * * * * \n",
    "* * * * * * * * \n",
    "* * * * * * * * * \n",
    "\n",
    "q2 : try to print below by using while loop : \n",
    "        \n",
    "A\n",
    "B H \n",
    "C I N\n",
    "D J o S\n",
    "E K p T W\n",
    "F L Q U X z\n",
    "G M R V Y \n",
    "\n",
    "q3 : Try to print all the number divisible by 3 in between a range of 40 - 400\n",
    "    \n",
    "q4 : Try to filter out all the vowels form below text by using while loop : \n",
    " \"\"\"Python is a high-level, interpreted, general-purpose programming language. Its design philosophy emphasizes code readability with the use of significant indentation.[32]\n",
    "\n",
    "Python is dynamically-typed and garbage-collected. It supports multiple programming paradigms, including structured (particularly procedural), object-oriented and functional programming. It is often described as a \"batteries included\" language due to its comprehensive standard library.[33][34]\n",
    "\n",
    "Guido van Rossum began working on Python in the late 1980s as a successor to the ABC programming language and first released it in 1991 as Python 0.9.0.[35] Python 2.0 was released in 2000 and introduced new features such as list comprehensions, cycle-detecting garbage collection, reference counting, and Unicode support. Python 3.0, released in 2008, was a major revision that is not completely backward-compatible with earlier versions. Python 2 was discontinued with version 2.7.18 in 2020.[36]\n",
    "\n",
    "Python consistently ranks as one of the most popular programming languagesc\"\"\" \n",
    "\n",
    "\n",
    "q5 : Try to generate all the even number between 1- 1000\n",
    "\n",
    "q6 : Define a function for all the above problem statememnt  . \n",
    "    \n",
    "q7 : write a code to get a time of your system \n",
    "\n",
    "q8 : Write a code to fetch date form your system \n",
    "\n",
    "q9 : Write a code to send a mail to your friend \n",
    "\n",
    "q10 : write a code to trigger alarm for you at scheduled time \n",
    "\n",
    "q11 : write a code to check ip address of your system \n",
    "\n",
    "q12 : Write a code to check a perticular installation in your system\n",
    "\n",
    "q13 : Write a code to convert any text in to voice \n",
    "\n",
    "q14 : you have to write a fun which will take string and return a len of \n",
    "it without using a inbuilt fun len\n",
    "\n",
    "q15 :write a fun which will be able to print an index of all premitive element which you will pass \n",
    "\n",
    "q16 : Write a fun which will take input as a dict and give me out as a list of all the values \n",
    "even in case of 2 level nesting it should work . \n",
    "\n",
    "q17 : write a function whihc will take multiple list as a input and give me concatnation of all the element as \n",
    "and output\n",
    "\n",
    "q18 : Write a function which will whould return list of all the file name from a directory . \n",
    "\n",
    "q19 : write a function whihc will be able to read a image file and show it to you .\n",
    "    \n",
    "q20 : write a function by which you will be able to append two PDF files . \n",
    "    \n",
    "q21 : write a function which can help you to filter only word file from a directory . \n",
    "    \n",
    "q22 : write a function which can read video file and play for you . \n",
    "    \n",
    "q23 : write a function which will be able to shutdonw your system . \n",
    "\n",
    "q24 : Write a function which will whould return list of all the file name from a directory . \n",
    "\n",
    "q25 : write a function whihc will be able to access your mail . \n",
    "        "
   ]
  },
  {
   "cell_type": "markdown",
   "id": "f3fbfb82",
   "metadata": {},
   "source": [
    "# Task 04, Answers"
   ]
  },
  {
   "cell_type": "raw",
   "id": "3d0cb71b",
   "metadata": {},
   "source": [
    "#1,Try to print this by using while loop\n",
    "*\n",
    "* *\n",
    "* * *\n",
    "* * * *\n",
    "* * * * * \n",
    "* * * * * * \n",
    "* * * * * * *\n",
    "* * * * * * * *\n",
    "* * * * * * * * *"
   ]
  },
  {
   "cell_type": "code",
   "execution_count": 5,
   "id": "1af77fd2",
   "metadata": {},
   "outputs": [
    {
     "name": "stdout",
     "output_type": "stream",
     "text": [
      "* \n",
      "* * \n",
      "* * * \n",
      "* * * * \n",
      "* * * * * \n",
      "* * * * * * \n",
      "* * * * * * * \n",
      "* * * * * * * * \n",
      "* * * * * * * * * \n"
     ]
    }
   ],
   "source": [
    "i =  9\n",
    "n =1 \n",
    "while n <=i :\n",
    "    print('* ' * n)\n",
    "    n = n+1"
   ]
  },
  {
   "cell_type": "code",
   "execution_count": 3,
   "id": "287572ed",
   "metadata": {},
   "outputs": [
    {
     "name": "stdout",
     "output_type": "stream",
     "text": [
      "* \n",
      "* * \n",
      "* * * \n",
      "* * * * \n",
      "* * * * * \n",
      "* * * * * * \n",
      "* * * * * * * \n",
      "* * * * * * * * \n",
      "* * * * * * * * * \n"
     ]
    }
   ],
   "source": [
    "for i in range(1,10):\n",
    "    print('* '* i)"
   ]
  },
  {
   "cell_type": "raw",
   "id": "d3d5c39e",
   "metadata": {},
   "source": [
    "2, try to print beelow by  using while loop :\n",
    "A\n",
    "B H\n",
    "C I N\n",
    "D J O S\n",
    "E K P T W\n",
    "F L Q U X Z\n",
    "G M R V Y "
   ]
  },
  {
   "cell_type": "code",
   "execution_count": 31,
   "id": "8c1ee76f",
   "metadata": {},
   "outputs": [
    {
     "data": {
      "text/plain": [
       "'O'"
      ]
     },
     "execution_count": 31,
     "metadata": {},
     "output_type": "execute_result"
    }
   ],
   "source": [
    "chr(79)"
   ]
  },
  {
   "cell_type": "code",
   "execution_count": 3,
   "id": "6ae077a8",
   "metadata": {},
   "outputs": [
    {
     "name": "stdout",
     "output_type": "stream",
     "text": [
      "A \n",
      "B H \n",
      "C I N \n",
      "D J O S \n",
      "E K P T W \n",
      "F L Q U X Z \n",
      "G M R V Y \n"
     ]
    }
   ],
   "source": [
    "i =0\n",
    "while i <7:\n",
    "    c=65+i\n",
    "    j=0\n",
    "    while j<(i+1):\n",
    "        if c==91:\n",
    "            break\n",
    "        print(chr(c), end=\" \")\n",
    "        c=c+6-j\n",
    "        j+=1\n",
    "    i +=1\n",
    "    print()"
   ]
  },
  {
   "cell_type": "code",
   "execution_count": null,
   "id": "00b46aea",
   "metadata": {},
   "outputs": [],
   "source": [
    "#3Try to print all the number divisible by 3 in between a range of 40 - 400"
   ]
  },
  {
   "cell_type": "code",
   "execution_count": 11,
   "id": "2fef32de",
   "metadata": {},
   "outputs": [
    {
     "name": "stdout",
     "output_type": "stream",
     "text": [
      "42\n",
      "45\n",
      "48\n",
      "51\n",
      "54\n",
      "57\n",
      "60\n",
      "63\n",
      "66\n",
      "69\n",
      "72\n",
      "75\n",
      "78\n",
      "81\n",
      "84\n",
      "87\n",
      "90\n",
      "93\n",
      "96\n",
      "99\n",
      "102\n",
      "105\n",
      "108\n",
      "111\n",
      "114\n",
      "117\n",
      "120\n",
      "123\n",
      "126\n",
      "129\n",
      "132\n",
      "135\n",
      "138\n",
      "141\n",
      "144\n",
      "147\n",
      "150\n",
      "153\n",
      "156\n",
      "159\n",
      "162\n",
      "165\n",
      "168\n",
      "171\n",
      "174\n",
      "177\n",
      "180\n",
      "183\n",
      "186\n",
      "189\n",
      "192\n",
      "195\n",
      "198\n",
      "201\n",
      "204\n",
      "207\n",
      "210\n",
      "213\n",
      "216\n",
      "219\n",
      "222\n",
      "225\n",
      "228\n",
      "231\n",
      "234\n",
      "237\n",
      "240\n",
      "243\n",
      "246\n",
      "249\n",
      "252\n",
      "255\n",
      "258\n",
      "261\n",
      "264\n",
      "267\n",
      "270\n",
      "273\n",
      "276\n",
      "279\n",
      "282\n",
      "285\n",
      "288\n",
      "291\n",
      "294\n",
      "297\n",
      "300\n",
      "303\n",
      "306\n",
      "309\n",
      "312\n",
      "315\n",
      "318\n",
      "321\n",
      "324\n",
      "327\n",
      "330\n",
      "333\n",
      "336\n",
      "339\n",
      "342\n",
      "345\n",
      "348\n",
      "351\n",
      "354\n",
      "357\n",
      "360\n",
      "363\n",
      "366\n",
      "369\n",
      "372\n",
      "375\n",
      "378\n",
      "381\n",
      "384\n",
      "387\n",
      "390\n",
      "393\n",
      "396\n",
      "399\n"
     ]
    }
   ],
   "source": [
    "#using while loop\n",
    "i = 40\n",
    "while i <=400:\n",
    "    if i % 3 ==0:\n",
    "        print(i)\n",
    "    i+=1\n",
    "        "
   ]
  },
  {
   "cell_type": "code",
   "execution_count": 14,
   "id": "63f3e7ce",
   "metadata": {},
   "outputs": [
    {
     "name": "stdout",
     "output_type": "stream",
     "text": [
      "42\n",
      "45\n",
      "48\n",
      "51\n",
      "54\n",
      "57\n",
      "60\n",
      "63\n",
      "66\n",
      "69\n",
      "72\n",
      "75\n",
      "78\n",
      "81\n",
      "84\n",
      "87\n",
      "90\n",
      "93\n",
      "96\n",
      "99\n",
      "102\n",
      "105\n",
      "108\n",
      "111\n",
      "114\n",
      "117\n",
      "120\n",
      "123\n",
      "126\n",
      "129\n",
      "132\n",
      "135\n",
      "138\n",
      "141\n",
      "144\n",
      "147\n",
      "150\n",
      "153\n",
      "156\n",
      "159\n",
      "162\n",
      "165\n",
      "168\n",
      "171\n",
      "174\n",
      "177\n",
      "180\n",
      "183\n",
      "186\n",
      "189\n",
      "192\n",
      "195\n",
      "198\n",
      "201\n",
      "204\n",
      "207\n",
      "210\n",
      "213\n",
      "216\n",
      "219\n",
      "222\n",
      "225\n",
      "228\n",
      "231\n",
      "234\n",
      "237\n",
      "240\n",
      "243\n",
      "246\n",
      "249\n",
      "252\n",
      "255\n",
      "258\n",
      "261\n",
      "264\n",
      "267\n",
      "270\n",
      "273\n",
      "276\n",
      "279\n",
      "282\n",
      "285\n",
      "288\n",
      "291\n",
      "294\n",
      "297\n",
      "300\n",
      "303\n",
      "306\n",
      "309\n",
      "312\n",
      "315\n",
      "318\n",
      "321\n",
      "324\n",
      "327\n",
      "330\n",
      "333\n",
      "336\n",
      "339\n",
      "342\n",
      "345\n",
      "348\n",
      "351\n",
      "354\n",
      "357\n",
      "360\n",
      "363\n",
      "366\n",
      "369\n",
      "372\n",
      "375\n",
      "378\n",
      "381\n",
      "384\n",
      "387\n",
      "390\n",
      "393\n",
      "396\n",
      "399\n"
     ]
    }
   ],
   "source": [
    "#usinf for loop\n",
    "for i in range(40, 400):\n",
    "    if i % 3==0:\n",
    "        print(i)\n",
    "    i+=1"
   ]
  },
  {
   "cell_type": "raw",
   "id": "8e3d7db4",
   "metadata": {},
   "source": [
    "#4, find vowels out of below string(AEIOU)"
   ]
  },
  {
   "cell_type": "code",
   "execution_count": 33,
   "id": "5d21003a",
   "metadata": {},
   "outputs": [],
   "source": [
    "s = \"Python is a high-level, interpreted, general-purpose programming language. Its design philosophy emphasizes code readability with the use of significant indentation. Python is dynamically-typed and garbage-collected.\""
   ]
  },
  {
   "cell_type": "code",
   "execution_count": 3,
   "id": "ae2c95d1",
   "metadata": {},
   "outputs": [
    {
     "name": "stdout",
     "output_type": "stream",
     "text": [
      "o\n",
      "i\n",
      "a\n",
      "i\n",
      "e\n",
      "e\n",
      "i\n",
      "e\n",
      "e\n",
      "e\n",
      "e\n",
      "e\n",
      "a\n",
      "u\n",
      "o\n",
      "e\n",
      "o\n",
      "a\n",
      "i\n",
      "a\n",
      "u\n",
      "a\n",
      "e\n",
      "i\n",
      "e\n",
      "i\n",
      "i\n",
      "o\n",
      "o\n",
      "e\n",
      "a\n",
      "i\n",
      "e\n",
      "o\n",
      "e\n",
      "e\n",
      "a\n",
      "a\n",
      "i\n",
      "i\n",
      "i\n",
      "e\n",
      "u\n",
      "e\n",
      "o\n",
      "i\n",
      "i\n",
      "i\n",
      "a\n",
      "i\n",
      "e\n",
      "a\n",
      "i\n",
      "o\n",
      "o\n",
      "i\n",
      "a\n",
      "i\n",
      "a\n",
      "e\n",
      "a\n",
      "a\n",
      "a\n",
      "e\n",
      "o\n",
      "e\n",
      "e\n"
     ]
    }
   ],
   "source": [
    "i = 0\n",
    "v = 'aeiou'\n",
    "s = s.lower()\n",
    "while i <len(s):\n",
    "    if s[i] in v :\n",
    "        print(s[i])\n",
    "    i+=1"
   ]
  },
  {
   "cell_type": "raw",
   "id": "8ec673de",
   "metadata": {},
   "source": [
    "#5 Try to  generate all the even number fro 1 to 1000"
   ]
  },
  {
   "cell_type": "code",
   "execution_count": 5,
   "id": "d59d5250",
   "metadata": {},
   "outputs": [
    {
     "name": "stdout",
     "output_type": "stream",
     "text": [
      "2\n",
      "4\n",
      "6\n",
      "8\n",
      "10\n",
      "12\n",
      "14\n",
      "16\n",
      "18\n",
      "20\n",
      "22\n",
      "24\n",
      "26\n",
      "28\n",
      "30\n",
      "32\n",
      "34\n",
      "36\n",
      "38\n",
      "40\n",
      "42\n",
      "44\n",
      "46\n",
      "48\n",
      "50\n",
      "52\n",
      "54\n",
      "56\n",
      "58\n",
      "60\n",
      "62\n",
      "64\n",
      "66\n",
      "68\n",
      "70\n",
      "72\n",
      "74\n",
      "76\n",
      "78\n",
      "80\n",
      "82\n",
      "84\n",
      "86\n",
      "88\n",
      "90\n",
      "92\n",
      "94\n",
      "96\n",
      "98\n",
      "100\n",
      "102\n",
      "104\n",
      "106\n",
      "108\n",
      "110\n",
      "112\n",
      "114\n",
      "116\n",
      "118\n",
      "120\n",
      "122\n",
      "124\n",
      "126\n",
      "128\n",
      "130\n",
      "132\n",
      "134\n",
      "136\n",
      "138\n",
      "140\n",
      "142\n",
      "144\n",
      "146\n",
      "148\n",
      "150\n",
      "152\n",
      "154\n",
      "156\n",
      "158\n",
      "160\n",
      "162\n",
      "164\n",
      "166\n",
      "168\n",
      "170\n",
      "172\n",
      "174\n",
      "176\n",
      "178\n",
      "180\n",
      "182\n",
      "184\n",
      "186\n",
      "188\n",
      "190\n",
      "192\n",
      "194\n",
      "196\n",
      "198\n",
      "200\n",
      "202\n",
      "204\n",
      "206\n",
      "208\n",
      "210\n",
      "212\n",
      "214\n",
      "216\n",
      "218\n",
      "220\n",
      "222\n",
      "224\n",
      "226\n",
      "228\n",
      "230\n",
      "232\n",
      "234\n",
      "236\n",
      "238\n",
      "240\n",
      "242\n",
      "244\n",
      "246\n",
      "248\n",
      "250\n",
      "252\n",
      "254\n",
      "256\n",
      "258\n",
      "260\n",
      "262\n",
      "264\n",
      "266\n",
      "268\n",
      "270\n",
      "272\n",
      "274\n",
      "276\n",
      "278\n",
      "280\n",
      "282\n",
      "284\n",
      "286\n",
      "288\n",
      "290\n",
      "292\n",
      "294\n",
      "296\n",
      "298\n",
      "300\n",
      "302\n",
      "304\n",
      "306\n",
      "308\n",
      "310\n",
      "312\n",
      "314\n",
      "316\n",
      "318\n",
      "320\n",
      "322\n",
      "324\n",
      "326\n",
      "328\n",
      "330\n",
      "332\n",
      "334\n",
      "336\n",
      "338\n",
      "340\n",
      "342\n",
      "344\n",
      "346\n",
      "348\n",
      "350\n",
      "352\n",
      "354\n",
      "356\n",
      "358\n",
      "360\n",
      "362\n",
      "364\n",
      "366\n",
      "368\n",
      "370\n",
      "372\n",
      "374\n",
      "376\n",
      "378\n",
      "380\n",
      "382\n",
      "384\n",
      "386\n",
      "388\n",
      "390\n",
      "392\n",
      "394\n",
      "396\n",
      "398\n",
      "400\n",
      "402\n",
      "404\n",
      "406\n",
      "408\n",
      "410\n",
      "412\n",
      "414\n",
      "416\n",
      "418\n",
      "420\n",
      "422\n",
      "424\n",
      "426\n",
      "428\n",
      "430\n",
      "432\n",
      "434\n",
      "436\n",
      "438\n",
      "440\n",
      "442\n",
      "444\n",
      "446\n",
      "448\n",
      "450\n",
      "452\n",
      "454\n",
      "456\n",
      "458\n",
      "460\n",
      "462\n",
      "464\n",
      "466\n",
      "468\n",
      "470\n",
      "472\n",
      "474\n",
      "476\n",
      "478\n",
      "480\n",
      "482\n",
      "484\n",
      "486\n",
      "488\n",
      "490\n",
      "492\n",
      "494\n",
      "496\n",
      "498\n",
      "500\n",
      "502\n",
      "504\n",
      "506\n",
      "508\n",
      "510\n",
      "512\n",
      "514\n",
      "516\n",
      "518\n",
      "520\n",
      "522\n",
      "524\n",
      "526\n",
      "528\n",
      "530\n",
      "532\n",
      "534\n",
      "536\n",
      "538\n",
      "540\n",
      "542\n",
      "544\n",
      "546\n",
      "548\n",
      "550\n",
      "552\n",
      "554\n",
      "556\n",
      "558\n",
      "560\n",
      "562\n",
      "564\n",
      "566\n",
      "568\n",
      "570\n",
      "572\n",
      "574\n",
      "576\n",
      "578\n",
      "580\n",
      "582\n",
      "584\n",
      "586\n",
      "588\n",
      "590\n",
      "592\n",
      "594\n",
      "596\n",
      "598\n",
      "600\n",
      "602\n",
      "604\n",
      "606\n",
      "608\n",
      "610\n",
      "612\n",
      "614\n",
      "616\n",
      "618\n",
      "620\n",
      "622\n",
      "624\n",
      "626\n",
      "628\n",
      "630\n",
      "632\n",
      "634\n",
      "636\n",
      "638\n",
      "640\n",
      "642\n",
      "644\n",
      "646\n",
      "648\n",
      "650\n",
      "652\n",
      "654\n",
      "656\n",
      "658\n",
      "660\n",
      "662\n",
      "664\n",
      "666\n",
      "668\n",
      "670\n",
      "672\n",
      "674\n",
      "676\n",
      "678\n",
      "680\n",
      "682\n",
      "684\n",
      "686\n",
      "688\n",
      "690\n",
      "692\n",
      "694\n",
      "696\n",
      "698\n",
      "700\n",
      "702\n",
      "704\n",
      "706\n",
      "708\n",
      "710\n",
      "712\n",
      "714\n",
      "716\n",
      "718\n",
      "720\n",
      "722\n",
      "724\n",
      "726\n",
      "728\n",
      "730\n",
      "732\n",
      "734\n",
      "736\n",
      "738\n",
      "740\n",
      "742\n",
      "744\n",
      "746\n",
      "748\n",
      "750\n",
      "752\n",
      "754\n",
      "756\n",
      "758\n",
      "760\n",
      "762\n",
      "764\n",
      "766\n",
      "768\n",
      "770\n",
      "772\n",
      "774\n",
      "776\n",
      "778\n",
      "780\n",
      "782\n",
      "784\n",
      "786\n",
      "788\n",
      "790\n",
      "792\n",
      "794\n",
      "796\n",
      "798\n",
      "800\n",
      "802\n",
      "804\n",
      "806\n",
      "808\n",
      "810\n",
      "812\n",
      "814\n",
      "816\n",
      "818\n",
      "820\n",
      "822\n",
      "824\n",
      "826\n",
      "828\n",
      "830\n",
      "832\n",
      "834\n",
      "836\n",
      "838\n",
      "840\n",
      "842\n",
      "844\n",
      "846\n",
      "848\n",
      "850\n",
      "852\n",
      "854\n",
      "856\n",
      "858\n",
      "860\n",
      "862\n",
      "864\n",
      "866\n",
      "868\n",
      "870\n",
      "872\n",
      "874\n",
      "876\n",
      "878\n",
      "880\n",
      "882\n",
      "884\n",
      "886\n",
      "888\n",
      "890\n",
      "892\n",
      "894\n",
      "896\n",
      "898\n",
      "900\n",
      "902\n",
      "904\n",
      "906\n",
      "908\n",
      "910\n",
      "912\n",
      "914\n",
      "916\n",
      "918\n",
      "920\n",
      "922\n",
      "924\n",
      "926\n",
      "928\n",
      "930\n",
      "932\n",
      "934\n",
      "936\n",
      "938\n",
      "940\n",
      "942\n",
      "944\n",
      "946\n",
      "948\n",
      "950\n",
      "952\n",
      "954\n",
      "956\n",
      "958\n",
      "960\n",
      "962\n",
      "964\n",
      "966\n",
      "968\n",
      "970\n",
      "972\n",
      "974\n",
      "976\n",
      "978\n",
      "980\n",
      "982\n",
      "984\n",
      "986\n",
      "988\n",
      "990\n",
      "992\n",
      "994\n",
      "996\n",
      "998\n",
      "1000\n"
     ]
    }
   ],
   "source": [
    "i = 1\n",
    "while i <= 1000:\n",
    "    if i % 2 == 0:\n",
    "        print(i)\n",
    "    i+=1"
   ]
  },
  {
   "cell_type": "raw",
   "id": "501da583",
   "metadata": {},
   "source": [
    "#6. Define a function for all above function and convert it"
   ]
  },
  {
   "cell_type": "code",
   "execution_count": 34,
   "id": "81e6aadb",
   "metadata": {},
   "outputs": [
    {
     "name": "stdout",
     "output_type": "stream",
     "text": [
      "o\n",
      "i\n",
      "a\n",
      "i\n",
      "e\n",
      "e\n",
      "i\n",
      "e\n",
      "e\n",
      "e\n",
      "e\n",
      "e\n",
      "a\n",
      "u\n",
      "o\n",
      "e\n",
      "o\n",
      "a\n",
      "i\n",
      "a\n",
      "u\n",
      "a\n",
      "e\n",
      "i\n",
      "e\n",
      "i\n",
      "i\n",
      "o\n",
      "o\n",
      "e\n",
      "a\n",
      "i\n",
      "e\n",
      "o\n",
      "e\n",
      "e\n",
      "a\n",
      "a\n",
      "i\n",
      "i\n",
      "i\n",
      "e\n",
      "u\n",
      "e\n",
      "o\n",
      "i\n",
      "i\n",
      "i\n",
      "a\n",
      "i\n",
      "e\n",
      "a\n",
      "i\n",
      "o\n",
      "o\n",
      "i\n",
      "a\n",
      "i\n",
      "a\n",
      "e\n",
      "a\n",
      "a\n",
      "a\n",
      "e\n",
      "o\n",
      "e\n",
      "e\n"
     ]
    }
   ],
   "source": [
    "def vowel(s):\n",
    "    \n",
    "    i = 0\n",
    "    v = 'aeiou'\n",
    "    s = s.lower()\n",
    "    while i <len(s):\n",
    "        if s[i] in v :\n",
    "            print(s[i])\n",
    "        i = i+1\n",
    "vowel(s)  "
   ]
  },
  {
   "cell_type": "code",
   "execution_count": 11,
   "id": "64f62000",
   "metadata": {},
   "outputs": [
    {
     "name": "stdout",
     "output_type": "stream",
     "text": [
      "a\n",
      "a\n",
      "a\n",
      "a\n",
      "a\n",
      "i\n",
      "o\n",
      "e\n",
      "i\n",
      "e\n",
      "a\n",
      "u\n",
      "a\n"
     ]
    }
   ],
   "source": [
    "x= 'sharnabasappa kioeri beklaumppa'\n",
    "vowel(x)"
   ]
  },
  {
   "cell_type": "raw",
   "id": "1e137282",
   "metadata": {},
   "source": [
    "#7, write a code to get a time of your system,(hr min sec milisec)"
   ]
  },
  {
   "cell_type": "code",
   "execution_count": 37,
   "id": "e3da14f5",
   "metadata": {},
   "outputs": [
    {
     "data": {
      "text/plain": [
       "datetime.time(6, 49, 19, 536419)"
      ]
     },
     "execution_count": 37,
     "metadata": {},
     "output_type": "execute_result"
    }
   ],
   "source": [
    "import datetime\n",
    "datetime.datetime.now().time()"
   ]
  },
  {
   "cell_type": "code",
   "execution_count": 38,
   "id": "12c50a36",
   "metadata": {},
   "outputs": [
    {
     "data": {
      "text/plain": [
       "datetime.time(6, 49, 33, 64468)"
      ]
     },
     "execution_count": 38,
     "metadata": {},
     "output_type": "execute_result"
    }
   ],
   "source": [
    "import datetime\n",
    "datetime.datetime.now().time()"
   ]
  },
  {
   "cell_type": "code",
   "execution_count": 20,
   "id": "5bf96be7",
   "metadata": {},
   "outputs": [
    {
     "data": {
      "text/plain": [
       "datetime.date(2022, 7, 19)"
      ]
     },
     "execution_count": 20,
     "metadata": {},
     "output_type": "execute_result"
    }
   ],
   "source": [
    "import datetime\n",
    "datetime.datetime.now().date()"
   ]
  },
  {
   "cell_type": "code",
   "execution_count": 48,
   "id": "807cd0b0",
   "metadata": {},
   "outputs": [
    {
     "data": {
      "text/plain": [
       "datetime.datetime(2022, 8, 11, 6, 54, 32, 949899)"
      ]
     },
     "execution_count": 48,
     "metadata": {},
     "output_type": "execute_result"
    }
   ],
   "source": [
    "import datetime\n",
    "datetime.datetime.now()"
   ]
  },
  {
   "cell_type": "raw",
   "id": "c0cc9c8a",
   "metadata": {},
   "source": [
    "#8write a code to fetch date from system"
   ]
  },
  {
   "cell_type": "code",
   "execution_count": 21,
   "id": "c3348a82",
   "metadata": {},
   "outputs": [
    {
     "data": {
      "text/plain": [
       "datetime.date(2022, 7, 19)"
      ]
     },
     "execution_count": 21,
     "metadata": {},
     "output_type": "execute_result"
    }
   ],
   "source": [
    "import datetime\n",
    "datetime.date.today()"
   ]
  },
  {
   "cell_type": "raw",
   "id": "ff1f1f88",
   "metadata": {},
   "source": [
    "#9, write a code to send mail to your friend"
   ]
  },
  {
   "cell_type": "raw",
   "id": "8735d293",
   "metadata": {},
   "source": [
    "import smtplib\n",
    "server = smtplib.SMTP('smtp.gamil.com',587)\n",
    "\n",
    "server.starttls()\n",
    "\n",
    "server.login('sharnabasappak00@gmail.com',\"Sharan@1995\")\n",
    "\n",
    "\n",
    "server.sendmail('sharan88999@gmail.com','TEST MAIL from pythn')\n",
    "\n",
    "\n",
    "print('Mail Sent')"
   ]
  },
  {
   "cell_type": "raw",
   "id": "8e445fce",
   "metadata": {},
   "source": [
    "#10, write a code to triger alarm for you at scheduled time\n",
    "\n",
    "import time \n",
    "import playsound\n",
    "alarm_time = '10:22'\n",
    "if time.asctime()[10:-8] = = alarm_time :\n",
    "    absolute_path = os.path.abspath(\"texttovoice.mp3\")\n",
    "    print(absolute_path)\n",
    "    playsound.playsound(absolute_path)"
   ]
  },
  {
   "cell_type": "code",
   "execution_count": 50,
   "id": "c3cc857e",
   "metadata": {},
   "outputs": [
    {
     "name": "stdout",
     "output_type": "stream",
     "text": [
      "your ip adress is : 192.168.59.1\n",
      "your computer name is : DESKTOP-35H4C8F\n"
     ]
    }
   ],
   "source": [
    "#11, write a code to check IP of your system\n",
    "import socket\n",
    "host = socket.gethostname()\n",
    "ip = socket.gethostbyname(host)\n",
    "print('your ip adress is :', ip)\n",
    "print('your computer name is :', host)"
   ]
  },
  {
   "cell_type": "code",
   "execution_count": null,
   "id": "bb8ea00b",
   "metadata": {},
   "outputs": [],
   "source": [
    "#12, write a code to check a particular installation in you system"
   ]
  },
  {
   "cell_type": "code",
   "execution_count": 26,
   "id": "8b343d52",
   "metadata": {},
   "outputs": [
    {
     "ename": "ModuleNotFoundError",
     "evalue": "No module named 'winapps'",
     "output_type": "error",
     "traceback": [
      "\u001b[1;31m---------------------------------------------------------------------------\u001b[0m",
      "\u001b[1;31mModuleNotFoundError\u001b[0m                       Traceback (most recent call last)",
      "\u001b[1;32m~\\AppData\\Local\\Temp/ipykernel_10636/668140693.py\u001b[0m in \u001b[0;36m<module>\u001b[1;34m\u001b[0m\n\u001b[0;32m      1\u001b[0m \u001b[1;31m#12vwrite a code to check a particular installation in you system\u001b[0m\u001b[1;33m\u001b[0m\u001b[1;33m\u001b[0m\u001b[0m\n\u001b[1;32m----> 2\u001b[1;33m \u001b[1;32mimport\u001b[0m \u001b[0mwinapps\u001b[0m\u001b[1;33m\u001b[0m\u001b[1;33m\u001b[0m\u001b[0m\n\u001b[0m\u001b[0;32m      3\u001b[0m \u001b[0mlist\u001b[0m\u001b[1;33m(\u001b[0m\u001b[0mwinapps\u001b[0m\u001b[1;33m.\u001b[0m\u001b[0mlist_installed\u001b[0m\u001b[1;33m(\u001b[0m\u001b[1;33m)\u001b[0m\u001b[1;33m)\u001b[0m\u001b[1;33m\u001b[0m\u001b[1;33m\u001b[0m\u001b[0m\n",
      "\u001b[1;31mModuleNotFoundError\u001b[0m: No module named 'winapps'"
     ]
    }
   ],
   "source": [
    "import winapps\n",
    "list(winapps.list_installed())"
   ]
  },
  {
   "cell_type": "code",
   "execution_count": 27,
   "id": "384b7536",
   "metadata": {},
   "outputs": [
    {
     "name": "stdout",
     "output_type": "stream",
     "text": [
      "Collecting winappsNote: you may need to restart the kernel to use updated packages.\n",
      "  Downloading winapps-0.2.0-py3-none-any.whl (9.1 kB)\n",
      "Collecting plumbum<2.0,>=1.6\n",
      "  Downloading plumbum-1.7.2-py2.py3-none-any.whl (117 kB)\n",
      "Requirement already satisfied: pywin32 in c:\\users\\user\\anaconda3\\lib\\site-packages (from plumbum<2.0,>=1.6->winapps) (228)\n",
      "Installing collected packages: plumbum, winapps\n",
      "Successfully installed plumbum-1.7.2 winapps-0.2.0\n",
      "\n"
     ]
    }
   ],
   "source": [
    "pip install winapps"
   ]
  },
  {
   "cell_type": "code",
   "execution_count": 28,
   "id": "e848e61b",
   "metadata": {},
   "outputs": [
    {
     "data": {
      "text/plain": [
       "[InstalledApplication(name='Altair HyperWorks Desktop 13.0 (Local 64-bit)', version='13.0', install_date=None, install_location=WindowsPath('F:/hypermesh'), install_source=None, modify_path=None, publisher='Altair Engineering, Inc.', uninstall_string='\"F:\\\\hypermesh\\\\uninstalls\\\\Uninstall_HyperWorksDesktop13.0\\\\Uninstall_HyperWorksDesktop13.0.exe\"'),\n",
       " InstalledApplication(name='Autodesk AutoCAD 2016 - English', version='20.1.49.0', install_date=datetime.date(2018, 6, 20), install_location=WindowsPath('C:/Program Files/Autodesk/AutoCAD 2016'), install_source=None, modify_path=None, publisher='Autodesk', uninstall_string='C:\\\\Program Files\\\\Autodesk\\\\AutoCAD 2016\\\\Setup\\\\en-us\\\\Setup\\\\Setup.exe /P {5783F2D7-F001-0409-2102-0060B0CE6BBA} /M ACAD_MAIN /language en-US'),\n",
       " InstalledApplication(name='Autodesk Content Service', version='3.2.0.0', install_date=datetime.date(2018, 6, 20), install_location=WindowsPath('C:/Program Files/Autodesk/Content Service'), install_source=None, modify_path=None, publisher='Autodesk', uninstall_string='C:\\\\Program Files\\\\Autodesk\\\\Content Service\\\\Setup\\\\Setup.exe /P {A37CDB58-AAE8-0000-8C13-E0F7BACB0D5F} /M ContentService /LANG en-US'),\n",
       " InstalledApplication(name='Autodesk Inventor Professional 2019 - English', version='23.0.13600.0000', install_date=None, install_location=WindowsPath('D:/Program Files/Autodesk/Inventor 2019'), install_source=None, modify_path=None, publisher='Autodesk', uninstall_string='D:\\\\Program Files\\\\Autodesk\\\\Inventor 2019\\\\Setup\\\\en-US\\\\Setup\\\\Setup.exe /P {7F4DD591-2364-0001-0000-7107D70F3DB4} /M INVENTOR /LANG en-US'),\n",
       " InstalledApplication(name='Autodesk ReCap 2016', version='1.5.0.33', install_date=datetime.date(2018, 6, 20), install_location=WindowsPath('C:/Program Files/Autodesk/Autodesk ReCap 2016'), install_source=None, modify_path=None, publisher='Autodesk', uninstall_string='C:\\\\Program Files\\\\Autodesk\\\\Autodesk ReCap 2016\\\\Setup\\\\Setup.exe /P {F6FD1651-0000-1033-0102-387BAF9B3B0A} /M Autodesk_ReCap2016 /LANG en-US'),\n",
       " InstalledApplication(name='Dassault Systemes Software B20', version=None, install_date=None, install_location=None, install_source=None, modify_path=None, publisher=None, uninstall_string='\"C:\\\\Program Files (x86)\\\\Dassault Systemes\\\\B20\\\\intel_a\\\\code\\\\bin\\\\Uninstall.exe\" \"C:\\\\Program Files (x86)\\\\Dassault Systemes\\\\B20\" \"CODE\" \"GUI\" \"B20\" \"0\"'),\n",
       " InstalledApplication(name='Autodesk DWG TrueView 2019 - English', version='23.0.46.0', install_date=datetime.date(2018, 9, 15), install_location=WindowsPath('C:/Program Files/Autodesk/DWG TrueView 2019 - English'), install_source=None, modify_path=None, publisher='Autodesk', uninstall_string='C:\\\\Program Files\\\\Autodesk\\\\DWG TrueView 2019 - English\\\\Setup\\\\en-us\\\\Setup\\\\Setup.exe /P {28B89EEF-2028-0409-0100-CF3F3A09B77D} /M AOEM /language en-US'),\n",
       " InstalledApplication(name='Git', version='2.35.1.2', install_date=datetime.date(2022, 4, 7), install_location=WindowsPath('C:/Program Files/Git'), install_source=None, modify_path=None, publisher='The Git Development Community', uninstall_string='\"C:\\\\Program Files\\\\Git\\\\unins000.exe\"'),\n",
       " InstalledApplication(name='Microsoft Project - en-us', version='16.0.15330.20230', install_date=None, install_location=WindowsPath('C:/Program Files (x86)/Microsoft Office'), install_source=None, modify_path='\"C:\\\\Program Files\\\\Common Files\\\\Microsoft Shared\\\\ClickToRun\\\\OfficeClickToRun.exe\" scenario=repair platform=x86 culture=en-us', publisher='Microsoft Corporation', uninstall_string='\"C:\\\\Program Files\\\\Common Files\\\\Microsoft Shared\\\\ClickToRun\\\\OfficeClickToRun.exe\" scenario=install scenariosubtype=ARP sourcetype=None productstoremove=ProjectProRetail.16_en-us_x-none culture=en-us version.16=16.0'),\n",
       " InstalledApplication(name='Microsoft Office Professional Plus 2016 - en-us', version='16.0.15330.20230', install_date=None, install_location=WindowsPath('C:/Program Files (x86)/Microsoft Office'), install_source=None, modify_path='\"C:\\\\Program Files\\\\Common Files\\\\Microsoft Shared\\\\ClickToRun\\\\OfficeClickToRun.exe\" scenario=repair platform=x86 culture=en-us', publisher='Microsoft Corporation', uninstall_string='\"C:\\\\Program Files\\\\Common Files\\\\Microsoft Shared\\\\ClickToRun\\\\OfficeClickToRun.exe\" scenario=install scenariosubtype=ARP sourcetype=None productstoremove=ProplusRetail.16_en-us_x-none culture=en-us version.16=16.0'),\n",
       " InstalledApplication(name='Siemens PLM License Server', version='6.4.2.1', install_date=None, install_location=WindowsPath('C:/Program Files/Siemens/PLMLicenseServer'), install_source=None, modify_path=None, publisher='Siemens Product Lifecycle Management Software Inc.', uninstall_string='\"C:\\\\Program Files\\\\Siemens\\\\PLMLicenseServer\\\\UninstallerData\\\\Uninstall.exe\"'),\n",
       " InstalledApplication(name='Microsoft Visio - en-us', version='16.0.15330.20230', install_date=None, install_location=WindowsPath('C:/Program Files (x86)/Microsoft Office'), install_source=None, modify_path='\"C:\\\\Program Files\\\\Common Files\\\\Microsoft Shared\\\\ClickToRun\\\\OfficeClickToRun.exe\" scenario=repair platform=x86 culture=en-us', publisher='Microsoft Corporation', uninstall_string='\"C:\\\\Program Files\\\\Common Files\\\\Microsoft Shared\\\\ClickToRun\\\\OfficeClickToRun.exe\" scenario=install scenariosubtype=ARP sourcetype=None productstoremove=VisioProRetail.16_en-us_x-none culture=en-us version.16=16.0'),\n",
       " InstalledApplication(name='Vulkan Run Time Libraries 1.0.33.0', version='1.0.33.0', install_date=None, install_location=None, install_source=None, modify_path=None, publisher='LunarG, Inc.', uninstall_string='C:\\\\Program Files (x86)\\\\VulkanRT\\\\1.0.33.0\\\\Instance_2\\\\UninstallVulkanRT.exe'),\n",
       " InstalledApplication(name='WinRAR 5.71 (64-bit)', version='5.71.0', install_date=None, install_location=WindowsPath('C:/Program Files/WinRAR'), install_source=None, modify_path=None, publisher='win.rar GmbH', uninstall_string='C:\\\\Program Files\\\\WinRAR\\\\uninstall.exe'),\n",
       " InstalledApplication(name='Microsoft Visual C++ 2005 Redistributable (x64)', version='8.0.56336', install_date=datetime.date(2018, 7, 21), install_location='', install_source=WindowsPath('C:/Users/User/AppData/Local/Temp/IXP001.TMP'), modify_path='MsiExec.exe /X{071c9b48-7c32-4621-a0ac-3f809523288f}', publisher='Microsoft Corporation', uninstall_string='MsiExec.exe /X{071c9b48-7c32-4621-a0ac-3f809523288f}'),\n",
       " InstalledApplication(name='Siemens NX 10.0', version='10.0.0.24', install_date=datetime.date(2018, 6, 20), install_location=WindowsPath('C:/Program Files/Siemens/NX 10.0'), install_source=WindowsPath('C:/Users/User/Desktop/Siemens PLM NX 10.0.0.24 x64/Siemens PLM NX 10.0.0.24 x64/nx100'), modify_path='MsiExec.exe /I{11B4AD15-AE98-4618-B90A-562EC6875DC3}', publisher='Siemens', uninstall_string='MsiExec.exe /I{11B4AD15-AE98-4618-B90A-562EC6875DC3}'),\n",
       " InstalledApplication(name='Intel(R) Management Engine Components', version='11.7.0.1054', install_date=None, install_location=WindowsPath('C:/Program Files (x86)/Intel/Intel(R) Management Engine Components'), install_source=None, modify_path=None, publisher='Intel Corporation', uninstall_string='\"C:\\\\ProgramData\\\\Intel\\\\Package Cache\\\\{1CEAC85D-2590-4760-800F-8DE5E91F3700}\\\\Setup.exe\" -uninstall'),\n",
       " InstalledApplication(name='Microsoft Visual C++ 2010  x64 Redistributable - 10.0.40219', version='10.0.40219', install_date=datetime.date(2018, 7, 11), install_location='', install_source=WindowsPath('f:/c5e259753a45273b78df6653cc8a'), modify_path='MsiExec.exe /X{1D8E6291-B0D5-35EC-8441-6616F567A0F7}', publisher='Microsoft Corporation', uninstall_string='MsiExec.exe /X{1D8E6291-B0D5-35EC-8441-6616F567A0F7}'),\n",
       " InstalledApplication(name='PuTTY release 0.76 (64-bit)', version='0.76.0.0', install_date=datetime.date(2021, 12, 27), install_location='', install_source=WindowsPath('C:/Users/User/Downloads'), modify_path='MsiExec.exe /X{1E0D5689-40F1-4E46-ABBB-EAAC68B5CD89}', publisher='Simon Tatham', uninstall_string='MsiExec.exe /X{1E0D5689-40F1-4E46-ABBB-EAAC68B5CD89}'),\n",
       " InstalledApplication(name='MySQL Server 8.0', version='8.0.29', install_date=datetime.date(2022, 6, 1), install_location=WindowsPath('C:/Program Files/MySQL/MySQL Server 8.0'), install_source=WindowsPath('C:/ProgramData/MySQL/MySQL Installer for Windows/Product Cache'), modify_path='MsiExec.exe /I{2ABD2E86-C875-45CB-830F-9D3EC1AE01C6}', publisher='Oracle Corporation', uninstall_string='MsiExec.exe /I{2ABD2E86-C875-45CB-830F-9D3EC1AE01C6}'),\n",
       " InstalledApplication(name='MySQL Shell 8.0.29', version='8.0.29', install_date=datetime.date(2022, 6, 1), install_location=WindowsPath('C:/Program Files/MySQL/MySQL Shell 8.0'), install_source=WindowsPath('C:/ProgramData/MySQL/MySQL Installer for Windows/Product Cache'), modify_path='MsiExec.exe /X{401F296A-93D8-4D60-B82C-5BFD05255C30}', publisher='Oracle and/or its affiliates', uninstall_string='MsiExec.exe /X{401F296A-93D8-4D60-B82C-5BFD05255C30}'),\n",
       " InstalledApplication(name='Microsoft Visual C++ 2008 Redistributable - x64 9.0.30729.4148', version='9.0.30729.4148', install_date=datetime.date(2018, 6, 20), install_location='', install_source=WindowsPath('f:/70331893cd77ee0428'), modify_path='MsiExec.exe /X{4B6C7001-C7D6-3710-913E-5BC23FCE91E6}', publisher='Microsoft Corporation', uninstall_string='MsiExec.exe /X{4B6C7001-C7D6-3710-913E-5BC23FCE91E6}'),\n",
       " InstalledApplication(name='Autodesk BIM 360 Glue AutoCAD 2016 Add-in 64 bit', version='4.35.1742', install_date=datetime.date(2018, 6, 20), install_location='', install_source=WindowsPath('C:/Autodesk/AutoCAD_2016_English_Win_64bit_dlm/x64/Components/BIM360'), modify_path='MsiExec.exe /X{4BEE127E-95C4-434D-ABAC-65155192BB24}', publisher='Autodesk', uninstall_string='MsiExec.exe /X{4BEE127E-95C4-434D-ABAC-65155192BB24}'),\n",
       " InstalledApplication(name='Windows Setup Remediations (x64) (KB4023057)', version=None, install_date=None, install_location=None, install_source=None, modify_path=None, publisher=None, uninstall_string='%windir%\\\\system32\\\\sdbinst.exe -u \"C:\\\\WINDOWS\\\\AppPatch\\\\CustomSDB\\\\{5534e02f-0f5d-40dd-ba92-bea38d22384d}.sdb\"'),\n",
       " InstalledApplication(name='Microsoft Visual C++ 2008 Redistributable - x64 9.0.30729.6161', version='9.0.30729.6161', install_date=datetime.date(2018, 6, 20), install_location='', install_source=WindowsPath('f:/622b01abfaf2295db61152'), modify_path='MsiExec.exe /X{5FCE6D76-F5DC-37AB-B2B8-22AB8CEDB1D4}', publisher='Microsoft Corporation', uninstall_string='MsiExec.exe /X{5FCE6D76-F5DC-37AB-B2B8-22AB8CEDB1D4}'),\n",
       " InstalledApplication(name='Windows PC Health Check', version='3.6.2204.08001', install_date=datetime.date(2022, 4, 24), install_location='', install_source=WindowsPath('C:/WINDOWS/SoftwareDistribution/Download/2fda1c4d47efea89e1c8b0448ddf43c6/img'), modify_path='MsiExec.exe /X{6798C408-2636-448C-8AC6-F4E341102D27}', publisher='Microsoft Corporation', uninstall_string='MsiExec.exe /X{6798C408-2636-448C-8AC6-F4E341102D27}'),\n",
       " InstalledApplication(name='Backup and Sync from Google', version='3.57.4256.0809', install_date=datetime.date(2022, 2, 9), install_location='', install_source=WindowsPath('C:/Program Files (x86)/Google/Update/Install/{3B264674-A4A5-42B7-9D10-8514BE8E7B23}'), modify_path='MsiExec.exe /X{696895F7-52C7-4C9E-998B-C7E0CC907092}', publisher='Google, Inc.', uninstall_string='MsiExec.exe /X{696895F7-52C7-4C9E-998B-C7E0CC907092}'),\n",
       " InstalledApplication(name='Google Drive', version='61.0.1.0', install_date=None, install_location=WindowsPath('C:/Program Files/Google/Drive File Stream/61.0.1.0/GoogleDriveFS.exe'), install_source=None, modify_path=None, publisher='Google LLC', uninstall_string='C:\\\\Program Files\\\\Google\\\\Drive File Stream\\\\61.0.1.0\\\\uninstall.exe'),\n",
       " InstalledApplication(name='Microsoft SQL Server Native Client', version='9.00.4035.00', install_date=datetime.date(2019, 11, 24), install_location=WindowsPath('C:/Program Files/Microsoft SQL Server'), install_source=WindowsPath('C:/Users/User/AppData/Local/Temp/SQLExpress/setup'), modify_path='MsiExec.exe /I{79BF7CB8-1E09-489F-9547-DB3EE8EA3F16}', publisher='Microsoft Corporation', uninstall_string='MsiExec.exe /I{79BF7CB8-1E09-489F-9547-DB3EE8EA3F16}'),\n",
       " InstalledApplication(name='Microsoft Update Health Tools', version='3.67.0.0', install_date=datetime.date(2022, 4, 8), install_location='', install_source=WindowsPath('C:/WINDOWS/TEMP/24B7B577-003C-4848-98AA-89BA52DF7E6D'), modify_path='MsiExec.exe /X{7B1FCD52-8F6B-4F12-A143-361EA39F5E7C}', publisher='Microsoft Corporation', uninstall_string='MsiExec.exe /X{7B1FCD52-8F6B-4F12-A143-361EA39F5E7C}'),\n",
       " InstalledApplication(name='Autodesk Inventor Tutorials 2019', version='3.00.0', install_date=datetime.date(2018, 9, 15), install_location='', install_source=WindowsPath('C:/Autodesk/WI/Autodesk Inventor 2019/x64/LWS'), modify_path='MsiExec.exe /I{7B40899F-9ACC-0004-0000-C59D33C73C0F}', publisher='Autodesk', uninstall_string='MsiExec.exe /I{7B40899F-9ACC-0004-0000-C59D33C73C0F}'),\n",
       " InstalledApplication(name='Java(TM) SE Development Kit 17.0.1 (64-bit)', version='17.0.1.0', install_date=datetime.date(2021, 11, 28), install_location=WindowsPath('C:/Program Files/Java/jdk-17.0.1'), install_source=WindowsPath('C:/Users/User/AppData/LocalLow/Oracle/Java/jdk17.0.1_x64'), modify_path='MsiExec.exe /X{7ECAAC8F-FBBE-5265-BBF4-0AC48139FB26}', publisher='Oracle Corporation', uninstall_string='MsiExec.exe /X{7ECAAC8F-FBBE-5265-BBF4-0AC48139FB26}'),\n",
       " InstalledApplication(name='Microsoft Visual C++ 2008 Redistributable - x64 9.0.30729.17', version='9.0.30729', install_date=datetime.date(2019, 5, 22), install_location='', install_source=WindowsPath('e:/668978ddabe5ee78795dc164d36896'), modify_path='MsiExec.exe /X{8220EEFE-38CD-377E-8595-13398D740ACE}', publisher='Microsoft Corporation', uninstall_string='MsiExec.exe /X{8220EEFE-38CD-377E-8595-13398D740ACE}'),\n",
       " InstalledApplication(name='Microsoft SQL Server VSS Writer', version='9.00.4035.00', install_date=datetime.date(2019, 11, 24), install_location=WindowsPath('C:/Program Files/Microsoft SQL Server'), install_source=WindowsPath('C:/Users/User/AppData/Local/Temp/SQLExpress/Setup'), modify_path='MsiExec.exe /I{86177DAE-38B1-49DD-912E-35CB703AB779}', publisher='Microsoft Corporation', uninstall_string='MsiExec.exe /I{86177DAE-38B1-49DD-912E-35CB703AB779}'),\n",
       " InstalledApplication(name='Dolby Audio X2 Windows API SDK', version='0.8.8.87', install_date=datetime.date(2020, 11, 30), install_location=WindowsPath('C:/Program Files/Dolby/Dolby DAX2'), install_source=WindowsPath('C:/Program Files (x86)/Realtek/Audio/DAX2'), modify_path='MsiExec.exe /X{8738A898-221B-4279-BC87-FEF7938022C1}', publisher='Dolby Laboratories, Inc.', uninstall_string='MsiExec.exe /X{8738A898-221B-4279-BC87-FEF7938022C1}'),\n",
       " InstalledApplication(name='MySQL Workbench 8.0 CE', version='8.0.29', install_date=datetime.date(2022, 6, 1), install_location=WindowsPath('C:/Program Files/MySQL/MySQL Workbench 8.0'), install_source=WindowsPath('C:/ProgramData/MySQL/MySQL Installer for Windows/Product Cache'), modify_path='MsiExec.exe /I{90789BBF-2DB7-4B1F-AD36-B850B683376C}', publisher='Oracle Corporation', uninstall_string='MsiExec.exe /I{90789BBF-2DB7-4B1F-AD36-B850B683376C}'),\n",
       " InstalledApplication(name='Oracle VM VirtualBox 6.1.30', version='6.1.30', install_date=datetime.date(2021, 12, 20), install_location='', install_source=WindowsPath('C:/Users/User/AppData/Local/Temp/VirtualBox'), modify_path='MsiExec.exe /I{9F1FFDC2-9B49-41F3-B6F1-18DC368D6CA2}', publisher='Oracle Corporation', uninstall_string='MsiExec.exe /I{9F1FFDC2-9B49-41F3-B6F1-18DC368D6CA2}'),\n",
       " InstalledApplication(name='Microsoft Visual C++ 2005 Redistributable (x64)', version='8.0.61000', install_date=datetime.date(2018, 7, 27), install_location='', install_source=WindowsPath('C:/WINDOWS/TEMP/IXP000.TMP'), modify_path='MsiExec.exe /X{ad8a2fa1-06e7-4b0d-927d-6e54b3d31028}', publisher='Microsoft Corporation', uninstall_string='MsiExec.exe /X{ad8a2fa1-06e7-4b0d-927d-6e54b3d31028}'),\n",
       " InstalledApplication(name='A360 Desktop', version='6.0.3.1100', install_date=datetime.date(2018, 6, 20), install_location='', install_source=WindowsPath('C:/Autodesk/AutoCAD_2016_English_Win_64bit_dlm/x64/Components/Cloudsync'), modify_path='MsiExec.exe /X{B209E611-5511-4AD6-B4B3-9D36F93DBCD4}', publisher='Autodesk', uninstall_string='MsiExec.exe /X{B209E611-5511-4AD6-B4B3-9D36F93DBCD4}'),\n",
       " InstalledApplication(name='Autodesk Guided Tutorial Plugin', version='5.01.0', install_date=datetime.date(2018, 9, 15), install_location='', install_source=WindowsPath('C:/Autodesk/WI/Autodesk Inventor 2019/x64/LWS'), modify_path='MsiExec.exe /I{B3AFC608-D811-0003-0501-21FB25B48D6E}', publisher='Autodesk', uninstall_string='MsiExec.exe /I{B3AFC608-D811-0003-0501-21FB25B48D6E}'),\n",
       " InstalledApplication(name='Dassault Systemes Software Prerequisites x86-x64', version='8.1.3', install_date=datetime.date(2018, 6, 20), install_location='', install_source=WindowsPath('G:/INTEL'), modify_path='MsiExec.exe /X{CF1EB598-B424-436A-B15F-B763846BA970}', publisher='Dassault Systemes', uninstall_string='MsiExec.exe /X{CF1EB598-B424-436A-B15F-B763846BA970}'),\n",
       " InstalledApplication(name='Autodesk License Service (x64) - 7.1.4', version='7.1.4.0', install_date=datetime.date(2018, 9, 15), install_location='', install_source=WindowsPath('C:/Autodesk/WI/Autodesk Inventor 2019/x64/CLM'), modify_path=None, publisher='Autodesk', uninstall_string=None),\n",
       " InstalledApplication(name='Autodesk Desktop Connect Service', version='5.00.0', install_date=datetime.date(2018, 9, 15), install_location='', install_source=WindowsPath('C:/Autodesk/WI/Autodesk Inventor 2019/x64/LWS'), modify_path='MsiExec.exe /I{FC772454-BB19-0000-0500-44B459520227}', publisher='Autodesk', uninstall_string='MsiExec.exe /I{FC772454-BB19-0000-0500-44B459520227}'),\n",
       " InstalledApplication(name='Adobe Creative Cloud', version='4.8.1.435', install_date=None, install_location=None, install_source=None, modify_path=None, publisher='Adobe Systems Incorporated', uninstall_string='\"C:\\\\Program Files (x86)\\\\Adobe\\\\Adobe Creative Cloud\\\\Utils\\\\Creative Cloud Uninstaller.exe\"'),\n",
       " InstalledApplication(name='Adobe® Flash® Player 10 Plugin', version='10.1.2.3P', install_date=None, install_location=None, install_source=None, modify_path=None, publisher='Adobe Systems Incorporated', uninstall_string='C:\\\\Windows\\\\system32\\\\Macromed\\\\Flash\\\\FlashUtil10e_Plugin.exe -maintain plugin'),\n",
       " InstalledApplication(name='AnyDesk', version='ad 7.0.10', install_date=None, install_location=WindowsPath('\"C:/Program Files (x86)/AnyDesk\"'), install_source=None, modify_path=None, publisher='AnyDesk Software GmbH', uninstall_string='\"C:\\\\Program Files (x86)\\\\AnyDesk\\\\AnyDesk.exe\" --uninstall'),\n",
       " InstalledApplication(name='Autodesk Application Manager', version='5.0.142.14', install_date=datetime.date(2018, 7, 6), install_location=WindowsPath('C:/Program Files (x86)/Common Files/Autodesk Shared/AppManager/R1'), install_source=None, modify_path=None, publisher='Autodesk', uninstall_string='C:\\\\Program Files (x86)\\\\Common Files\\\\Autodesk Shared\\\\AppManager\\\\R1\\\\removeAdAppMgr.exe'),\n",
       " InstalledApplication(name='ByteFence Anti-Malware', version='5.5.0.6', install_date=None, install_location=None, install_source=WindowsPath('C:/Program Files/ByteFence'), modify_path=None, publisher='Byte Technologies LLC', uninstall_string='\"C:\\\\Program Files\\\\ByteFence\\\\uninstall.exe\"'),\n",
       " InstalledApplication(name='Microsoft Office Enterprise 2007', version='12.0.6612.1000', install_date=None, install_location=WindowsPath('C:/Program Files (x86)/Microsoft Office'), install_source=None, modify_path='\"C:\\\\Program Files (x86)\\\\Common Files\\\\Microsoft Shared\\\\OFFICE12\\\\Office Setup Controller\\\\setup.exe\" /modify ENTERPRISE /dll OSETUP.DLL', publisher='Microsoft Corporation', uninstall_string='\"C:\\\\Program Files (x86)\\\\Common Files\\\\Microsoft Shared\\\\OFFICE12\\\\Office Setup Controller\\\\setup.exe\" /uninstall ENTERPRISE /dll OSETUP.DLL'),\n",
       " InstalledApplication(name='Google Chrome', version='103.0.5060.114', install_date=datetime.date(2022, 7, 8), install_location=WindowsPath('C:/Program Files (x86)/Google/Chrome/Application'), install_source=None, modify_path=None, publisher='Google LLC', uninstall_string='\"C:\\\\Program Files (x86)\\\\Google\\\\Chrome\\\\Application\\\\103.0.5060.114\\\\Installer\\\\setup.exe\" --uninstall --channel=stable --system-level --verbose-logging'),\n",
       " InstalledApplication(name='LAV Filters 0.71', version='0.71', install_date=datetime.date(2018, 7, 2), install_location=WindowsPath('C:/Program Files (x86)/LAV Filters'), install_source=None, modify_path=None, publisher='Hendrik Leppkes', uninstall_string='\"C:\\\\Program Files (x86)\\\\LAV Filters\\\\unins000.exe\"'),\n",
       " InstalledApplication(name='Microsoft Edge', version='103.0.1264.62', install_date=datetime.date(2022, 7, 16), install_location=WindowsPath('C:/Program Files (x86)/Microsoft/Edge/Application'), install_source=None, modify_path='\"C:\\\\Program Files (x86)\\\\Microsoft\\\\EdgeUpdate\\\\MicrosoftEdgeUpdate.exe\" /install appguid={56EB18F8-B008-4CBD-B6D2-8C97FE7E9062}&appname=Microsoft%20Edge&needsadmin=true&repairtype=windowsonlinerepair /installsource windowsupdate', publisher='Microsoft Corporation', uninstall_string='\"C:\\\\Program Files (x86)\\\\Microsoft\\\\Edge\\\\Application\\\\103.0.1264.62\\\\Installer\\\\setup.exe\" --uninstall --msedge --channel=stable --system-level --verbose-logging'),\n",
       " InstalledApplication(name='Microsoft Edge Update', version='1.3.163.19', install_date=None, install_location=None, install_source=None, modify_path=None, publisher=None, uninstall_string=None),\n",
       " InstalledApplication(name='Microsoft SQL Server 2005', version=None, install_date=None, install_location=None, install_source=None, modify_path='\"C:\\\\Program Files (x86)\\\\Microsoft SQL Server\\\\90\\\\Setup Bootstrap\\\\ARPWrapper.exe\"', publisher='Microsoft Corporation', uninstall_string='\"C:\\\\Program Files (x86)\\\\Microsoft SQL Server\\\\90\\\\Setup Bootstrap\\\\ARPWrapper.exe\" /Remove'),\n",
       " InstalledApplication(name='PyCharm Community Edition 2022.1.3', version='221.5921.27', install_date=None, install_location=WindowsPath('C:/Program Files/JetBrains/PyCharm Community Edition 2022.1.3'), install_source=None, modify_path=None, publisher='JetBrains s.r.o.', uninstall_string='C:\\\\Program Files\\\\JetBrains\\\\PyCharm Community Edition 2022.1.3\\\\bin\\\\Uninstall.exe'),\n",
       " InstalledApplication(name='KMPlayer (remove only)', version='4.2.2.62', install_date=None, install_location=WindowsPath('C:/KMPlayer'), install_source=None, modify_path=None, publisher='PandoraTV', uninstall_string='\"C:\\\\KMPlayer\\\\uninstall.exe\"'),\n",
       " InstalledApplication(name='Microsoft Visual C++ 2013 Redistributable (x64) - 12.0.30501', version='12.0.30501.0', install_date=None, install_location=None, install_source=None, modify_path='\"C:\\\\ProgramData\\\\Package Cache\\\\{050d4fc8-5d48-4b8f-8972-47c82c46020f}\\\\vcredist_x64.exe\" /modify', publisher='Microsoft Corporation', uninstall_string='\"C:\\\\ProgramData\\\\Package Cache\\\\{050d4fc8-5d48-4b8f-8972-47c82c46020f}\\\\vcredist_x64.exe\"  /uninstall'),\n",
       " InstalledApplication(name='ESPRIT FX for Autodesk (x86)', version='18.0.2284', install_date=datetime.date(2019, 11, 24), install_location=WindowsPath('C:/Program Files (x86)/D.P.Technology/ESPRIT FX for Autodesk Inventor Add-In'), install_source=WindowsPath('F:/ESPRIT/Deploy/MSI/AutoDesk/x86'), modify_path='MsiExec.exe /I{144CAC0F-D248-45A1-A777-5CA2B33B9FD6}', publisher='DP Technology Corporation', uninstall_string='MsiExec.exe /I{144CAC0F-D248-45A1-A777-5CA2B33B9FD6}'),\n",
       " InstalledApplication(name='Microsoft Visual C++ 2015-2019 Redistributable (x86) - 14.27.29016', version='14.27.29016.0', install_date=None, install_location=None, install_source=None, modify_path='\"C:\\\\ProgramData\\\\Package Cache\\\\{1aaa01ad-3069-4288-9c6f-37a140a8f6c7}\\\\VC_redist.x86.exe\" /modify', publisher='Microsoft Corporation', uninstall_string='\"C:\\\\ProgramData\\\\Package Cache\\\\{1aaa01ad-3069-4288-9c6f-37a140a8f6c7}\\\\VC_redist.x86.exe\"  /uninstall'),\n",
       " InstalledApplication(name='Microsoft Visual C++ 2008 Redistributable - x86 9.0.30729.4148', version='9.0.30729.4148', install_date=datetime.date(2018, 6, 20), install_location='', install_source=WindowsPath('f:/43ce86993e8c94e780832c05'), modify_path='MsiExec.exe /X{1F1C2DFC-2D24-3E06-BCB8-725134ADF989}', publisher='Microsoft Corporation', uninstall_string='MsiExec.exe /X{1F1C2DFC-2D24-3E06-BCB8-725134ADF989}'),\n",
       " InstalledApplication(name='Esprit', version='19.154.2284', install_date=datetime.date(2019, 11, 24), install_location=WindowsPath('C:/Program Files (x86)/D.P.Technology/ESPRIT'), install_source=WindowsPath('F:/ESPRIT/Deploy/MSI/ESPRIT'), modify_path='MsiExec.exe /I{20E0D0A7-4270-45C8-9BB9-C8FC2FCE4DEA}', publisher='DP Technology Corp.', uninstall_string='MsiExec.exe /I{20E0D0A7-4270-45C8-9BB9-C8FC2FCE4DEA}'),\n",
       " InstalledApplication(name='Autodesk Material Library 2016', version='6.3.0.15', install_date=datetime.date(2018, 6, 20), install_location='', install_source=WindowsPath('C:/Autodesk/AutoCAD_2016_English_Win_64bit_dlm/Content/ADSKMaterials/2016/CM'), modify_path='MsiExec.exe /X{29A7D6EC-63C2-42FD-8143-5812ABD2923F}', publisher='Autodesk', uninstall_string='MsiExec.exe /X{29A7D6EC-63C2-42FD-8143-5812ABD2923F}'),\n",
       " InstalledApplication(name='ESPRIT FX for SolidWorks (x64)', version='18.0.2284', install_date=datetime.date(2019, 11, 24), install_location=WindowsPath('C:/Program Files (x86)/D.P.Technology/ESPRIT FX for SolidWorks Add-In x64'), install_source=WindowsPath('F:/ESPRIT/Deploy/MSI/SolidWorks/x64'), modify_path='MsiExec.exe /I{2D23E880-3FE7-4066-905D-ECFCFDC91DD1}', publisher='DP Technology Corporation', uninstall_string='MsiExec.exe /I{2D23E880-3FE7-4066-905D-ECFCFDC91DD1}'),\n",
       " InstalledApplication(name='Microsoft Visual C++ 2012 Redistributable (x86) - 11.0.61030', version='11.0.61030.0', install_date=None, install_location=None, install_source=None, modify_path='\"C:\\\\ProgramData\\\\Package Cache\\\\{33d1fd90-4274-48a1-9bc1-97e33d9c2d6f}\\\\vcredist_x86.exe\" /modify', publisher='Microsoft Corporation', uninstall_string='\"C:\\\\ProgramData\\\\Package Cache\\\\{33d1fd90-4274-48a1-9bc1-97e33d9c2d6f}\\\\vcredist_x86.exe\"  /uninstall'),\n",
       " InstalledApplication(name='Web Companion', version='4.8.2078.3950', install_date=datetime.date(2019, 7, 18), install_location=None, install_source=None, modify_path=None, publisher='Lavasoft', uninstall_string='C:\\\\Program Files (x86)\\\\Lavasoft\\\\Web Companion\\\\Application\\\\WebCompanionInstaller.exe --uninstall'),\n",
       " InstalledApplication(name='Autodesk Material Library Base Resolution Image Library 2019', version='17.11.3.0', install_date=datetime.date(2018, 9, 15), install_location='', install_source=WindowsPath('C:/Autodesk/WI/Autodesk Inventor 2019/Content/ADSKMaterials/2019/ILB'), modify_path='MsiExec.exe /X{3AAA4C1B-51DA-487D-81A3-4234DBB9A8F9}', publisher='Autodesk', uninstall_string='MsiExec.exe /X{3AAA4C1B-51DA-487D-81A3-4234DBB9A8F9}'),\n",
       " InstalledApplication(name='Microsoft Visual C++ 2015-2019 Redistributable (x64) - 14.27.29016', version='14.27.29016.0', install_date=None, install_location=None, install_source=None, modify_path='\"C:\\\\ProgramData\\\\Package Cache\\\\{40d3fee2-b257-46c2-bdc0-cb1088d97327}\\\\VC_redist.x64.exe\" /modify', publisher='Microsoft Corporation', uninstall_string='\"C:\\\\ProgramData\\\\Package Cache\\\\{40d3fee2-b257-46c2-bdc0-cb1088d97327}\\\\VC_redist.x64.exe\"  /uninstall'),\n",
       " InstalledApplication(name='Autodesk AutoCAD Performance Feedback Tool 1.2.4', version='1.2.4.0', install_date=datetime.date(2018, 6, 20), install_location='', install_source=WindowsPath('C:/Autodesk/AutoCAD_2016_English_Win_64bit_dlm/Tools/PerformanceTool'), modify_path='MsiExec.exe /X{4E20873D-BC20-495C-AFD9-B18877B7F9BB}', publisher='Autodesk', uninstall_string='MsiExec.exe /X{4E20873D-BC20-495C-AFD9-B18877B7F9BB}'),\n",
       " InstalledApplication(name='Microsoft SQL Server Setup Support Files (English)', version='9.00.4035.00', install_date=datetime.date(2019, 11, 24), install_location=WindowsPath('C:/Program Files (x86)/Microsoft SQL Server/90/Setup Bootstrap'), install_source=WindowsPath('C:/Users/User/AppData/Local/Temp/SQLExpress/Setup'), modify_path='MsiExec.exe /X{53F5C3EE-05ED-4830-994B-50B2F0D50FCE}', publisher='Microsoft Corporation', uninstall_string='MsiExec.exe /X{53F5C3EE-05ED-4830-994B-50B2F0D50FCE}'),\n",
       " InstalledApplication(name='Microsoft Visual C++ 2013 Redistributable (x86) - 12.0.40660', version='12.0.40660.0', install_date=None, install_location=None, install_source=None, modify_path='\"C:\\\\ProgramData\\\\Package Cache\\\\{61087a79-ac85-455c-934d-1fa22cc64f36}\\\\vcredist_x86.exe\" /modify', publisher='Microsoft Corporation', uninstall_string='\"C:\\\\ProgramData\\\\Package Cache\\\\{61087a79-ac85-455c-934d-1fa22cc64f36}\\\\vcredist_x86.exe\"  /uninstall'),\n",
       " InstalledApplication(name='Autodesk Configurator 360 addin', version='22.0.10400', install_date=datetime.date(2018, 9, 15), install_location=WindowsPath('C:/ProgramData/Autodesk/ApplicationPlugins'), install_source=WindowsPath('C:/Autodesk/WI/Autodesk Inventor 2019/x86/C360Addin'), modify_path='MsiExec.exe /X{6560F7BC-74E2-4618-A46B-4073A3E54E6D}', publisher='Autodesk, Inc.', uninstall_string='MsiExec.exe /X{6560F7BC-74E2-4618-A46B-4073A3E54E6D}'),\n",
       " InstalledApplication(name='Autodesk Material Library Base Resolution Image Library 2016', version='6.3.0.15', install_date=datetime.date(2018, 6, 20), install_location='', install_source=WindowsPath('C:/Autodesk/AutoCAD_2016_English_Win_64bit_dlm/Content/ADSKMaterials/2016/ILB'), modify_path='MsiExec.exe /X{6B4CFC6E-ECB0-47FE-95D3-65C680ED0687}', publisher='Autodesk', uninstall_string='MsiExec.exe /X{6B4CFC6E-ECB0-47FE-95D3-65C680ED0687}'),\n",
       " InstalledApplication(name='Microsoft Visual C++ 2005 Redistributable', version='8.0.61001', install_date=datetime.date(2018, 7, 27), install_location='', install_source=WindowsPath('C:/WINDOWS/TEMP/IXP000.TMP'), modify_path='MsiExec.exe /X{710f4c1c-cc18-4c49-8cbf-51240c89a1a2}', publisher='Microsoft Corporation', uninstall_string='MsiExec.exe /X{710f4c1c-cc18-4c49-8cbf-51240c89a1a2}'),\n",
       " InstalledApplication(name='Microsoft Visual C++ 2005 Redistributable', version='8.0.56336', install_date=datetime.date(2018, 11, 1), install_location='', install_source=WindowsPath('C:/Users/User/AppData/Local/Temp/IXP001.TMP'), modify_path='MsiExec.exe /X{7299052b-02a4-4627-81f2-1818da5d550d}', publisher='Microsoft Corporation', uninstall_string='MsiExec.exe /X{7299052b-02a4-4627-81f2-1818da5d550d}'),\n",
       " InstalledApplication(name='Autodesk Material Library Low Resolution Image Library 2019', version='17.11.3.0', install_date=datetime.date(2018, 9, 15), install_location='', install_source=WindowsPath('C:/Autodesk/WI/Autodesk Inventor 2019/Content/ADSKMaterials/2019/ILL'), modify_path='MsiExec.exe /X{77F779B8-3262-4014-97E9-36D6933A1904}', publisher='Autodesk', uninstall_string='MsiExec.exe /X{77F779B8-3262-4014-97E9-36D6933A1904}'),\n",
       " InstalledApplication(name='Microsoft Visual C++ 2013 Redistributable (x64) - 12.0.21005', version='12.0.21005.1', install_date=None, install_location=None, install_source=None, modify_path='\"C:\\\\ProgramData\\\\Package Cache\\\\{7f51bdb9-ee21-49ee-94d6-90afc321780e}\\\\vcredist_x64.exe\" /modify', publisher='Microsoft Corporation', uninstall_string='\"C:\\\\ProgramData\\\\Package Cache\\\\{7f51bdb9-ee21-49ee-94d6-90afc321780e}\\\\vcredist_x64.exe\"  /uninstall'),\n",
       " InstalledApplication(name='DP Technology Security Manager', version='19.0.426', install_date=datetime.date(2019, 11, 24), install_location=WindowsPath('C:/Program Files (x86)/D.P.Technology/Security'), install_source=WindowsPath('F:/ESPRIT/Deploy/MSI/DP Technology Security System'), modify_path='MsiExec.exe /I{83566275-6E03-4DF3-B064-2AEA8668BF47}', publisher='DP Technology Corp.', uninstall_string='MsiExec.exe /I{83566275-6E03-4DF3-B064-2AEA8668BF47}'),\n",
       " InstalledApplication(name='Autodesk Material Library 2019', version='17.11.3.0', install_date=datetime.date(2018, 9, 15), install_location='', install_source=WindowsPath('C:/Autodesk/WI/Autodesk Inventor 2019/Content/ADSKMaterials/2019/CM'), modify_path='MsiExec.exe /X{8F69EE2C-DC34-4746-9B47-7511147BD4B0}', publisher='Autodesk', uninstall_string='MsiExec.exe /X{8F69EE2C-DC34-4746-9B47-7511147BD4B0}'),\n",
       " InstalledApplication(name='Microsoft Office File Validation Add-In', version='14.0.5130.5003', install_date=datetime.date(2018, 7, 18), install_location='', install_source=WindowsPath('C:/WINDOWS/SoftwareDistribution/Download/01e4d16ed24d4c21ad7bd0f9412fe27b/img'), modify_path='MsiExec.exe /I{90140000-2005-0000-0000-0000000FF1CE}', publisher='Microsoft Corporation', uninstall_string='MsiExec.exe /I{90140000-2005-0000-0000-0000000FF1CE}'),\n",
       " InstalledApplication(name='Autodesk Advanced Material Library Image Library 2016', version='6.3.0.15', install_date=datetime.date(2018, 6, 20), install_location='', install_source=WindowsPath('C:/Autodesk/AutoCAD_2016_English_Win_64bit_dlm/Content/ADSKMaterials/2016/AIL'), modify_path='MsiExec.exe /X{94AD53E7-493B-4291-8714-7A3B761D2783}', publisher='Autodesk', uninstall_string='MsiExec.exe /X{94AD53E7-493B-4291-8714-7A3B761D2783}'),\n",
       " InstalledApplication(name='Microsoft Visual C++ 2008 Redistributable - x86 9.0.30729.17', version='9.0.30729', install_date=datetime.date(2018, 7, 21), install_location='', install_source=WindowsPath('e:/d8684875270bfedaec'), modify_path='MsiExec.exe /X{9A25302D-30C0-39D9-BD6F-21E6EC160475}', publisher='Microsoft Corporation', uninstall_string='MsiExec.exe /X{9A25302D-30C0-39D9-BD6F-21E6EC160475}'),\n",
       " InstalledApplication(name='Microsoft Visual C++ 2008 Redistributable - x86 9.0.30729.6161', version='9.0.30729.6161', install_date=datetime.date(2018, 6, 20), install_location='', install_source=WindowsPath('f:/0f3067fdd724c15921b39347783ca48f'), modify_path='MsiExec.exe /X{9BE518E6-ECC6-35A9-88E4-87755C07200F}', publisher='Microsoft Corporation', uninstall_string='MsiExec.exe /X{9BE518E6-ECC6-35A9-88E4-87755C07200F}'),\n",
       " InstalledApplication(name='MySQL Connector/ODBC 8.0', version='8.0.29', install_date=datetime.date(2022, 6, 26), install_location=WindowsPath('C:/Program Files (x86)/MySQL/Connector ODBC 8.0'), install_source=WindowsPath('C:/Users/User/Downloads'), modify_path='MsiExec.exe /I{9D5E723F-60C1-4949-92A3-AD84EE546177}', publisher='Oracle Corporation', uninstall_string='MsiExec.exe /I{9D5E723F-60C1-4949-92A3-AD84EE546177}'),\n",
       " InstalledApplication(name='ESPRIT 2015 Accessories Pack', version='19.15.1026', install_date=datetime.date(2019, 11, 24), install_location=WindowsPath('C:/Program Files (x86)/D.P.Technology/ESPRIT'), install_source=WindowsPath('F:/ESPRIT/Deploy/MSI/AccessoriesPack'), modify_path='MsiExec.exe /X{A439072A-5956-4EF1-BA34-C507B024E803}', publisher='DP Technology Corp.', uninstall_string='MsiExec.exe /X{A439072A-5956-4EF1-BA34-C507B024E803}'),\n",
       " InstalledApplication(name='ESPRIT FX for Autodesk (x64)', version='18.0.2284', install_date=datetime.date(2019, 11, 24), install_location=WindowsPath('C:/Program Files (x86)/D.P.Technology/ESPRIT FX for Autodesk Inventor Add-In x64'), install_source=WindowsPath('F:/ESPRIT/Deploy/MSI/AutoDesk/x64'), modify_path='MsiExec.exe /I{A6258BD5-C534-49E5-99D2-ADA029654D09}', publisher='DP Technology Corporation', uninstall_string='MsiExec.exe /I{A6258BD5-C534-49E5-99D2-ADA029654D09}'),\n",
       " InstalledApplication(name='Adobe Reader X (10.1.16)', version='10.1.16', install_date=datetime.date(2018, 7, 5), install_location=WindowsPath('C:/Program Files (x86)/Adobe/Reader 10.0/Reader'), install_source=WindowsPath('C:/ProgramData/Adobe/ARM/Reader_10.0.0'), modify_path='MsiExec.exe /I{AC76BA86-7AD7-1033-7B44-AA1000000001}', publisher='Adobe Systems Incorporated', uninstall_string='MsiExec.exe /I{AC76BA86-7AD7-1033-7B44-AA1000000001}'),\n",
       " InstalledApplication(name='Dolby Advanced Audio v2', version='7.2.8000.17', install_date=datetime.date(2018, 6, 22), install_location=WindowsPath('C:/Program Files (x86)/Dolby Advanced Audio v2'), install_source=WindowsPath('C:/DRIVERS/WIN/Dolbyt'), modify_path='MsiExec.exe /X{B9E70C7A-9F85-4A39-A4A3-BFA3C3BF7613}', publisher='Dolby Laboratories Inc', uninstall_string='MsiExec.exe /X{B9E70C7A-9F85-4A39-A4A3-BFA3C3BF7613}'),\n",
       " InstalledApplication(name='VMware Horizon Client', version='8.2.0.18176', install_date=None, install_location=None, install_source=None, modify_path='\"C:\\\\ProgramData\\\\Package Cache\\\\{c034bb86-2058-4a14-bf20-5077eab95950}\\\\VMware-Horizon-Client-2103-8.2.0-17759012.exe\" /modify', publisher='VMware, Inc.', uninstall_string='\"C:\\\\ProgramData\\\\Package Cache\\\\{c034bb86-2058-4a14-bf20-5077eab95950}\\\\VMware-Horizon-Client-2103-8.2.0-17759012.exe\"  /uninstall'),\n",
       " InstalledApplication(name='Sentinel Protection Installer 7.6.7', version='7.6.7', install_date=datetime.date(2019, 11, 24), install_location=WindowsPath('C:/Program Files (x86)/SafeNet Sentinel/Sentinel Protection Installer/7.6.7'), install_source=WindowsPath('F:/ESPRIT/Deploy/BootSetupPrerequisites/SentinelProtectionInstaller'), modify_path='MsiExec.exe /I{C238971D-5059-4B2F-B760-BB237AF4206A}', publisher='SafeNet, Inc.', uninstall_string='MsiExec.exe /I{C238971D-5059-4B2F-B760-BB237AF4206A}'),\n",
       " InstalledApplication(name='Microsoft Visual C++ 2012 Redistributable (x64) - 11.0.61030', version='11.0.61030.0', install_date=None, install_location=None, install_source=None, modify_path='\"C:\\\\ProgramData\\\\Package Cache\\\\{ca67548a-5ebe-413a-b50c-4b9ceb6d66c6}\\\\vcredist_x64.exe\" /modify', publisher='Microsoft Corporation', uninstall_string='\"C:\\\\ProgramData\\\\Package Cache\\\\{ca67548a-5ebe-413a-b50c-4b9ceb6d66c6}\\\\vcredist_x64.exe\"  /uninstall'),\n",
       " InstalledApplication(name='Microsoft Visual C++ 2013 Redistributable (x86) - 12.0.21005', version='12.0.21005.1', install_date=None, install_location=None, install_source=None, modify_path='\"C:\\\\ProgramData\\\\Package Cache\\\\{ce085a78-074e-4823-8dc1-8a721b94b76d}\\\\vcredist_x86.exe\" /modify', publisher='Microsoft Corporation', uninstall_string='\"C:\\\\ProgramData\\\\Package Cache\\\\{ce085a78-074e-4823-8dc1-8a721b94b76d}\\\\vcredist_x86.exe\"  /uninstall'),\n",
       " InstalledApplication(name='Windows 10 Update Assistant', version='1.4.9200.22452', install_date=None, install_location=None, install_source=None, modify_path=None, publisher='Microsoft Corporation', uninstall_string='\"C:\\\\Windows10Upgrade\\\\Windows10UpgraderApp.exe\" /Uninstall'),\n",
       " InstalledApplication(name='Microsoft Visual C++ 2013 Redistributable (x64) - 12.0.40660', version='12.0.40660.0', install_date=None, install_location=None, install_source=None, modify_path='\"C:\\\\ProgramData\\\\Package Cache\\\\{ef6b00ec-13e1-4c25-9064-b2f383cb8412}\\\\vcredist_x64.exe\" /modify', publisher='Microsoft Corporation', uninstall_string='\"C:\\\\ProgramData\\\\Package Cache\\\\{ef6b00ec-13e1-4c25-9064-b2f383cb8412}\\\\vcredist_x64.exe\"  /uninstall'),\n",
       " InstalledApplication(name='Microsoft Visual C++ 2010  x86 Redistributable - 10.0.40219', version='10.0.40219', install_date=datetime.date(2018, 7, 11), install_location='', install_source=WindowsPath('f:/36f4a6077b3a54b11cfeb1a70cec4c'), modify_path='MsiExec.exe /X{F0C3E5D1-1ADE-321E-8167-68EF0DE699A5}', publisher='Microsoft Corporation', uninstall_string='MsiExec.exe /X{F0C3E5D1-1ADE-321E-8167-68EF0DE699A5}'),\n",
       " InstalledApplication(name='MySQL Installer - Community', version='1.6.2.0', install_date=datetime.date(2022, 6, 1), install_location='', install_source=WindowsPath('C:/Users/User/Downloads'), modify_path='MsiExec.exe /I{F3BFCB7B-B041-44B6-9A4A-88A1B6DE7E61}', publisher='Oracle Corporation', uninstall_string='MsiExec.exe /I{F3BFCB7B-B041-44B6-9A4A-88A1B6DE7E61}'),\n",
       " InstalledApplication(name='Microsoft Visual C++ 2013 Redistributable (x86) - 12.0.30501', version='12.0.30501.0', install_date=None, install_location=None, install_source=None, modify_path='\"C:\\\\ProgramData\\\\Package Cache\\\\{f65db027-aff3-4070-886a-0d87064aabb1}\\\\vcredist_x86.exe\" /modify', publisher='Microsoft Corporation', uninstall_string='\"C:\\\\ProgramData\\\\Package Cache\\\\{f65db027-aff3-4070-886a-0d87064aabb1}\\\\vcredist_x86.exe\"  /uninstall')]"
      ]
     },
     "execution_count": 28,
     "metadata": {},
     "output_type": "execute_result"
    }
   ],
   "source": [
    "import winapps\n",
    "list(winapps.list_installed())"
   ]
  },
  {
   "cell_type": "raw",
   "id": "12508427",
   "metadata": {},
   "source": [
    "#13, write acode to convert any text to voice"
   ]
  },
  {
   "cell_type": "code",
   "execution_count": 29,
   "id": "08f650f2",
   "metadata": {},
   "outputs": [
    {
     "ename": "ModuleNotFoundError",
     "evalue": "No module named 'gtts'",
     "output_type": "error",
     "traceback": [
      "\u001b[1;31m---------------------------------------------------------------------------\u001b[0m",
      "\u001b[1;31mModuleNotFoundError\u001b[0m                       Traceback (most recent call last)",
      "\u001b[1;32m~\\AppData\\Local\\Temp/ipykernel_10636/1585595797.py\u001b[0m in \u001b[0;36m<module>\u001b[1;34m\u001b[0m\n\u001b[1;32m----> 1\u001b[1;33m \u001b[1;32mimport\u001b[0m \u001b[0mgtts\u001b[0m\u001b[1;33m\u001b[0m\u001b[1;33m\u001b[0m\u001b[0m\n\u001b[0m\u001b[0;32m      2\u001b[0m \u001b[1;32mfrom\u001b[0m \u001b[0mplaysound\u001b[0m \u001b[1;32mimport\u001b[0m \u001b[0mplaysound\u001b[0m\u001b[1;33m\u001b[0m\u001b[1;33m\u001b[0m\u001b[0m\n\u001b[0;32m      3\u001b[0m \u001b[1;32mdef\u001b[0m \u001b[0mmtxt_to_voice\u001b[0m\u001b[1;33m(\u001b[0m\u001b[0mstr1\u001b[0m\u001b[1;33m)\u001b[0m\u001b[1;33m:\u001b[0m\u001b[1;33m\u001b[0m\u001b[1;33m\u001b[0m\u001b[0m\n\u001b[0;32m      4\u001b[0m     \u001b[0mtts\u001b[0m\u001b[1;33m=\u001b[0m\u001b[0mgtts\u001b[0m\u001b[1;33m.\u001b[0m\u001b[0mgTT\u001b[0m\u001b[1;33m(\u001b[0m\u001b[0mstr1\u001b[0m\u001b[1;33m)\u001b[0m\u001b[1;33m\u001b[0m\u001b[1;33m\u001b[0m\u001b[0m\n\u001b[0;32m      5\u001b[0m     \u001b[0mtts\u001b[0m\u001b[1;33m.\u001b[0m\u001b[0msave\u001b[0m\u001b[1;33m(\u001b[0m\u001b[1;34m\"Hello.mp3\"\u001b[0m\u001b[1;33m)\u001b[0m\u001b[1;33m\u001b[0m\u001b[1;33m\u001b[0m\u001b[0m\n",
      "\u001b[1;31mModuleNotFoundError\u001b[0m: No module named 'gtts'"
     ]
    }
   ],
   "source": [
    "import gtts\n",
    "from playsound import playsound\n",
    "def txt_to_voice(str1):\n",
    "    tts=gtts.gTT(str1)\n",
    "    tts.save(\"Hello.mp3\")\n",
    "    playsound(\"Hello.mp3\")\n",
    "\n",
    "Text=input(\"Enter the text to convert to voice\")\n",
    "txt_to_voice(Text)"
   ]
  },
  {
   "cell_type": "code",
   "execution_count": 30,
   "id": "34978a71",
   "metadata": {},
   "outputs": [
    {
     "name": "stdout",
     "output_type": "stream",
     "text": [
      "Collecting gtts\n",
      "  Downloading gTTS-2.2.4-py3-none-any.whl (26 kB)\n",
      "Requirement already satisfied: click in c:\\users\\user\\anaconda3\\lib\\site-packages (from gtts) (8.0.3)\n",
      "Requirement already satisfied: requests in c:\\users\\user\\anaconda3\\lib\\site-packages (from gtts) (2.26.0)\n",
      "Requirement already satisfied: six in c:\\users\\user\\anaconda3\\lib\\site-packages (from gtts) (1.16.0)\n",
      "Requirement already satisfied: colorama in c:\\users\\user\\anaconda3\\lib\\site-packages (from click->gtts) (0.4.4)\n",
      "Requirement already satisfied: urllib3<1.27,>=1.21.1 in c:\\users\\user\\anaconda3\\lib\\site-packages (from requests->gtts) (1.26.7)\n",
      "Requirement already satisfied: idna<4,>=2.5 in c:\\users\\user\\anaconda3\\lib\\site-packages (from requests->gtts) (3.2)\n",
      "Requirement already satisfied: certifi>=2017.4.17 in c:\\users\\user\\anaconda3\\lib\\site-packages (from requests->gtts) (2021.10.8)\n",
      "Requirement already satisfied: charset-normalizer~=2.0.0 in c:\\users\\user\\anaconda3\\lib\\site-packages (from requests->gtts) (2.0.4)\n",
      "Installing collected packages: gtts\n",
      "Successfully installed gtts-2.2.4\n",
      "Note: you may need to restart the kernel to use updated packages.\n"
     ]
    }
   ],
   "source": [
    "pip install gtts"
   ]
  },
  {
   "cell_type": "code",
   "execution_count": 3,
   "id": "a3f81978",
   "metadata": {},
   "outputs": [
    {
     "name": "stdout",
     "output_type": "stream",
     "text": [
      "Note: you may need to restart the kernel to use updated packages.\n"
     ]
    },
    {
     "name": "stderr",
     "output_type": "stream",
     "text": [
      "ERROR: Could not find a version that satisfies the requirement gTT (from versions: none)\n",
      "ERROR: No matching distribution found for gTT\n"
     ]
    }
   ],
   "source": [
    "pip install gTT"
   ]
  },
  {
   "cell_type": "code",
   "execution_count": 2,
   "id": "eb215d12",
   "metadata": {},
   "outputs": [
    {
     "name": "stdout",
     "output_type": "stream",
     "text": [
      "Collecting playsound\n",
      "  Downloading playsound-1.3.0.tar.gz (7.7 kB)\n",
      "Building wheels for collected packages: playsound\n",
      "  Building wheel for playsound (setup.py): started\n",
      "  Building wheel for playsound (setup.py): finished with status 'done'\n",
      "  Created wheel for playsound: filename=playsound-1.3.0-py3-none-any.whl size=7037 sha256=7f34c23a118aec6a5f427e782d8589d5d2907f2dc4734d6f33b9401b9624ef3e\n",
      "  Stored in directory: c:\\users\\user\\appdata\\local\\pip\\cache\\wheels\\ba\\39\\54\\c8f7ff9a88a644d3c58b4dec802d90b79a2e0fb2a6b884bf82\n",
      "Successfully built playsound\n",
      "Installing collected packages: playsound\n",
      "Successfully installed playsound-1.3.0\n",
      "Note: you may need to restart the kernel to use updated packages.\n"
     ]
    }
   ],
   "source": [
    "pip install playsound"
   ]
  },
  {
   "cell_type": "code",
   "execution_count": 1,
   "id": "343b1ba2",
   "metadata": {},
   "outputs": [
    {
     "name": "stdout",
     "output_type": "stream",
     "text": [
      "Enter the text to convert to voice :sharan\n"
     ]
    },
    {
     "ename": "AttributeError",
     "evalue": "module 'gtts' has no attribute 'gTT'",
     "output_type": "error",
     "traceback": [
      "\u001b[1;31m---------------------------------------------------------------------------\u001b[0m",
      "\u001b[1;31mAttributeError\u001b[0m                            Traceback (most recent call last)",
      "\u001b[1;32m~\\AppData\\Local\\Temp/ipykernel_13840/3656366776.py\u001b[0m in \u001b[0;36m<module>\u001b[1;34m\u001b[0m\n\u001b[0;32m      7\u001b[0m \u001b[1;33m\u001b[0m\u001b[0m\n\u001b[0;32m      8\u001b[0m \u001b[0mText\u001b[0m\u001b[1;33m=\u001b[0m\u001b[0minput\u001b[0m\u001b[1;33m(\u001b[0m\u001b[1;34m\"Enter the text to convert to voice :\"\u001b[0m\u001b[1;33m)\u001b[0m\u001b[1;33m\u001b[0m\u001b[1;33m\u001b[0m\u001b[0m\n\u001b[1;32m----> 9\u001b[1;33m \u001b[0mtxt_to_voice\u001b[0m\u001b[1;33m(\u001b[0m\u001b[0mText\u001b[0m\u001b[1;33m)\u001b[0m\u001b[1;33m\u001b[0m\u001b[1;33m\u001b[0m\u001b[0m\n\u001b[0m",
      "\u001b[1;32m~\\AppData\\Local\\Temp/ipykernel_13840/3656366776.py\u001b[0m in \u001b[0;36mtxt_to_voice\u001b[1;34m(str1)\u001b[0m\n\u001b[0;32m      2\u001b[0m \u001b[1;32mfrom\u001b[0m \u001b[0mplaysound\u001b[0m \u001b[1;32mimport\u001b[0m \u001b[0mplaysound\u001b[0m\u001b[1;33m\u001b[0m\u001b[1;33m\u001b[0m\u001b[0m\n\u001b[0;32m      3\u001b[0m \u001b[1;32mdef\u001b[0m \u001b[0mtxt_to_voice\u001b[0m\u001b[1;33m(\u001b[0m\u001b[0mstr1\u001b[0m\u001b[1;33m)\u001b[0m\u001b[1;33m:\u001b[0m\u001b[1;33m\u001b[0m\u001b[1;33m\u001b[0m\u001b[0m\n\u001b[1;32m----> 4\u001b[1;33m     \u001b[0mtts\u001b[0m\u001b[1;33m=\u001b[0m\u001b[0mgtts\u001b[0m\u001b[1;33m.\u001b[0m\u001b[0mgTT\u001b[0m\u001b[1;33m(\u001b[0m\u001b[0mstr1\u001b[0m\u001b[1;33m)\u001b[0m\u001b[1;33m\u001b[0m\u001b[1;33m\u001b[0m\u001b[0m\n\u001b[0m\u001b[0;32m      5\u001b[0m     \u001b[0mtts\u001b[0m\u001b[1;33m.\u001b[0m\u001b[0msave\u001b[0m\u001b[1;33m(\u001b[0m\u001b[1;34m\"Hello.mp3\"\u001b[0m\u001b[1;33m)\u001b[0m\u001b[1;33m\u001b[0m\u001b[1;33m\u001b[0m\u001b[0m\n\u001b[0;32m      6\u001b[0m     \u001b[0mplaysound\u001b[0m\u001b[1;33m(\u001b[0m\u001b[1;34m\"Hello.mp3\"\u001b[0m\u001b[1;33m)\u001b[0m\u001b[1;33m\u001b[0m\u001b[1;33m\u001b[0m\u001b[0m\n",
      "\u001b[1;31mAttributeError\u001b[0m: module 'gtts' has no attribute 'gTT'"
     ]
    }
   ],
   "source": [
    "import gtts\n",
    "from playsound import playsound\n",
    "def txt_to_voice(str1):\n",
    "    tts=gtts.gTT(str1)\n",
    "    tts.save(\"Hello.mp3\")\n",
    "    playsound(\"Hello.mp3\")\n",
    "\n",
    "Text=input(\"Enter the text to convert to voice :\")\n",
    "txt_to_voice(Text)"
   ]
  },
  {
   "cell_type": "raw",
   "id": "9ab70f1c",
   "metadata": {},
   "source": [
    "#14, you have to write a function  which will take a string and return a len of it without using a inbuilt fun len"
   ]
  },
  {
   "cell_type": "code",
   "execution_count": 4,
   "id": "b50ca865",
   "metadata": {},
   "outputs": [
    {
     "data": {
      "text/plain": [
       "6"
      ]
     },
     "execution_count": 4,
     "metadata": {},
     "output_type": "execute_result"
    }
   ],
   "source": [
    "s = 'sharam'\n",
    "len(s)"
   ]
  },
  {
   "cell_type": "code",
   "execution_count": 5,
   "id": "d9e12d49",
   "metadata": {},
   "outputs": [],
   "source": [
    "def str_len(s):\n",
    "    count = 0\n",
    "    for i in s:\n",
    "        count = count+1\n",
    "    return count"
   ]
  },
  {
   "cell_type": "code",
   "execution_count": 6,
   "id": "ebbcce96",
   "metadata": {},
   "outputs": [
    {
     "data": {
      "text/plain": [
       "6"
      ]
     },
     "execution_count": 6,
     "metadata": {},
     "output_type": "execute_result"
    }
   ],
   "source": [
    "str_len(s)"
   ]
  },
  {
   "cell_type": "raw",
   "id": "83fdce88",
   "metadata": {},
   "source": [
    "#15, write a fun which will be able to print an index of all premitives element which you will pass"
   ]
  },
  {
   "cell_type": "code",
   "execution_count": 20,
   "id": "a7d68686",
   "metadata": {},
   "outputs": [],
   "source": [
    "def  print_primitives(l):\n",
    "    for i in range(len(l)):\n",
    "        print(i)\n",
    "        \n",
    "        "
   ]
  },
  {
   "cell_type": "code",
   "execution_count": 21,
   "id": "517febe1",
   "metadata": {},
   "outputs": [
    {
     "name": "stdout",
     "output_type": "stream",
     "text": [
      "0\n",
      "1\n",
      "2\n",
      "3\n",
      "4\n",
      "5\n",
      "6\n",
      "7\n",
      "8\n"
     ]
    }
   ],
   "source": [
    "print_primitives([4,5,6,7,7,8,8, 'shatan',[3,4,5]])"
   ]
  },
  {
   "cell_type": "raw",
   "id": "c10b5292",
   "metadata": {},
   "source": [
    "#16, write a code which will take input as a dict and give me output as a list of all the values even in case of 2 netst it should work"
   ]
  },
  {
   "cell_type": "code",
   "execution_count": 22,
   "id": "d9c09f54",
   "metadata": {},
   "outputs": [],
   "source": [
    "d = {'key1':'value','key2': 'values', 'key3':{'k12':'sharan', 'k13':'bbajb'}}"
   ]
  },
  {
   "cell_type": "code",
   "execution_count": 27,
   "id": "e5258729",
   "metadata": {},
   "outputs": [],
   "source": [
    "def dic_list(d):\n",
    "    l = []\n",
    "    for i in d.values():\n",
    "        if type(i)!= dict:\n",
    "            l.append(i)\n",
    "        if type(i)== dict:\n",
    "            for j in i.values():\n",
    "                l.append(j)\n",
    "    return l"
   ]
  },
  {
   "cell_type": "code",
   "execution_count": 33,
   "id": "1817fcc3",
   "metadata": {},
   "outputs": [
    {
     "data": {
      "text/plain": [
       "['value', 'values', 'sharan', 'bbajb']"
      ]
     },
     "execution_count": 33,
     "metadata": {},
     "output_type": "execute_result"
    }
   ],
   "source": [
    "dic_list(d)"
   ]
  },
  {
   "cell_type": "raw",
   "id": "c7324545",
   "metadata": {},
   "source": [
    "#17,write a function which will be able to read a image filr and show it to you"
   ]
  },
  {
   "cell_type": "code",
   "execution_count": 34,
   "id": "52d77144",
   "metadata": {},
   "outputs": [
    {
     "name": "stdout",
     "output_type": "stream",
     "text": [
      "Collecting opencv-python\n",
      "  Downloading opencv_python-4.6.0.66-cp36-abi3-win_amd64.whl (35.6 MB)\n",
      "Requirement already satisfied: numpy>=1.17.3 in c:\\users\\user\\anaconda3\\lib\\site-packages (from opencv-python) (1.20.3)\n",
      "Installing collected packages: opencv-python\n",
      "Successfully installed opencv-python-4.6.0.66\n",
      "Note: you may need to restart the kernel to use updated packages.\n"
     ]
    }
   ],
   "source": [
    "pip install opencv-python"
   ]
  },
  {
   "cell_type": "code",
   "execution_count": 7,
   "id": "29c76246",
   "metadata": {},
   "outputs": [],
   "source": [
    "import cv2\n",
    "def red_image():\n",
    "    a = cv2.imread('D:/abc.png')\n",
    "    cv2.imshow(\"myimg\",a)\n",
    "    cv2.waitkey(500)\n",
    "    cv2.destriywindow('myimg')"
   ]
  },
  {
   "cell_type": "code",
   "execution_count": null,
   "id": "80d42e1a",
   "metadata": {},
   "outputs": [],
   "source": []
  }
 ],
 "metadata": {
  "kernelspec": {
   "display_name": "Python 3 (ipykernel)",
   "language": "python",
   "name": "python3"
  },
  "language_info": {
   "codemirror_mode": {
    "name": "ipython",
    "version": 3
   },
   "file_extension": ".py",
   "mimetype": "text/x-python",
   "name": "python",
   "nbconvert_exporter": "python",
   "pygments_lexer": "ipython3",
   "version": "3.9.7"
  }
 },
 "nbformat": 4,
 "nbformat_minor": 5
}
