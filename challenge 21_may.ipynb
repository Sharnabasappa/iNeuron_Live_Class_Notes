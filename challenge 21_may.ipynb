{
 "cells": [
  {
   "cell_type": "markdown",
   "id": "5ccb6fad",
   "metadata": {},
   "source": [
    "Challenge on 21st may"
   ]
  },
  {
   "cell_type": "code",
   "execution_count": 72,
   "id": "acb18916",
   "metadata": {},
   "outputs": [],
   "source": [
    "l = [3,4,5,6,7 ,[23,456,67,8,78], [345,56,87,8,98,9], (234,6657,6), {'key1':'sharan', 234:[23,45,656]}]"
   ]
  },
  {
   "cell_type": "code",
   "execution_count": 73,
   "id": "eda5a3f1",
   "metadata": {},
   "outputs": [
    {
     "data": {
      "text/plain": [
       "[{'key1': 'sharan', 234: [23, 45, 656]},\n",
       " (234, 6657, 6),\n",
       " [345, 56, 87, 8, 98, 9],\n",
       " [23, 456, 67, 8, 78],\n",
       " 7,\n",
       " 6,\n",
       " 5,\n",
       " 4,\n",
       " 3]"
      ]
     },
     "execution_count": 73,
     "metadata": {},
     "output_type": "execute_result"
    }
   ],
   "source": [
    "l1 = l.reverse()\n",
    "l"
   ]
  },
  {
   "cell_type": "code",
   "execution_count": 40,
   "id": "02d4c751",
   "metadata": {},
   "outputs": [
    {
     "data": {
      "text/plain": [
       "234"
      ]
     },
     "execution_count": 40,
     "metadata": {},
     "output_type": "execute_result"
    }
   ],
   "source": [
    "#2, try to acces 234 out of this list\n",
    "l[7][0]"
   ]
  },
  {
   "cell_type": "code",
   "execution_count": 51,
   "id": "047dc89c",
   "metadata": {},
   "outputs": [
    {
     "data": {
      "text/plain": [
       "656"
      ]
     },
     "execution_count": 51,
     "metadata": {},
     "output_type": "execute_result"
    }
   ],
   "source": [
    "#3, try to acces 456\n",
    "ls = list(l)\n",
    "ls[8][234][2]"
   ]
  },
  {
   "cell_type": "code",
   "execution_count": 63,
   "id": "0f26e12d",
   "metadata": {},
   "outputs": [
    {
     "data": {
      "text/plain": [
       "[3, 4, 5, 6, 7, [23, 456, 67, 8, 78], [345, 56, 87, 8, 98, 9]]"
      ]
     },
     "execution_count": 63,
     "metadata": {},
     "output_type": "execute_result"
    }
   ],
   "source": [
    "#4, try to extract only a list collection from list l\n",
    "l1 = l[0:7]\n",
    "l1"
   ]
  },
  {
   "cell_type": "code",
   "execution_count": 58,
   "id": "fd998ba0",
   "metadata": {},
   "outputs": [
    {
     "data": {
      "text/plain": [
       "'sharan'"
      ]
     },
     "execution_count": 58,
     "metadata": {},
     "output_type": "execute_result"
    }
   ],
   "source": [
    "#5, try to extract sharan \n",
    "l[8]['key1']"
   ]
  },
  {
   "cell_type": "code",
   "execution_count": 60,
   "id": "e885448b",
   "metadata": {},
   "outputs": [
    {
     "data": {
      "text/plain": [
       "dict_keys(['key1', 234])"
      ]
     },
     "execution_count": 60,
     "metadata": {},
     "output_type": "execute_result"
    }
   ],
   "source": [
    "#6, try to lst all the keys in dict element available in list \n",
    "l[8].keys()"
   ]
  },
  {
   "cell_type": "code",
   "execution_count": 62,
   "id": "16ec427e",
   "metadata": {},
   "outputs": [
    {
     "data": {
      "text/plain": [
       "dict_values(['sharan', [23, 45, 656]])"
      ]
     },
     "execution_count": 62,
     "metadata": {},
     "output_type": "execute_result"
    }
   ],
   "source": [
    "#7, try to extract all the value element from dict available in list\n",
    "l[8].values()"
   ]
  },
  {
   "cell_type": "code",
   "execution_count": null,
   "id": "f116507a",
   "metadata": {},
   "outputs": [],
   "source": []
  },
  {
   "cell_type": "code",
   "execution_count": null,
   "id": "017b4236",
   "metadata": {},
   "outputs": [],
   "source": []
  }
 ],
 "metadata": {
  "kernelspec": {
   "display_name": "Python 3 (ipykernel)",
   "language": "python",
   "name": "python3"
  },
  "language_info": {
   "codemirror_mode": {
    "name": "ipython",
    "version": 3
   },
   "file_extension": ".py",
   "mimetype": "text/x-python",
   "name": "python",
   "nbconvert_exporter": "python",
   "pygments_lexer": "ipython3",
   "version": "3.9.7"
  }
 },
 "nbformat": 4,
 "nbformat_minor": 5
}
