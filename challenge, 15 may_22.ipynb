{
 "cells": [
  {
   "cell_type": "markdown",
   "id": "23cd10f3",
   "metadata": {},
   "source": [
    "Challenges: 15 May\n",
    "\n",
    "S = 'this is my first python rogramming class and i am learning python string and its function'"
   ]
  },
  {
   "cell_type": "code",
   "execution_count": 9,
   "id": "91d758ed",
   "metadata": {},
   "outputs": [],
   "source": [
    "s = 'this is my first python rogramming class and i am learning python string and its function'"
   ]
  },
  {
   "cell_type": "code",
   "execution_count": 10,
   "id": "55e6eaf1",
   "metadata": {},
   "outputs": [
    {
     "data": {
      "text/plain": [
       "'h   r tnoai a d  ai tntna sutn'"
      ]
     },
     "execution_count": 10,
     "metadata": {},
     "output_type": "execute_result"
    }
   ],
   "source": [
    "#1, Try to extract data from index one to 300 with jump of 31, Try to extract data from index one to 300 with jump of 3\n",
    "\n",
    "s[1:300:3]"
   ]
  },
  {
   "cell_type": "code",
   "execution_count": 11,
   "id": "844c569a",
   "metadata": {},
   "outputs": [
    {
     "data": {
      "text/plain": [
       "'noitcnuf sti dna gnirts nohtyp gninrael ma i dna ssalc gnimmargor nohtyp tsrif ym si siht'"
      ]
     },
     "execution_count": 11,
     "metadata": {},
     "output_type": "execute_result"
    }
   ],
   "source": [
    "#2, Try to reverse a string without using reverse funnction\n",
    "\n",
    "s[::-1]"
   ]
  },
  {
   "cell_type": "code",
   "execution_count": 12,
   "id": "9f7d2e3c",
   "metadata": {},
   "outputs": [
    {
     "data": {
      "text/plain": [
       "['THIS',\n",
       " 'IS',\n",
       " 'MY',\n",
       " 'FIRST',\n",
       " 'PYTHON',\n",
       " 'ROGRAMMING',\n",
       " 'CLASS',\n",
       " 'AND',\n",
       " 'I',\n",
       " 'AM',\n",
       " 'LEARNING',\n",
       " 'PYTHON',\n",
       " 'STRING',\n",
       " 'AND',\n",
       " 'ITS',\n",
       " 'FUNCTION']"
      ]
     },
     "execution_count": 12,
     "metadata": {},
     "output_type": "execute_result"
    }
   ],
   "source": [
    "#3, Try to split a string after conversion of entire string in uppercse\n",
    "\n",
    "s = s.upper()\n",
    "s.split()"
   ]
  },
  {
   "cell_type": "code",
   "execution_count": 13,
   "id": "af0f1e07",
   "metadata": {},
   "outputs": [
    {
     "data": {
      "text/plain": [
       "'this is my first python rogramming class and i am learning python string and its function'"
      ]
     },
     "execution_count": 13,
     "metadata": {},
     "output_type": "execute_result"
    }
   ],
   "source": [
    "#4, try to convet whole string into lowercase\n",
    "\n",
    "s = s.lower()\n",
    "s"
   ]
  },
  {
   "cell_type": "code",
   "execution_count": 16,
   "id": "cd3d6199",
   "metadata": {},
   "outputs": [
    {
     "data": {
      "text/plain": [
       "'This is my first python rogramming class and i am learning python string and its function'"
      ]
     },
     "execution_count": 16,
     "metadata": {},
     "output_type": "execute_result"
    }
   ],
   "source": [
    "#5, try to capitalize the whole string\n",
    "s = s.capitalize()\n",
    "s"
   ]
  },
  {
   "cell_type": "markdown",
   "id": "194e05d3",
   "metadata": {},
   "source": [
    "#6, write a difference between isalnum() and isalpha()\n",
    "\n",
    "isalnum(), this operation Gives True when the strings consist of both alphabets and Numerical Value.\n",
    "\n",
    "isalpha(),  this operatin gives True when strings having only Nemarical values\n"
   ]
  },
  {
   "cell_type": "code",
   "execution_count": 30,
   "id": "a06e01f0",
   "metadata": {},
   "outputs": [],
   "source": [
    "a = \"sharan\"\n",
    "b = '12345'"
   ]
  },
  {
   "cell_type": "code",
   "execution_count": 31,
   "id": "21a5c4e0",
   "metadata": {},
   "outputs": [
    {
     "data": {
      "text/plain": [
       "True"
      ]
     },
     "execution_count": 31,
     "metadata": {},
     "output_type": "execute_result"
    }
   ],
   "source": [
    "a.isalpha()"
   ]
  },
  {
   "cell_type": "code",
   "execution_count": 33,
   "id": "6907e3cc",
   "metadata": {},
   "outputs": [
    {
     "data": {
      "text/plain": [
       "True"
      ]
     },
     "execution_count": 33,
     "metadata": {},
     "output_type": "execute_result"
    }
   ],
   "source": [
    "b.isnumeric()"
   ]
  },
  {
   "cell_type": "code",
   "execution_count": 36,
   "id": "fb4d1b86",
   "metadata": {},
   "outputs": [
    {
     "data": {
      "text/plain": [
       "'Hey     there   sharan  here    Good    morning'"
      ]
     },
     "execution_count": 36,
     "metadata": {},
     "output_type": "execute_result"
    }
   ],
   "source": [
    "#7, try to give an example of expand tab\n",
    "\n",
    "c = 'Hey\\tthere\\tsharan\\there\\tGood\\tmorning'\n",
    "c.expandtabs()"
   ]
  },
  {
   "cell_type": "code",
   "execution_count": 40,
   "id": "1e46b5bf",
   "metadata": {},
   "outputs": [],
   "source": [
    "#8, give an example of strip, lstrip and rstrip\n",
    "# d = '  sharan'  ex for lstrip\n",
    "# d.lstrip()\n",
    "# e = 'sharan  '  ex for rstrip\n",
    "# e.rstrip()"
   ]
  },
  {
   "cell_type": "code",
   "execution_count": 70,
   "id": "4986986f",
   "metadata": {},
   "outputs": [
    {
     "data": {
      "text/plain": [
       "'Kiran'"
      ]
     },
     "execution_count": 70,
     "metadata": {},
     "output_type": "execute_result"
    }
   ],
   "source": [
    "#9, replace a string character  by any other character by taking own example\n",
    "f = 'Sharan'\n",
    "f = 'Sharan'\n",
    "f.replace('Sha', 'Ki' )"
   ]
  },
  {
   "cell_type": "code",
   "execution_count": 80,
   "id": "5973bd47",
   "metadata": {},
   "outputs": [
    {
     "data": {
      "text/plain": [
       "'sssssssSharansssssss'"
      ]
     },
     "execution_count": 80,
     "metadata": {},
     "output_type": "execute_result"
    }
   ],
   "source": [
    "#10,try to give a definition of string center function with example\n",
    "# f.center(20, 's'), It will return the string of f (Sharan) in center with letter's' both side  till out put length reaches 20\n",
    "f.center(20, 's')"
   ]
  },
  {
   "cell_type": "markdown",
   "id": "e47026f6",
   "metadata": {},
   "source": [
    "#11,write your own definition of compiler and interpretter without copy past in own language\n",
    "\n",
    "Compiler:\n",
    "  this will compile/traslate codes in a single Run, it is faster \n",
    "interpretter:\n",
    "  this will translate codes line by line, it s slower\n",
    "  \n"
   ]
  },
  {
   "cell_type": "markdown",
   "id": "6c6de68c",
   "metadata": {},
   "source": [
    "#12, python is a interpreted of compiled language give a clear ans with your understanding\n",
    "\n",
    "python is a language which used to interact with a computer by  translating a each line of source code line by line in single  run or shot \n"
   ]
  },
  {
   "cell_type": "markdown",
   "id": "bd64712b",
   "metadata": {},
   "source": [
    "#13, try to write a usecases of python with  your understanding\n",
    "\n",
    "Following are the use cases of python;\n",
    "1, webpage designor development\n",
    "2, Developing a game\n",
    "3, robotis and machines, digital Devices\n",
    "4, analysing and forming, collection of a data and data processing "
   ]
  }
 ],
 "metadata": {
  "kernelspec": {
   "display_name": "Python 3 (ipykernel)",
   "language": "python",
   "name": "python3"
  },
  "language_info": {
   "codemirror_mode": {
    "name": "ipython",
    "version": 3
   },
   "file_extension": ".py",
   "mimetype": "text/x-python",
   "name": "python",
   "nbconvert_exporter": "python",
   "pygments_lexer": "ipython3",
   "version": "3.9.7"
  }
 },
 "nbformat": 4,
 "nbformat_minor": 5
}
