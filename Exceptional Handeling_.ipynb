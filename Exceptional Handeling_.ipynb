{
 "cells": [
  {
   "cell_type": "code",
   "execution_count": null,
   "id": "cb2e945d",
   "metadata": {},
   "outputs": [],
   "source": [
    "programming\n",
    "\n",
    "Error-  1, compile time error,   syntax error\n",
    "\n",
    "\n",
    "        2, run time error, Exception \n",
    "    \n",
    "    \n",
    "which we written in statement\n",
    "\n",
    "\n",
    "Source code - compiler - Bytecode -  interpreter"
   ]
  },
  {
   "cell_type": "code",
   "execution_count": 1,
   "id": "55b06d4a",
   "metadata": {},
   "outputs": [
    {
     "name": "stdout",
     "output_type": "stream",
     "text": [
      "30\n"
     ]
    }
   ],
   "source": [
    "a = 10\n",
    "b = 20\n",
    "c = a+b\n",
    "print(c)"
   ]
  },
  {
   "cell_type": "code",
   "execution_count": 9,
   "id": "32c0a5ee",
   "metadata": {},
   "outputs": [
    {
     "name": "stdout",
     "output_type": "stream",
     "text": [
      "enter first number10\n",
      "enter second number5\n",
      "2.0\n",
      "50\n"
     ]
    }
   ],
   "source": [
    "a=int(input('enter first number'))\n",
    "b= int(input('enter second number'))\n",
    "c=a/b\n",
    "print(c)\n",
    "d=a*b\n",
    "print(d)"
   ]
  },
  {
   "cell_type": "code",
   "execution_count": 10,
   "id": "9c468a4e",
   "metadata": {},
   "outputs": [
    {
     "name": "stdout",
     "output_type": "stream",
     "text": [
      "enter first number10\n",
      "enter second number0\n"
     ]
    },
    {
     "ename": "ZeroDivisionError",
     "evalue": "division by zero",
     "output_type": "error",
     "traceback": [
      "\u001b[1;31m---------------------------------------------------------------------------\u001b[0m",
      "\u001b[1;31mZeroDivisionError\u001b[0m                         Traceback (most recent call last)",
      "\u001b[1;32m~\\AppData\\Local\\Temp/ipykernel_15312/3094188635.py\u001b[0m in \u001b[0;36m<module>\u001b[1;34m\u001b[0m\n\u001b[0;32m      1\u001b[0m \u001b[0ma\u001b[0m\u001b[1;33m=\u001b[0m\u001b[0mint\u001b[0m\u001b[1;33m(\u001b[0m\u001b[0minput\u001b[0m\u001b[1;33m(\u001b[0m\u001b[1;34m'enter first number'\u001b[0m\u001b[1;33m)\u001b[0m\u001b[1;33m)\u001b[0m\u001b[1;33m\u001b[0m\u001b[1;33m\u001b[0m\u001b[0m\n\u001b[0;32m      2\u001b[0m \u001b[0mb\u001b[0m\u001b[1;33m=\u001b[0m \u001b[0mint\u001b[0m\u001b[1;33m(\u001b[0m\u001b[0minput\u001b[0m\u001b[1;33m(\u001b[0m\u001b[1;34m'enter second number'\u001b[0m\u001b[1;33m)\u001b[0m\u001b[1;33m)\u001b[0m\u001b[1;33m\u001b[0m\u001b[1;33m\u001b[0m\u001b[0m\n\u001b[1;32m----> 3\u001b[1;33m \u001b[0mc\u001b[0m\u001b[1;33m=\u001b[0m\u001b[0ma\u001b[0m\u001b[1;33m/\u001b[0m\u001b[0mb\u001b[0m\u001b[1;33m\u001b[0m\u001b[1;33m\u001b[0m\u001b[0m\n\u001b[0m\u001b[0;32m      4\u001b[0m \u001b[0mprint\u001b[0m\u001b[1;33m(\u001b[0m\u001b[0mc\u001b[0m\u001b[1;33m)\u001b[0m\u001b[1;33m\u001b[0m\u001b[1;33m\u001b[0m\u001b[0m\n\u001b[0;32m      5\u001b[0m \u001b[0md\u001b[0m\u001b[1;33m=\u001b[0m\u001b[0ma\u001b[0m\u001b[1;33m*\u001b[0m\u001b[0mb\u001b[0m\u001b[1;33m\u001b[0m\u001b[1;33m\u001b[0m\u001b[0m\n",
      "\u001b[1;31mZeroDivisionError\u001b[0m: division by zero"
     ]
    }
   ],
   "source": [
    "a=int(input('enter first number'))\n",
    "b= int(input('enter second number'))\n",
    "c=a/b\n",
    "print(c)\n",
    "d=a*b\n",
    "print(d)"
   ]
  },
  {
   "cell_type": "raw",
   "id": "234a6cff",
   "metadata": {},
   "source": [
    "#why we use exception Handeling\n",
    "1, my further code excution will stop\n",
    "2, this is not user friendly"
   ]
  },
  {
   "cell_type": "raw",
   "id": "5c5661b0",
   "metadata": {},
   "source": [
    "Key word to hadle exception,\n",
    "try\n",
    "except\n",
    "else\n",
    "raise\n",
    "finally"
   ]
  },
  {
   "cell_type": "code",
   "execution_count": 1,
   "id": "6fa124c9",
   "metadata": {},
   "outputs": [
    {
     "ename": "ZeroDivisionError",
     "evalue": "division by zero",
     "output_type": "error",
     "traceback": [
      "\u001b[1;31m---------------------------------------------------------------------------\u001b[0m",
      "\u001b[1;31mZeroDivisionError\u001b[0m                         Traceback (most recent call last)",
      "\u001b[1;32m~\\AppData\\Local\\Temp/ipykernel_13200/532118508.py\u001b[0m in \u001b[0;36m<module>\u001b[1;34m\u001b[0m\n\u001b[0;32m      1\u001b[0m \u001b[0ma\u001b[0m \u001b[1;33m=\u001b[0m \u001b[1;36m10\u001b[0m\u001b[1;33m\u001b[0m\u001b[1;33m\u001b[0m\u001b[0m\n\u001b[1;32m----> 2\u001b[1;33m \u001b[0ma\u001b[0m\u001b[1;33m/\u001b[0m\u001b[1;36m0\u001b[0m\u001b[1;33m\u001b[0m\u001b[1;33m\u001b[0m\u001b[0m\n\u001b[0m",
      "\u001b[1;31mZeroDivisionError\u001b[0m: division by zero"
     ]
    }
   ],
   "source": [
    "a = 10\n",
    "a/0"
   ]
  },
  {
   "cell_type": "code",
   "execution_count": 9,
   "id": "41ae5c8e",
   "metadata": {},
   "outputs": [
    {
     "name": "stdout",
     "output_type": "stream",
     "text": [
      "division by zero\n",
      "this will be final code after handaling an exception\n"
     ]
    }
   ],
   "source": [
    "try:\n",
    "    a=10\n",
    "    a/0\n",
    "except Exception as e :\n",
    "    print(e)\n",
    "    print('this will be final code after handaling an exception')\n"
   ]
  },
  {
   "cell_type": "code",
   "execution_count": 11,
   "id": "1f2a9b92",
   "metadata": {},
   "outputs": [
    {
     "name": "stdout",
     "output_type": "stream",
     "text": [
      "1.0\n"
     ]
    }
   ],
   "source": [
    "try:\n",
    "    a=10\n",
    "    print(a/10)\n",
    "except Exception as e :\n",
    "    print(e)\n",
    "    print('this will be final code after handaling an exception')\n"
   ]
  },
  {
   "cell_type": "code",
   "execution_count": 11,
   "id": "72558523",
   "metadata": {},
   "outputs": [
    {
     "name": "stdout",
     "output_type": "stream",
     "text": [
      "enter first number10\n",
      "enter second number0\n",
      "b should not be Zero\n"
     ]
    }
   ],
   "source": [
    "a=int(input('enter first number'))\n",
    "b= int(input('enter second number'))\n",
    "try:\n",
    "    c=a/b\n",
    "    print(c)\n",
    "except:\n",
    "    print('b should not be Zero')\n"
   ]
  },
  {
   "cell_type": "code",
   "execution_count": 15,
   "id": "37c3d23b",
   "metadata": {},
   "outputs": [
    {
     "name": "stdout",
     "output_type": "stream",
     "text": [
      "[Errno 2] No such file or directory: 'sharan.txt'\n"
     ]
    }
   ],
   "source": [
    "try :\n",
    "    f = open('sharan.txt' , \"r\")\n",
    "except Exception as e :\n",
    "    print(e)"
   ]
  },
  {
   "cell_type": "code",
   "execution_count": 16,
   "id": "9825abe2",
   "metadata": {},
   "outputs": [
    {
     "ename": "FileNotFoundError",
     "evalue": "[Errno 2] No such file or directory: 'sudh.txt'",
     "output_type": "error",
     "traceback": [
      "\u001b[1;31m---------------------------------------------------------------------------\u001b[0m",
      "\u001b[1;31mFileNotFoundError\u001b[0m                         Traceback (most recent call last)",
      "\u001b[1;32m~\\AppData\\Local\\Temp/ipykernel_13200/3722244487.py\u001b[0m in \u001b[0;36m<module>\u001b[1;34m\u001b[0m\n\u001b[1;32m----> 1\u001b[1;33m \u001b[0mf\u001b[0m\u001b[1;33m=\u001b[0m \u001b[0mopen\u001b[0m\u001b[1;33m(\u001b[0m\u001b[1;34m'sudh.txt'\u001b[0m\u001b[1;33m,\u001b[0m \u001b[1;34m\"r\"\u001b[0m\u001b[1;33m)\u001b[0m\u001b[1;33m\u001b[0m\u001b[1;33m\u001b[0m\u001b[0m\n\u001b[0m\u001b[0;32m      2\u001b[0m \u001b[0mf\u001b[0m\u001b[1;33m.\u001b[0m\u001b[0mwrite\u001b[0m\u001b[1;33m(\u001b[0m\u001b[1;34m\"this is my suspicuos code\"\u001b[0m\u001b[1;33m)\u001b[0m\u001b[1;33m\u001b[0m\u001b[1;33m\u001b[0m\u001b[0m\n",
      "\u001b[1;31mFileNotFoundError\u001b[0m: [Errno 2] No such file or directory: 'sudh.txt'"
     ]
    }
   ],
   "source": [
    "f= open('sudh.txt', \"r\")\n",
    "f.write(\"this is my suspicuos code\")"
   ]
  },
  {
   "cell_type": "code",
   "execution_count": 19,
   "id": "4d925648",
   "metadata": {},
   "outputs": [
    {
     "name": "stdout",
     "output_type": "stream",
     "text": [
      "[Errno 2] No such file or directory: 'sudh.txt'\n",
      "this is not my suspicuos set of code\n"
     ]
    }
   ],
   "source": [
    "try:\n",
    "    f= open('sudh.txt', \"r\")\n",
    "    f.write(\"this is my suspicuos code\")\n",
    "except Exception as e:\n",
    "    print(e)\n",
    "    print(\"this is not my suspicuos set of code\")"
   ]
  },
  {
   "cell_type": "code",
   "execution_count": 22,
   "id": "1229cf06",
   "metadata": {},
   "outputs": [
    {
     "name": "stdout",
     "output_type": "stream",
     "text": [
      "[Errno 2] No such file or directory: 'sudh.txt'\n",
      "this is not my suspicuos set of code\n",
      "this block will be excuted any time\n"
     ]
    }
   ],
   "source": [
    "try:\n",
    "    f= open('sudh.txt', \"r\")\n",
    "    f.write(\"this is my suspicuos code\")\n",
    "except Exception as e:\n",
    "    print(e)\n",
    "    print(\"this is not my suspicuos set of code\")\n",
    "finally :\n",
    "    print(\"this block will be excuted any time\")"
   ]
  },
  {
   "cell_type": "raw",
   "id": "99f737dc",
   "metadata": {},
   "source": [
    "we have two aproach/ Method to write a code\n",
    "1, functional , def abcc() :\n",
    "1, oops , class abc :(parent and child class )\n",
    "\n",
    "=> syntax erroe cant be handled by try and except\n"
   ]
  },
  {
   "cell_type": "code",
   "execution_count": 53,
   "id": "d4d10fb2",
   "metadata": {},
   "outputs": [],
   "source": [
    "def askint():\n",
    "    try:\n",
    "        value = int(input(\"please enter a integer :\"))\n",
    "    except:\n",
    "        print('you have not entered an integer : ')\n",
    "        try:\n",
    "            val =int(input(\"plass entera integer : \"))\n",
    "        except:\n",
    "            print(' we are able to handel your mistake second time')\n",
    "        finally:\n",
    "            print(\"finallya will be excuted anyhow\")\n",
    "    "
   ]
  },
  {
   "cell_type": "code",
   "execution_count": 57,
   "id": "761aadef",
   "metadata": {},
   "outputs": [
    {
     "name": "stdout",
     "output_type": "stream",
     "text": [
      "please enter a integer :d\n",
      "you have not entered an integer : \n",
      "plass entera integer : 10\n",
      "finallya will be excuted anyhow\n"
     ]
    }
   ],
   "source": [
    "askint()"
   ]
  },
  {
   "cell_type": "code",
   "execution_count": 56,
   "id": "76801428",
   "metadata": {},
   "outputs": [
    {
     "name": "stdout",
     "output_type": "stream",
     "text": [
      "please enter a integer :dj\n",
      "you have not entered an integer : \n",
      "plass entera integer : ds\n",
      " we are able to handel your mistake second time\n",
      "finallya will be excuted anyhow\n"
     ]
    }
   ],
   "source": [
    "askint()"
   ]
  },
  {
   "cell_type": "code",
   "execution_count": 3,
   "id": "6a38809e",
   "metadata": {},
   "outputs": [],
   "source": [
    "def askint1():\n",
    "    while True :\n",
    "        try:\n",
    "            val = int(input('plaese try to an input int :'))\n",
    "            break\n",
    "        except:\n",
    "            print('looks like you have not entered an intger')\n",
    "            continue\n",
    "    \n",
    "            "
   ]
  },
  {
   "cell_type": "code",
   "execution_count": 4,
   "id": "8dffadf9",
   "metadata": {},
   "outputs": [
    {
     "name": "stdout",
     "output_type": "stream",
     "text": [
      "plaese try to an input int :\n",
      "looks like you have not entered an intger\n",
      "plaese try to an input int :8\n"
     ]
    }
   ],
   "source": [
    "askint1()"
   ]
  },
  {
   "cell_type": "code",
   "execution_count": 2,
   "id": "3d96ca9c",
   "metadata": {},
   "outputs": [],
   "source": [
    "askstr()"
   ]
  },
  {
   "cell_type": "code",
   "execution_count": 11,
   "id": "c7587781",
   "metadata": {},
   "outputs": [],
   "source": [
    "def askint1():\n",
    "    while True :\n",
    "        try:\n",
    "            val = int(input('plaese try to an input int :'))\n",
    "            break\n",
    "        except:\n",
    "            print('looks like you have not entered an intger')\n",
    "            continue\n",
    "            "
   ]
  },
  {
   "cell_type": "code",
   "execution_count": 13,
   "id": "f2fdf7ac",
   "metadata": {},
   "outputs": [
    {
     "name": "stdout",
     "output_type": "stream",
     "text": [
      "plaese try to an input int :df\n",
      "looks like you have not entered an intger\n",
      "plaese try to an input int :df\n",
      "looks like you have not entered an intger\n",
      "plaese try to an input int :ee\n",
      "looks like you have not entered an intger\n",
      "plaese try to an input int :3e\n",
      "looks like you have not entered an intger\n",
      "plaese try to an input int :3\n"
     ]
    }
   ],
   "source": [
    "askint1()"
   ]
  },
  {
   "cell_type": "code",
   "execution_count": 8,
   "id": "eb134159",
   "metadata": {},
   "outputs": [
    {
     "name": "stdout",
     "output_type": "stream",
     "text": [
      "enter first number0l\n"
     ]
    },
    {
     "ename": "ValueError",
     "evalue": "invalid literal for int() with base 10: '0l'",
     "output_type": "error",
     "traceback": [
      "\u001b[1;31m---------------------------------------------------------------------------\u001b[0m",
      "\u001b[1;31mValueError\u001b[0m                                Traceback (most recent call last)",
      "\u001b[1;32m~\\AppData\\Local\\Temp/ipykernel_13068/1364433355.py\u001b[0m in \u001b[0;36m<module>\u001b[1;34m\u001b[0m\n\u001b[1;32m----> 1\u001b[1;33m \u001b[0ma\u001b[0m\u001b[1;33m=\u001b[0m\u001b[0mint\u001b[0m\u001b[1;33m(\u001b[0m\u001b[0minput\u001b[0m\u001b[1;33m(\u001b[0m\u001b[1;34m'enter first number'\u001b[0m\u001b[1;33m)\u001b[0m\u001b[1;33m)\u001b[0m\u001b[1;33m\u001b[0m\u001b[1;33m\u001b[0m\u001b[0m\n\u001b[0m\u001b[0;32m      2\u001b[0m \u001b[0mb\u001b[0m\u001b[1;33m=\u001b[0m \u001b[0mint\u001b[0m\u001b[1;33m(\u001b[0m\u001b[0minput\u001b[0m\u001b[1;33m(\u001b[0m\u001b[1;34m'enter second number'\u001b[0m\u001b[1;33m)\u001b[0m\u001b[1;33m)\u001b[0m\u001b[1;33m\u001b[0m\u001b[1;33m\u001b[0m\u001b[0m\n\u001b[0;32m      3\u001b[0m \u001b[1;32mtry\u001b[0m\u001b[1;33m:\u001b[0m\u001b[1;33m\u001b[0m\u001b[1;33m\u001b[0m\u001b[0m\n\u001b[0;32m      4\u001b[0m     \u001b[0mc\u001b[0m\u001b[1;33m=\u001b[0m\u001b[0ma\u001b[0m\u001b[1;33m/\u001b[0m\u001b[0mb\u001b[0m\u001b[1;33m\u001b[0m\u001b[1;33m\u001b[0m\u001b[0m\n\u001b[0;32m      5\u001b[0m     \u001b[0mprint\u001b[0m\u001b[1;33m(\u001b[0m\u001b[0mc\u001b[0m\u001b[1;33m)\u001b[0m\u001b[1;33m\u001b[0m\u001b[1;33m\u001b[0m\u001b[0m\n",
      "\u001b[1;31mValueError\u001b[0m: invalid literal for int() with base 10: '0l'"
     ]
    }
   ],
   "source": [
    "a=int(input('enter first number'))\n",
    "b= int(input('enter second number'))\n",
    "try:\n",
    "    c=a/b\n",
    "    print(c)\n",
    "except:\n",
    "    print('b should not be Zero')\n"
   ]
  },
  {
   "cell_type": "code",
   "execution_count": 4,
   "id": "d877f129",
   "metadata": {},
   "outputs": [
    {
     "name": "stdout",
     "output_type": "stream",
     "text": [
      "enter your name: sharan\n"
     ]
    }
   ],
   "source": [
    "while True:\n",
    "    name = input('enter your name: ')\n",
    "    if name == 'sharan':\n",
    "        \n",
    "        break"
   ]
  },
  {
   "cell_type": "code",
   "execution_count": null,
   "id": "3c063e37",
   "metadata": {},
   "outputs": [],
   "source": [
    "while True:\n",
    "    try:\n",
    "        a = int(input('enter first number: '))\n",
    "        b = int(input('enter second number: '))\n",
    "        c= a/b\n",
    "        print(c)\n",
    "        break\n",
    "    except ValueError:\n",
    "        print('there shuld not be a string ')\n",
    "        \n",
    "    except ZeroDivisionError:\n",
    "        print('non zero denominator')\n",
    "   \n",
    "        "
   ]
  },
  {
   "cell_type": "code",
   "execution_count": null,
   "id": "4aa8b067",
   "metadata": {},
   "outputs": [],
   "source": [
    "while True:\n",
    "    try:\n",
    "        a =int(input(\"first number: \"))\n",
    "        b =int(input(\"second number\"))\n",
    "        c = a/b\n",
    "        print('div:', c)\n",
    "        break\n",
    "    except ZeroDivisionError as e:\n",
    "        print(e)\n",
    "    except ValueError as v:\n",
    "        print(v)"
   ]
  },
  {
   "cell_type": "markdown",
   "id": "ed911082",
   "metadata": {},
   "source": [
    " "
   ]
  },
  {
   "cell_type": "code",
   "execution_count": 3,
   "id": "5a6bec14",
   "metadata": {},
   "outputs": [
    {
     "name": "stdout",
     "output_type": "stream",
     "text": [
      "first number: 4\n",
      "second numbera\n",
      "(<class 'ValueError'>, ValueError(\"invalid literal for int() with base 10: 'a'\"), <traceback object at 0x0000023F89BFBE00>)\n",
      "first number: d\n",
      "(<class 'ValueError'>, ValueError(\"invalid literal for int() with base 10: 'd'\"), <traceback object at 0x0000023F89BFBE00>)\n",
      "first number: d\n",
      "(<class 'ValueError'>, ValueError(\"invalid literal for int() with base 10: 'd'\"), <traceback object at 0x0000023F89BFBE00>)\n",
      "first number: 10\n",
      "second number5\n",
      "div: 2.0\n"
     ]
    }
   ],
   "source": [
    "import sys\n",
    "while True:\n",
    "    try:\n",
    "        a =int(input(\"first number: \"))\n",
    "        b =int(input(\"second number\"))\n",
    "        c = a/b\n",
    "        print(\"div:\", c)\n",
    "        break\n",
    "    except:\n",
    "        print(sys.exc_info())\n",
    "    \n",
    "    \n"
   ]
  },
  {
   "cell_type": "code",
   "execution_count": 4,
   "id": "38af986e",
   "metadata": {},
   "outputs": [],
   "source": [
    "a,b,c=(1,2,3)"
   ]
  },
  {
   "cell_type": "code",
   "execution_count": 5,
   "id": "937faf2d",
   "metadata": {},
   "outputs": [
    {
     "data": {
      "text/plain": [
       "1"
      ]
     },
     "execution_count": 5,
     "metadata": {},
     "output_type": "execute_result"
    }
   ],
   "source": [
    "a\n"
   ]
  },
  {
   "cell_type": "code",
   "execution_count": 6,
   "id": "81323797",
   "metadata": {},
   "outputs": [],
   "source": [
    "#encoding Error\n"
   ]
  },
  {
   "cell_type": "code",
   "execution_count": null,
   "id": "2e4bf869",
   "metadata": {},
   "outputs": [],
   "source": [
    "import sys     #sys mpdule\n",
    "while True:\n",
    "    try:\n",
    "        a =int(input(\"first number: \"))\n",
    "        b =int(input(\"second number\"))\n",
    "        c = a/b\n",
    "        print(\"div:\", c)\n",
    "        break\n",
    "    except:\n",
    "        a,b,c=sys.exc_info()\n",
    "        print(\"exception class\", a)\n",
    "        print(\"exceptuin message\", b)\n",
    "        print(\"line number\", c.tb_lineno)\n",
    "    "
   ]
  },
  {
   "cell_type": "markdown",
   "id": "b24b8fe3",
   "metadata": {},
   "source": [
    "#import sys.info()\n",
    "#import traceback.format_exc()"
   ]
  },
  {
   "cell_type": "code",
   "execution_count": 1,
   "id": "ef460ed2",
   "metadata": {},
   "outputs": [
    {
     "name": "stdout",
     "output_type": "stream",
     "text": [
      "first number10\n",
      "second number0\n",
      "<function format_exc at 0x000001B38CAA6F70>\n",
      "first number1\n",
      "second numberl\n",
      "<function format_exc at 0x000001B38CAA6F70>\n",
      "first number10\n",
      "second number20\n",
      "div : 0.5\n"
     ]
    }
   ],
   "source": [
    "import traceback\n",
    "while True:\n",
    "    try:\n",
    "        a=int(input(\"first number\"))\n",
    "        b=int(input(\"second number\"))\n",
    "        c=a/b\n",
    "        print(\"div :\", c)\n",
    "        break\n",
    "    except:\n",
    "        print(traceback.format_exc)"
   ]
  },
  {
   "cell_type": "code",
   "execution_count": 2,
   "id": "5098f0ad",
   "metadata": {
    "scrolled": true
   },
   "outputs": [
    {
     "ename": "ZeroDivisionError",
     "evalue": "division by zero",
     "output_type": "error",
     "traceback": [
      "\u001b[1;31m---------------------------------------------------------------------------\u001b[0m",
      "\u001b[1;31mZeroDivisionError\u001b[0m                         Traceback (most recent call last)",
      "\u001b[1;32m~\\AppData\\Local\\Temp/ipykernel_19168/1058131153.py\u001b[0m in \u001b[0;36m<module>\u001b[1;34m\u001b[0m\n\u001b[0;32m      1\u001b[0m \u001b[0ma\u001b[0m\u001b[1;33m=\u001b[0m \u001b[1;36m10\u001b[0m\u001b[1;33m\u001b[0m\u001b[1;33m\u001b[0m\u001b[0m\n\u001b[0;32m      2\u001b[0m \u001b[0mb\u001b[0m\u001b[1;33m=\u001b[0m \u001b[1;36m0\u001b[0m\u001b[1;33m\u001b[0m\u001b[1;33m\u001b[0m\u001b[0m\n\u001b[1;32m----> 3\u001b[1;33m \u001b[0mc\u001b[0m\u001b[1;33m=\u001b[0m\u001b[0ma\u001b[0m\u001b[1;33m/\u001b[0m\u001b[0mb\u001b[0m\u001b[1;33m\u001b[0m\u001b[1;33m\u001b[0m\u001b[0m\n\u001b[0m",
      "\u001b[1;31mZeroDivisionError\u001b[0m: division by zero"
     ]
    }
   ],
   "source": [
    "a= 10 \n",
    "b= 0\n",
    "c=a/b"
   ]
  },
  {
   "cell_type": "code",
   "execution_count": 3,
   "id": "6f5e87f4",
   "metadata": {},
   "outputs": [],
   "source": [
    "#raise exception\n",
    "\n",
    "#at custom linne"
   ]
  },
  {
   "cell_type": "code",
   "execution_count": 1,
   "id": "3a9ff172",
   "metadata": {},
   "outputs": [
    {
     "name": "stdout",
     "output_type": "stream",
     "text": [
      "first number:10\n",
      "second number:0\n",
      "please enter non zero denominator\n",
      "first number:10\n",
      "second number:a\n",
      "please enter int only\n",
      "first number:10\n",
      "second number:-10\n",
      "negative number is not allowed\n",
      "first number:10\n",
      "second number:5\n",
      "div: is 2.0\n"
     ]
    }
   ],
   "source": [
    "while True:\n",
    "    try:\n",
    "        \n",
    "        a=int(input(\"first number:\"))\n",
    "        b=int(input(\"second number:\"))\n",
    "        if a<0 or b<0:\n",
    "            raise Exception('negative number is not allowed')\n",
    "        c= a/b\n",
    "        print(\"div: is\", c)\n",
    "        break\n",
    "    except ValueError:\n",
    "        print(\"please enter int only\")\n",
    "    except ZeroDivisionError:\n",
    "        print(\"please enter non zero denominator\")\n",
    "    except Exception as e:\n",
    "        print(e)"
   ]
  },
  {
   "cell_type": "code",
   "execution_count": null,
   "id": "19eb42be",
   "metadata": {},
   "outputs": [],
   "source": [
    "#custom exception \n",
    "# this exception class in python alerady they have defined and we are calling\n",
    "# if are foing define thus class in your code so it will run\\\n",
    "\n",
    "\n"
   ]
  },
  {
   "cell_type": "code",
   "execution_count": 6,
   "id": "b6801f81",
   "metadata": {},
   "outputs": [],
   "source": [
    "# final block, ; when you want to run code at any conditon, even having error in try block,  the codes inside fnal block excuted"
   ]
  },
  {
   "cell_type": "raw",
   "id": "ae118733",
   "metadata": {},
   "source": [
    "try:\n",
    "except:\n",
    "finally"
   ]
  },
  {
   "cell_type": "code",
   "execution_count": 5,
   "id": "6a290e93",
   "metadata": {},
   "outputs": [
    {
     "name": "stdout",
     "output_type": "stream",
     "text": [
      "first number:10\n",
      "second number:20\n",
      "hello\n",
      "python\n"
     ]
    }
   ],
   "source": [
    "try:\n",
    "    a=int(input(\"first number:\"))\n",
    "    b=int(input(\"second number:\"))\n",
    "except:\n",
    "    print('dont use zero in denominator')\n",
    "\n",
    "finally:\n",
    "    print('hello')\n",
    "    print('python')  "
   ]
  },
  {
   "cell_type": "code",
   "execution_count": 9,
   "id": "f1e12d55",
   "metadata": {},
   "outputs": [
    {
     "name": "stdout",
     "output_type": "stream",
     "text": [
      "first number:10\n",
      "second number:50\n",
      "python rocks!\n"
     ]
    }
   ],
   "source": [
    "try:\n",
    "    a=int(input(\"first number:\"))\n",
    "    b=int(input(\"second number:\"))\n",
    "except:\n",
    "    print('dont use zero in denominator')\n",
    "\n",
    "else:\n",
    "    \n",
    "    print('python rocks!')"
   ]
  },
  {
   "cell_type": "code",
   "execution_count": null,
   "id": "0a94a401",
   "metadata": {},
   "outputs": [],
   "source": []
  }
 ],
 "metadata": {
  "kernelspec": {
   "display_name": "Python 3 (ipykernel)",
   "language": "python",
   "name": "python3"
  },
  "language_info": {
   "codemirror_mode": {
    "name": "ipython",
    "version": 3
   },
   "file_extension": ".py",
   "mimetype": "text/x-python",
   "name": "python",
   "nbconvert_exporter": "python",
   "pygments_lexer": "ipython3",
   "version": "3.9.7"
  }
 },
 "nbformat": 4,
 "nbformat_minor": 5
}
