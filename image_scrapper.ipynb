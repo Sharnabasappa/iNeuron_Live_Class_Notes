{
 "cells": [
  {
   "cell_type": "code",
   "execution_count": null,
   "id": "295e9c89",
   "metadata": {},
   "outputs": [],
   "source": [
    "https://drive.google.com/file/d/1eYdZHwR9QZBAxS7XWsjbJdRTLgM24QvK/view?usp=sharing\n",
    "\n",
    "https://chromedriver.chromium.org/downloads\n",
    "\n",
    "challenge PDF - https://drive.google.com/file/d/1UcmG5-QLQKz57iyY6g6v9vLrmVZ4LIWf/view?usp=sharing\n",
    "\n",
    "For challenge submission - https://docs.google.com/forms/d/e/1FAIpQLSeYPTJkFaZt0eN-aoI78-kmo81GDZCs5UeURXN032K2rccU7g/viewform"
   ]
  },
  {
   "cell_type": "code",
   "execution_count": null,
   "id": "f0824751",
   "metadata": {},
   "outputs": [],
   "source": []
  },
  {
   "cell_type": "code",
   "execution_count": null,
   "id": "27db2b17",
   "metadata": {},
   "outputs": [],
   "source": []
  }
 ],
 "metadata": {
  "kernelspec": {
   "display_name": "Python 3 (ipykernel)",
   "language": "python",
   "name": "python3"
  },
  "language_info": {
   "codemirror_mode": {
    "name": "ipython",
    "version": 3
   },
   "file_extension": ".py",
   "mimetype": "text/x-python",
   "name": "python",
   "nbconvert_exporter": "python",
   "pygments_lexer": "ipython3",
   "version": "3.9.7"
  }
 },
 "nbformat": 4,
 "nbformat_minor": 5
}
